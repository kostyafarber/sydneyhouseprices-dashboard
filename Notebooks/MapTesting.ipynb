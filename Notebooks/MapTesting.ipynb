{
 "cells": [
  {
   "cell_type": "code",
   "execution_count": 2,
   "metadata": {},
   "outputs": [],
   "source": [
    "import numpy as np\n",
    "import pandas as pd\n",
    "import matplotlib.pyplot as plt\n",
    "import seaborn as sns\n",
    "import geopandas as gpd\n",
    "import plotly.express as px\n",
    "from mpl_toolkits.axes_grid1 import make_axes_locatable\n",
    "import plotly.express as px\n",
    "import os\n",
    "import requests\n",
    "from urllib.request import urlopen\n",
    "import matplotlib.ticker as ticker\n",
    "import json\n",
    "import geojson\n",
    "\n"
   ]
  },
  {
   "cell_type": "code",
   "execution_count": 2,
   "metadata": {},
   "outputs": [],
   "source": [
    "def remoteGeoJSONToGDF(url, display = False):\n",
    "    \"\"\"Import remote GeoJSON to a GeoDataFrame\n",
    "    Keyword arguments:\n",
    "    url -- URL to GeoJSON resource on web\n",
    "    display -- Displays geometries upon loading (default: False)\n",
    "    \"\"\"\n",
    "    r = requests.get(url)\n",
    "    data = r.json()\n",
    "    gdf = gpd.GeoDataFrame.from_features(data['features'])\n",
    "    if display:\n",
    "        gdf.plot()\n",
    "    return gdf\n",
    "\n",
    "with urlopen(\"https://raw.githubusercontent.com/Perishleaf/data-visualisation-scripts/master/dash_project_medium/Sydney_suburb.geojson\") as response:\n",
    "    \n",
    "    sydney = json.load(response)\n",
    "    \n"
   ]
  },
  {
   "cell_type": "code",
   "execution_count": null,
   "metadata": {},
   "outputs": [
    {
     "data": {
      "text/html": [
       "<div>\n",
       "<style scoped>\n",
       "    .dataframe tbody tr th:only-of-type {\n",
       "        vertical-align: middle;\n",
       "    }\n",
       "\n",
       "    .dataframe tbody tr th {\n",
       "        vertical-align: top;\n",
       "    }\n",
       "\n",
       "    .dataframe thead th {\n",
       "        text-align: right;\n",
       "    }\n",
       "</style>\n",
       "<table border=\"1\" class=\"dataframe\">\n",
       "  <thead>\n",
       "    <tr style=\"text-align: right;\">\n",
       "      <th></th>\n",
       "      <th>geometry</th>\n",
       "      <th>lc_ply_pid</th>\n",
       "      <th>dt_create</th>\n",
       "      <th>dt_retire</th>\n",
       "      <th>loc_pid</th>\n",
       "      <th>nsw_locali</th>\n",
       "      <th>nsw_loca_1</th>\n",
       "      <th>nsw_loca_2</th>\n",
       "      <th>nsw_loca_3</th>\n",
       "      <th>nsw_loca_4</th>\n",
       "      <th>nsw_loca_5</th>\n",
       "      <th>nsw_loca_6</th>\n",
       "      <th>nsw_loca_7</th>\n",
       "    </tr>\n",
       "  </thead>\n",
       "  <tbody>\n",
       "    <tr>\n",
       "      <th>0</th>\n",
       "      <td>MULTIPOLYGON (((151.10074 -33.84457, 151.10082...</td>\n",
       "      <td>24903</td>\n",
       "      <td>2015-09-03Z</td>\n",
       "      <td>None</td>\n",
       "      <td>NSW1012</td>\n",
       "      <td>2015-11-10Z</td>\n",
       "      <td>None</td>\n",
       "      <td>CONCORD</td>\n",
       "      <td>None</td>\n",
       "      <td>None</td>\n",
       "      <td>G</td>\n",
       "      <td>None</td>\n",
       "      <td>1</td>\n",
       "    </tr>\n",
       "    <tr>\n",
       "      <th>1</th>\n",
       "      <td>MULTIPOLYGON (((151.19808 -33.82566, 151.19816...</td>\n",
       "      <td>25101</td>\n",
       "      <td>2015-09-03Z</td>\n",
       "      <td>None</td>\n",
       "      <td>NSW4391</td>\n",
       "      <td>2015-11-10Z</td>\n",
       "      <td>None</td>\n",
       "      <td>WOLLSTONECRAFT</td>\n",
       "      <td>None</td>\n",
       "      <td>None</td>\n",
       "      <td>G</td>\n",
       "      <td>None</td>\n",
       "      <td>1</td>\n",
       "    </tr>\n",
       "    <tr>\n",
       "      <th>2</th>\n",
       "      <td>MULTIPOLYGON (((151.10398 -33.81987, 151.10406...</td>\n",
       "      <td>19669</td>\n",
       "      <td>2012-11-21Z</td>\n",
       "      <td>None</td>\n",
       "      <td>NSW3304</td>\n",
       "      <td>2013-01-23Z</td>\n",
       "      <td>None</td>\n",
       "      <td>PUTNEY</td>\n",
       "      <td>None</td>\n",
       "      <td>None</td>\n",
       "      <td>G</td>\n",
       "      <td>None</td>\n",
       "      <td>1</td>\n",
       "    </tr>\n",
       "    <tr>\n",
       "      <th>3</th>\n",
       "      <td>MULTIPOLYGON (((151.08348 -33.30938, 151.09335...</td>\n",
       "      <td>24793</td>\n",
       "      <td>2015-09-03Z</td>\n",
       "      <td>None</td>\n",
       "      <td>NSW3819</td>\n",
       "      <td>2015-11-10Z</td>\n",
       "      <td>None</td>\n",
       "      <td>TEN MILE HOLLOW</td>\n",
       "      <td>None</td>\n",
       "      <td>None</td>\n",
       "      <td>G</td>\n",
       "      <td>None</td>\n",
       "      <td>1</td>\n",
       "    </tr>\n",
       "    <tr>\n",
       "      <th>4</th>\n",
       "      <td>MULTIPOLYGON (((151.16649 -33.75486, 151.16677...</td>\n",
       "      <td>20526</td>\n",
       "      <td>2013-03-07Z</td>\n",
       "      <td>None</td>\n",
       "      <td>NSW2153</td>\n",
       "      <td>2013-04-30Z</td>\n",
       "      <td>None</td>\n",
       "      <td>KILLARA</td>\n",
       "      <td>None</td>\n",
       "      <td>None</td>\n",
       "      <td>G</td>\n",
       "      <td>None</td>\n",
       "      <td>1</td>\n",
       "    </tr>\n",
       "  </tbody>\n",
       "</table>\n",
       "</div>"
      ],
      "text/plain": [
       "                                            geometry lc_ply_pid    dt_create  \\\n",
       "0  MULTIPOLYGON (((151.10074 -33.84457, 151.10082...      24903  2015-09-03Z   \n",
       "1  MULTIPOLYGON (((151.19808 -33.82566, 151.19816...      25101  2015-09-03Z   \n",
       "2  MULTIPOLYGON (((151.10398 -33.81987, 151.10406...      19669  2012-11-21Z   \n",
       "3  MULTIPOLYGON (((151.08348 -33.30938, 151.09335...      24793  2015-09-03Z   \n",
       "4  MULTIPOLYGON (((151.16649 -33.75486, 151.16677...      20526  2013-03-07Z   \n",
       "\n",
       "  dt_retire  loc_pid   nsw_locali nsw_loca_1       nsw_loca_2 nsw_loca_3  \\\n",
       "0      None  NSW1012  2015-11-10Z       None          CONCORD       None   \n",
       "1      None  NSW4391  2015-11-10Z       None   WOLLSTONECRAFT       None   \n",
       "2      None  NSW3304  2013-01-23Z       None           PUTNEY       None   \n",
       "3      None  NSW3819  2015-11-10Z       None  TEN MILE HOLLOW       None   \n",
       "4      None  NSW2153  2013-04-30Z       None          KILLARA       None   \n",
       "\n",
       "  nsw_loca_4 nsw_loca_5 nsw_loca_6 nsw_loca_7  \n",
       "0       None          G       None          1  \n",
       "1       None          G       None          1  \n",
       "2       None          G       None          1  \n",
       "3       None          G       None          1  \n",
       "4       None          G       None          1  "
      ]
     },
     "execution_count": 3,
     "metadata": {},
     "output_type": "execute_result"
    }
   ],
   "source": [
    "sydney_df = remoteGeoJSONToGDF(\"https://raw.githubusercontent.com/Perishleaf/data-visualisation-scripts/master/dash_project_medium/Sydney_suburb.geojson\")\n",
    "sydney_df.head()"
   ]
  },
  {
   "cell_type": "code",
   "execution_count": null,
   "metadata": {},
   "outputs": [],
   "source": []
  },
  {
   "cell_type": "code",
   "execution_count": null,
   "metadata": {},
   "outputs": [],
   "source": []
  },
  {
   "cell_type": "code",
   "execution_count": 17,
   "metadata": {
    "scrolled": true
   },
   "outputs": [
    {
     "data": {
      "text/html": [
       "<div>\n",
       "<style scoped>\n",
       "    .dataframe tbody tr th:only-of-type {\n",
       "        vertical-align: middle;\n",
       "    }\n",
       "\n",
       "    .dataframe tbody tr th {\n",
       "        vertical-align: top;\n",
       "    }\n",
       "\n",
       "    .dataframe thead th {\n",
       "        text-align: right;\n",
       "    }\n",
       "</style>\n",
       "<table border=\"1\" class=\"dataframe\">\n",
       "  <thead>\n",
       "    <tr style=\"text-align: right;\">\n",
       "      <th></th>\n",
       "      <th>geometry</th>\n",
       "      <th>lc_ply_pid</th>\n",
       "      <th>dt_create</th>\n",
       "      <th>dt_retire</th>\n",
       "      <th>loc_pid</th>\n",
       "      <th>nsw_locali</th>\n",
       "      <th>nsw_loca_1</th>\n",
       "      <th>nsw_loca_2</th>\n",
       "      <th>nsw_loca_3</th>\n",
       "      <th>nsw_loca_4</th>\n",
       "      <th>nsw_loca_5</th>\n",
       "      <th>nsw_loca_6</th>\n",
       "      <th>nsw_loca_7</th>\n",
       "    </tr>\n",
       "  </thead>\n",
       "  <tbody>\n",
       "    <tr>\n",
       "      <th>0</th>\n",
       "      <td>MULTIPOLYGON (((151.10074 -33.84457, 151.10082...</td>\n",
       "      <td>24903</td>\n",
       "      <td>2015-09-03Z</td>\n",
       "      <td>None</td>\n",
       "      <td>NSW1012</td>\n",
       "      <td>2015-11-10Z</td>\n",
       "      <td>None</td>\n",
       "      <td>Concord</td>\n",
       "      <td>None</td>\n",
       "      <td>None</td>\n",
       "      <td>G</td>\n",
       "      <td>None</td>\n",
       "      <td>1</td>\n",
       "    </tr>\n",
       "    <tr>\n",
       "      <th>1</th>\n",
       "      <td>MULTIPOLYGON (((151.19808 -33.82566, 151.19816...</td>\n",
       "      <td>25101</td>\n",
       "      <td>2015-09-03Z</td>\n",
       "      <td>None</td>\n",
       "      <td>NSW4391</td>\n",
       "      <td>2015-11-10Z</td>\n",
       "      <td>None</td>\n",
       "      <td>Wollstonecraft</td>\n",
       "      <td>None</td>\n",
       "      <td>None</td>\n",
       "      <td>G</td>\n",
       "      <td>None</td>\n",
       "      <td>1</td>\n",
       "    </tr>\n",
       "    <tr>\n",
       "      <th>2</th>\n",
       "      <td>MULTIPOLYGON (((151.10398 -33.81987, 151.10406...</td>\n",
       "      <td>19669</td>\n",
       "      <td>2012-11-21Z</td>\n",
       "      <td>None</td>\n",
       "      <td>NSW3304</td>\n",
       "      <td>2013-01-23Z</td>\n",
       "      <td>None</td>\n",
       "      <td>Putney</td>\n",
       "      <td>None</td>\n",
       "      <td>None</td>\n",
       "      <td>G</td>\n",
       "      <td>None</td>\n",
       "      <td>1</td>\n",
       "    </tr>\n",
       "    <tr>\n",
       "      <th>3</th>\n",
       "      <td>MULTIPOLYGON (((151.08348 -33.30938, 151.09335...</td>\n",
       "      <td>24793</td>\n",
       "      <td>2015-09-03Z</td>\n",
       "      <td>None</td>\n",
       "      <td>NSW3819</td>\n",
       "      <td>2015-11-10Z</td>\n",
       "      <td>None</td>\n",
       "      <td>Ten Mile Hollow</td>\n",
       "      <td>None</td>\n",
       "      <td>None</td>\n",
       "      <td>G</td>\n",
       "      <td>None</td>\n",
       "      <td>1</td>\n",
       "    </tr>\n",
       "    <tr>\n",
       "      <th>4</th>\n",
       "      <td>MULTIPOLYGON (((151.16649 -33.75486, 151.16677...</td>\n",
       "      <td>20526</td>\n",
       "      <td>2013-03-07Z</td>\n",
       "      <td>None</td>\n",
       "      <td>NSW2153</td>\n",
       "      <td>2013-04-30Z</td>\n",
       "      <td>None</td>\n",
       "      <td>Killara</td>\n",
       "      <td>None</td>\n",
       "      <td>None</td>\n",
       "      <td>G</td>\n",
       "      <td>None</td>\n",
       "      <td>1</td>\n",
       "    </tr>\n",
       "    <tr>\n",
       "      <th>...</th>\n",
       "      <td>...</td>\n",
       "      <td>...</td>\n",
       "      <td>...</td>\n",
       "      <td>...</td>\n",
       "      <td>...</td>\n",
       "      <td>...</td>\n",
       "      <td>...</td>\n",
       "      <td>...</td>\n",
       "      <td>...</td>\n",
       "      <td>...</td>\n",
       "      <td>...</td>\n",
       "      <td>...</td>\n",
       "      <td>...</td>\n",
       "    </tr>\n",
       "    <tr>\n",
       "      <th>693</th>\n",
       "      <td>MULTIPOLYGON (((150.91710 -33.69219, 150.91726...</td>\n",
       "      <td>29100</td>\n",
       "      <td>2018-09-20Z</td>\n",
       "      <td>None</td>\n",
       "      <td>NSW3870</td>\n",
       "      <td>2018-08-08Z</td>\n",
       "      <td>None</td>\n",
       "      <td>The Ponds</td>\n",
       "      <td>None</td>\n",
       "      <td>None</td>\n",
       "      <td>G</td>\n",
       "      <td>None</td>\n",
       "      <td>1</td>\n",
       "    </tr>\n",
       "    <tr>\n",
       "      <th>694</th>\n",
       "      <td>MULTIPOLYGON (((151.12954 -34.04770, 151.13000...</td>\n",
       "      <td>29120</td>\n",
       "      <td>2018-09-20Z</td>\n",
       "      <td>None</td>\n",
       "      <td>NSW5022</td>\n",
       "      <td>2016-05-08Z</td>\n",
       "      <td>None</td>\n",
       "      <td>Caringbah South</td>\n",
       "      <td>None</td>\n",
       "      <td>None</td>\n",
       "      <td>G</td>\n",
       "      <td>None</td>\n",
       "      <td>1</td>\n",
       "    </tr>\n",
       "    <tr>\n",
       "      <th>695</th>\n",
       "      <td>MULTIPOLYGON (((150.94353 -33.40470, 150.94983...</td>\n",
       "      <td>29138</td>\n",
       "      <td>2018-09-20Z</td>\n",
       "      <td>None</td>\n",
       "      <td>NSW2318</td>\n",
       "      <td>2012-02-04Z</td>\n",
       "      <td>None</td>\n",
       "      <td>Leets Vale</td>\n",
       "      <td>None</td>\n",
       "      <td>None</td>\n",
       "      <td>G</td>\n",
       "      <td>None</td>\n",
       "      <td>1</td>\n",
       "    </tr>\n",
       "    <tr>\n",
       "      <th>696</th>\n",
       "      <td>MULTIPOLYGON (((151.15705 -33.79200, 151.15715...</td>\n",
       "      <td>10870</td>\n",
       "      <td>2009-11-21Z</td>\n",
       "      <td>None</td>\n",
       "      <td>NSW907</td>\n",
       "      <td>2012-02-04Z</td>\n",
       "      <td>None</td>\n",
       "      <td>Chatswood West</td>\n",
       "      <td>None</td>\n",
       "      <td>None</td>\n",
       "      <td>G</td>\n",
       "      <td>None</td>\n",
       "      <td>1</td>\n",
       "    </tr>\n",
       "    <tr>\n",
       "      <th>697</th>\n",
       "      <td>MULTIPOLYGON (((151.28694 -33.62871, 151.28780...</td>\n",
       "      <td>17710</td>\n",
       "      <td>2012-05-15Z</td>\n",
       "      <td>None</td>\n",
       "      <td>NSW5092</td>\n",
       "      <td>2012-07-27Z</td>\n",
       "      <td>None</td>\n",
       "      <td>Lovett Bay</td>\n",
       "      <td>None</td>\n",
       "      <td>None</td>\n",
       "      <td>G</td>\n",
       "      <td>None</td>\n",
       "      <td>1</td>\n",
       "    </tr>\n",
       "  </tbody>\n",
       "</table>\n",
       "<p>698 rows × 13 columns</p>\n",
       "</div>"
      ],
      "text/plain": [
       "                                              geometry lc_ply_pid  \\\n",
       "0    MULTIPOLYGON (((151.10074 -33.84457, 151.10082...      24903   \n",
       "1    MULTIPOLYGON (((151.19808 -33.82566, 151.19816...      25101   \n",
       "2    MULTIPOLYGON (((151.10398 -33.81987, 151.10406...      19669   \n",
       "3    MULTIPOLYGON (((151.08348 -33.30938, 151.09335...      24793   \n",
       "4    MULTIPOLYGON (((151.16649 -33.75486, 151.16677...      20526   \n",
       "..                                                 ...        ...   \n",
       "693  MULTIPOLYGON (((150.91710 -33.69219, 150.91726...      29100   \n",
       "694  MULTIPOLYGON (((151.12954 -34.04770, 151.13000...      29120   \n",
       "695  MULTIPOLYGON (((150.94353 -33.40470, 150.94983...      29138   \n",
       "696  MULTIPOLYGON (((151.15705 -33.79200, 151.15715...      10870   \n",
       "697  MULTIPOLYGON (((151.28694 -33.62871, 151.28780...      17710   \n",
       "\n",
       "       dt_create dt_retire  loc_pid   nsw_locali nsw_loca_1       nsw_loca_2  \\\n",
       "0    2015-09-03Z      None  NSW1012  2015-11-10Z       None          Concord   \n",
       "1    2015-09-03Z      None  NSW4391  2015-11-10Z       None   Wollstonecraft   \n",
       "2    2012-11-21Z      None  NSW3304  2013-01-23Z       None           Putney   \n",
       "3    2015-09-03Z      None  NSW3819  2015-11-10Z       None  Ten Mile Hollow   \n",
       "4    2013-03-07Z      None  NSW2153  2013-04-30Z       None          Killara   \n",
       "..           ...       ...      ...          ...        ...              ...   \n",
       "693  2018-09-20Z      None  NSW3870  2018-08-08Z       None        The Ponds   \n",
       "694  2018-09-20Z      None  NSW5022  2016-05-08Z       None  Caringbah South   \n",
       "695  2018-09-20Z      None  NSW2318  2012-02-04Z       None       Leets Vale   \n",
       "696  2009-11-21Z      None   NSW907  2012-02-04Z       None   Chatswood West   \n",
       "697  2012-05-15Z      None  NSW5092  2012-07-27Z       None       Lovett Bay   \n",
       "\n",
       "    nsw_loca_3 nsw_loca_4 nsw_loca_5 nsw_loca_6 nsw_loca_7  \n",
       "0         None       None          G       None          1  \n",
       "1         None       None          G       None          1  \n",
       "2         None       None          G       None          1  \n",
       "3         None       None          G       None          1  \n",
       "4         None       None          G       None          1  \n",
       "..         ...        ...        ...        ...        ...  \n",
       "693       None       None          G       None          1  \n",
       "694       None       None          G       None          1  \n",
       "695       None       None          G       None          1  \n",
       "696       None       None          G       None          1  \n",
       "697       None       None          G       None          1  \n",
       "\n",
       "[698 rows x 13 columns]"
      ]
     },
     "execution_count": 17,
     "metadata": {},
     "output_type": "execute_result"
    }
   ],
   "source": [
    "sydney_df[\"nsw_loca_2\"] = sydney_df[\"nsw_loca_2\"].str.title()\n",
    "sydney_df"
   ]
  },
  {
   "cell_type": "code",
   "execution_count": 61,
   "metadata": {},
   "outputs": [
    {
     "name": "stdout",
     "output_type": "stream",
     "text": [
      "<class 'geopandas.geodataframe.GeoDataFrame'>\n",
      "RangeIndex: 698 entries, 0 to 697\n",
      "Data columns (total 13 columns):\n",
      " #   Column      Non-Null Count  Dtype   \n",
      "---  ------      --------------  -----   \n",
      " 0   geometry    698 non-null    geometry\n",
      " 1   lc_ply_pid  698 non-null    object  \n",
      " 2   dt_create   698 non-null    object  \n",
      " 3   dt_retire   0 non-null      object  \n",
      " 4   loc_pid     698 non-null    object  \n",
      " 5   nsw_locali  698 non-null    object  \n",
      " 6   nsw_loca_1  0 non-null      object  \n",
      " 7   nsw_loca_2  698 non-null    object  \n",
      " 8   nsw_loca_3  0 non-null      object  \n",
      " 9   nsw_loca_4  15 non-null     object  \n",
      " 10  nsw_loca_5  698 non-null    object  \n",
      " 11  nsw_loca_6  0 non-null      object  \n",
      " 12  nsw_loca_7  698 non-null    object  \n",
      "dtypes: geometry(1), object(12)\n",
      "memory usage: 71.0+ KB\n"
     ]
    }
   ],
   "source": [
    "sydney_df.info()"
   ]
  },
  {
   "cell_type": "code",
   "execution_count": 18,
   "metadata": {},
   "outputs": [],
   "source": [
    "sydney_df.to_file(\"output.json\",driver=\"GeoJSON\")"
   ]
  },
  {
   "cell_type": "code",
   "execution_count": 35,
   "metadata": {},
   "outputs": [
    {
     "name": "stderr",
     "output_type": "stream",
     "text": [
      "\n",
      "KeyboardInterrupt\n",
      "\n"
     ]
    }
   ],
   "source": [
    "fig = px.choropleth(sydney_df, geojson=data, locations=\"nsw_loca_2\", color=\"lc_ply_pid\", featureidkey=\"properties.nsw_loca_2\"\n",
    "                          )\n",
    "fig.update_layout(margin={\"r\":0,\"t\":0,\"l\":0,\"b\":0})\n",
    "fig.show()"
   ]
  },
  {
   "cell_type": "code",
   "execution_count": 26,
   "metadata": {},
   "outputs": [],
   "source": [
    "with open(\"output.json\") as f:\n",
    "    data = geojson.load(f)"
   ]
  },
  {
   "cell_type": "code",
   "execution_count": 53,
   "metadata": {},
   "outputs": [
    {
     "data": {
      "text/plain": [
       "{'lc_ply_pid': '24903',\n",
       " 'dt_create': '2015-09-03Z',\n",
       " 'dt_retire': None,\n",
       " 'loc_pid': 'NSW1012',\n",
       " 'nsw_locali': '2015-11-10Z',\n",
       " 'nsw_loca_1': None,\n",
       " 'nsw_loca_2': 'Concord',\n",
       " 'nsw_loca_3': None,\n",
       " 'nsw_loca_4': None,\n",
       " 'nsw_loca_5': 'G',\n",
       " 'nsw_loca_6': None,\n",
       " 'nsw_loca_7': '1'}"
      ]
     },
     "execution_count": 53,
     "metadata": {},
     "output_type": "execute_result"
    }
   ],
   "source": [
    "data['features'][0][\"properties\"]"
   ]
  },
  {
   "cell_type": "code",
   "execution_count": 32,
   "metadata": {},
   "outputs": [
    {
     "data": {
      "text/plain": [
       "<AxesSubplot:>"
      ]
     },
     "execution_count": 32,
     "metadata": {},
     "output_type": "execute_result"
    },
    {
     "data": {
      "image/png": "[encoded data removed]",
      "text/plain": [
       "<Figure size 1440x1440 with 1 Axes>"
      ]
     },
     "metadata": {
      "needs_background": "light"
     },
     "output_type": "display_data"
    }
   ],
   "source": [
    "sydney_df.plot(figsize=(20,20))"
   ]
  },
  {
   "cell_type": "code",
   "execution_count": 1,
   "metadata": {},
   "outputs": [
    {
     "ename": "NameError",
     "evalue": "name 'px' is not defined",
     "output_type": "error",
     "traceback": [
      "\u001b[0;31m---------------------------------------------------------------------------\u001b[0m",
      "\u001b[0;31mNameError\u001b[0m                                 Traceback (most recent call last)",
      "\u001b[0;32m<ipython-input-1-9a6564db039a>\u001b[0m in \u001b[0;36m<module>\u001b[0;34m\u001b[0m\n\u001b[0;32m----> 1\u001b[0;31m \u001b[0mdf\u001b[0m \u001b[0;34m=\u001b[0m \u001b[0mpx\u001b[0m\u001b[0;34m.\u001b[0m\u001b[0mdata\u001b[0m\u001b[0;34m.\u001b[0m\u001b[0melection\u001b[0m\u001b[0;34m(\u001b[0m\u001b[0;34m)\u001b[0m\u001b[0;34m\u001b[0m\u001b[0;34m\u001b[0m\u001b[0m\n\u001b[0m\u001b[1;32m      2\u001b[0m \u001b[0mgeojson\u001b[0m \u001b[0;34m=\u001b[0m \u001b[0mpx\u001b[0m\u001b[0;34m.\u001b[0m\u001b[0mdata\u001b[0m\u001b[0;34m.\u001b[0m\u001b[0melection_geojson\u001b[0m\u001b[0;34m(\u001b[0m\u001b[0;34m)\u001b[0m\u001b[0;34m\u001b[0m\u001b[0;34m\u001b[0m\u001b[0m\n\u001b[1;32m      3\u001b[0m \u001b[0;34m\u001b[0m\u001b[0m\n\u001b[1;32m      4\u001b[0m fig = px.choropleth(df, geojson=geojson, locations=\"district\",featureidkey=\"properties.district\"\n\u001b[1;32m      5\u001b[0m \u001b[0;34m\u001b[0m\u001b[0m\n",
      "\u001b[0;31mNameError\u001b[0m: name 'px' is not defined"
     ]
    }
   ],
   "source": [
    "df = px.data.election()\n",
    "geojson = px.data.election_geojson()\n",
    "\n",
    "fig = px.choropleth(df, geojson=geojson, locations=\"district\",featureidkey=\"properties.district\"\n",
    "                   \n",
    "                   )\n",
    "fig.update_geos(fitbounds=\"locations\", visible=False)\n",
    "fig.update_layout(margin={\"r\":0,\"t\":0,\"l\":0,\"b\":0})\n",
    "fig.show()"
   ]
  },
  {
   "cell_type": "code",
   "execution_count": 63,
   "metadata": {},
   "outputs": [
    {
     "data": {
      "text/plain": [
       "{'type': 'Feature',\n",
       " 'geometry': {'type': 'MultiPolygon',\n",
       "  'coordinates': [[[[-73.6363215300962, 45.5759177646435],\n",
       "     [-73.6362833815582, 45.5758266113331],\n",
       "     [-73.6446417578686, 45.5658132919643],\n",
       "     [-73.6453511352974, 45.5647725775888],\n",
       "     [-73.648867564748, 45.5586898267402],\n",
       "     [-73.6513170845065, 45.5545659435652],\n",
       "     [-73.6515658357324, 45.5554439857955],\n",
       "     [-73.6660837831645, 45.5596724837829],\n",
       "     [-73.6706609041685, 45.5610978251999],\n",
       "     [-73.6676019919116, 45.5632340862888],\n",
       "     [-73.6645385824068, 45.5642716484367],\n",
       "     [-73.663663123697, 45.5654269638586],\n",
       "     [-73.663336397858, 45.5666288247853],\n",
       "     [-73.6637764768649, 45.5678900619231],\n",
       "     [-73.6625073244826, 45.5688479494114],\n",
       "     [-73.6624620526633, 45.5708304456346],\n",
       "     [-73.6620201425015, 45.5713925326191],\n",
       "     [-73.6616100197742, 45.5737924780218],\n",
       "     [-73.6612199500215, 45.5747171555678],\n",
       "     [-73.6625087613399, 45.5748980132699],\n",
       "     [-73.6639172423219, 45.5730041908097],\n",
       "     [-73.6654358660443, 45.5729040009532],\n",
       "     [-73.6661069174428, 45.5737928224235],\n",
       "     [-73.6657870687343, 45.574385118162],\n",
       "     [-73.6636711124334, 45.577018676761],\n",
       "     [-73.6620928771361, 45.578161887933],\n",
       "     [-73.6611738698168, 45.5798517041392],\n",
       "     [-73.660404649744, 45.5806752214364],\n",
       "     [-73.659760079306, 45.5804007503503],\n",
       "     [-73.6604711314507, 45.5793767269523],\n",
       "     [-73.660479658497, 45.5787710701802],\n",
       "     [-73.6613549575147, 45.5780184952852],\n",
       "     [-73.6617871566128, 45.5758213640561],\n",
       "     [-73.6607445476436, 45.5764832852254],\n",
       "     [-73.6608243059909, 45.5774702934068],\n",
       "     [-73.6592236423267, 45.5793785624903],\n",
       "     [-73.6570262958283, 45.5810509513563],\n",
       "     [-73.6552694168748, 45.5819333817794],\n",
       "     [-73.6543058972308, 45.5836262624158],\n",
       "     [-73.652557313063, 45.5826892716542],\n",
       "     [-73.6363215300962, 45.5759177646435]]],\n",
       "   [[[-73.6561004885273, 45.5841347974261],\n",
       "     [-73.656376117147, 45.5845383929424],\n",
       "     [-73.6559939844354, 45.585868003125],\n",
       "     [-73.6552168328229, 45.5855392416017],\n",
       "     [-73.6561004885273, 45.5841347974261]]]]},\n",
       " 'properties': {'district': '11-Sault-au-Récollet'},\n",
       " 'id': '11'}"
      ]
     },
     "execution_count": 63,
     "metadata": {},
     "output_type": "execute_result"
    }
   ],
   "source": [
    "geojson['features'][0]"
   ]
  },
  {
   "cell_type": "code",
   "execution_count": 57,
   "metadata": {},
   "outputs": [
    {
     "data": {
      "text/html": [
       "<div>\n",
       "<style scoped>\n",
       "    .dataframe tbody tr th:only-of-type {\n",
       "        vertical-align: middle;\n",
       "    }\n",
       "\n",
       "    .dataframe tbody tr th {\n",
       "        vertical-align: top;\n",
       "    }\n",
       "\n",
       "    .dataframe thead th {\n",
       "        text-align: right;\n",
       "    }\n",
       "</style>\n",
       "<table border=\"1\" class=\"dataframe\">\n",
       "  <thead>\n",
       "    <tr style=\"text-align: right;\">\n",
       "      <th></th>\n",
       "      <th>district</th>\n",
       "      <th>Coderre</th>\n",
       "      <th>Bergeron</th>\n",
       "      <th>Joly</th>\n",
       "      <th>total</th>\n",
       "      <th>winner</th>\n",
       "      <th>result</th>\n",
       "      <th>district_id</th>\n",
       "    </tr>\n",
       "  </thead>\n",
       "  <tbody>\n",
       "    <tr>\n",
       "      <th>0</th>\n",
       "      <td>101-Bois-de-Liesse</td>\n",
       "      <td>2481</td>\n",
       "      <td>1829</td>\n",
       "      <td>3024</td>\n",
       "      <td>7334</td>\n",
       "      <td>Joly</td>\n",
       "      <td>plurality</td>\n",
       "      <td>101</td>\n",
       "    </tr>\n",
       "    <tr>\n",
       "      <th>1</th>\n",
       "      <td>102-Cap-Saint-Jacques</td>\n",
       "      <td>2525</td>\n",
       "      <td>1163</td>\n",
       "      <td>2675</td>\n",
       "      <td>6363</td>\n",
       "      <td>Joly</td>\n",
       "      <td>plurality</td>\n",
       "      <td>102</td>\n",
       "    </tr>\n",
       "    <tr>\n",
       "      <th>2</th>\n",
       "      <td>11-Sault-au-Récollet</td>\n",
       "      <td>3348</td>\n",
       "      <td>2770</td>\n",
       "      <td>2532</td>\n",
       "      <td>8650</td>\n",
       "      <td>Coderre</td>\n",
       "      <td>plurality</td>\n",
       "      <td>11</td>\n",
       "    </tr>\n",
       "    <tr>\n",
       "      <th>3</th>\n",
       "      <td>111-Mile-End</td>\n",
       "      <td>1734</td>\n",
       "      <td>4782</td>\n",
       "      <td>2514</td>\n",
       "      <td>9030</td>\n",
       "      <td>Bergeron</td>\n",
       "      <td>majority</td>\n",
       "      <td>111</td>\n",
       "    </tr>\n",
       "    <tr>\n",
       "      <th>4</th>\n",
       "      <td>112-DeLorimier</td>\n",
       "      <td>1770</td>\n",
       "      <td>5933</td>\n",
       "      <td>3044</td>\n",
       "      <td>10747</td>\n",
       "      <td>Bergeron</td>\n",
       "      <td>majority</td>\n",
       "      <td>112</td>\n",
       "    </tr>\n",
       "    <tr>\n",
       "      <th>5</th>\n",
       "      <td>113-Jeanne-Mance</td>\n",
       "      <td>1455</td>\n",
       "      <td>3599</td>\n",
       "      <td>2316</td>\n",
       "      <td>7370</td>\n",
       "      <td>Bergeron</td>\n",
       "      <td>plurality</td>\n",
       "      <td>113</td>\n",
       "    </tr>\n",
       "    <tr>\n",
       "      <th>6</th>\n",
       "      <td>12-Saint-Sulpice</td>\n",
       "      <td>3252</td>\n",
       "      <td>2521</td>\n",
       "      <td>2543</td>\n",
       "      <td>8316</td>\n",
       "      <td>Coderre</td>\n",
       "      <td>plurality</td>\n",
       "      <td>12</td>\n",
       "    </tr>\n",
       "    <tr>\n",
       "      <th>7</th>\n",
       "      <td>121-La Pointe-aux-Prairies</td>\n",
       "      <td>5456</td>\n",
       "      <td>1760</td>\n",
       "      <td>3330</td>\n",
       "      <td>10546</td>\n",
       "      <td>Coderre</td>\n",
       "      <td>majority</td>\n",
       "      <td>121</td>\n",
       "    </tr>\n",
       "    <tr>\n",
       "      <th>8</th>\n",
       "      <td>122-Pointe-aux-Trembles</td>\n",
       "      <td>4734</td>\n",
       "      <td>1879</td>\n",
       "      <td>2852</td>\n",
       "      <td>9465</td>\n",
       "      <td>Coderre</td>\n",
       "      <td>majority</td>\n",
       "      <td>122</td>\n",
       "    </tr>\n",
       "    <tr>\n",
       "      <th>9</th>\n",
       "      <td>123-Rivière-des-Prairies</td>\n",
       "      <td>5737</td>\n",
       "      <td>958</td>\n",
       "      <td>1656</td>\n",
       "      <td>8351</td>\n",
       "      <td>Coderre</td>\n",
       "      <td>majority</td>\n",
       "      <td>123</td>\n",
       "    </tr>\n",
       "    <tr>\n",
       "      <th>10</th>\n",
       "      <td>13-Ahuntsic</td>\n",
       "      <td>2979</td>\n",
       "      <td>3430</td>\n",
       "      <td>2873</td>\n",
       "      <td>9282</td>\n",
       "      <td>Bergeron</td>\n",
       "      <td>plurality</td>\n",
       "      <td>13</td>\n",
       "    </tr>\n",
       "    <tr>\n",
       "      <th>11</th>\n",
       "      <td>131-Saint-Édouard</td>\n",
       "      <td>1827</td>\n",
       "      <td>6408</td>\n",
       "      <td>2815</td>\n",
       "      <td>11050</td>\n",
       "      <td>Bergeron</td>\n",
       "      <td>majority</td>\n",
       "      <td>131</td>\n",
       "    </tr>\n",
       "    <tr>\n",
       "      <th>12</th>\n",
       "      <td>132-Étienne-Desmarteau</td>\n",
       "      <td>2331</td>\n",
       "      <td>5748</td>\n",
       "      <td>2788</td>\n",
       "      <td>10867</td>\n",
       "      <td>Bergeron</td>\n",
       "      <td>majority</td>\n",
       "      <td>132</td>\n",
       "    </tr>\n",
       "    <tr>\n",
       "      <th>13</th>\n",
       "      <td>133-Vieux-Rosemont</td>\n",
       "      <td>2670</td>\n",
       "      <td>4962</td>\n",
       "      <td>3234</td>\n",
       "      <td>10866</td>\n",
       "      <td>Bergeron</td>\n",
       "      <td>plurality</td>\n",
       "      <td>133</td>\n",
       "    </tr>\n",
       "    <tr>\n",
       "      <th>14</th>\n",
       "      <td>134-Marie-Victorin</td>\n",
       "      <td>3673</td>\n",
       "      <td>3155</td>\n",
       "      <td>2431</td>\n",
       "      <td>9259</td>\n",
       "      <td>Coderre</td>\n",
       "      <td>plurality</td>\n",
       "      <td>134</td>\n",
       "    </tr>\n",
       "    <tr>\n",
       "      <th>15</th>\n",
       "      <td>14-Bordeaux-Cartierville</td>\n",
       "      <td>3612</td>\n",
       "      <td>1554</td>\n",
       "      <td>2081</td>\n",
       "      <td>7247</td>\n",
       "      <td>Coderre</td>\n",
       "      <td>plurality</td>\n",
       "      <td>14</td>\n",
       "    </tr>\n",
       "    <tr>\n",
       "      <th>16</th>\n",
       "      <td>141-Côte-de-Liesse</td>\n",
       "      <td>4308</td>\n",
       "      <td>1320</td>\n",
       "      <td>3959</td>\n",
       "      <td>9587</td>\n",
       "      <td>Coderre</td>\n",
       "      <td>plurality</td>\n",
       "      <td>141</td>\n",
       "    </tr>\n",
       "    <tr>\n",
       "      <th>17</th>\n",
       "      <td>142-Norman-McLaren</td>\n",
       "      <td>4104</td>\n",
       "      <td>1459</td>\n",
       "      <td>2822</td>\n",
       "      <td>8385</td>\n",
       "      <td>Coderre</td>\n",
       "      <td>plurality</td>\n",
       "      <td>142</td>\n",
       "    </tr>\n",
       "    <tr>\n",
       "      <th>18</th>\n",
       "      <td>151-Saint-Léonard-Est</td>\n",
       "      <td>3931</td>\n",
       "      <td>882</td>\n",
       "      <td>1641</td>\n",
       "      <td>6454</td>\n",
       "      <td>Coderre</td>\n",
       "      <td>majority</td>\n",
       "      <td>151</td>\n",
       "    </tr>\n",
       "    <tr>\n",
       "      <th>19</th>\n",
       "      <td>152-Saint-Léonard-Ouest</td>\n",
       "      <td>5387</td>\n",
       "      <td>1184</td>\n",
       "      <td>1908</td>\n",
       "      <td>8479</td>\n",
       "      <td>Coderre</td>\n",
       "      <td>majority</td>\n",
       "      <td>152</td>\n",
       "    </tr>\n",
       "    <tr>\n",
       "      <th>20</th>\n",
       "      <td>161-Saint-HenriPetite-BourgognePointe-Saint-Ch...</td>\n",
       "      <td>2432</td>\n",
       "      <td>3368</td>\n",
       "      <td>3578</td>\n",
       "      <td>9378</td>\n",
       "      <td>Joly</td>\n",
       "      <td>plurality</td>\n",
       "      <td>161</td>\n",
       "    </tr>\n",
       "    <tr>\n",
       "      <th>21</th>\n",
       "      <td>162-Saint-PaulÉmard</td>\n",
       "      <td>2566</td>\n",
       "      <td>2092</td>\n",
       "      <td>2438</td>\n",
       "      <td>7096</td>\n",
       "      <td>Coderre</td>\n",
       "      <td>plurality</td>\n",
       "      <td>162</td>\n",
       "    </tr>\n",
       "    <tr>\n",
       "      <th>22</th>\n",
       "      <td>171-ChamplainL'Île-des-Soeurs</td>\n",
       "      <td>3347</td>\n",
       "      <td>2562</td>\n",
       "      <td>3291</td>\n",
       "      <td>9200</td>\n",
       "      <td>Coderre</td>\n",
       "      <td>plurality</td>\n",
       "      <td>171</td>\n",
       "    </tr>\n",
       "    <tr>\n",
       "      <th>23</th>\n",
       "      <td>172-Desmarchais-Crawford</td>\n",
       "      <td>2476</td>\n",
       "      <td>2631</td>\n",
       "      <td>2849</td>\n",
       "      <td>7956</td>\n",
       "      <td>Joly</td>\n",
       "      <td>plurality</td>\n",
       "      <td>172</td>\n",
       "    </tr>\n",
       "    <tr>\n",
       "      <th>24</th>\n",
       "      <td>181-Peter-McGill</td>\n",
       "      <td>1451</td>\n",
       "      <td>754</td>\n",
       "      <td>1894</td>\n",
       "      <td>4099</td>\n",
       "      <td>Joly</td>\n",
       "      <td>plurality</td>\n",
       "      <td>181</td>\n",
       "    </tr>\n",
       "    <tr>\n",
       "      <th>25</th>\n",
       "      <td>182-Saint-Jacques</td>\n",
       "      <td>1906</td>\n",
       "      <td>2169</td>\n",
       "      <td>2282</td>\n",
       "      <td>6357</td>\n",
       "      <td>Joly</td>\n",
       "      <td>plurality</td>\n",
       "      <td>182</td>\n",
       "    </tr>\n",
       "    <tr>\n",
       "      <th>26</th>\n",
       "      <td>183-Sainte-Marie</td>\n",
       "      <td>1347</td>\n",
       "      <td>2827</td>\n",
       "      <td>2271</td>\n",
       "      <td>6445</td>\n",
       "      <td>Bergeron</td>\n",
       "      <td>plurality</td>\n",
       "      <td>183</td>\n",
       "    </tr>\n",
       "    <tr>\n",
       "      <th>27</th>\n",
       "      <td>191-Saint-Michel</td>\n",
       "      <td>3668</td>\n",
       "      <td>984</td>\n",
       "      <td>1220</td>\n",
       "      <td>5872</td>\n",
       "      <td>Coderre</td>\n",
       "      <td>majority</td>\n",
       "      <td>191</td>\n",
       "    </tr>\n",
       "    <tr>\n",
       "      <th>28</th>\n",
       "      <td>192-François-Perrault</td>\n",
       "      <td>2878</td>\n",
       "      <td>2666</td>\n",
       "      <td>2039</td>\n",
       "      <td>7583</td>\n",
       "      <td>Coderre</td>\n",
       "      <td>plurality</td>\n",
       "      <td>192</td>\n",
       "    </tr>\n",
       "    <tr>\n",
       "      <th>29</th>\n",
       "      <td>193-Villeray</td>\n",
       "      <td>2201</td>\n",
       "      <td>5819</td>\n",
       "      <td>2782</td>\n",
       "      <td>10802</td>\n",
       "      <td>Bergeron</td>\n",
       "      <td>majority</td>\n",
       "      <td>193</td>\n",
       "    </tr>\n",
       "    <tr>\n",
       "      <th>30</th>\n",
       "      <td>194-Parc-Extension</td>\n",
       "      <td>2420</td>\n",
       "      <td>1793</td>\n",
       "      <td>1402</td>\n",
       "      <td>5615</td>\n",
       "      <td>Coderre</td>\n",
       "      <td>plurality</td>\n",
       "      <td>194</td>\n",
       "    </tr>\n",
       "    <tr>\n",
       "      <th>31</th>\n",
       "      <td>21-Ouest</td>\n",
       "      <td>2184</td>\n",
       "      <td>691</td>\n",
       "      <td>1076</td>\n",
       "      <td>3951</td>\n",
       "      <td>Coderre</td>\n",
       "      <td>majority</td>\n",
       "      <td>21</td>\n",
       "    </tr>\n",
       "    <tr>\n",
       "      <th>32</th>\n",
       "      <td>22-Est</td>\n",
       "      <td>1589</td>\n",
       "      <td>708</td>\n",
       "      <td>1172</td>\n",
       "      <td>3469</td>\n",
       "      <td>Coderre</td>\n",
       "      <td>plurality</td>\n",
       "      <td>22</td>\n",
       "    </tr>\n",
       "    <tr>\n",
       "      <th>33</th>\n",
       "      <td>23-Centre</td>\n",
       "      <td>2526</td>\n",
       "      <td>851</td>\n",
       "      <td>1286</td>\n",
       "      <td>4663</td>\n",
       "      <td>Coderre</td>\n",
       "      <td>majority</td>\n",
       "      <td>23</td>\n",
       "    </tr>\n",
       "    <tr>\n",
       "      <th>34</th>\n",
       "      <td>31-Darlington</td>\n",
       "      <td>1873</td>\n",
       "      <td>1182</td>\n",
       "      <td>1232</td>\n",
       "      <td>4287</td>\n",
       "      <td>Coderre</td>\n",
       "      <td>plurality</td>\n",
       "      <td>31</td>\n",
       "    </tr>\n",
       "    <tr>\n",
       "      <th>35</th>\n",
       "      <td>32-Côte-des-Neiges</td>\n",
       "      <td>1644</td>\n",
       "      <td>1950</td>\n",
       "      <td>1578</td>\n",
       "      <td>5172</td>\n",
       "      <td>Bergeron</td>\n",
       "      <td>plurality</td>\n",
       "      <td>32</td>\n",
       "    </tr>\n",
       "    <tr>\n",
       "      <th>36</th>\n",
       "      <td>33-Snowdon</td>\n",
       "      <td>1548</td>\n",
       "      <td>1503</td>\n",
       "      <td>1636</td>\n",
       "      <td>4687</td>\n",
       "      <td>Joly</td>\n",
       "      <td>plurality</td>\n",
       "      <td>33</td>\n",
       "    </tr>\n",
       "    <tr>\n",
       "      <th>37</th>\n",
       "      <td>34-Notre-Dame-de-Grâce</td>\n",
       "      <td>1773</td>\n",
       "      <td>2653</td>\n",
       "      <td>3262</td>\n",
       "      <td>7688</td>\n",
       "      <td>Joly</td>\n",
       "      <td>plurality</td>\n",
       "      <td>34</td>\n",
       "    </tr>\n",
       "    <tr>\n",
       "      <th>38</th>\n",
       "      <td>35-Loyola</td>\n",
       "      <td>2040</td>\n",
       "      <td>1437</td>\n",
       "      <td>2648</td>\n",
       "      <td>6125</td>\n",
       "      <td>Joly</td>\n",
       "      <td>plurality</td>\n",
       "      <td>35</td>\n",
       "    </tr>\n",
       "    <tr>\n",
       "      <th>39</th>\n",
       "      <td>41-du Canal</td>\n",
       "      <td>1165</td>\n",
       "      <td>832</td>\n",
       "      <td>1266</td>\n",
       "      <td>3263</td>\n",
       "      <td>Joly</td>\n",
       "      <td>plurality</td>\n",
       "      <td>41</td>\n",
       "    </tr>\n",
       "    <tr>\n",
       "      <th>40</th>\n",
       "      <td>42-J.-Émery-Provost</td>\n",
       "      <td>1193</td>\n",
       "      <td>653</td>\n",
       "      <td>1157</td>\n",
       "      <td>3003</td>\n",
       "      <td>Coderre</td>\n",
       "      <td>plurality</td>\n",
       "      <td>42</td>\n",
       "    </tr>\n",
       "    <tr>\n",
       "      <th>41</th>\n",
       "      <td>43-Fort-Rolland</td>\n",
       "      <td>1325</td>\n",
       "      <td>1205</td>\n",
       "      <td>1908</td>\n",
       "      <td>4438</td>\n",
       "      <td>Joly</td>\n",
       "      <td>plurality</td>\n",
       "      <td>43</td>\n",
       "    </tr>\n",
       "    <tr>\n",
       "      <th>42</th>\n",
       "      <td>51-Sault-Saint-Louis</td>\n",
       "      <td>4201</td>\n",
       "      <td>1642</td>\n",
       "      <td>3717</td>\n",
       "      <td>9560</td>\n",
       "      <td>Coderre</td>\n",
       "      <td>plurality</td>\n",
       "      <td>51</td>\n",
       "    </tr>\n",
       "    <tr>\n",
       "      <th>43</th>\n",
       "      <td>52-Cecil-P.-Newman</td>\n",
       "      <td>3536</td>\n",
       "      <td>1330</td>\n",
       "      <td>2943</td>\n",
       "      <td>7809</td>\n",
       "      <td>Coderre</td>\n",
       "      <td>plurality</td>\n",
       "      <td>52</td>\n",
       "    </tr>\n",
       "    <tr>\n",
       "      <th>44</th>\n",
       "      <td>61-Pierre-Foretier</td>\n",
       "      <td>631</td>\n",
       "      <td>258</td>\n",
       "      <td>998</td>\n",
       "      <td>1887</td>\n",
       "      <td>Joly</td>\n",
       "      <td>majority</td>\n",
       "      <td>61</td>\n",
       "    </tr>\n",
       "    <tr>\n",
       "      <th>45</th>\n",
       "      <td>62-Denis-Benjamin-Viger</td>\n",
       "      <td>595</td>\n",
       "      <td>226</td>\n",
       "      <td>1068</td>\n",
       "      <td>1889</td>\n",
       "      <td>Joly</td>\n",
       "      <td>majority</td>\n",
       "      <td>62</td>\n",
       "    </tr>\n",
       "    <tr>\n",
       "      <th>46</th>\n",
       "      <td>63-Jacques-Bizard</td>\n",
       "      <td>518</td>\n",
       "      <td>224</td>\n",
       "      <td>690</td>\n",
       "      <td>1432</td>\n",
       "      <td>Joly</td>\n",
       "      <td>plurality</td>\n",
       "      <td>63</td>\n",
       "    </tr>\n",
       "    <tr>\n",
       "      <th>47</th>\n",
       "      <td>64-Sainte-Geneviève</td>\n",
       "      <td>332</td>\n",
       "      <td>131</td>\n",
       "      <td>326</td>\n",
       "      <td>789</td>\n",
       "      <td>Coderre</td>\n",
       "      <td>plurality</td>\n",
       "      <td>64</td>\n",
       "    </tr>\n",
       "    <tr>\n",
       "      <th>48</th>\n",
       "      <td>71-Tétreaultville</td>\n",
       "      <td>3694</td>\n",
       "      <td>2589</td>\n",
       "      <td>3454</td>\n",
       "      <td>9737</td>\n",
       "      <td>Coderre</td>\n",
       "      <td>plurality</td>\n",
       "      <td>71</td>\n",
       "    </tr>\n",
       "    <tr>\n",
       "      <th>49</th>\n",
       "      <td>72-MaisonneuveLongue-Pointe</td>\n",
       "      <td>2746</td>\n",
       "      <td>3250</td>\n",
       "      <td>3139</td>\n",
       "      <td>9135</td>\n",
       "      <td>Bergeron</td>\n",
       "      <td>plurality</td>\n",
       "      <td>72</td>\n",
       "    </tr>\n",
       "    <tr>\n",
       "      <th>50</th>\n",
       "      <td>73-Hochelaga</td>\n",
       "      <td>1546</td>\n",
       "      <td>3679</td>\n",
       "      <td>2675</td>\n",
       "      <td>7900</td>\n",
       "      <td>Bergeron</td>\n",
       "      <td>plurality</td>\n",
       "      <td>73</td>\n",
       "    </tr>\n",
       "    <tr>\n",
       "      <th>51</th>\n",
       "      <td>74-Louis-Riel</td>\n",
       "      <td>3509</td>\n",
       "      <td>2178</td>\n",
       "      <td>2338</td>\n",
       "      <td>8025</td>\n",
       "      <td>Coderre</td>\n",
       "      <td>plurality</td>\n",
       "      <td>74</td>\n",
       "    </tr>\n",
       "    <tr>\n",
       "      <th>52</th>\n",
       "      <td>81-Marie-Clarac</td>\n",
       "      <td>6591</td>\n",
       "      <td>1085</td>\n",
       "      <td>1435</td>\n",
       "      <td>9111</td>\n",
       "      <td>Coderre</td>\n",
       "      <td>majority</td>\n",
       "      <td>81</td>\n",
       "    </tr>\n",
       "    <tr>\n",
       "      <th>53</th>\n",
       "      <td>82-Ovide-Clermont</td>\n",
       "      <td>6229</td>\n",
       "      <td>780</td>\n",
       "      <td>1051</td>\n",
       "      <td>8060</td>\n",
       "      <td>Coderre</td>\n",
       "      <td>majority</td>\n",
       "      <td>82</td>\n",
       "    </tr>\n",
       "    <tr>\n",
       "      <th>54</th>\n",
       "      <td>91-Claude-Ryan</td>\n",
       "      <td>996</td>\n",
       "      <td>643</td>\n",
       "      <td>423</td>\n",
       "      <td>2062</td>\n",
       "      <td>Coderre</td>\n",
       "      <td>plurality</td>\n",
       "      <td>91</td>\n",
       "    </tr>\n",
       "    <tr>\n",
       "      <th>55</th>\n",
       "      <td>92-Joseph-Beaubien</td>\n",
       "      <td>540</td>\n",
       "      <td>833</td>\n",
       "      <td>592</td>\n",
       "      <td>1965</td>\n",
       "      <td>Bergeron</td>\n",
       "      <td>plurality</td>\n",
       "      <td>92</td>\n",
       "    </tr>\n",
       "    <tr>\n",
       "      <th>56</th>\n",
       "      <td>93-Robert-Bourassa</td>\n",
       "      <td>446</td>\n",
       "      <td>465</td>\n",
       "      <td>419</td>\n",
       "      <td>1330</td>\n",
       "      <td>Bergeron</td>\n",
       "      <td>plurality</td>\n",
       "      <td>93</td>\n",
       "    </tr>\n",
       "    <tr>\n",
       "      <th>57</th>\n",
       "      <td>94-Jeanne-Sauvé</td>\n",
       "      <td>491</td>\n",
       "      <td>698</td>\n",
       "      <td>489</td>\n",
       "      <td>1678</td>\n",
       "      <td>Bergeron</td>\n",
       "      <td>plurality</td>\n",
       "      <td>94</td>\n",
       "    </tr>\n",
       "  </tbody>\n",
       "</table>\n",
       "</div>"
      ],
      "text/plain": [
       "                                             district  Coderre  Bergeron  \\\n",
       "0                                  101-Bois-de-Liesse     2481      1829   \n",
       "1                               102-Cap-Saint-Jacques     2525      1163   \n",
       "2                                11-Sault-au-Récollet     3348      2770   \n",
       "3                                        111-Mile-End     1734      4782   \n",
       "4                                      112-DeLorimier     1770      5933   \n",
       "5                                    113-Jeanne-Mance     1455      3599   \n",
       "6                                    12-Saint-Sulpice     3252      2521   \n",
       "7                          121-La Pointe-aux-Prairies     5456      1760   \n",
       "8                             122-Pointe-aux-Trembles     4734      1879   \n",
       "9                            123-Rivière-des-Prairies     5737       958   \n",
       "10                                        13-Ahuntsic     2979      3430   \n",
       "11                                  131-Saint-Édouard     1827      6408   \n",
       "12                             132-Étienne-Desmarteau     2331      5748   \n",
       "13                                 133-Vieux-Rosemont     2670      4962   \n",
       "14                                 134-Marie-Victorin     3673      3155   \n",
       "15                           14-Bordeaux-Cartierville     3612      1554   \n",
       "16                                 141-Côte-de-Liesse     4308      1320   \n",
       "17                                 142-Norman-McLaren     4104      1459   \n",
       "18                              151-Saint-Léonard-Est     3931       882   \n",
       "19                            152-Saint-Léonard-Ouest     5387      1184   \n",
       "20  161-Saint-HenriPetite-BourgognePointe-Saint-Ch...     2432      3368   \n",
       "21                                162-Saint-PaulÉmard     2566      2092   \n",
       "22                      171-ChamplainL'Île-des-Soeurs     3347      2562   \n",
       "23                           172-Desmarchais-Crawford     2476      2631   \n",
       "24                                   181-Peter-McGill     1451       754   \n",
       "25                                  182-Saint-Jacques     1906      2169   \n",
       "26                                   183-Sainte-Marie     1347      2827   \n",
       "27                                   191-Saint-Michel     3668       984   \n",
       "28                              192-François-Perrault     2878      2666   \n",
       "29                                       193-Villeray     2201      5819   \n",
       "30                                 194-Parc-Extension     2420      1793   \n",
       "31                                           21-Ouest     2184       691   \n",
       "32                                             22-Est     1589       708   \n",
       "33                                          23-Centre     2526       851   \n",
       "34                                      31-Darlington     1873      1182   \n",
       "35                                 32-Côte-des-Neiges     1644      1950   \n",
       "36                                         33-Snowdon     1548      1503   \n",
       "37                             34-Notre-Dame-de-Grâce     1773      2653   \n",
       "38                                          35-Loyola     2040      1437   \n",
       "39                                        41-du Canal     1165       832   \n",
       "40                                42-J.-Émery-Provost     1193       653   \n",
       "41                                    43-Fort-Rolland     1325      1205   \n",
       "42                               51-Sault-Saint-Louis     4201      1642   \n",
       "43                                 52-Cecil-P.-Newman     3536      1330   \n",
       "44                                 61-Pierre-Foretier      631       258   \n",
       "45                            62-Denis-Benjamin-Viger      595       226   \n",
       "46                                  63-Jacques-Bizard      518       224   \n",
       "47                                64-Sainte-Geneviève      332       131   \n",
       "48                                  71-Tétreaultville     3694      2589   \n",
       "49                        72-MaisonneuveLongue-Pointe     2746      3250   \n",
       "50                                       73-Hochelaga     1546      3679   \n",
       "51                                      74-Louis-Riel     3509      2178   \n",
       "52                                    81-Marie-Clarac     6591      1085   \n",
       "53                                  82-Ovide-Clermont     6229       780   \n",
       "54                                     91-Claude-Ryan      996       643   \n",
       "55                                 92-Joseph-Beaubien      540       833   \n",
       "56                                 93-Robert-Bourassa      446       465   \n",
       "57                                    94-Jeanne-Sauvé      491       698   \n",
       "\n",
       "    Joly  total    winner     result  district_id  \n",
       "0   3024   7334      Joly  plurality          101  \n",
       "1   2675   6363      Joly  plurality          102  \n",
       "2   2532   8650   Coderre  plurality           11  \n",
       "3   2514   9030  Bergeron   majority          111  \n",
       "4   3044  10747  Bergeron   majority          112  \n",
       "5   2316   7370  Bergeron  plurality          113  \n",
       "6   2543   8316   Coderre  plurality           12  \n",
       "7   3330  10546   Coderre   majority          121  \n",
       "8   2852   9465   Coderre   majority          122  \n",
       "9   1656   8351   Coderre   majority          123  \n",
       "10  2873   9282  Bergeron  plurality           13  \n",
       "11  2815  11050  Bergeron   majority          131  \n",
       "12  2788  10867  Bergeron   majority          132  \n",
       "13  3234  10866  Bergeron  plurality          133  \n",
       "14  2431   9259   Coderre  plurality          134  \n",
       "15  2081   7247   Coderre  plurality           14  \n",
       "16  3959   9587   Coderre  plurality          141  \n",
       "17  2822   8385   Coderre  plurality          142  \n",
       "18  1641   6454   Coderre   majority          151  \n",
       "19  1908   8479   Coderre   majority          152  \n",
       "20  3578   9378      Joly  plurality          161  \n",
       "21  2438   7096   Coderre  plurality          162  \n",
       "22  3291   9200   Coderre  plurality          171  \n",
       "23  2849   7956      Joly  plurality          172  \n",
       "24  1894   4099      Joly  plurality          181  \n",
       "25  2282   6357      Joly  plurality          182  \n",
       "26  2271   6445  Bergeron  plurality          183  \n",
       "27  1220   5872   Coderre   majority          191  \n",
       "28  2039   7583   Coderre  plurality          192  \n",
       "29  2782  10802  Bergeron   majority          193  \n",
       "30  1402   5615   Coderre  plurality          194  \n",
       "31  1076   3951   Coderre   majority           21  \n",
       "32  1172   3469   Coderre  plurality           22  \n",
       "33  1286   4663   Coderre   majority           23  \n",
       "34  1232   4287   Coderre  plurality           31  \n",
       "35  1578   5172  Bergeron  plurality           32  \n",
       "36  1636   4687      Joly  plurality           33  \n",
       "37  3262   7688      Joly  plurality           34  \n",
       "38  2648   6125      Joly  plurality           35  \n",
       "39  1266   3263      Joly  plurality           41  \n",
       "40  1157   3003   Coderre  plurality           42  \n",
       "41  1908   4438      Joly  plurality           43  \n",
       "42  3717   9560   Coderre  plurality           51  \n",
       "43  2943   7809   Coderre  plurality           52  \n",
       "44   998   1887      Joly   majority           61  \n",
       "45  1068   1889      Joly   majority           62  \n",
       "46   690   1432      Joly  plurality           63  \n",
       "47   326    789   Coderre  plurality           64  \n",
       "48  3454   9737   Coderre  plurality           71  \n",
       "49  3139   9135  Bergeron  plurality           72  \n",
       "50  2675   7900  Bergeron  plurality           73  \n",
       "51  2338   8025   Coderre  plurality           74  \n",
       "52  1435   9111   Coderre   majority           81  \n",
       "53  1051   8060   Coderre   majority           82  \n",
       "54   423   2062   Coderre  plurality           91  \n",
       "55   592   1965  Bergeron  plurality           92  \n",
       "56   419   1330  Bergeron  plurality           93  \n",
       "57   489   1678  Bergeron  plurality           94  "
      ]
     },
     "execution_count": 57,
     "metadata": {},
     "output_type": "execute_result"
    }
   ],
   "source": []
  },
  {
   "cell_type": "code",
   "execution_count": 4,
   "metadata": {},
   "outputs": [
    {
     "data": {
      "application/vnd.plotly.v1+json": {
       "config": {
        "plotlyServerURL": "https://plot.ly"
       },
       "data": [
        {
         "coloraxis": "coloraxis",
         "geo": "geo",
         "geojson": {
          "bbox": [
           -73.9475358331527,
           45.4145878316083,
           -73.4745824263264,
           45.7054709950549
          ],
          "features": [
           {
            "bbox": [
             -73.6706609041685,
             45.5545659435652,
             -73.6362833815582,
             45.585868003125
            ],
            "geometry": {
             "coordinates": [
              [
               [
                [
                 -73.6363215300962,
                 45.5759177646435
                ],
                [
                 -73.6362833815582,
                 45.5758266113331
                ],
                [
                 -73.6446417578686,
                 45.5658132919643
                ],
                [
                 -73.6453511352974,
                 45.5647725775888
                ],
                [
                 -73.648867564748,
                 45.5586898267402
                ],
                [
                 -73.6513170845065,
                 45.5545659435652
                ],
                [
                 -73.6515658357324,
                 45.5554439857955
                ],
                [
                 -73.6660837831645,
                 45.5596724837829
                ],
                [
                 -73.6706609041685,
                 45.5610978251999
                ],
                [
                 -73.6676019919116,
                 45.5632340862888
                ],
                [
                 -73.6645385824068,
                 45.5642716484367
                ],
                [
                 -73.663663123697,
                 45.5654269638586
                ],
                [
                 -73.663336397858,
                 45.5666288247853
                ],
                [
                 -73.6637764768649,
                 45.5678900619231
                ],
                [
                 -73.6625073244826,
                 45.5688479494114
                ],
                [
                 -73.6624620526633,
                 45.5708304456346
                ],
                [
                 -73.6620201425015,
                 45.5713925326191
                ],
                [
                 -73.6616100197742,
                 45.5737924780218
                ],
                [
                 -73.6612199500215,
                 45.5747171555678
                ],
                [
                 -73.6625087613399,
                 45.5748980132699
                ],
                [
                 -73.6639172423219,
                 45.5730041908097
                ],
                [
                 -73.6654358660443,
                 45.5729040009532
                ],
                [
                 -73.6661069174428,
                 45.5737928224235
                ],
                [
                 -73.6657870687343,
                 45.574385118162
                ],
                [
                 -73.6636711124334,
                 45.577018676761
                ],
                [
                 -73.6620928771361,
                 45.578161887933
                ],
                [
                 -73.6611738698168,
                 45.5798517041392
                ],
                [
                 -73.660404649744,
                 45.5806752214364
                ],
                [
                 -73.659760079306,
                 45.5804007503503
                ],
                [
                 -73.6604711314507,
                 45.5793767269523
                ],
                [
                 -73.660479658497,
                 45.5787710701802
                ],
                [
                 -73.6613549575147,
                 45.5780184952852
                ],
                [
                 -73.6617871566128,
                 45.5758213640561
                ],
                [
                 -73.6607445476436,
                 45.5764832852254
                ],
                [
                 -73.6608243059909,
                 45.5774702934068
                ],
                [
                 -73.6592236423267,
                 45.5793785624903
                ],
                [
                 -73.6570262958283,
                 45.5810509513563
                ],
                [
                 -73.6552694168748,
                 45.5819333817794
                ],
                [
                 -73.6543058972308,
                 45.5836262624158
                ],
                [
                 -73.652557313063,
                 45.5826892716542
                ],
                [
                 -73.6363215300962,
                 45.5759177646435
                ]
               ]
              ],
              [
               [
                [
                 -73.6561004885273,
                 45.5841347974261
                ],
                [
                 -73.656376117147,
                 45.5845383929424
                ],
                [
                 -73.6559939844354,
                 45.585868003125
                ],
                [
                 -73.6552168328229,
                 45.5855392416017
                ],
                [
                 -73.6561004885273,
                 45.5841347974261
                ]
               ]
              ]
             ],
             "type": "MultiPolygon"
            },
            "id": "11-Sault-au-Récollet",
            "properties": {},
            "type": "Feature"
           },
           {
            "bbox": [
             -73.683124268159,
             45.5263874543882,
             -73.6217484540132,
             45.5647725775888
            ],
            "geometry": {
             "coordinates": [
              [
               [
                -73.6217484540132,
                45.5544783077209
               ],
               [
                -73.6235005117779,
                45.5536358848324
               ],
               [
                -73.6278096771011,
                45.5513024018691
               ],
               [
                -73.6301686544477,
                45.5503989164938
               ],
               [
                -73.6325600663803,
                45.5499795021129
               ],
               [
                -73.6342899238824,
                45.5494628161417
               ],
               [
                -73.6363671046978,
                45.548169415833
               ],
               [
                -73.6398673671325,
                45.5441488267699
               ],
               [
                -73.6407295659042,
                45.5429686686779
               ],
               [
                -73.6485543103777,
                45.5308320827376
               ],
               [
                -73.6510270564502,
                45.5263874543882
               ],
               [
                -73.6555330494037,
                45.5277342274232
               ],
               [
                -73.6698852350516,
                45.5318835785726
               ],
               [
                -73.6726124365382,
                45.5322997327559
               ],
               [
                -73.6747555535799,
                45.5323081056009
               ],
               [
                -73.6764129283619,
                45.5321264506516
               ],
               [
                -73.683124268159,
                45.5305991300384
               ],
               [
                -73.6807721370907,
                45.534331320177
               ],
               [
                -73.6785046215606,
                45.5379069417581
               ],
               [
                -73.6752852955733,
                45.5369404343695
               ],
               [
                -73.6740837310465,
                45.5378868187786
               ],
               [
                -73.6687347480061,
                45.5363337408676
               ],
               [
                -73.667891862525,
                45.5387409623539
               ],
               [
                -73.664945183105,
                45.5382590909533
               ],
               [
                -73.6646235398403,
                45.5394847807605
               ],
               [
                -73.662249203322,
                45.543633408253
               ],
               [
                -73.6616100449503,
                45.5441416421638
               ],
               [
                -73.6604302515405,
                45.5460790656787
               ],
               [
                -73.6568659704249,
                45.5450525873044
               ],
               [
                -73.6513170845065,
                45.5545659435652
               ],
               [
                -73.648867564748,
                45.5586898267402
               ],
               [
                -73.6453511352974,
                45.5647725775888
               ],
               [
                -73.6240413737876,
                45.5555253903511
               ],
               [
                -73.6217484540132,
                45.5544783077209
               ]
              ]
             ],
             "type": "Polygon"
            },
            "id": "12-Saint-Sulpice",
            "properties": {},
            "type": "Feature"
           },
           {
            "bbox": [
             -73.7043014929187,
             45.534331320177,
             -73.6513170845065,
             45.5610978251999
            ],
            "geometry": {
             "coordinates": [
              [
               [
                -73.6513170845065,
                45.5545659435652
               ],
               [
                -73.6568659704249,
                45.5450525873044
               ],
               [
                -73.6604302515405,
                45.5460790656787
               ],
               [
                -73.6616100449503,
                45.5441416421638
               ],
               [
                -73.662249203322,
                45.543633408253
               ],
               [
                -73.6646235398403,
                45.5394847807605
               ],
               [
                -73.664945183105,
                45.5382590909533
               ],
               [
                -73.667891862525,
                45.5387409623539
               ],
               [
                -73.6687347480061,
                45.5363337408676
               ],
               [
                -73.6740837310465,
                45.5378868187786
               ],
               [
                -73.6752852955733,
                45.5369404343695
               ],
               [
                -73.6785046215606,
                45.5379069417581
               ],
               [
                -73.6807721370907,
                45.534331320177
               ],
               [
                -73.6920199187781,
                45.5394683031028
               ],
               [
                -73.702520410412,
                45.5431766227664
               ],
               [
                -73.7042065154565,
                45.5438906316964
               ],
               [
                -73.7043014929187,
                45.5441905861876
               ],
               [
                -73.7027027602765,
                45.5451406840713
               ],
               [
                -73.7023335988111,
                45.5457621950639
               ],
               [
                -73.7012226911876,
                45.5459702396396
               ],
               [
                -73.7004635154173,
                45.5466167282154
               ],
               [
                -73.6996123824321,
                45.5464852570484
               ],
               [
                -73.6992033294858,
                45.5475781625301
               ],
               [
                -73.6968595536907,
                45.5481581755357
               ],
               [
                -73.6949311086011,
                45.5474604427764
               ],
               [
                -73.6924688517172,
                45.5472280284581
               ],
               [
                -73.6891281157722,
                45.5477334249253
               ],
               [
                -73.6879273316976,
                45.5481318231022
               ],
               [
                -73.6865595013798,
                45.5491308196528
               ],
               [
                -73.6852748086046,
                45.5488162600605
               ],
               [
                -73.6827845213391,
                45.5489146412483
               ],
               [
                -73.6801283681886,
                45.549462773374
               ],
               [
                -73.6791182211476,
                45.5500801562043
               ],
               [
                -73.6772981030339,
                45.5516675115113
               ],
               [
                -73.6765545558035,
                45.552766523393
               ],
               [
                -73.6744642269172,
                45.5548591969672
               ],
               [
                -73.6730096784532,
                45.5582339830541
               ],
               [
                -73.6706609041685,
                45.5610978251999
               ],
               [
                -73.6660837831645,
                45.5596724837829
               ],
               [
                -73.6515658357324,
                45.5554439857955
               ],
               [
                -73.6513170845065,
                45.5545659435652
               ]
              ]
             ],
             "type": "Polygon"
            },
            "id": "13-Ahuntsic",
            "properties": {},
            "type": "Feature"
           },
           {
            "bbox": [
             -73.7638683329059,
             45.5064862077527,
             -73.6807721370907,
             45.5441905861876
            ],
            "geometry": {
             "coordinates": [
              [
               [
                -73.7043014929187,
                45.5441905861876
               ],
               [
                -73.7042065154565,
                45.5438906316964
               ],
               [
                -73.702520410412,
                45.5431766227664
               ],
               [
                -73.6920199187781,
                45.5394683031028
               ],
               [
                -73.6807721370907,
                45.534331320177
               ],
               [
                -73.683124268159,
                45.5305991300384
               ],
               [
                -73.685195685208,
                45.5301022578388
               ],
               [
                -73.6870922504792,
                45.5286619976995
               ],
               [
                -73.6897803429098,
                45.5288476157777
               ],
               [
                -73.6939612003867,
                45.528347826243
               ],
               [
                -73.6963296087078,
                45.5276805484038
               ],
               [
                -73.7091218538247,
                45.5230954877394
               ],
               [
                -73.7112612170074,
                45.5243023856458
               ],
               [
                -73.7131122096208,
                45.5251637887575
               ],
               [
                -73.7145584630039,
                45.5239315629596
               ],
               [
                -73.7172924358234,
                45.5256928911099
               ],
               [
                -73.7185119695016,
                45.5247508136954
               ],
               [
                -73.7217031155859,
                45.5267447688191
               ],
               [
                -73.7280602953464,
                45.5213554616816
               ],
               [
                -73.7317546325275,
                45.5236815365784
               ],
               [
                -73.7358987648866,
                45.5207291683311
               ],
               [
                -73.7285097856203,
                45.5160943522463
               ],
               [
                -73.7350991221023,
                45.5137867482303
               ],
               [
                -73.7550630650544,
                45.5065238038199
               ],
               [
                -73.7551669017747,
                45.5064862077527
               ],
               [
                -73.7612752776246,
                45.5104175090183
               ],
               [
                -73.7638683329059,
                45.5120860463668
               ],
               [
                -73.762390301954,
                45.5126791739444
               ],
               [
                -73.7600609683013,
                45.5141288858482
               ],
               [
                -73.7568442082942,
                45.5171884494623
               ],
               [
                -73.7548593171474,
                45.5180889539846
               ],
               [
                -73.752606980088,
                45.5185523798859
               ],
               [
                -73.749151955166,
                45.519018390863
               ],
               [
                -73.7452110015187,
                45.5215286261207
               ],
               [
                -73.7437662661847,
                45.5231373686573
               ],
               [
                -73.7411211602605,
                45.526837900694
               ],
               [
                -73.7394306858002,
                45.5285277381045
               ],
               [
                -73.7360589393138,
                45.5302671129156
               ],
               [
                -73.7343347000828,
                45.5309824138834
               ],
               [
                -73.7311072638005,
                45.5320095049916
               ],
               [
                -73.7283844986554,
                45.533203827821
               ],
               [
                -73.7249729419404,
                45.5359178137401
               ],
               [
                -73.7231098233772,
                45.5369689627545
               ],
               [
                -73.7202103870331,
                45.5381794076214
               ],
               [
                -73.7181375140605,
                45.5387109207903
               ],
               [
                -73.7158043157039,
                45.5388996570908
               ],
               [
                -73.7135388429561,
                45.5396848689224
               ],
               [
                -73.7111454931799,
                45.541340948266
               ],
               [
                -73.7091038651233,
                45.5430898357363
               ],
               [
                -73.7078456046825,
                45.5423008892929
               ],
               [
                -73.7069875096913,
                45.5436077713277
               ],
               [
                -73.705614345008,
                45.5441267025504
               ],
               [
                -73.7043014929187,
                45.5441905861876
               ]
              ]
             ],
             "type": "Polygon"
            },
            "id": "14-Bordeaux-Cartierville",
            "properties": {},
            "type": "Feature"
           },
           {
            "bbox": [
             -73.6028907661658,
             45.5932166140624,
             -73.5481773494253,
             45.6341956640577
            ],
            "geometry": {
             "coordinates": [
              [
               [
                -73.5576871015794,
                45.5932166140624
               ],
               [
                -73.5694206600629,
                45.5971486400825
               ],
               [
                -73.5696609688417,
                45.5965806032278
               ],
               [
                -73.5726733802096,
                45.5977479911912
               ],
               [
                -73.5745938220503,
                45.5986717630315
               ],
               [
                -73.576232424293,
                45.5992577290381
               ],
               [
                -73.5771288919308,
                45.599852413767
               ],
               [
                -73.5889961999073,
                45.6050220349527
               ],
               [
                -73.5971103983983,
                45.6085989887758
               ],
               [
                -73.6013378366857,
                45.6104025414741
               ],
               [
                -73.6028907661658,
                45.6112216102358
               ],
               [
                -73.601559767966,
                45.6118073578371
               ],
               [
                -73.6023660828945,
                45.6125718329314
               ],
               [
                -73.5984976040034,
                45.6140840514745
               ],
               [
                -73.5954830428467,
                45.6158123480652
               ],
               [
                -73.5740068269183,
                45.6304929149516
               ],
               [
                -73.5683379250343,
                45.6341956640577
               ],
               [
                -73.5514095863784,
                45.6269444197056
               ],
               [
                -73.5481773494253,
                45.6255197854529
               ],
               [
                -73.5585223912755,
                45.6137280036474
               ],
               [
                -73.5640615699407,
                45.6074316710882
               ],
               [
                -73.564986439275,
                45.60561620283
               ],
               [
                -73.5662995431109,
                45.6039974029119
               ],
               [
                -73.5631517029922,
                45.6031634368599
               ],
               [
                -73.5614050931716,
                45.6025489377902
               ],
               [
                -73.5567925816714,
                45.6005393547562
               ],
               [
                -73.5589887922886,
                45.5979945383903
               ],
               [
                -73.5595164040348,
                45.5961661000645
               ],
               [
                -73.5564557704867,
                45.5951543577536
               ],
               [
                -73.5576871015794,
                45.5932166140624
               ]
              ]
             ],
             "type": "Polygon"
            },
            "id": "21-Ouest",
            "properties": {},
            "type": "Feature"
           },
           {
            "bbox": [
             -73.5585223912755,
             45.5959627917351,
             -73.5358870172169,
             45.6255197854529
            ],
            "geometry": {
             "coordinates": [
              [
               [
                -73.5452799498143,
                45.5959627917351
               ],
               [
                -73.5491007054645,
                45.5975302159963
               ],
               [
                -73.5479841638628,
                45.5989434662401
               ],
               [
                -73.5468145864499,
                45.6013644519429
               ],
               [
                -73.5461968110206,
                45.6046211322422
               ],
               [
                -73.549913736884,
                45.605150517886
               ],
               [
                -73.5533688744189,
                45.605412630486
               ],
               [
                -73.5524302953106,
                45.6080081462088
               ],
               [
                -73.5507759763854,
                45.6103339985918
               ],
               [
                -73.5585223912755,
                45.6137280036474
               ],
               [
                -73.5481773494253,
                45.6255197854529
               ],
               [
                -73.5358870172169,
                45.620207093019
               ],
               [
                -73.5374747721378,
                45.6166252950092
               ],
               [
                -73.5375256945614,
                45.6160673327401
               ],
               [
                -73.5381703589619,
                45.6139517855176
               ],
               [
                -73.5437218072693,
                45.6149096422408
               ],
               [
                -73.5452777806501,
                45.6141657083913
               ],
               [
                -73.5462767505068,
                45.6127238289344
               ],
               [
                -73.5444977198785,
                45.6121760838565
               ],
               [
                -73.5453373826653,
                45.6107633861198
               ],
               [
                -73.5441363974969,
                45.6102716461918
               ],
               [
                -73.5412098839782,
                45.6095033241271
               ],
               [
                -73.5416434070878,
                45.6081797015109
               ],
               [
                -73.540900931842,
                45.6078533012629
               ],
               [
                -73.5416213388458,
                45.606939681157
               ],
               [
                -73.5375401492111,
                45.6052359766051
               ],
               [
                -73.5365038947396,
                45.6026457300995
               ],
               [
                -73.5365958888719,
                45.602162446611
               ],
               [
                -73.5394321608651,
                45.6030910243993
               ],
               [
                -73.5421763850909,
                45.6042454438226
               ],
               [
                -73.5429289535666,
                45.6032316351511
               ],
               [
                -73.539729971205,
                45.6018186221009
               ],
               [
                -73.5407418924341,
                45.6006998521118
               ],
               [
                -73.5447576674512,
                45.6019410417126
               ],
               [
                -73.5451108447268,
                45.6000061818095
               ],
               [
                -73.5445859643042,
                45.5999308464328
               ],
               [
                -73.5442050076359,
                45.5981948225546
               ],
               [
                -73.5438572127564,
                45.5980784963673
               ],
               [
                -73.5452799498143,
                45.5959627917351
               ]
              ]
             ],
             "type": "Polygon"
            },
            "id": "22-Est",
            "properties": {},
            "type": "Feature"
           },
           {
            "bbox": [
             -73.5662995431109,
             45.5903029802044,
             -73.5452799498143,
             45.6137280036474
            ],
            "geometry": {
             "coordinates": [
              [
               [
                -73.5576871015794,
                45.5932166140624
               ],
               [
                -73.5564557704867,
                45.5951543577536
               ],
               [
                -73.5595164040348,
                45.5961661000645
               ],
               [
                -73.5589887922886,
                45.5979945383903
               ],
               [
                -73.5567925816714,
                45.6005393547562
               ],
               [
                -73.5614050931716,
                45.6025489377902
               ],
               [
                -73.5631517029922,
                45.6031634368599
               ],
               [
                -73.5662995431109,
                45.6039974029119
               ],
               [
                -73.564986439275,
                45.60561620283
               ],
               [
                -73.5640615699407,
                45.6074316710882
               ],
               [
                -73.5585223912755,
                45.6137280036474
               ],
               [
                -73.5507759763854,
                45.6103339985918
               ],
               [
                -73.5524302953106,
                45.6080081462088
               ],
               [
                -73.5533688744189,
                45.605412630486
               ],
               [
                -73.549913736884,
                45.605150517886
               ],
               [
                -73.5461968110206,
                45.6046211322422
               ],
               [
                -73.5468145864499,
                45.6013644519429
               ],
               [
                -73.5479841638628,
                45.5989434662401
               ],
               [
                -73.5491007054645,
                45.5975302159963
               ],
               [
                -73.5452799498143,
                45.5959627917351
               ],
               [
                -73.5455045323429,
                45.5956272275911
               ],
               [
                -73.545930102715,
                45.5949937733284
               ],
               [
                -73.5473484500099,
                45.5955355370728
               ],
               [
                -73.5481396292151,
                45.5946360429193
               ],
               [
                -73.5465394629102,
                45.5940712033384
               ],
               [
                -73.5489394765731,
                45.5903029802044
               ],
               [
                -73.5576871015794,
                45.5932166140624
               ]
              ]
             ],
             "type": "Polygon"
            },
            "id": "23-Centre",
            "properties": {},
            "type": "Feature"
           },
           {
            "bbox": [
             -73.6480439724158,
             45.49234917306,
             -73.6207592308166,
             45.5165801475772
            ],
            "geometry": {
             "coordinates": [
              [
               [
                -73.6207592308166,
                45.5138993727882
               ],
               [
                -73.6236560898078,
                45.5106541632808
               ],
               [
                -73.624384898555,
                45.5091582170891
               ],
               [
                -73.6260875230251,
                45.507277208983
               ],
               [
                -73.6279506225702,
                45.5061120243158
               ],
               [
                -73.628749836468,
                45.5048079525531
               ],
               [
                -73.6304494685866,
                45.5028490467289
               ],
               [
                -73.6256440443835,
                45.500662130816
               ],
               [
                -73.6331323407225,
                45.49234917306
               ],
               [
                -73.6480439724158,
                45.4990451424615
               ],
               [
                -73.6458072174417,
                45.5016289991394
               ],
               [
                -73.6422399591459,
                45.5054987858353
               ],
               [
                -73.6423036889254,
                45.5062221151428
               ],
               [
                -73.6415508188144,
                45.5069829054595
               ],
               [
                -73.6416660769228,
                45.5076101030023
               ],
               [
                -73.6385805807369,
                45.5112159439382
               ],
               [
                -73.6365911851412,
                45.5146566965285
               ],
               [
                -73.6357295158589,
                45.5143963845137
               ],
               [
                -73.6346269691423,
                45.5156528191911
               ],
               [
                -73.6289040380069,
                45.5140823858644
               ],
               [
                -73.6267223236567,
                45.5165801475772
               ],
               [
                -73.6207592308166,
                45.5138993727882
               ]
              ]
             ],
             "type": "Polygon"
            },
            "id": "31-Darlington",
            "properties": {},
            "type": "Feature"
           },
           {
            "bbox": [
             -73.6331323407225,
             45.4851011880198,
             -73.5941401789655,
             45.5138993727882
            ],
            "geometry": {
             "coordinates": [
              [
               [
                -73.5956108742759,
                45.504064067218
               ],
               [
                -73.5941401789655,
                45.5033436344744
               ],
               [
                -73.594737745289,
                45.5028667176493
               ],
               [
                -73.5977240363362,
                45.5016310280474
               ],
               [
                -73.5997960499359,
                45.5001439911523
               ],
               [
                -73.6009279740317,
                45.4988800346583
               ],
               [
                -73.6033750499038,
                45.4967309718248
               ],
               [
                -73.6044775189475,
                45.4952226776326
               ],
               [
                -73.6068399722065,
                45.4952769144878
               ],
               [
                -73.6083680626652,
                45.493592693099
               ],
               [
                -73.6093606035265,
                45.4939788081012
               ],
               [
                -73.6115925457235,
                45.4916920833656
               ],
               [
                -73.6147351668377,
                45.4930299583055
               ],
               [
                -73.6184160919695,
                45.4889467204633
               ],
               [
                -73.618423454854,
                45.4881800607925
               ],
               [
                -73.6153515138627,
                45.4867956883177
               ],
               [
                -73.6169038962737,
                45.4851011880198
               ],
               [
                -73.6331323407225,
                45.49234917306
               ],
               [
                -73.6256440443835,
                45.500662130816
               ],
               [
                -73.6304494685866,
                45.5028490467289
               ],
               [
                -73.628749836468,
                45.5048079525531
               ],
               [
                -73.6279506225702,
                45.5061120243158
               ],
               [
                -73.6260875230251,
                45.507277208983
               ],
               [
                -73.624384898555,
                45.5091582170891
               ],
               [
                -73.6236560898078,
                45.5106541632808
               ],
               [
                -73.6207592308166,
                45.5138993727882
               ],
               [
                -73.6176645335398,
                45.5125000231349
               ],
               [
                -73.617959519301,
                45.5121686212918
               ],
               [
                -73.61888001694,
                45.5111346532789
               ],
               [
                -73.6169256431203,
                45.5102737338336
               ],
               [
                -73.6178928803835,
                45.5091750557282
               ],
               [
                -73.6160933747766,
                45.5082725969653
               ],
               [
                -73.6189454361275,
                45.5051234940594
               ],
               [
                -73.6182356279483,
                45.504722156916
               ],
               [
                -73.6130513861854,
                45.5104478685544
               ],
               [
                -73.6063535452531,
                45.5074911306599
               ],
               [
                -73.6061344132343,
                45.5068772235294
               ],
               [
                -73.6035337540631,
                45.5057001623398
               ],
               [
                -73.6024762927983,
                45.5068574351344
               ],
               [
                -73.5993805679324,
                45.5053898653966
               ],
               [
                -73.5987846893921,
                45.5056180649425
               ],
               [
                -73.5956108742759,
                45.504064067218
               ]
              ]
             ],
             "type": "Polygon"
            },
            "id": "32-Côte-des-Neiges",
            "properties": {},
            "type": "Feature"
           },
           {
            "bbox": [
             -73.6776271543493,
             45.478422071886,
             -73.6143642141962,
             45.5047080114556
            ],
            "geometry": {
             "coordinates": [
              [
               [
                -73.6458072174417,
                45.5016289991394
               ],
               [
                -73.6480439724158,
                45.4990451424615
               ],
               [
                -73.6331323407225,
                45.49234917306
               ],
               [
                -73.6169038962737,
                45.4851011880198
               ],
               [
                -73.6171481421592,
                45.4848346166979
               ],
               [
                -73.6143642141962,
                45.4835868912093
               ],
               [
                -73.6159143530659,
                45.4828328944331
               ],
               [
                -73.6178740199084,
                45.4828487105026
               ],
               [
                -73.6188871149392,
                45.4826094451865
               ],
               [
                -73.6212759199926,
                45.4802684345737
               ],
               [
                -73.6225662166532,
                45.4809098124242
               ],
               [
                -73.6236079242847,
                45.479859834089
               ],
               [
                -73.6247644644914,
                45.4792722536745
               ],
               [
                -73.6274376104247,
                45.4787022686984
               ],
               [
                -73.6296262215988,
                45.478422071886
               ],
               [
                -73.6309839979771,
                45.4790336481084
               ],
               [
                -73.6303804074798,
                45.4796761714723
               ],
               [
                -73.6511475576679,
                45.4890232837666
               ],
               [
                -73.6486185977978,
                45.4918874029923
               ],
               [
                -73.6505027283703,
                45.4926843456098
               ],
               [
                -73.6558244313911,
                45.4867907549359
               ],
               [
                -73.6554964724779,
                45.4865593791057
               ],
               [
                -73.6559518311015,
                45.4851214751334
               ],
               [
                -73.6560231568666,
                45.4789400952457
               ],
               [
                -73.6611067166692,
                45.4811529055447
               ],
               [
                -73.6618618884249,
                45.4803203895973
               ],
               [
                -73.6695855765435,
                45.483802365291
               ],
               [
                -73.6746342471328,
                45.4819683440264
               ],
               [
                -73.6763145414839,
                45.4831298265322
               ],
               [
                -73.6776271543493,
                45.4823345919293
               ],
               [
                -73.677264286648,
                45.4836591822082
               ],
               [
                -73.6751680903633,
                45.4912833590877
               ],
               [
                -73.6678730495106,
                45.4869534898132
               ],
               [
                -73.6660964808822,
                45.4866186123515
               ],
               [
                -73.665349200462,
                45.4870183659149
               ],
               [
                -73.6562276688947,
                45.49432722353
               ],
               [
                -73.6637510731136,
                45.4992450684359
               ],
               [
                -73.6617471598017,
                45.4992191258018
               ],
               [
                -73.6623623016746,
                45.5022066512214
               ],
               [
                -73.6605369493135,
                45.5024306141327
               ],
               [
                -73.6600841825714,
                45.50331916613
               ],
               [
                -73.659999506549,
                45.5047080114556
               ],
               [
                -73.6566453499119,
                45.5037588241059
               ],
               [
                -73.6516126661051,
                45.504311872331
               ],
               [
                -73.6458072174417,
                45.5016289991394
               ]
              ]
             ],
             "type": "Polygon"
            },
            "id": "33-Snowdon",
            "properties": {},
            "type": "Feature"
           },
           {
            "bbox": [
             -73.6429334550997,
             45.4632907897894,
             -73.5951347718664,
             45.4835868912093
            ],
            "geometry": {
             "coordinates": [
              [
               [
                -73.6143642141962,
                45.4835868912093
               ],
               [
                -73.6123997707291,
                45.4826898974257
               ],
               [
                -73.6143764334436,
                45.4805885224868
               ],
               [
                -73.6054346259738,
                45.4765925587108
               ],
               [
                -73.605024536716,
                45.4770080719998
               ],
               [
                -73.5985471562789,
                45.4740708829885
               ],
               [
                -73.5951347718664,
                45.4764466331536
               ],
               [
                -73.5966486659517,
                45.4732210790839
               ],
               [
                -73.5995923966142,
                45.4714885118876
               ],
               [
                -73.6015380888098,
                45.4698449656495
               ],
               [
                -73.6025897276388,
                45.4690525247808
               ],
               [
                -73.6031619796725,
                45.4691032161751
               ],
               [
                -73.6056266168094,
                45.4676031109374
               ],
               [
                -73.6058459619009,
                45.4672881102352
               ],
               [
                -73.6116004847967,
                45.4647691120724
               ],
               [
                -73.6121904900053,
                45.4648542087469
               ],
               [
                -73.6157015928197,
                45.4632907897894
               ],
               [
                -73.6167538282606,
                45.4637150194085
               ],
               [
                -73.6260868871444,
                45.4678594502274
               ],
               [
                -73.626514031426,
                45.4682540051731
               ],
               [
                -73.6317531402478,
                45.4705324186308
               ],
               [
                -73.6328791824832,
                45.4692477650227
               ],
               [
                -73.6375349663401,
                45.4712784001916
               ],
               [
                -73.636638362928,
                45.4717833758261
               ],
               [
                -73.6429334550997,
                45.4745543212637
               ],
               [
                -73.6397624769414,
                45.4766952953752
               ],
               [
                -73.6393702983563,
                45.4768105158646
               ],
               [
                -73.6354876412699,
                45.4768957315274
               ],
               [
                -73.6324931664858,
                45.477871983287
               ],
               [
                -73.6296262215988,
                45.478422071886
               ],
               [
                -73.6274376104247,
                45.4787022686984
               ],
               [
                -73.6247644644914,
                45.4792722536745
               ],
               [
                -73.6236079242847,
                45.479859834089
               ],
               [
                -73.6225662166532,
                45.4809098124242
               ],
               [
                -73.6212759199926,
                45.4802684345737
               ],
               [
                -73.6188871149392,
                45.4826094451865
               ],
               [
                -73.6178740199084,
                45.4828487105026
               ],
               [
                -73.6159143530659,
                45.4828328944331
               ],
               [
                -73.6143642141962,
                45.4835868912093
               ]
              ]
             ],
             "type": "Polygon"
            },
            "id": "34-Notre-Dame-de-Grâce",
            "properties": {},
            "type": "Feature"
           },
           {
            "bbox": [
             -73.6581848068946,
             45.4507225431116,
             -73.6157015928197,
             45.4745543212637
            ],
            "geometry": {
             "coordinates": [
              [
               [
                -73.6157015928197,
                45.4632907897894
               ],
               [
                -73.6182352042185,
                45.4622268121902
               ],
               [
                -73.6200562870233,
                45.4616683026575
               ],
               [
                -73.6243236842049,
                45.4586553508057
               ],
               [
                -73.6262003043123,
                45.4574918787775
               ],
               [
                -73.6314544395632,
                45.4527593013115
               ],
               [
                -73.6350181512615,
                45.4509158064615
               ],
               [
                -73.6351722497066,
                45.4507225431116
               ],
               [
                -73.6579831562151,
                45.4595353374805
               ],
               [
                -73.6571683135528,
                45.4601081011059
               ],
               [
                -73.6581848068946,
                45.4614565130998
               ],
               [
                -73.6556103303451,
                45.4629114310011
               ],
               [
                -73.652126146378,
                45.4676895103383
               ],
               [
                -73.650271326417,
                45.4688055451965
               ],
               [
                -73.6491060800072,
                45.4705082201931
               ],
               [
                -73.6456903840605,
                45.4732294857318
               ],
               [
                -73.6429334550997,
                45.4745543212637
               ],
               [
                -73.636638362928,
                45.4717833758261
               ],
               [
                -73.6375349663401,
                45.4712784001916
               ],
               [
                -73.6328791824832,
                45.4692477650227
               ],
               [
                -73.6317531402478,
                45.4705324186308
               ],
               [
                -73.626514031426,
                45.4682540051731
               ],
               [
                -73.6260868871444,
                45.4678594502274
               ],
               [
                -73.6167538282606,
                45.4637150194085
               ],
               [
                -73.6157015928197,
                45.4632907897894
               ]
              ]
             ],
             "type": "Polygon"
            },
            "id": "35-Loyola",
            "properties": {},
            "type": "Feature"
           },
           {
            "bbox": [
             -73.6970986158494,
             45.4276813808521,
             -73.6290926270452,
             45.4703396575946
            ],
            "geometry": {
             "coordinates": [
              [
               [
                -73.6827804258142,
                45.4635658825978
               ],
               [
                -73.680902143784,
                45.4623754221733
               ],
               [
                -73.6819797751037,
                45.4611465117243
               ],
               [
                -73.6828103840958,
                45.4609562889736
               ],
               [
                -73.6837901612144,
                45.4594789107516
               ],
               [
                -73.6850645006026,
                45.4581450364168
               ],
               [
                -73.6872613190858,
                45.45743059602
               ],
               [
                -73.6874478222607,
                45.4558195821286
               ],
               [
                -73.6872205285223,
                45.4552707229765
               ],
               [
                -73.6763900162006,
                45.4523637929963
               ],
               [
                -73.67377108286,
                45.4530336717393
               ],
               [
                -73.6720573706002,
                45.4528472783153
               ],
               [
                -73.6708095323057,
                45.454567942777
               ],
               [
                -73.6685657847746,
                45.4567309452231
               ],
               [
                -73.6569820780073,
                45.4523202088578
               ],
               [
                -73.6448369147901,
                45.4475941198865
               ],
               [
                -73.6433550395347,
                45.4477889354918
               ],
               [
                -73.6432919538684,
                45.4483609262331
               ],
               [
                -73.6389029083366,
                45.4466926413334
               ],
               [
                -73.6367835977829,
                45.447838031415
               ],
               [
                -73.6320301276656,
                45.4495010416609
               ],
               [
                -73.6290926270452,
                45.4483946176344
               ],
               [
                -73.6320762130349,
                45.4466558317026
               ],
               [
                -73.6351699979365,
                45.445393422083
               ],
               [
                -73.6392793914912,
                45.4438396460105
               ],
               [
                -73.6470945537851,
                45.4407073290916
               ],
               [
                -73.648051977364,
                45.4402561224796
               ],
               [
                -73.6537698617598,
                45.4370900482024
               ],
               [
                -73.6593235959903,
                45.4348597630844
               ],
               [
                -73.6621186235209,
                45.433443013701
               ],
               [
                -73.6659361085031,
                45.4320787105657
               ],
               [
                -73.665989308902,
                45.4284342302665
               ],
               [
                -73.6689564175307,
                45.4291767414944
               ],
               [
                -73.6731193300976,
                45.4280636694712
               ],
               [
                -73.6759423999609,
                45.4276813808521
               ],
               [
                -73.6833563260685,
                45.4282185950861
               ],
               [
                -73.6865003978824,
                45.4283124979178
               ],
               [
                -73.6878687931234,
                45.4286162358336
               ],
               [
                -73.6882161207604,
                45.4292815314123
               ],
               [
                -73.6856210014114,
                45.4290337944536
               ],
               [
                -73.6824907873074,
                45.4293268197374
               ],
               [
                -73.6802412950549,
                45.4292313975545
               ],
               [
                -73.675637946869,
                45.4284197115606
               ],
               [
                -73.6730699666729,
                45.4286396172162
               ],
               [
                -73.6691630663163,
                45.429896298712
               ],
               [
                -73.6694459537283,
                45.4304807516148
               ],
               [
                -73.6730208497195,
                45.4292965595349
               ],
               [
                -73.6750647146261,
                45.4289965544438
               ],
               [
                -73.6767010508474,
                45.4291739328909
               ],
               [
                -73.6788386194388,
                45.4302144484015
               ],
               [
                -73.6788136864397,
                45.4304304732339
               ],
               [
                -73.6733659453582,
                45.4293230346261
               ],
               [
                -73.6691401095123,
                45.4307511873639
               ],
               [
                -73.6696391042462,
                45.4309484342688
               ],
               [
                -73.6714905342855,
                45.4303967061942
               ],
               [
                -73.6716716548405,
                45.4310983881409
               ],
               [
                -73.6737798875814,
                45.4309332101671
               ],
               [
                -73.6775256263951,
                45.431305335836
               ],
               [
                -73.6792911320404,
                45.4318695414462
               ],
               [
                -73.6820917599341,
                45.4323959865103
               ],
               [
                -73.6847244511365,
                45.4323557615008
               ],
               [
                -73.6843819981847,
                45.4331481730083
               ],
               [
                -73.6862880355843,
                45.433675955614
               ],
               [
                -73.6893786382238,
                45.43297800821
               ],
               [
                -73.6919766084407,
                45.4328477403871
               ],
               [
                -73.6920222789549,
                45.4344181753399
               ],
               [
                -73.6924064617963,
                45.4372834135916
               ],
               [
                -73.6919192684033,
                45.4375875837079
               ],
               [
                -73.6922359492324,
                45.4397539275822
               ],
               [
                -73.6790976648257,
                45.4399597709378
               ],
               [
                -73.6718763889968,
                45.4401679518281
               ],
               [
                -73.6702870397047,
                45.440019142569
               ],
               [
                -73.6635037895282,
                45.4400929494508
               ],
               [
                -73.6629212228917,
                45.4401596573971
               ],
               [
                -73.6629008949467,
                45.4422188385912
               ],
               [
                -73.6635315763833,
                45.4422179374171
               ],
               [
                -73.6636442247504,
                45.4445171206371
               ],
               [
                -73.6650313754737,
                45.4449769741284
               ],
               [
                -73.6688238611265,
                45.4465533440431
               ],
               [
                -73.6703899048248,
                45.4470018886664
               ],
               [
                -73.6723760891366,
                45.4472832888363
               ],
               [
                -73.6862003751106,
                45.4475701793018
               ],
               [
                -73.6929749468618,
                45.4479566183894
               ],
               [
                -73.6931235366321,
                45.44814625489
               ],
               [
                -73.6960704968967,
                45.4482114291558
               ],
               [
                -73.6970275555854,
                45.4488217409105
               ],
               [
                -73.6970986158494,
                45.4534198522438
               ],
               [
                -73.6970604739367,
                45.4567907245283
               ],
               [
                -73.6967667127171,
                45.4587187165095
               ],
               [
                -73.6956922188653,
                45.4626538256577
               ],
               [
                -73.6956163827684,
                45.4640262681568
               ],
               [
                -73.69619836572,
                45.4654974169452
               ],
               [
                -73.6947785817616,
                45.4645178045181
               ],
               [
                -73.6933043566279,
                45.4703396575946
               ],
               [
                -73.6827804258142,
                45.4635658825978
               ]
              ]
             ],
             "type": "Polygon"
            },
            "id": "41-du Canal",
            "properties": {},
            "type": "Feature"
           },
           {
            "bbox": [
             -73.6930646838521,
             45.4397539275822,
             -73.6629008949467,
             45.4479566183894
            ],
            "geometry": {
             "coordinates": [
              [
               [
                -73.6922359492324,
                45.4397539275822
               ],
               [
                -73.6930646838521,
                45.4455152024534
               ],
               [
                -73.6929749468618,
                45.4479566183894
               ],
               [
                -73.6862003751106,
                45.4475701793018
               ],
               [
                -73.6723760891366,
                45.4472832888363
               ],
               [
                -73.6703899048248,
                45.4470018886664
               ],
               [
                -73.6688238611265,
                45.4465533440431
               ],
               [
                -73.6650313754737,
                45.4449769741284
               ],
               [
                -73.6636442247504,
                45.4445171206371
               ],
               [
                -73.6635315763833,
                45.4422179374171
               ],
               [
                -73.6629008949467,
                45.4422188385912
               ],
               [
                -73.6629212228917,
                45.4401596573971
               ],
               [
                -73.6635037895282,
                45.4400929494508
               ],
               [
                -73.6702870397047,
                45.440019142569
               ],
               [
                -73.6718763889968,
                45.4401679518281
               ],
               [
                -73.6790976648257,
                45.4399597709378
               ],
               [
                -73.6922359492324,
                45.4397539275822
               ]
              ]
             ],
             "type": "Polygon"
            },
            "id": "42-J.-Émery-Provost",
            "properties": {},
            "type": "Feature"
           },
           {
            "bbox": [
             -73.7245717150603,
             45.4324224970616,
             -73.6919192684033,
             45.47334246671
            ],
            "geometry": {
             "coordinates": [
              [
               [
                -73.6929749468618,
                45.4479566183894
               ],
               [
                -73.6930646838521,
                45.4455152024534
               ],
               [
                -73.6922359492324,
                45.4397539275822
               ],
               [
                -73.6919192684033,
                45.4375875837079
               ],
               [
                -73.6924064617963,
                45.4372834135916
               ],
               [
                -73.6920222789549,
                45.4344181753399
               ],
               [
                -73.6919766084407,
                45.4328477403871
               ],
               [
                -73.6932876958108,
                45.4324224970616
               ],
               [
                -73.694195347338,
                45.4324839527568
               ],
               [
                -73.6949136010573,
                45.4332296803625
               ],
               [
                -73.6988288457718,
                45.4344466726102
               ],
               [
                -73.7010791173413,
                45.434694716853
               ],
               [
                -73.7030235835285,
                45.4351501569008
               ],
               [
                -73.7052464981121,
                45.4348762919984
               ],
               [
                -73.7084847193563,
                45.4361211648559
               ],
               [
                -73.7108619082078,
                45.4360808035114
               ],
               [
                -73.7131770697603,
                45.436535476583
               ],
               [
                -73.7141004237697,
                45.4373526055584
               ],
               [
                -73.7197027055463,
                45.4383497204873
               ],
               [
                -73.7205977591364,
                45.438420079974
               ],
               [
                -73.7206259030039,
                45.439094891288
               ],
               [
                -73.7192721714824,
                45.4393943883616
               ],
               [
                -73.7222362640027,
                45.4487922160595
               ],
               [
                -73.7206936272739,
                45.4487451257208
               ],
               [
                -73.722831053433,
                45.4557427179281
               ],
               [
                -73.7245717150603,
                45.4610335488204
               ],
               [
                -73.7198081628308,
                45.4644866016957
               ],
               [
                -73.7170519619499,
                45.4666015017259
               ],
               [
                -73.7125173690129,
                45.4699350201585
               ],
               [
                -73.7080097103994,
                45.47334246671
               ],
               [
                -73.7047665432935,
                45.4712980390786
               ],
               [
                -73.69619836572,
                45.4654974169452
               ],
               [
                -73.6956163827684,
                45.4640262681568
               ],
               [
                -73.6956922188653,
                45.4626538256577
               ],
               [
                -73.6967667127171,
                45.4587187165095
               ],
               [
                -73.6970604739367,
                45.4567907245283
               ],
               [
                -73.6970986158494,
                45.4534198522438
               ],
               [
                -73.6970275555854,
                45.4488217409105
               ],
               [
                -73.6960704968967,
                45.4482114291558
               ],
               [
                -73.6931235366321,
                45.44814625489
               ],
               [
                -73.6929749468618,
                45.4479566183894
               ]
              ]
             ],
             "type": "Polygon"
            },
            "id": "43-Fort-Rolland",
            "properties": {},
            "type": "Feature"
           },
           {
            "bbox": [
             -73.6378211847585,
             45.4145878316083,
             -73.5704318906483,
             45.4576954341346
            ],
            "geometry": {
             "coordinates": [
              [
               [
                [
                 -73.5878943026224,
                 45.4214667320274
                ],
                [
                 -73.5863736733671,
                 45.4214319841574
                ],
                [
                 -73.5869474028608,
                 45.4206395990966
                ],
                [
                 -73.5878943026224,
                 45.4214667320274
                ]
               ]
              ],
              [
               [
                [
                 -73.5725281473542,
                 45.4260939579768
                ],
                [
                 -73.5704318906483,
                 45.4257263831213
                ],
                [
                 -73.5705580062435,
                 45.4244124795508
                ],
                [
                 -73.5739539624556,
                 45.4219626672329
                ],
                [
                 -73.5766876209735,
                 45.4212859978906
                ],
                [
                 -73.5793575905544,
                 45.4208612013169
                ],
                [
                 -73.5824241611882,
                 45.4207510361274
                ],
                [
                 -73.5840593827098,
                 45.4204618626093
                ],
                [
                 -73.585056506724,
                 45.4207940136185
                ],
                [
                 -73.586554348269,
                 45.4226195923359
                ],
                [
                 -73.5860576024637,
                 45.4236638110559
                ],
                [
                 -73.584295514885,
                 45.4245289791408
                ],
                [
                 -73.5827488367791,
                 45.424251218775
                ],
                [
                 -73.5809343733788,
                 45.424360511388
                ],
                [
                 -73.5784175573386,
                 45.4248212373305
                ],
                [
                 -73.5770508918231,
                 45.425290048099
                ],
                [
                 -73.5731288926102,
                 45.4262015674713
                ],
                [
                 -73.5725281473542,
                 45.4260939579768
                ]
               ]
              ],
              [
               [
                [
                 -73.5765170514597,
                 45.4274230889043
                ],
                [
                 -73.5749707241727,
                 45.4273611190412
                ],
                [
                 -73.5723756663881,
                 45.4267869197677
                ],
                [
                 -73.5752500087582,
                 45.4259752044009
                ],
                [
                 -73.5797854469441,
                 45.4251621784139
                ],
                [
                 -73.5803981192377,
                 45.4246848695548
                ],
                [
                 -73.5816888803182,
                 45.4247468599426
                ],
                [
                 -73.5837470045383,
                 45.4252493371248
                ],
                [
                 -73.5811925680258,
                 45.4261690319939
                ],
                [
                 -73.5773858946539,
                 45.42731451108
                ],
                [
                 -73.5765170514597,
                 45.4274230889043
                ]
               ]
              ],
              [
               [
                [
                 -73.5993656298056,
                 45.437522488597
                ],
                [
                 -73.5837871545249,
                 45.4350036826887
                ],
                [
                 -73.5864937818087,
                 45.4330669729378
                ],
                [
                 -73.5889455796285,
                 45.4317602654679
                ],
                [
                 -73.5892899771004,
                 45.4312921174991
                ],
                [
                 -73.5917282376663,
                 45.4295893857394
                ],
                [
                 -73.5930673492969,
                 45.4278875931486
                ],
                [
                 -73.5941659028554,
                 45.4276167102135
                ],
                [
                 -73.5970103055467,
                 45.4244378040521
                ],
                [
                 -73.6024582557665,
                 45.4197537949939
                ],
                [
                 -73.6050240641787,
                 45.418374641288
                ],
                [
                 -73.6071441080738,
                 45.4178597046428
                ],
                [
                 -73.6089187571527,
                 45.4171291621745
                ],
                [
                 -73.6111012955212,
                 45.4159032271
                ],
                [
                 -73.6144997511617,
                 45.4158098763183
                ],
                [
                 -73.6157904203163,
                 45.4159075684946
                ],
                [
                 -73.6190093657475,
                 45.4154992857685
                ],
                [
                 -73.6211671693205,
                 45.4148130602082
                ],
                [
                 -73.6256397226365,
                 45.4151411168221
                ],
                [
                 -73.6290762426954,
                 45.4149482971955
                ],
                [
                 -73.6295864341622,
                 45.4145878316083
                ],
                [
                 -73.6326788478802,
                 45.4147641808428
                ],
                [
                 -73.6324382282295,
                 45.4157003113135
                ],
                [
                 -73.6338310649383,
                 45.4157616841636
                ],
                [
                 -73.6373466145775,
                 45.4154299316521
                ],
                [
                 -73.6378211847585,
                 45.4157853047214
                ],
                [
                 -73.6349821404871,
                 45.4216213986168
                ],
                [
                 -73.630914321986,
                 45.4207058504903
                ],
                [
                 -73.629580513036,
                 45.4205264796284
                ],
                [
                 -73.6269794842437,
                 45.4219064890514
                ],
                [
                 -73.6221765288238,
                 45.4233556809216
                ],
                [
                 -73.6235576102796,
                 45.4251452650735
                ],
                [
                 -73.625860660556,
                 45.4262630893683
                ],
                [
                 -73.6213932515199,
                 45.4290799524068
                ],
                [
                 -73.6189096270924,
                 45.431198716026
                ],
                [
                 -73.6153394945845,
                 45.4349173246406
                ],
                [
                 -73.6147722148194,
                 45.4363801178349
                ],
                [
                 -73.6185038157741,
                 45.4371719975162
                ],
                [
                 -73.6203669519898,
                 45.4381561591494
                ],
                [
                 -73.6292793360419,
                 45.4422437520764
                ],
                [
                 -73.6304212122284,
                 45.4412800353944
                ],
                [
                 -73.6319594346838,
                 45.4420660970196
                ],
                [
                 -73.6341339482992,
                 45.4434436213567
                ],
                [
                 -73.6334152486196,
                 45.4438343169323
                ],
                [
                 -73.6348120456809,
                 45.444546590121
                ],
                [
                 -73.6351699979365,
                 45.445393422083
                ],
                [
                 -73.6320762130349,
                 45.4466558317026
                ],
                [
                 -73.6290926270452,
                 45.4483946176344
                ],
                [
                 -73.6288149375869,
                 45.4482900651074
                ],
                [
                 -73.6269986444794,
                 45.4501430927141
                ],
                [
                 -73.6255515041789,
                 45.4513172221793
                ],
                [
                 -73.622324477466,
                 45.4535901866228
                ],
                [
                 -73.6201147014597,
                 45.4548257159799
                ],
                [
                 -73.6136079881888,
                 45.4576954341346
                ],
                [
                 -73.6068239912076,
                 45.4545470690524
                ],
                [
                 -73.6048092799479,
                 45.4489130784869
                ],
                [
                 -73.6052123848584,
                 45.4479821667775
                ],
                [
                 -73.6094089858961,
                 45.4442773154325
                ],
                [
                 -73.6104503124607,
                 45.4429793199455
                ],
                [
                 -73.6118008558715,
                 45.4394499728596
                ],
                [
                 -73.5996082895714,
                 45.4375187309259
                ],
                [
                 -73.5993656298056,
                 45.437522488597
                ]
               ]
              ]
             ],
             "type": "MultiPolygon"
            },
            "id": "51-Sault-Saint-Louis",
            "properties": {},
            "type": "Feature"
           },
           {
            "bbox": [
             -73.665989308902,
             45.4154299316521,
             -73.6147722148194,
             45.445393422083
            ],
            "geometry": {
             "coordinates": [
              [
               [
                -73.6373466145775,
                45.4154299316521
               ],
               [
                -73.6398482479311,
                45.4154574940498
               ],
               [
                -73.6413054445293,
                45.4157165943723
               ],
               [
                -73.6441055865314,
                45.4165049565242
               ],
               [
                -73.6469598857207,
                45.418436018764
               ],
               [
                -73.6496982979192,
                45.4199531866296
               ],
               [
                -73.6528057037257,
                45.4208669233735
               ],
               [
                -73.6563386875677,
                45.4231117299686
               ],
               [
                -73.6574132128538,
                45.4235151379827
               ],
               [
                -73.6590899773487,
                45.4245026614551
               ],
               [
                -73.6597563681528,
                45.4251856881017
               ],
               [
                -73.6622132461692,
                45.4263249714976
               ],
               [
                -73.6626617007921,
                45.4267473070838
               ],
               [
                -73.6639788872218,
                45.4270423138518
               ],
               [
                -73.665989308902,
                45.4284342302665
               ],
               [
                -73.6659361085031,
                45.4320787105657
               ],
               [
                -73.6621186235209,
                45.433443013701
               ],
               [
                -73.6593235959903,
                45.4348597630844
               ],
               [
                -73.6537698617598,
                45.4370900482024
               ],
               [
                -73.648051977364,
                45.4402561224796
               ],
               [
                -73.6470945537851,
                45.4407073290916
               ],
               [
                -73.6392793914912,
                45.4438396460105
               ],
               [
                -73.6351699979365,
                45.445393422083
               ],
               [
                -73.6348120456809,
                45.444546590121
               ],
               [
                -73.6334152486196,
                45.4438343169323
               ],
               [
                -73.6341339482992,
                45.4434436213567
               ],
               [
                -73.6319594346838,
                45.4420660970196
               ],
               [
                -73.6304212122284,
                45.4412800353944
               ],
               [
                -73.6292793360419,
                45.4422437520764
               ],
               [
                -73.6203669519898,
                45.4381561591494
               ],
               [
                -73.6185038157741,
                45.4371719975162
               ],
               [
                -73.6147722148194,
                45.4363801178349
               ],
               [
                -73.6153394945845,
                45.4349173246406
               ],
               [
                -73.6189096270924,
                45.431198716026
               ],
               [
                -73.6213932515199,
                45.4290799524068
               ],
               [
                -73.625860660556,
                45.4262630893683
               ],
               [
                -73.6235576102796,
                45.4251452650735
               ],
               [
                -73.6221765288238,
                45.4233556809216
               ],
               [
                -73.6269794842437,
                45.4219064890514
               ],
               [
                -73.629580513036,
                45.4205264796284
               ],
               [
                -73.630914321986,
                45.4207058504903
               ],
               [
                -73.6349821404871,
                45.4216213986168
               ],
               [
                -73.6378211847585,
                45.4157853047214
               ],
               [
                -73.6373466145775,
                45.4154299316521
               ]
              ]
             ],
             "type": "Polygon"
            },
            "id": "52-Cecil-P.-Newman",
            "properties": {},
            "type": "Feature"
           },
           {
            "bbox": [
             -73.9021261241608,
             45.4882449524107,
             -73.8550238065929,
             45.5209418712909
            ],
            "geometry": {
             "coordinates": [
              [
               [
                -73.8688974470136,
                45.4882449524107
               ],
               [
                -73.871602833053,
                45.4905720481716
               ],
               [
                -73.8694139090223,
                45.4919469541754
               ],
               [
                -73.870532930773,
                45.4928625205596
               ],
               [
                -73.8716913646707,
                45.4933306815312
               ],
               [
                -73.872233047857,
                45.4949468141821
               ],
               [
                -73.8714042058561,
                45.4965567000138
               ],
               [
                -73.872571305249,
                45.4969659674767
               ],
               [
                -73.871134091344,
                45.4990564163597
               ],
               [
                -73.8701130707197,
                45.5000549627491
               ],
               [
                -73.8690288298613,
                45.5007201896345
               ],
               [
                -73.8722903935919,
                45.503568954282
               ],
               [
                -73.8716174921312,
                45.5042888396132
               ],
               [
                -73.8756305607743,
                45.5078228770541
               ],
               [
                -73.8783878189261,
                45.5059406633388
               ],
               [
                -73.8803094438111,
                45.5042458334118
               ],
               [
                -73.8803341428118,
                45.5033993667444
               ],
               [
                -73.879759682167,
                45.5029518530572
               ],
               [
                -73.8770152857708,
                45.501806378212
               ],
               [
                -73.8789156358527,
                45.5017299402712
               ],
               [
                -73.879779371889,
                45.5004798588748
               ],
               [
                -73.8810568286333,
                45.4999384356033
               ],
               [
                -73.8830127770248,
                45.4996741535333
               ],
               [
                -73.884412047715,
                45.4990183531015
               ],
               [
                -73.8853262749786,
                45.4998100023704
               ],
               [
                -73.8840175555813,
                45.5020031308338
               ],
               [
                -73.8845885513537,
                45.503100834689
               ],
               [
                -73.8882584256138,
                45.5047130635017
               ],
               [
                -73.8902948397667,
                45.5048242389134
               ],
               [
                -73.8931298332185,
                45.5045492632818
               ],
               [
                -73.8938090092703,
                45.5051466368411
               ],
               [
                -73.8930883375795,
                45.5061095241892
               ],
               [
                -73.8912989165002,
                45.5060276552235
               ],
               [
                -73.8907763512179,
                45.5069642008183
               ],
               [
                -73.8894862335895,
                45.5075924382318
               ],
               [
                -73.8893630543063,
                45.5086347066791
               ],
               [
                -73.8880808924888,
                45.5083547817147
               ],
               [
                -73.8870687665439,
                45.5091995603904
               ],
               [
                -73.8852521620131,
                45.5102059725257
               ],
               [
                -73.8881290541888,
                45.5127359235277
               ],
               [
                -73.8890287067442,
                45.5122302528857
               ],
               [
                -73.8911436774502,
                45.5127840458479
               ],
               [
                -73.8937551506541,
                45.5125006850816
               ],
               [
                -73.8953141801776,
                45.5130744053201
               ],
               [
                -73.896331119406,
                45.5139759395892
               ],
               [
                -73.8972364759115,
                45.5131483697101
               ],
               [
                -73.8989649328704,
                45.5146837440746
               ],
               [
                -73.9002254469086,
                45.5131179581327
               ],
               [
                -73.9008379207362,
                45.5136630574361
               ],
               [
                -73.9005919569215,
                45.5144536068957
               ],
               [
                -73.9021261241608,
                45.5155955053506
               ],
               [
                -73.9009914493894,
                45.5161347116661
               ],
               [
                -73.9020712706953,
                45.5167877731109
               ],
               [
                -73.9020876361723,
                45.5172918560237
               ],
               [
                -73.8999623185899,
                45.5172091442281
               ],
               [
                -73.8983416967041,
                45.5160989860003
               ],
               [
                -73.8970501718221,
                45.5162744685233
               ],
               [
                -73.896506711813,
                45.5172571885447
               ],
               [
                -73.8931760247634,
                45.5179232635692
               ],
               [
                -73.8918830801879,
                45.5186858504077
               ],
               [
                -73.89060443538,
                45.5188882146005
               ],
               [
                -73.8899347125325,
                45.5182876407975
               ],
               [
                -73.8875283162043,
                45.5182958298662
               ],
               [
                -73.8871271342177,
                45.5195300009394
               ],
               [
                -73.8860195052025,
                45.5203975900766
               ],
               [
                -73.8849337116296,
                45.5207252282394
               ],
               [
                -73.8820294235971,
                45.5209418712909
               ],
               [
                -73.8801807487187,
                45.5201561927542
               ],
               [
                -73.8790398509879,
                45.5199080044884
               ],
               [
                -73.8757241818541,
                45.5198469639429
               ],
               [
                -73.8712540724591,
                45.51942970446
               ],
               [
                -73.8693729830596,
                45.5195167954401
               ],
               [
                -73.867959836772,
                45.5187475084215
               ],
               [
                -73.8660852612371,
                45.518916733747
               ],
               [
                -73.8650447273518,
                45.5192607308197
               ],
               [
                -73.8636752254303,
                45.5192742783684
               ],
               [
                -73.8642825006245,
                45.5181743422849
               ],
               [
                -73.8612862477059,
                45.5160062120045
               ],
               [
                -73.8573480782361,
                45.5146328898613
               ],
               [
                -73.8576368219668,
                45.5137501468995
               ],
               [
                -73.8563777974017,
                45.5129982318504
               ],
               [
                -73.8561039739004,
                45.5121981492155
               ],
               [
                -73.8550238065929,
                45.5113916654122
               ],
               [
                -73.8556577823538,
                45.5104448573143
               ],
               [
                -73.8585654378245,
                45.508816075481
               ],
               [
                -73.8591760216501,
                45.5082382022867
               ],
               [
                -73.8597941402612,
                45.5068235473577
               ],
               [
                -73.8595897032533,
                45.5048715239796
               ],
               [
                -73.8603509384135,
                45.5038432949756
               ],
               [
                -73.8628677193202,
                45.5031873776418
               ],
               [
                -73.8634772725348,
                45.5024655856932
               ],
               [
                -73.863229031203,
                45.4996768609889
               ],
               [
                -73.8624925888829,
                45.4985813745818
               ],
               [
                -73.8617450446894,
                45.4983353640287
               ],
               [
                -73.8610656712915,
                45.4975420638734
               ],
               [
                -73.8614902756333,
                45.4959120252572
               ],
               [
                -73.8631347750672,
                45.4949799702698
               ],
               [
                -73.8643010381037,
                45.4932934742402
               ],
               [
                -73.8637682240978,
                45.4920174491202
               ],
               [
                -73.8642488213344,
                45.4911520725992
               ],
               [
                -73.8664440380781,
                45.4903261139859
               ],
               [
                -73.8688974470136,
                45.4882449524107
               ]
              ]
             ],
             "type": "Polygon"
            },
            "id": "61-Pierre-Foretier",
            "properties": {},
            "type": "Feature"
           },
           {
            "bbox": [
             -73.9131442528934,
             45.4900124335721,
             -73.8690288298613,
             45.5156160928628
            ],
            "geometry": {
             "coordinates": [
              [
               [
                -73.871602833053,
                45.4905720481716
               ],
               [
                -73.8758099807102,
                45.4943016403121
               ],
               [
                -73.8832708288195,
                45.4900124335721
               ],
               [
                -73.893915982267,
                45.4991295138785
               ],
               [
                -73.8978204833524,
                45.5021042916793
               ],
               [
                -73.8993079427873,
                45.5021890950386
               ],
               [
                -73.901198690394,
                45.5019296796061
               ],
               [
                -73.9032166411352,
                45.5013944047771
               ],
               [
                -73.9072471667436,
                45.4990521662397
               ],
               [
                -73.9097687478128,
                45.498420306124
               ],
               [
                -73.910763113645,
                45.4979785583287
               ],
               [
                -73.9131442528934,
                45.5001505549281
               ],
               [
                -73.9117306033429,
                45.5014828251295
               ],
               [
                -73.9105682077776,
                45.502919788446
               ],
               [
                -73.9125029822642,
                45.5046603019441
               ],
               [
                -73.9125904080641,
                45.5059790139203
               ],
               [
                -73.9115367282405,
                45.5071346344323
               ],
               [
                -73.9098260610793,
                45.5077167397986
               ],
               [
                -73.9095376253027,
                45.5082630419981
               ],
               [
                -73.9075790301516,
                45.5084626314966
               ],
               [
                -73.9064637954127,
                45.5082146250766
               ],
               [
                -73.9052902228377,
                45.5087497533613
               ],
               [
                -73.9048304811418,
                45.5093648655927
               ],
               [
                -73.9028980165401,
                45.5106748854948
               ],
               [
                -73.9025706032313,
                45.513213659007
               ],
               [
                -73.9021033388663,
                45.5139081604197
               ],
               [
                -73.9026005080814,
                45.5156160928628
               ],
               [
                -73.9021261241608,
                45.5155955053506
               ],
               [
                -73.9005919569215,
                45.5144536068957
               ],
               [
                -73.9008379207362,
                45.5136630574361
               ],
               [
                -73.9002254469086,
                45.5131179581327
               ],
               [
                -73.8989649328704,
                45.5146837440746
               ],
               [
                -73.8972364759115,
                45.5131483697101
               ],
               [
                -73.896331119406,
                45.5139759395892
               ],
               [
                -73.8953141801776,
                45.5130744053201
               ],
               [
                -73.8937551506541,
                45.5125006850816
               ],
               [
                -73.8911436774502,
                45.5127840458479
               ],
               [
                -73.8890287067442,
                45.5122302528857
               ],
               [
                -73.8881290541888,
                45.5127359235277
               ],
               [
                -73.8852521620131,
                45.5102059725257
               ],
               [
                -73.8870687665439,
                45.5091995603904
               ],
               [
                -73.8880808924888,
                45.5083547817147
               ],
               [
                -73.8893630543063,
                45.5086347066791
               ],
               [
                -73.8894862335895,
                45.5075924382318
               ],
               [
                -73.8907763512179,
                45.5069642008183
               ],
               [
                -73.8912989165002,
                45.5060276552235
               ],
               [
                -73.8930883375795,
                45.5061095241892
               ],
               [
                -73.8938090092703,
                45.5051466368411
               ],
               [
                -73.8931298332185,
                45.5045492632818
               ],
               [
                -73.8902948397667,
                45.5048242389134
               ],
               [
                -73.8882584256138,
                45.5047130635017
               ],
               [
                -73.8845885513537,
                45.503100834689
               ],
               [
                -73.8840175555813,
                45.5020031308338
               ],
               [
                -73.8853262749786,
                45.4998100023704
               ],
               [
                -73.884412047715,
                45.4990183531015
               ],
               [
                -73.8830127770248,
                45.4996741535333
               ],
               [
                -73.8810568286333,
                45.4999384356033
               ],
               [
                -73.879779371889,
                45.5004798588748
               ],
               [
                -73.8789156358527,
                45.5017299402712
               ],
               [
                -73.8770152857708,
                45.501806378212
               ],
               [
                -73.879759682167,
                45.5029518530572
               ],
               [
                -73.8803341428118,
                45.5033993667444
               ],
               [
                -73.8803094438111,
                45.5042458334118
               ],
               [
                -73.8783878189261,
                45.5059406633388
               ],
               [
                -73.8756305607743,
                45.5078228770541
               ],
               [
                -73.8716174921312,
                45.5042888396132
               ],
               [
                -73.8722903935919,
                45.503568954282
               ],
               [
                -73.8690288298613,
                45.5007201896345
               ],
               [
                -73.8701130707197,
                45.5000549627491
               ],
               [
                -73.871134091344,
                45.4990564163597
               ],
               [
                -73.872571305249,
                45.4969659674767
               ],
               [
                -73.8714042058561,
                45.4965567000138
               ],
               [
                -73.872233047857,
                45.4949468141821
               ],
               [
                -73.8716913646707,
                45.4933306815312
               ],
               [
                -73.870532930773,
                45.4928625205596
               ],
               [
                -73.8694139090223,
                45.4919469541754
               ],
               [
                -73.871602833053,
                45.4905720481716
               ]
              ]
             ],
             "type": "Polygon"
            },
            "id": "62-Denis-Benjamin-Viger",
            "properties": {},
            "type": "Feature"
           },
           {
            "bbox": [
             -73.9443213415212,
             45.4677561646305,
             -73.8688974470136,
             45.5046603019441
            ],
            "geometry": {
             "coordinates": [
              [
               [
                [
                 -73.876179389015,
                 45.484463443982
                ],
                [
                 -73.8748623836763,
                 45.4845487678604
                ],
                [
                 -73.8746531555376,
                 45.4838655945021
                ],
                [
                 -73.8752754756586,
                 45.4831976914281
                ],
                [
                 -73.875332125701,
                 45.4820996763162
                ],
                [
                 -73.8773551113916,
                 45.4823719006883
                ],
                [
                 -73.8773585206136,
                 45.4838386904758
                ],
                [
                 -73.8770492982827,
                 45.4844695752153
                ],
                [
                 -73.876179389015,
                 45.484463443982
                ]
               ]
              ],
              [
               [
                [
                 -73.871602833053,
                 45.4905720481716
                ],
                [
                 -73.8688974470136,
                 45.4882449524107
                ],
                [
                 -73.8709851008353,
                 45.487059190004
                ],
                [
                 -73.8725145833884,
                 45.4854652904542
                ],
                [
                 -73.8761955543809,
                 45.4864641220707
                ],
                [
                 -73.8773897323982,
                 45.4856292741431
                ],
                [
                 -73.8778041545601,
                 45.4844850797772
                ],
                [
                 -73.8785921129696,
                 45.4837086183771
                ],
                [
                 -73.8781898959115,
                 45.4828731025615
                ],
                [
                 -73.8784365392884,
                 45.4814954771698
                ],
                [
                 -73.8796440398513,
                 45.4803396456993
                ],
                [
                 -73.8808564171004,
                 45.4799307290984
                ],
                [
                 -73.8818738698332,
                 45.4790634862107
                ],
                [
                 -73.8828567898793,
                 45.4787722169973
                ],
                [
                 -73.8847419788084,
                 45.4776140567433
                ],
                [
                 -73.8874400837697,
                 45.4756252617452
                ],
                [
                 -73.8890406450115,
                 45.4740361165489
                ],
                [
                 -73.8896093964888,
                 45.473044339843
                ],
                [
                 -73.8920158379205,
                 45.4714793088166
                ],
                [
                 -73.8939883829402,
                 45.4719134901468
                ],
                [
                 -73.8962921181107,
                 45.4721394139777
                ],
                [
                 -73.8981449394396,
                 45.4719079872095
                ],
                [
                 -73.8992850543273,
                 45.4721559893786
                ],
                [
                 -73.9014271769693,
                 45.4712486357827
                ],
                [
                 -73.9038056762196,
                 45.4712042547101
                ],
                [
                 -73.9051695937615,
                 45.4705605613393
                ],
                [
                 -73.9045774306121,
                 45.4700226989345
                ],
                [
                 -73.9028488295322,
                 45.4697318295333
                ],
                [
                 -73.9012801121118,
                 45.4703403082789
                ],
                [
                 -73.8996924472568,
                 45.4700938928558
                ],
                [
                 -73.8993825392247,
                 45.469663097207
                ],
                [
                 -73.8999775060713,
                 45.4688151666323
                ],
                [
                 -73.9017348723624,
                 45.4677561646305
                ],
                [
                 -73.9023924422294,
                 45.468509706018
                ],
                [
                 -73.9043441969034,
                 45.4696096448133
                ],
                [
                 -73.9084347070547,
                 45.4693341104744
                ],
                [
                 -73.9120964530199,
                 45.4682153872984
                ],
                [
                 -73.9126431874804,
                 45.4694449753644
                ],
                [
                 -73.9136278859403,
                 45.4694413239075
                ],
                [
                 -73.9154106009438,
                 45.4701278046013
                ],
                [
                 -73.9159006769417,
                 45.4706838913767
                ],
                [
                 -73.9168728992832,
                 45.4707163448971
                ],
                [
                 -73.9159791650457,
                 45.4726632836215
                ],
                [
                 -73.9164275963913,
                 45.4727606419858
                ],
                [
                 -73.9171840487468,
                 45.4712821683374
                ],
                [
                 -73.9179119052825,
                 45.4711355184565
                ],
                [
                 -73.9186742261816,
                 45.4721675623649
                ],
                [
                 -73.9196472003342,
                 45.4740176773167
                ],
                [
                 -73.9200930017441,
                 45.4737730563005
                ],
                [
                 -73.921822149022,
                 45.4741086594329
                ],
                [
                 -73.9226284972793,
                 45.4752714551831
                ],
                [
                 -73.924738453321,
                 45.4775172443067
                ],
                [
                 -73.9253150364798,
                 45.4776590879844
                ],
                [
                 -73.9266000233535,
                 45.476745452941
                ],
                [
                 -73.9277434225804,
                 45.477398128666
                ],
                [
                 -73.9295423138299,
                 45.4767974221727
                ],
                [
                 -73.9302919142255,
                 45.4778114366407
                ],
                [
                 -73.9314189351491,
                 45.4779961715469
                ],
                [
                 -73.9326541103686,
                 45.4772716425334
                ],
                [
                 -73.9335030743869,
                 45.4762245897937
                ],
                [
                 -73.9350412733002,
                 45.4766507100519
                ],
                [
                 -73.9370692452005,
                 45.4762391230436
                ],
                [
                 -73.9406266477915,
                 45.4761163385087
                ],
                [
                 -73.942911201225,
                 45.475477638423
                ],
                [
                 -73.9443213415212,
                 45.4758861323891
                ],
                [
                 -73.9441879968396,
                 45.4768134931837
                ],
                [
                 -73.9428248046939,
                 45.478697804247
                ],
                [
                 -73.9416119001885,
                 45.4794240216934
                ],
                [
                 -73.9405851561781,
                 45.4789960185208
                ],
                [
                 -73.9387460246999,
                 45.4793540720446
                ],
                [
                 -73.9383403023619,
                 45.4798235952081
                ],
                [
                 -73.9385185477879,
                 45.4813526185292
                ],
                [
                 -73.9403810268872,
                 45.4823442895009
                ],
                [
                 -73.9410419166311,
                 45.4834215699972
                ],
                [
                 -73.942256795601,
                 45.483380875313
                ],
                [
                 -73.9426871284147,
                 45.4827943413787
                ],
                [
                 -73.9436978356457,
                 45.482808418644
                ],
                [
                 -73.9433844250482,
                 45.4836104864635
                ],
                [
                 -73.9412104480622,
                 45.4837088979371
                ],
                [
                 -73.941186300091,
                 45.4855356756957
                ],
                [
                 -73.9409258043702,
                 45.4865805138247
                ],
                [
                 -73.940155183621,
                 45.4878253029672
                ],
                [
                 -73.9400375236355,
                 45.4891394779763
                ],
                [
                 -73.939084522942,
                 45.4899799926108
                ],
                [
                 -73.9355316222878,
                 45.4921352533586
                ],
                [
                 -73.9349775409211,
                 45.4932801876613
                ],
                [
                 -73.9328555975538,
                 45.4935401391563
                ],
                [
                 -73.9323151123675,
                 45.4931193083499
                ],
                [
                 -73.9298370141484,
                 45.4936595300698
                ],
                [
                 -73.9291104700923,
                 45.4940132354185
                ],
                [
                 -73.9270348943367,
                 45.4936430419454
                ],
                [
                 -73.925473026234,
                 45.4952145713303
                ],
                [
                 -73.9244092344479,
                 45.4966763272855
                ],
                [
                 -73.9244257212294,
                 45.4971711381462
                ],
                [
                 -73.9233876507023,
                 45.4982360094313
                ],
                [
                 -73.9226520258841,
                 45.4995263547275
                ],
                [
                 -73.9218373692027,
                 45.5000962326717
                ],
                [
                 -73.9209670436555,
                 45.5000814447197
                ],
                [
                 -73.918541557808,
                 45.5008552086516
                ],
                [
                 -73.9174837992266,
                 45.5014440345453
                ],
                [
                 -73.9145252844175,
                 45.5010948373465
                ],
                [
                 -73.9134946418312,
                 45.5018904208046
                ],
                [
                 -73.9127623770829,
                 45.5032518742003
                ],
                [
                 -73.9125029822642,
                 45.5046603019441
                ],
                [
                 -73.9105682077776,
                 45.502919788446
                ],
                [
                 -73.9117306033429,
                 45.5014828251295
                ],
                [
                 -73.9131442528934,
                 45.5001505549281
                ],
                [
                 -73.910763113645,
                 45.4979785583287
                ],
                [
                 -73.9097687478128,
                 45.498420306124
                ],
                [
                 -73.9072471667436,
                 45.4990521662397
                ],
                [
                 -73.9032166411352,
                 45.5013944047771
                ],
                [
                 -73.901198690394,
                 45.5019296796061
                ],
                [
                 -73.8993079427873,
                 45.5021890950386
                ],
                [
                 -73.8978204833524,
                 45.5021042916793
                ],
                [
                 -73.893915982267,
                 45.4991295138785
                ],
                [
                 -73.8832708288195,
                 45.4900124335721
                ],
                [
                 -73.8758099807102,
                 45.4943016403121
                ],
                [
                 -73.871602833053,
                 45.4905720481716
                ]
               ]
              ]
             ],
             "type": "MultiPolygon"
            },
            "id": "63-Jacques-Bizard",
            "properties": {},
            "type": "Feature"
           },
           {
            "bbox": [
             -73.8795251463835,
             45.4705088548296,
             -73.8587614558506,
             45.4911097682054
            ],
            "geometry": {
             "coordinates": [
              [
               [
                [
                 -73.8795251463835,
                 45.4721694456373
                ],
                [
                 -73.8770259047514,
                 45.4733055656905
                ],
                [
                 -73.8771362722445,
                 45.474146820144
                ],
                [
                 -73.8758315302677,
                 45.4744852213893
                ],
                [
                 -73.8761694823241,
                 45.475285050858
                ],
                [
                 -73.8753710533004,
                 45.4763945070991
                ],
                [
                 -73.8754013038998,
                 45.4771052655959
                ],
                [
                 -73.8745581040502,
                 45.4791867014648
                ],
                [
                 -73.873401680597,
                 45.4803243146019
                ],
                [
                 -73.8714778204625,
                 45.4814913213621
                ],
                [
                 -73.8706822810873,
                 45.4830686993857
                ],
                [
                 -73.8688129680033,
                 45.4847754445001
                ],
                [
                 -73.8690502967072,
                 45.4858455083571
                ],
                [
                 -73.8658510539776,
                 45.4876644845598
                ],
                [
                 -73.8647484711707,
                 45.4872900384824
                ],
                [
                 -73.8624368975074,
                 45.4879093508046
                ],
                [
                 -73.8598077012489,
                 45.4888850004049
                ],
                [
                 -73.8587614558506,
                 45.4873090890375
                ],
                [
                 -73.8613316931676,
                 45.4851413285652
                ],
                [
                 -73.8624629228902,
                 45.4840039194648
                ],
                [
                 -73.8650419471552,
                 45.4821657726431
                ],
                [
                 -73.8728715855598,
                 45.4756017517064
                ],
                [
                 -73.871209821762,
                 45.4733162451191
                ],
                [
                 -73.8733213850942,
                 45.4725990666647
                ],
                [
                 -73.8782862116718,
                 45.4705088548296
                ],
                [
                 -73.8795251463835,
                 45.4721694456373
                ]
               ]
              ],
              [
               [
                [
                 -73.8598857733827,
                 45.4911029074784
                ],
                [
                 -73.8591675296752,
                 45.4908171897388
                ],
                [
                 -73.8600571674373,
                 45.4898965476815
                ],
                [
                 -73.8612991016732,
                 45.4900456152652
                ],
                [
                 -73.8605639387492,
                 45.4911097682054
                ],
                [
                 -73.8598857733827,
                 45.4911029074784
                ]
               ]
              ]
             ],
             "type": "MultiPolygon"
            },
            "id": "64-Sainte-Geneviève",
            "properties": {},
            "type": "Feature"
           },
           {
            "bbox": [
             -73.5462767505068,
             45.5915064148139,
             -73.505845657669,
             45.6160673327401
            ],
            "geometry": {
             "coordinates": [
              [
               [
                -73.505845657669,
                45.5915064148139
               ],
               [
                -73.5103359282538,
                45.5921124591547
               ],
               [
                -73.5206880075519,
                45.5952083313336
               ],
               [
                -73.5204207506441,
                45.5957326455424
               ],
               [
                -73.5227698757162,
                45.5964405193219
               ],
               [
                -73.5231408135446,
                45.5957591991736
               ],
               [
                -73.533521772969,
                45.5988762603839
               ],
               [
                -73.5369160899836,
                45.5931626565659
               ],
               [
                -73.5411715382662,
                45.5939767034301
               ],
               [
                -73.5423606148624,
                45.5943108573749
               ],
               [
                -73.5455045323429,
                45.5956272275911
               ],
               [
                -73.5452799498143,
                45.5959627917351
               ],
               [
                -73.5438572127564,
                45.5980784963673
               ],
               [
                -73.5442050076359,
                45.5981948225546
               ],
               [
                -73.5445859643042,
                45.5999308464328
               ],
               [
                -73.5451108447268,
                45.6000061818095
               ],
               [
                -73.5447576674512,
                45.6019410417126
               ],
               [
                -73.5407418924341,
                45.6006998521118
               ],
               [
                -73.539729971205,
                45.6018186221009
               ],
               [
                -73.5429289535666,
                45.6032316351511
               ],
               [
                -73.5421763850909,
                45.6042454438226
               ],
               [
                -73.5394321608651,
                45.6030910243993
               ],
               [
                -73.5365958888719,
                45.602162446611
               ],
               [
                -73.5365038947396,
                45.6026457300995
               ],
               [
                -73.5375401492111,
                45.6052359766051
               ],
               [
                -73.5416213388458,
                45.606939681157
               ],
               [
                -73.540900931842,
                45.6078533012629
               ],
               [
                -73.5416434070878,
                45.6081797015109
               ],
               [
                -73.5412098839782,
                45.6095033241271
               ],
               [
                -73.5441363974969,
                45.6102716461918
               ],
               [
                -73.5453373826653,
                45.6107633861198
               ],
               [
                -73.5444977198785,
                45.6121760838565
               ],
               [
                -73.5462767505068,
                45.6127238289344
               ],
               [
                -73.5452777806501,
                45.6141657083913
               ],
               [
                -73.5437218072693,
                45.6149096422408
               ],
               [
                -73.5381703589619,
                45.6139517855176
               ],
               [
                -73.5375256945614,
                45.6160673327401
               ],
               [
                -73.5252332402243,
                45.6137951013372
               ],
               [
                -73.5145702896503,
                45.6119902043961
               ],
               [
                -73.5073926872162,
                45.6107104987953
               ],
               [
                -73.507104042043,
                45.6103305736701
               ],
               [
                -73.5088445389914,
                45.6059056683277
               ],
               [
                -73.5094016237031,
                45.6029289790696
               ],
               [
                -73.5089844073373,
                45.5984312397903
               ],
               [
                -73.5085623510741,
                45.5964354408978
               ],
               [
                -73.5073994472774,
                45.5937585441643
               ],
               [
                -73.505845657669,
                45.5915064148139
               ]
              ]
             ],
             "type": "Polygon"
            },
            "id": "71-Tétreaultville",
            "properties": {},
            "type": "Feature"
           },
           {
            "bbox": [
             -73.5486183023616,
             45.549446926412,
             -73.5040074172822,
             45.5988762603839
            ],
            "geometry": {
             "coordinates": [
              [
               [
                -73.505845657669,
                45.5915064148139
               ],
               [
                -73.5052335547608,
                45.5914035841385
               ],
               [
                -73.5040074172822,
                45.5877509637108
               ],
               [
                -73.50548477383,
                45.5842108995057
               ],
               [
                -73.5046727489859,
                45.5839523001102
               ],
               [
                -73.5060139625714,
                45.5806625893987
               ],
               [
                -73.5058561540639,
                45.5806068926751
               ],
               [
                -73.5091666956111,
                45.5757730349861
               ],
               [
                -73.5141197194594,
                45.5708695926608
               ],
               [
                -73.5190039768335,
                45.5682773867463
               ],
               [
                -73.5197939453882,
                45.5669670591355
               ],
               [
                -73.5180270972663,
                45.5661485153046
               ],
               [
                -73.5253430489297,
                45.5574887203531
               ],
               [
                -73.5250635489053,
                45.5568993328574
               ],
               [
                -73.5236813870747,
                45.5568097261785
               ],
               [
                -73.521480081669,
                45.5591100901826
               ],
               [
                -73.5209547766993,
                45.5588573091504
               ],
               [
                -73.5218702090576,
                45.5578763137034
               ],
               [
                -73.5209413390244,
                45.5570999459563
               ],
               [
                -73.5191167026398,
                45.5588496230043
               ],
               [
                -73.518595216105,
                45.5586040300451
               ],
               [
                -73.522051635704,
                45.5552304196808
               ],
               [
                -73.5269225613603,
                45.549446926412
               ],
               [
                -73.5335765932332,
                45.5515757481653
               ],
               [
                -73.5389816134656,
                45.5533773670715
               ],
               [
                -73.5382239872366,
                45.5549283797349
               ],
               [
                -73.5486183023616,
                45.5582491708623
               ],
               [
                -73.5460296824187,
                45.562265422129
               ],
               [
                -73.5459659905086,
                45.5625254142127
               ],
               [
                -73.5456328946765,
                45.5629337545645
               ],
               [
                -73.5413632157982,
                45.5709610549351
               ],
               [
                -73.5386884000436,
                45.5749269433291
               ],
               [
                -73.5320531965098,
                45.5852349268307
               ],
               [
                -73.540035463506,
                45.5878529169711
               ],
               [
                -73.5369160899836,
                45.5931626565659
               ],
               [
                -73.533521772969,
                45.5988762603839
               ],
               [
                -73.5231408135446,
                45.5957591991736
               ],
               [
                -73.5227698757162,
                45.5964405193219
               ],
               [
                -73.5204207506441,
                45.5957326455424
               ],
               [
                -73.5206880075519,
                45.5952083313336
               ],
               [
                -73.5103359282538,
                45.5921124591547
               ],
               [
                -73.505845657669,
                45.5915064148139
               ]
              ]
             ],
             "type": "Polygon"
            },
            "id": "72-MaisonneuveLongue-Pointe",
            "properties": {},
            "type": "Feature"
           },
           {
            "bbox": [
             -73.5592280432661,
             45.529933001055,
             -73.5269225613603,
             45.5652953442798
            ],
            "geometry": {
             "coordinates": [
              [
               [
                -73.5269225613603,
                45.549446926412
               ],
               [
                -73.5289560474797,
                45.5470320263359
               ],
               [
                -73.5277739913219,
                45.547187016061
               ],
               [
                -73.5277290513663,
                45.5464490003045
               ],
               [
                -73.5313590128093,
                45.5457750092113
               ],
               [
                -73.5321039500724,
                45.5447229718789
               ],
               [
                -73.5291969726971,
                45.5451540050291
               ],
               [
                -73.5296700173696,
                45.5442239930694
               ],
               [
                -73.5329650126455,
                45.5436089818848
               ],
               [
                -73.5339429567644,
                45.5424780308809
               ],
               [
                -73.5315039994787,
                45.5426720333775
               ],
               [
                -73.5316359736222,
                45.5420080334177
               ],
               [
                -73.5344850464319,
                45.5413149877237
               ],
               [
                -73.5404589754615,
                45.5356759920904
               ],
               [
                -73.5417879567955,
                45.529933001055
               ],
               [
                -73.5428587889529,
                45.5304546205586
               ],
               [
                -73.5439636509721,
                45.5334697006227
               ],
               [
                -73.5473499781753,
                45.5376709059424
               ],
               [
                -73.5482541001656,
                45.5383569002539
               ],
               [
                -73.550216365092,
                45.5389758922042
               ],
               [
                -73.5592280432661,
                45.5399028690768
               ],
               [
                -73.5552605710227,
                45.5474166761255
               ],
               [
                -73.5545655421497,
                45.55467023726
               ],
               [
                -73.5542787320438,
                45.5568764086233
               ],
               [
                -73.5546496932451,
                45.5649641797921
               ],
               [
                -73.5544730757919,
                45.5652953442798
               ],
               [
                -73.5459659905086,
                45.5625254142127
               ],
               [
                -73.5460296824187,
                45.562265422129
               ],
               [
                -73.5486183023616,
                45.5582491708623
               ],
               [
                -73.5382239872366,
                45.5549283797349
               ],
               [
                -73.5389816134656,
                45.5533773670715
               ],
               [
                -73.5335765932332,
                45.5515757481653
               ],
               [
                -73.5269225613603,
                45.549446926412
               ]
              ]
             ],
             "type": "Polygon"
            },
            "id": "73-Hochelaga",
            "properties": {},
            "type": "Feature"
           },
           {
            "bbox": [
             -73.5696609688417,
             45.5625254142127,
             -73.5320531965098,
             45.5971486400825
            ],
            "geometry": {
             "coordinates": [
              [
               [
                -73.5455045323429,
                45.5956272275911
               ],
               [
                -73.5423606148624,
                45.5943108573749
               ],
               [
                -73.5411715382662,
                45.5939767034301
               ],
               [
                -73.5369160899836,
                45.5931626565659
               ],
               [
                -73.540035463506,
                45.5878529169711
               ],
               [
                -73.5320531965098,
                45.5852349268307
               ],
               [
                -73.5386884000436,
                45.5749269433291
               ],
               [
                -73.5413632157982,
                45.5709610549351
               ],
               [
                -73.5456328946765,
                45.5629337545645
               ],
               [
                -73.5459659905086,
                45.5625254142127
               ],
               [
                -73.5544730757919,
                45.5652953442798
               ],
               [
                -73.5489772535198,
                45.5734435433853
               ],
               [
                -73.5557298683366,
                45.5757065336466
               ],
               [
                -73.5584435150771,
                45.578098690279
               ],
               [
                -73.5683754804235,
                45.5814045757918
               ],
               [
                -73.5648413846768,
                45.5830623920281
               ],
               [
                -73.566054883333,
                45.5843176844033
               ],
               [
                -73.563949176176,
                45.5849798671748
               ],
               [
                -73.5642198577817,
                45.5854079588427
               ],
               [
                -73.5642246834943,
                45.5872483268508
               ],
               [
                -73.5663609324088,
                45.5883396268265
               ],
               [
                -73.5686767639537,
                45.5922969983003
               ],
               [
                -73.5690474086577,
                45.5937353194892
               ],
               [
                -73.5687432258054,
                45.5949521683749
               ],
               [
                -73.5696609688417,
                45.5965806032278
               ],
               [
                -73.5694206600629,
                45.5971486400825
               ],
               [
                -73.5576871015794,
                45.5932166140624
               ],
               [
                -73.5489394765731,
                45.5903029802044
               ],
               [
                -73.5465394629102,
                45.5940712033384
               ],
               [
                -73.5481396292151,
                45.5946360429193
               ],
               [
                -73.5473484500099,
                45.5955355370728
               ],
               [
                -73.545930102715,
                45.5949937733284
               ],
               [
                -73.5455045323429,
                45.5956272275911
               ]
              ]
             ],
             "type": "Polygon"
            },
            "id": "74-Louis-Riel",
            "properties": {},
            "type": "Feature"
           },
           {
            "bbox": [
             -73.6543058972308,
             45.5759177646435,
             -73.6202427208594,
             45.6122509805631
            ],
            "geometry": {
             "coordinates": [
              [
               [
                -73.6202427208594,
                45.5951205335532
               ],
               [
                -73.6296215435427,
                45.5838130726522
               ],
               [
                -73.6288186186035,
                45.5832571469721
               ],
               [
                -73.631962332515,
                45.579640175342
               ],
               [
                -73.6327012962769,
                45.5799802985646
               ],
               [
                -73.6363215300962,
                45.5759177646435
               ],
               [
                -73.652557313063,
                45.5826892716542
               ],
               [
                -73.6543058972308,
                45.5836262624158
               ],
               [
                -73.6531900096361,
                45.5859698880497
               ],
               [
                -73.6526947978849,
                45.5876532157306
               ],
               [
                -73.6523937374702,
                45.5900742122073
               ],
               [
                -73.6505401287885,
                45.5918403260598
               ],
               [
                -73.6490983475598,
                45.5943078055034
               ],
               [
                -73.646028354957,
                45.5966872776611
               ],
               [
                -73.6450204850692,
                45.598497300652
               ],
               [
                -73.6434244270991,
                45.6009558130627
               ],
               [
                -73.6432738605823,
                45.6022427894953
               ],
               [
                -73.6418446065649,
                45.6048360555341
               ],
               [
                -73.6415278334524,
                45.606276219979
               ],
               [
                -73.6400469319338,
                45.6087976232294
               ],
               [
                -73.6388534618155,
                45.6101933725153
               ],
               [
                -73.6374274156649,
                45.6122509805631
               ],
               [
                -73.6349651825723,
                45.6101401159366
               ],
               [
                -73.6284179810453,
                45.603912893307
               ],
               [
                -73.6227414555439,
                45.5985713755102
               ],
               [
                -73.6209924104659,
                45.5968531497608
               ],
               [
                -73.6216736698201,
                45.5964861898013
               ],
               [
                -73.6202427208594,
                45.5951205335532
               ]
              ]
             ],
             "type": "Polygon"
            },
            "id": "81-Marie-Clarac",
            "properties": {},
            "type": "Feature"
           },
           {
            "bbox": [
             -73.6374274156649,
             45.5951205335532,
             -73.601559767966,
             45.6298453145986
            ],
            "geometry": {
             "coordinates": [
              [
               [
                -73.6028907661658,
                45.6112216102358
               ],
               [
                -73.6041139394664,
                45.6106174089674
               ],
               [
                -73.6035616092243,
                45.6101078733853
               ],
               [
                -73.6048043091085,
                45.6094292879636
               ],
               [
                -73.6062298901187,
                45.610759685103
               ],
               [
                -73.6079197060538,
                45.6094530924621
               ],
               [
                -73.6092890313816,
                45.6081470965116
               ],
               [
                -73.6125635803426,
                45.604373796832
               ],
               [
                -73.61467650443,
                45.601820884038
               ],
               [
                -73.6202427208594,
                45.5951205335532
               ],
               [
                -73.6216736698201,
                45.5964861898013
               ],
               [
                -73.6209924104659,
                45.5968531497608
               ],
               [
                -73.6227414555439,
                45.5985713755102
               ],
               [
                -73.6284179810453,
                45.603912893307
               ],
               [
                -73.6349651825723,
                45.6101401159366
               ],
               [
                -73.6374274156649,
                45.6122509805631
               ],
               [
                -73.6357315212,
                45.6162353900055
               ],
               [
                -73.6334060135125,
                45.6196665233391
               ],
               [
                -73.6310514588113,
                45.6217838603777
               ],
               [
                -73.6289543944547,
                45.6234221648674
               ],
               [
                -73.6269636907653,
                45.6247707822286
               ],
               [
                -73.6250472436735,
                45.6262897836938
               ],
               [
                -73.6235959602566,
                45.6271766849645
               ],
               [
                -73.6206953088035,
                45.6298453145986
               ],
               [
                -73.6168081007299,
                45.6262083345707
               ],
               [
                -73.6071490341973,
                45.6170493269392
               ],
               [
                -73.6023660828945,
                45.6125718329314
               ],
               [
                -73.601559767966,
                45.6118073578371
               ],
               [
                -73.6028907661658,
                45.6112216102358
               ]
              ]
             ],
             "type": "Polygon"
            },
            "id": "82-Ovide-Clermont",
            "properties": {},
            "type": "Feature"
           },
           {
            "bbox": [
             -73.613010925262,
             45.5160358124743,
             -73.5966746401772,
             45.5249602486287
            ],
            "geometry": {
             "coordinates": [
              [
               [
                -73.5989854515795,
                45.5160358124743
               ],
               [
                -73.5986563507028,
                45.5163499572059
               ],
               [
                -73.601437737118,
                45.5176238014654
               ],
               [
                -73.6020308024605,
                45.5177034122021
               ],
               [
                -73.613010925262,
                45.5225880512056
               ],
               [
                -73.6108850612038,
                45.5249602486287
               ],
               [
                -73.5966746401772,
                45.5186407402299
               ],
               [
                -73.5982202946245,
                45.5169177573452
               ],
               [
                -73.5969109664106,
                45.5161364855643
               ],
               [
                -73.5989854515795,
                45.5160358124743
               ]
              ]
             ],
             "type": "Polygon"
            },
            "id": "91-Claude-Ryan",
            "properties": {},
            "type": "Feature"
           },
           {
            "bbox": [
             -73.6253373412254,
             45.5146703511952,
             -73.5986563507028,
             45.5277835686717
            ],
            "geometry": {
             "coordinates": [
              [
               [
                -73.5989854515795,
                45.5160358124743
               ],
               [
                -73.6044730454934,
                45.5155769251068
               ],
               [
                -73.6089843852315,
                45.5146703511952
               ],
               [
                -73.6091799069916,
                45.5148927825
               ],
               [
                -73.6186655613026,
                45.5191467549529
               ],
               [
                -73.6148105187034,
                45.5234843904785
               ],
               [
                -73.6155485100061,
                45.52374152426
               ],
               [
                -73.6253373412254,
                45.518414467689
               ],
               [
                -73.6244833769123,
                45.5195443162251
               ],
               [
                -73.6208637881685,
                45.5236565043515
               ],
               [
                -73.617235572865,
                45.5277835686717
               ],
               [
                -73.6170925681517,
                45.5277209056734
               ],
               [
                -73.6124143323658,
                45.525647330045
               ],
               [
                -73.6108850612038,
                45.5249602486287
               ],
               [
                -73.613010925262,
                45.5225880512056
               ],
               [
                -73.6020308024605,
                45.5177034122021
               ],
               [
                -73.601437737118,
                45.5176238014654
               ],
               [
                -73.5986563507028,
                45.5163499572059
               ],
               [
                -73.5989854515795,
                45.5160358124743
               ]
              ]
             ],
             "type": "Polygon"
            },
            "id": "92-Joseph-Beaubien",
            "properties": {},
            "type": "Feature"
           },
           {
            "bbox": [
             -73.6189454361275,
             45.504064067218,
             -73.5902604532774,
             45.5186407402299
            ],
            "geometry": {
             "coordinates": [
              [
               [
                -73.5956108742759,
                45.504064067218
               ],
               [
                -73.5987846893921,
                45.5056180649425
               ],
               [
                -73.5993805679324,
                45.5053898653966
               ],
               [
                -73.6024762927983,
                45.5068574351344
               ],
               [
                -73.6035337540631,
                45.5057001623398
               ],
               [
                -73.6061344132343,
                45.5068772235294
               ],
               [
                -73.6063535452531,
                45.5074911306599
               ],
               [
                -73.6130513861854,
                45.5104478685544
               ],
               [
                -73.6182356279483,
                45.504722156916
               ],
               [
                -73.6189454361275,
                45.5051234940594
               ],
               [
                -73.6160933747766,
                45.5082725969653
               ],
               [
                -73.6178928803835,
                45.5091750557282
               ],
               [
                -73.6169256431203,
                45.5102737338336
               ],
               [
                -73.61888001694,
                45.5111346532789
               ],
               [
                -73.617959519301,
                45.5121686212918
               ],
               [
                -73.6171142113946,
                45.5117885655948
               ],
               [
                -73.6163442345691,
                45.5125462730753
               ],
               [
                -73.615038686563,
                45.511951761593
               ],
               [
                -73.6111115129373,
                45.5140796366228
               ],
               [
                -73.6089843852315,
                45.5146703511952
               ],
               [
                -73.6044730454934,
                45.5155769251068
               ],
               [
                -73.5989854515795,
                45.5160358124743
               ],
               [
                -73.5969109664106,
                45.5161364855643
               ],
               [
                -73.5982202946245,
                45.5169177573452
               ],
               [
                -73.5966746401772,
                45.5186407402299
               ],
               [
                -73.5902604532774,
                45.5157813641729
               ],
               [
                -73.5911992183544,
                45.5147110287094
               ],
               [
                -73.5918451342772,
                45.5144729450241
               ],
               [
                -73.5968586638591,
                45.5145623065118
               ],
               [
                -73.5978614314752,
                45.5141637733071
               ],
               [
                -73.598896296438,
                45.5131127563816
               ],
               [
                -73.5969405107098,
                45.5130415385056
               ],
               [
                -73.5969012890154,
                45.5117790625741
               ],
               [
                -73.5949672180747,
                45.5109069459258
               ],
               [
                -73.5935088435771,
                45.5105257693584
               ],
               [
                -73.594191031848,
                45.5097864575692
               ],
               [
                -73.591464574106,
                45.508070751295
               ],
               [
                -73.5956108742759,
                45.504064067218
               ]
              ]
             ],
             "type": "Polygon"
            },
            "id": "93-Robert-Bourassa",
            "properties": {},
            "type": "Feature"
           },
           {
            "bbox": [
             -73.6267223236567,
             45.5117885655948,
             -73.6089843852315,
             45.52374152426
            ],
            "geometry": {
             "coordinates": [
              [
               [
                -73.617959519301,
                45.5121686212918
               ],
               [
                -73.6176645335398,
                45.5125000231349
               ],
               [
                -73.6207592308166,
                45.5138993727882
               ],
               [
                -73.6267223236567,
                45.5165801475772
               ],
               [
                -73.6253373412254,
                45.518414467689
               ],
               [
                -73.6155485100061,
                45.52374152426
               ],
               [
                -73.6148105187034,
                45.5234843904785
               ],
               [
                -73.6186655613026,
                45.5191467549529
               ],
               [
                -73.6091799069916,
                45.5148927825
               ],
               [
                -73.6089843852315,
                45.5146703511952
               ],
               [
                -73.6111115129373,
                45.5140796366228
               ],
               [
                -73.615038686563,
                45.511951761593
               ],
               [
                -73.6163442345691,
                45.5125462730753
               ],
               [
                -73.6171142113946,
                45.5117885655948
               ],
               [
                -73.617959519301,
                45.5121686212918
               ]
              ]
             ],
             "type": "Polygon"
            },
            "id": "94-Jeanne-Sauvé",
            "properties": {},
            "type": "Feature"
           },
           {
            "bbox": [
             -73.8558121436329,
             45.488985999861,
             -73.7516832079437,
             45.5171016749459
            ],
            "geometry": {
             "coordinates": [
              [
               [
                [
                 -73.8187679895316,
                 45.5140812084438
                ],
                [
                 -73.8182383369059,
                 45.5132188436317
                ],
                [
                 -73.8194262685108,
                 45.5128016511853
                ],
                [
                 -73.8210527525633,
                 45.5129859861948
                ],
                [
                 -73.8211602697308,
                 45.5138855228726
                ],
                [
                 -73.8187679895316,
                 45.5140812084438
                ]
               ]
              ],
              [
               [
                [
                 -73.7612752776246,
                 45.5104175090183
                ],
                [
                 -73.7551669017747,
                 45.5064862077527
                ],
                [
                 -73.7550630650544,
                 45.5065238038199
                ],
                [
                 -73.7516832079437,
                 45.5044227485347
                ],
                [
                 -73.7530750881715,
                 45.5037537247243
                ],
                [
                 -73.7547114610262,
                 45.5033812068779
                ],
                [
                 -73.756652358581,
                 45.5024589334263
                ],
                [
                 -73.7582371682807,
                 45.5020414841587
                ],
                [
                 -73.7594306007504,
                 45.5027766325504
                ],
                [
                 -73.7609994664832,
                 45.5016752336666
                ],
                [
                 -73.7638615520544,
                 45.5034953365559
                ],
                [
                 -73.764601206777,
                 45.5029446682134
                ],
                [
                 -73.7653841918245,
                 45.5034648112556
                ],
                [
                 -73.7671979733428,
                 45.5027497284985
                ],
                [
                 -73.7692002551043,
                 45.5040137486001
                ],
                [
                 -73.7709616412032,
                 45.5034073001873
                ],
                [
                 -73.7725018897261,
                 45.5025715611262
                ],
                [
                 -73.770851931212,
                 45.5015263075263
                ],
                [
                 -73.7738796981111,
                 45.5005112554049
                ],
                [
                 -73.7716579558132,
                 45.4991257181769
                ],
                [
                 -73.7735738316828,
                 45.4981363521851
                ],
                [
                 -73.7779880975343,
                 45.5009521734749
                ],
                [
                 -73.780555316633,
                 45.4997211145292
                ],
                [
                 -73.7811328878805,
                 45.5000886664279
                ],
                [
                 -73.7828691809435,
                 45.4992834417083
                ],
                [
                 -73.7866716942594,
                 45.5016560785918
                ],
                [
                 -73.7833876826593,
                 45.5031694957223
                ],
                [
                 -73.7921892811359,
                 45.505162983993
                ],
                [
                 -73.790378705595,
                 45.5039707845666
                ],
                [
                 -73.7971312330344,
                 45.5007319392105
                ],
                [
                 -73.800845778582,
                 45.4990215282087
                ],
                [
                 -73.8020719362353,
                 45.500313400533
                ],
                [
                 -73.8090622022287,
                 45.4969839281454
                ],
                [
                 -73.8103152495861,
                 45.4968275421823
                ],
                [
                 -73.8148195197041,
                 45.5014854076037
                ],
                [
                 -73.814130519647,
                 45.5018291882481
                ],
                [
                 -73.8151983502239,
                 45.5028700758232
                ],
                [
                 -73.8158749418108,
                 45.5025712297953
                ],
                [
                 -73.8192989400152,
                 45.5061341618076
                ],
                [
                 -73.8239273064692,
                 45.5039359215182
                ],
                [
                 -73.8260247686459,
                 45.5028472072531
                ],
                [
                 -73.8336495886976,
                 45.4992478732958
                ],
                [
                 -73.8354476552771,
                 45.4983089444422
                ],
                [
                 -73.835851882975,
                 45.4987134333303
                ],
                [
                 -73.8376510464643,
                 45.4977036685397
                ],
                [
                 -73.8352748755507,
                 45.4946201233283
                ],
                [
                 -73.8359064469498,
                 45.4941865754856
                ],
                [
                 -73.8445138674112,
                 45.4899447538175
                ],
                [
                 -73.8461670237813,
                 45.488985999861
                ],
                [
                 -73.8503699985263,
                 45.4936842455575
                ],
                [
                 -73.853113099403,
                 45.4984292547447
                ],
                [
                 -73.8558121436329,
                 45.5017030001578
                ],
                [
                 -73.8554973469563,
                 45.506068266442
                ],
                [
                 -73.8541507320505,
                 45.5071387755787
                ],
                [
                 -73.8547842282295,
                 45.5078848003326
                ],
                [
                 -73.8541503989792,
                 45.5088568468323
                ],
                [
                 -73.8514364847285,
                 45.5107998956924
                ],
                [
                 -73.8509728924279,
                 45.5113681864054
                ],
                [
                 -73.8497265304179,
                 45.5116149897809
                ],
                [
                 -73.8487575861648,
                 45.5122208147549
                ],
                [
                 -73.8486390859537,
                 45.5137509650076
                ],
                [
                 -73.8470767467479,
                 45.515690388096
                ],
                [
                 -73.8459043806884,
                 45.5165397868316
                ],
                [
                 -73.8447612809957,
                 45.5165252439303
                ],
                [
                 -73.8416070645454,
                 45.5171016749459
                ],
                [
                 -73.8379192636275,
                 45.5168516646645
                ],
                [
                 -73.8362532214568,
                 45.51650560879
                ],
                [
                 -73.8321180123678,
                 45.5163557197529
                ],
                [
                 -73.8313656471532,
                 45.5168348664122
                ],
                [
                 -73.8297408583824,
                 45.5169655584571
                ],
                [
                 -73.8282028168338,
                 45.5166190156169
                ],
                [
                 -73.8268661171387,
                 45.5156510162477
                ],
                [
                 -73.8250222653614,
                 45.5155213777536
                ],
                [
                 -73.8246734151281,
                 45.5149644141917
                ],
                [
                 -73.8233629812572,
                 45.5141042906802
                ],
                [
                 -73.8234733111558,
                 45.5132581353231
                ],
                [
                 -73.8218473252627,
                 45.5131637356642
                ],
                [
                 -73.8209366065744,
                 45.5128154164364
                ],
                [
                 -73.8192176588039,
                 45.5126139694502
                ],
                [
                 -73.8179057909873,
                 45.5132557668608
                ],
                [
                 -73.8178065811604,
                 45.5138229980126
                ],
                [
                 -73.8160507514445,
                 45.5154287971508
                ],
                [
                 -73.814770537422,
                 45.5156310808765
                ],
                [
                 -73.8131059190362,
                 45.5155096653326
                ],
                [
                 -73.810217503155,
                 45.5162914840575
                ],
                [
                 -73.8084551833961,
                 45.5162217432523
                ],
                [
                 -73.8064888710304,
                 45.5155636081875
                ],
                [
                 -73.8057027099487,
                 45.5147919349551
                ],
                [
                 -73.8040410010469,
                 45.5149672884696
                ],
                [
                 -73.801546777817,
                 45.5149829442516
                ],
                [
                 -73.8001619454196,
                 45.5148065602758
                ],
                [
                 -73.7995790764703,
                 45.5135123735559
                ],
                [
                 -73.7995988098213,
                 45.5123965010493
                ],
                [
                 -73.7992059489796,
                 45.5107148435346
                ],
                [
                 -73.7978204799485,
                 45.5101065121228
                ],
                [
                 -73.7969591683437,
                 45.5093799021214
                ],
                [
                 -73.7939384028061,
                 45.509297721884
                ],
                [
                 -73.79058311435,
                 45.5088654314285
                ],
                [
                 -73.7870155334484,
                 45.5094594051816
                ],
                [
                 -73.7852614432657,
                 45.5093198098856
                ],
                [
                 -73.7829719822765,
                 45.5095864846083
                ],
                [
                 -73.7806008657296,
                 45.5088903884048
                ],
                [
                 -73.7769513427547,
                 45.5084674192311
                ],
                [
                 -73.7745708564459,
                 45.5084461679299
                ],
                [
                 -73.7719486126198,
                 45.5087044209407
                ],
                [
                 -73.7697639799538,
                 45.5095104479827
                ],
                [
                 -73.7673058990371,
                 45.5093183322757
                ],
                [
                 -73.7625356657639,
                 45.5100672469129
                ],
                [
                 -73.7612752776246,
                 45.5104175090183
                ]
               ]
              ]
             ],
             "type": "MultiPolygon"
            },
            "id": "101-Bois-de-Liesse",
            "properties": {},
            "type": "Feature"
           },
           {
            "bbox": [
             -73.9475358331527,
             45.4404255381026,
             -73.8458397013725,
             45.5079515359158
            ],
            "geometry": {
             "coordinates": [
              [
               [
                [
                 -73.8461670237813,
                 45.488985999861
                ],
                [
                 -73.850532069583,
                 45.486758681857
                ],
                [
                 -73.8458397013725,
                 45.4794951647217
                ],
                [
                 -73.8472019880053,
                 45.4788779608994
                ],
                [
                 -73.8518367097832,
                 45.4764514219245
                ],
                [
                 -73.8573573288562,
                 45.4736627559579
                ],
                [
                 -73.8545371967343,
                 45.4706120339916
                ],
                [
                 -73.8603908221258,
                 45.4659954945452
                ],
                [
                 -73.859889484827,
                 45.4655831049747
                ],
                [
                 -73.8669852747875,
                 45.4613941823855
                ],
                [
                 -73.8659406037748,
                 45.4600298096328
                ],
                [
                 -73.8814395340419,
                 45.4526362439631
                ],
                [
                 -73.8847216555087,
                 45.4524908762247
                ],
                [
                 -73.8890536732734,
                 45.4491166876217
                ],
                [
                 -73.8915462525593,
                 45.4480217199892
                ],
                [
                 -73.8938116724967,
                 45.4465652096353
                ],
                [
                 -73.8981246578432,
                 45.4475293470406
                ],
                [
                 -73.9003739737275,
                 45.4471542652552
                ],
                [
                 -73.9000666991504,
                 45.4467285005871
                ],
                [
                 -73.9015060886188,
                 45.446358434947
                ],
                [
                 -73.9023709077117,
                 45.4475251321732
                ],
                [
                 -73.9043599589048,
                 45.4467892477034
                ],
                [
                 -73.9055608807492,
                 45.4484676964261
                ],
                [
                 -73.9104202259452,
                 45.4468936252547
                ],
                [
                 -73.9231679445166,
                 45.4420154242323
                ],
                [
                 -73.9228839309917,
                 45.4416385017936
                ],
                [
                 -73.9245143656332,
                 45.4408765943703
                ],
                [
                 -73.924830550628,
                 45.4404255381026
                ],
                [
                 -73.9348115551979,
                 45.4490797759617
                ],
                [
                 -73.9369647858857,
                 45.4508355286695
                ],
                [
                 -73.9367305115467,
                 45.4519612579974
                ],
                [
                 -73.936084813848,
                 45.45278257894
                ],
                [
                 -73.9363214019941,
                 45.4536095287366
                ],
                [
                 -73.9384314066949,
                 45.45366444434
                ],
                [
                 -73.93849022267,
                 45.4546540611182
                ],
                [
                 -73.9401870518575,
                 45.4558173634308
                ],
                [
                 -73.9432583349177,
                 45.4561564624145
                ],
                [
                 -73.9444816415584,
                 45.4572495419421
                ],
                [
                 -73.9470042484352,
                 45.4577165755588
                ],
                [
                 -73.9475358331527,
                 45.4586413391725
                ],
                [
                 -73.9466703677291,
                 45.4591486916182
                ],
                [
                 -73.9457347700682,
                 45.4588823651705
                ],
                [
                 -73.9452919598077,
                 45.4594780510929
                ],
                [
                 -73.9438715446993,
                 45.4593485885153
                ],
                [
                 -73.9418275850641,
                 45.461228202182
                ],
                [
                 -73.9418734970443,
                 45.4621908676335
                ],
                [
                 -73.9433996704037,
                 45.4627518229434
                ],
                [
                 -73.9458662537823,
                 45.4625712338861
                ],
                [
                 -73.9452835656909,
                 45.4632754571652
                ],
                [
                 -73.9455865563861,
                 45.4644081059436
                ],
                [
                 -73.9444336707811,
                 45.464151615889
                ],
                [
                 -73.9428244875956,
                 45.4644188471942
                ],
                [
                 -73.9420560006039,
                 45.4659065384758
                ],
                [
                 -73.9397320642846,
                 45.4663563878557
                ],
                [
                 -73.9401770020335,
                 45.4676594913386
                ],
                [
                 -73.9394768022606,
                 45.4680671581924
                ],
                [
                 -73.9395814637767,
                 45.4700104369658
                ],
                [
                 -73.9382622094761,
                 45.4714102256228
                ],
                [
                 -73.9356853954855,
                 45.4722749319843
                ],
                [
                 -73.9346437792633,
                 45.4731967435679
                ],
                [
                 -73.9329374951772,
                 45.4725193630933
                ],
                [
                 -73.9323111235668,
                 45.4725667323419
                ],
                [
                 -73.9299152373346,
                 45.4737006039578
                ],
                [
                 -73.928842473854,
                 45.4739115313467
                ],
                [
                 -73.9275236887696,
                 45.4737184885069
                ],
                [
                 -73.9265293732015,
                 45.4741631743875
                ],
                [
                 -73.925796243829,
                 45.4736259485905
                ],
                [
                 -73.9248000500235,
                 45.4721089475954
                ],
                [
                 -73.9222818122356,
                 45.4705794857248
                ],
                [
                 -73.922965231979,
                 45.4696141155523
                ],
                [
                 -73.9226524205748,
                 45.4688324194201
                ],
                [
                 -73.9212201297683,
                 45.4688467094977
                ],
                [
                 -73.9216571330551,
                 45.4674143796986
                ],
                [
                 -73.921550552687,
                 45.4668568126713
                ],
                [
                 -73.9195312526606,
                 45.4635798400557
                ],
                [
                 -73.9178201887521,
                 45.4621912996059
                ],
                [
                 -73.9148789978459,
                 45.4619144443475
                ],
                [
                 -73.9126660861929,
                 45.4603383473932
                ],
                [
                 -73.91114607451,
                 45.4605598133876
                ],
                [
                 -73.9103819033438,
                 45.4609764429342
                ],
                [
                 -73.9100549453511,
                 45.4617335639878
                ],
                [
                 -73.9082146339227,
                 45.4617969415567
                ],
                [
                 -73.9075688375165,
                 45.4609865148744
                ],
                [
                 -73.9058658349117,
                 45.4609563776965
                ],
                [
                 -73.9051876779266,
                 45.4605991035458
                ],
                [
                 -73.9038323289561,
                 45.4606219020727
                ],
                [
                 -73.9020889859002,
                 45.4618068799119
                ],
                [
                 -73.9017130574761,
                 45.4628880358479
                ],
                [
                 -73.9003152261538,
                 45.4623259838994
                ],
                [
                 -73.899767819995,
                 45.462669876326
                ],
                [
                 -73.8976775036577,
                 45.4654577069673
                ],
                [
                 -73.8962483592814,
                 45.4658946426154
                ],
                [
                 -73.8957916608649,
                 45.4664270982997
                ],
                [
                 -73.8945384007686,
                 45.4664224345534
                ],
                [
                 -73.8936214304942,
                 45.4669655597388
                ],
                [
                 -73.8921732932478,
                 45.4665295724673
                ],
                [
                 -73.8916127412336,
                 45.4668464725107
                ],
                [
                 -73.8913265706041,
                 45.4679902821467
                ],
                [
                 -73.8900901349216,
                 45.4685793797869
                ],
                [
                 -73.8888217813327,
                 45.4686035027193
                ],
                [
                 -73.8860812311329,
                 45.4695648402732
                ],
                [
                 -73.8847899934361,
                 45.4696321930072
                ],
                [
                 -73.8828866868638,
                 45.4718612485547
                ],
                [
                 -73.8823610038276,
                 45.4716560245278
                ],
                [
                 -73.8811747849457,
                 45.4721459539451
                ],
                [
                 -73.8806356311152,
                 45.471850773116
                ],
                [
                 -73.8795251463835,
                 45.4721694456373
                ],
                [
                 -73.8782862116718,
                 45.4705088548296
                ],
                [
                 -73.8733213850942,
                 45.4725990666647
                ],
                [
                 -73.871209821762,
                 45.4733162451191
                ],
                [
                 -73.8728715855598,
                 45.4756017517064
                ],
                [
                 -73.8650419471552,
                 45.4821657726431
                ],
                [
                 -73.8624629228902,
                 45.4840039194648
                ],
                [
                 -73.8613316931676,
                 45.4851413285652
                ],
                [
                 -73.8587614558506,
                 45.4873090890375
                ],
                [
                 -73.8598077012489,
                 45.4888850004049
                ],
                [
                 -73.8592579904622,
                 45.4889452259737
                ],
                [
                 -73.8578565654384,
                 45.4898674655412
                ],
                [
                 -73.8569952719841,
                 45.4912379676731
                ],
                [
                 -73.8545791042202,
                 45.4935760467931
                ],
                [
                 -73.8531479621556,
                 45.4959201221199
                ],
                [
                 -73.8544902230577,
                 45.4977606434992
                ],
                [
                 -73.8548560501467,
                 45.4989743240793
                ],
                [
                 -73.8555516665994,
                 45.4997100150003
                ],
                [
                 -73.8578400891255,
                 45.4995048836594
                ],
                [
                 -73.8585024501129,
                 45.4997829560785
                ],
                [
                 -73.8591539006867,
                 45.5007425753891
                ],
                [
                 -73.8588895885858,
                 45.501436262307
                ],
                [
                 -73.8580145103082,
                 45.5020213087385
                ],
                [
                 -73.8578513100126,
                 45.5031672055572
                ],
                [
                 -73.85712842707,
                 45.5040318263201
                ],
                [
                 -73.8570843291783,
                 45.505329258001
                ],
                [
                 -73.8555961994083,
                 45.5077731597575
                ],
                [
                 -73.8547842282295,
                 45.5078848003326
                ],
                [
                 -73.8541507320505,
                 45.5071387755787
                ],
                [
                 -73.8554973469563,
                 45.506068266442
                ],
                [
                 -73.8558121436329,
                 45.5017030001578
                ],
                [
                 -73.853113099403,
                 45.4984292547447
                ],
                [
                 -73.8503699985263,
                 45.4936842455575
                ],
                [
                 -73.8461670237813,
                 45.488985999861
                ]
               ]
              ],
              [
               [
                [
                 -73.8565163230435,
                 45.5065638456799
                ],
                [
                 -73.8570490281172,
                 45.5058063309797
                ],
                [
                 -73.8583878278331,
                 45.5070438611748
                ],
                [
                 -73.8567674874305,
                 45.5078408713637
                ],
                [
                 -73.8559107285537,
                 45.5079515359158
                ],
                [
                 -73.8565163230435,
                 45.5065638456799
                ]
               ]
              ]
             ],
             "type": "MultiPolygon"
            },
            "id": "102-Cap-Saint-Jacques",
            "properties": {},
            "type": "Feature"
           },
           {
            "bbox": [
             -73.6124143323658,
             45.5157813641729,
             -73.5792047395127,
             45.5382742004886
            ],
            "geometry": {
             "coordinates": [
              [
               [
                -73.5792047395127,
                45.5280064404383
               ],
               [
                -73.581506814336,
                45.5255527662198
               ],
               [
                -73.5893088980696,
                45.5167596569974
               ],
               [
                -73.5902604532774,
                45.5157813641729
               ],
               [
                -73.5966746401772,
                45.5186407402299
               ],
               [
                -73.6108850612038,
                45.5249602486287
               ],
               [
                -73.6124143323658,
                45.525647330045
               ],
               [
                -73.6088433154766,
                45.5276253868022
               ],
               [
                -73.6061835826899,
                45.5283650193777
               ],
               [
                -73.6023604559616,
                45.5284000664849
               ],
               [
                -73.5992862274652,
                45.5288774305058
               ],
               [
                -73.5962116234987,
                45.5301487739359
               ],
               [
                -73.5947764680621,
                45.5311589735711
               ],
               [
                -73.5863837119054,
                45.5382742004886
               ],
               [
                -73.5871054297936,
                45.5372069067238
               ],
               [
                -73.5899093482658,
                45.5348049045751
               ],
               [
                -73.5847595146863,
                45.5324079438366
               ],
               [
                -73.5859421309178,
                45.5310790335786
               ],
               [
                -73.5792047395127,
                45.5280064404383
               ]
              ]
             ],
             "type": "Polygon"
            },
            "id": "111-Mile-End",
            "properties": {},
            "type": "Feature"
           },
           {
            "bbox": [
             -73.5893088980696,
             45.5049709717948,
             -73.5655614721314,
             45.5280064404383
            ],
            "geometry": {
             "coordinates": [
              [
               [
                -73.5734800018833,
                45.5049709717948
               ],
               [
                -73.580113792401,
                45.5081921313855
               ],
               [
                -73.5785542203746,
                45.5104511791594
               ],
               [
                -73.5786781018666,
                45.5117608495828
               ],
               [
                -73.582430798457,
                45.5136019767056
               ],
               [
                -73.5893088980696,
                45.5167596569974
               ],
               [
                -73.581506814336,
                45.5255527662198
               ],
               [
                -73.5792047395127,
                45.5280064404383
               ],
               [
                -73.5745923823609,
                45.5259374612073
               ],
               [
                -73.5740572626836,
                45.5252747203744
               ],
               [
                -73.5655614721314,
                45.5213643879447
               ],
               [
                -73.5655904084691,
                45.5210639273018
               ],
               [
                -73.571279665339,
                45.5083636436696
               ],
               [
                -73.5729588302122,
                45.5055494196855
               ],
               [
                -73.5734800018833,
                45.5049709717948
               ]
              ]
             ],
             "type": "Polygon"
            },
            "id": "113-Jeanne-Mance",
            "properties": {},
            "type": "Feature"
           },
           {
            "bbox": [
             -73.5898582112291,
             45.6362003202316,
             -73.4745824263264,
             45.7054709950549
            ],
            "geometry": {
             "coordinates": [
              [
               [
                -73.4868984819315,
                45.6668163755988
               ],
               [
                -73.4909285596849,
                45.6670796662378
               ],
               [
                -73.4943692754526,
                45.6676107175883
               ],
               [
                -73.5052117189194,
                45.6694506091685
               ],
               [
                -73.5066485322791,
                45.66770609928
               ],
               [
                -73.5086661140009,
                45.6660376032574
               ],
               [
                -73.514071369879,
                45.663410883372
               ],
               [
                -73.5226608995211,
                45.6590189476592
               ],
               [
                -73.5409160537594,
                45.6501644528664
               ],
               [
                -73.5441930168941,
                45.6487914226698
               ],
               [
                -73.544738106063,
                45.6482242645147
               ],
               [
                -73.5524611738286,
                45.6444112188767
               ],
               [
                -73.5555002141554,
                45.6426177060947
               ],
               [
                -73.5652962272313,
                45.6362003202316
               ],
               [
                -73.5713393674169,
                45.6418436992789
               ],
               [
                -73.5731131247475,
                45.6438386857375
               ],
               [
                -73.5764976851296,
                45.641270099185
               ],
               [
                -73.5866413495341,
                45.6508496604014
               ],
               [
                -73.5898582112291,
                45.6537703909976
               ],
               [
                -73.5838459058531,
                45.6567113166436
               ],
               [
                -73.5767899673498,
                45.6602649640823
               ],
               [
                -73.5719339731853,
                45.6626357744781
               ],
               [
                -73.539067309963,
                45.678979317943
               ],
               [
                -73.5369552091684,
                45.6802676902485
               ],
               [
                -73.5352474248791,
                45.6816148433586
               ],
               [
                -73.532629555028,
                45.6840504841943
               ],
               [
                -73.5308427113654,
                45.6858730099174
               ],
               [
                -73.5292925000853,
                45.6880318303705
               ],
               [
                -73.5284527492428,
                45.6897324941851
               ],
               [
                -73.5262321777264,
                45.695068712866
               ],
               [
                -73.5248704855113,
                45.696745979989
               ],
               [
                -73.5234829925507,
                45.6977084455985
               ],
               [
                -73.521300714461,
                45.6988491350421
               ],
               [
                -73.518072949079,
                45.7000844428825
               ],
               [
                -73.5135468623237,
                45.7013546459954
               ],
               [
                -73.5051625304534,
                45.7033317792418
               ],
               [
                -73.498947493721,
                45.7045252458975
               ],
               [
                -73.4954757567513,
                45.7049490135942
               ],
               [
                -73.4932103740932,
                45.7047553331643
               ],
               [
                -73.4921323200277,
                45.7041126467728
               ],
               [
                -73.4909405407531,
                45.7027073672294
               ],
               [
                -73.4900498047694,
                45.7021797732479
               ],
               [
                -73.4887664394737,
                45.7021177409386
               ],
               [
                -73.4856763927507,
                45.7030727269477
               ],
               [
                -73.4829186491029,
                45.7036523330194
               ],
               [
                -73.4803835661343,
                45.7046724098692
               ],
               [
                -73.4783219605948,
                45.7052709191606
               ],
               [
                -73.4766385432002,
                45.7054709950549
               ],
               [
                -73.4751651064534,
                45.7048699119281
               ],
               [
                -73.4745824263264,
                45.7033866618514
               ],
               [
                -73.4749382311583,
                45.7024425674455
               ],
               [
                -73.4763824131897,
                45.7006700752533
               ],
               [
                -73.4784777403736,
                45.697652858064
               ],
               [
                -73.4790042639298,
                45.6961901697848
               ],
               [
                -73.4792384579055,
                45.6941308824961
               ],
               [
                -73.4796140010016,
                45.6929943766718
               ],
               [
                -73.4803640884928,
                45.6919258774639
               ],
               [
                -73.483643872129,
                45.6885943328445
               ],
               [
                -73.4851764024197,
                45.6867120396751
               ],
               [
                -73.4857156558079,
                45.6857399456762
               ],
               [
                -73.4866448398145,
                45.682296765324
               ],
               [
                -73.486914072058,
                45.6801843677801
               ],
               [
                -73.4872497030629,
                45.6755976940944
               ],
               [
                -73.4873520249609,
                45.6730343323445
               ],
               [
                -73.4868984819315,
                45.6668163755988
               ]
              ]
             ],
             "type": "Polygon"
            },
            "id": "121-La Pointe-aux-Prairies",
            "properties": {},
            "type": "Feature"
           },
           {
            "bbox": [
             -73.544738106063,
             45.6328678840833,
             -73.4774799728854,
             45.6694506091685
            ],
            "geometry": {
             "coordinates": [
              [
               [
                -73.544738106063,
                45.6482242645147
               ],
               [
                -73.5441930168941,
                45.6487914226698
               ],
               [
                -73.5409160537594,
                45.6501644528664
               ],
               [
                -73.5226608995211,
                45.6590189476592
               ],
               [
                -73.514071369879,
                45.663410883372
               ],
               [
                -73.5086661140009,
                45.6660376032574
               ],
               [
                -73.5066485322791,
                45.66770609928
               ],
               [
                -73.5052117189194,
                45.6694506091685
               ],
               [
                -73.4943692754526,
                45.6676107175883
               ],
               [
                -73.4909285596849,
                45.6670796662378
               ],
               [
                -73.4868984819315,
                45.6668163755988
               ],
               [
                -73.4865306288933,
                45.6640279113745
               ],
               [
                -73.486175917176,
                45.6627454155844
               ],
               [
                -73.4851106606772,
                45.6602901608252
               ],
               [
                -73.4846809037125,
                45.6588306383762
               ],
               [
                -73.4832382097687,
                45.6554954757732
               ],
               [
                -73.4821383232798,
                45.6536179248291
               ],
               [
                -73.4787636354681,
                45.6491486823782
               ],
               [
                -73.4780610185114,
                45.6476510142289
               ],
               [
                -73.4774799728854,
                45.6454905837529
               ],
               [
                -73.4872757738587,
                45.6469779321365
               ],
               [
                -73.4879707187836,
                45.6443924831145
               ],
               [
                -73.4878427542795,
                45.6430795950772
               ],
               [
                -73.4879726577335,
                45.6412664739826
               ],
               [
                -73.4872874543207,
                45.6393119798027
               ],
               [
                -73.489854112659,
                45.6368295683212
               ],
               [
                -73.4903943370184,
                45.6355618234685
               ],
               [
                -73.4916720124889,
                45.6345001210246
               ],
               [
                -73.4910397713222,
                45.6338422392127
               ],
               [
                -73.491927215926,
                45.6328678840833
               ],
               [
                -73.5098459767589,
                45.6358225966319
               ],
               [
                -73.5202077969535,
                45.6374981237725
               ],
               [
                -73.5214492864595,
                45.6377899174742
               ],
               [
                -73.5431729267196,
                45.6475814296488
               ],
               [
                -73.544738106063,
                45.6482242645147
               ]
              ]
             ],
             "type": "Polygon"
            },
            "id": "122-Pointe-aux-Trembles",
            "properties": {},
            "type": "Feature"
           },
           {
            "bbox": [
             -73.6241232556812,
             45.6125718329314,
             -73.5652962272313,
             45.6537703909976
            ],
            "geometry": {
             "coordinates": [
              [
               [
                -73.5652962272313,
                45.6362003202316
               ],
               [
                -73.5683379250343,
                45.6341956640577
               ],
               [
                -73.5740068269183,
                45.6304929149516
               ],
               [
                -73.5954830428467,
                45.6158123480652
               ],
               [
                -73.5984976040034,
                45.6140840514745
               ],
               [
                -73.6023660828945,
                45.6125718329314
               ],
               [
                -73.6071490341973,
                45.6170493269392
               ],
               [
                -73.6168081007299,
                45.6262083345707
               ],
               [
                -73.6206953088035,
                45.6298453145986
               ],
               [
                -73.6241232556812,
                45.6330522649771
               ],
               [
                -73.5943845703787,
                45.6513674636385
               ],
               [
                -73.5898582112291,
                45.6537703909976
               ],
               [
                -73.5866413495341,
                45.6508496604014
               ],
               [
                -73.5764976851296,
                45.641270099185
               ],
               [
                -73.5731131247475,
                45.6438386857375
               ],
               [
                -73.5713393674169,
                45.6418436992789
               ],
               [
                -73.5652962272313,
                45.6362003202316
               ]
              ]
             ],
             "type": "Polygon"
            },
            "id": "123-Rivière-des-Prairies",
            "properties": {},
            "type": "Feature"
           },
           {
            "bbox": [
             -73.6215351178101,
             45.525647330045,
             -73.5862704189394,
             45.5479557550382
            ],
            "geometry": {
             "coordinates": [
              [
               [
                -73.5864681894816,
                45.538468592349
               ],
               [
                -73.5862704189394,
                45.5383757481773
               ],
               [
                -73.5863837119054,
                45.5382742004886
               ],
               [
                -73.5947764680621,
                45.5311589735711
               ],
               [
                -73.5962116234987,
                45.5301487739359
               ],
               [
                -73.5992862274652,
                45.5288774305058
               ],
               [
                -73.6023604559616,
                45.5284000664849
               ],
               [
                -73.6061835826899,
                45.5283650193777
               ],
               [
                -73.6088433154766,
                45.5276253868022
               ],
               [
                -73.6124143323658,
                45.525647330045
               ],
               [
                -73.6170925681517,
                45.5277209056734
               ],
               [
                -73.6170629786343,
                45.5290836882431
               ],
               [
                -73.6174856875378,
                45.5297416402976
               ],
               [
                -73.6190955864224,
                45.5306548374863
               ],
               [
                -73.6215351178101,
                45.5311083503899
               ],
               [
                -73.6182756954315,
                45.5346855542873
               ],
               [
                -73.6168611349556,
                45.5357046144078
               ],
               [
                -73.6144250141163,
                45.5383032859687
               ],
               [
                -73.6123252903368,
                45.5421333051385
               ],
               [
                -73.6086846729618,
                45.5461409843801
               ],
               [
                -73.6070387029669,
                45.5479557550382
               ],
               [
                -73.6035398110948,
                45.5463469119155
               ],
               [
                -73.5864681894816,
                45.538468592349
               ]
              ]
             ],
             "type": "Polygon"
            },
            "id": "131-Saint-Édouard",
            "properties": {},
            "type": "Feature"
           },
           {
            "bbox": [
             -73.6035398110948,
             45.538468592349,
             -73.5755593123915,
             45.5607570868859
            ],
            "geometry": {
             "coordinates": [
              [
               [
                -73.5864681894816,
                45.538468592349
               ],
               [
                -73.6035398110948,
                45.5463469119155
               ],
               [
                -73.6019471163738,
                45.5481178990012
               ],
               [
                -73.5975914187124,
                45.553207322408
               ],
               [
                -73.5910006798707,
                45.5607570868859
               ],
               [
                -73.5774327397367,
                45.5565544731088
               ],
               [
                -73.5794549693978,
                45.5542318437368
               ],
               [
                -73.5755593123915,
                45.5530615312237
               ],
               [
                -73.5800875168702,
                45.5456157629748
               ],
               [
                -73.5813297515111,
                45.5438139922411
               ],
               [
                -73.5837910525824,
                45.541331668411
               ],
               [
                -73.5864681894816,
                45.538468592349
               ]
              ]
             ],
             "type": "Polygon"
            },
            "id": "132-Étienne-Desmarteau",
            "properties": {},
            "type": "Feature"
           },
           {
            "bbox": [
             -73.5864681894816,
             45.5383757481773,
             -73.5545655421497,
             45.5607975285183
            ],
            "geometry": {
             "coordinates": [
              [
               [
                -73.5592280432661,
                45.5399028690768
               ],
               [
                -73.5735822926994,
                45.5413565189643
               ],
               [
                -73.5764926058406,
                45.5415739191208
               ],
               [
                -73.5786195284797,
                45.5415422864787
               ],
               [
                -73.5810607519196,
                45.5411249464667
               ],
               [
                -73.5838512015266,
                45.5400861300747
               ],
               [
                -73.5862704189394,
                45.5383757481773
               ],
               [
                -73.5864681894816,
                45.538468592349
               ],
               [
                -73.5837910525824,
                45.541331668411
               ],
               [
                -73.5813297515111,
                45.5438139922411
               ],
               [
                -73.5800875168702,
                45.5456157629748
               ],
               [
                -73.5755593123915,
                45.5530615312237
               ],
               [
                -73.5794549693978,
                45.5542318437368
               ],
               [
                -73.5774327397367,
                45.5565544731088
               ],
               [
                -73.573735635149,
                45.5607975285183
               ],
               [
                -73.5588620237975,
                45.5560173236498
               ],
               [
                -73.5545655421497,
                45.55467023726
               ],
               [
                -73.5552605710227,
                45.5474166761255
               ],
               [
                -73.5592280432661,
                45.5399028690768
               ]
              ]
             ],
             "type": "Polygon"
            },
            "id": "133-Vieux-Rosemont",
            "properties": {},
            "type": "Feature"
           },
           {
            "bbox": [
             -73.5910006798707,
             45.55467023726,
             -73.5489772535198,
             45.5819266091566
            ],
            "geometry": {
             "coordinates": [
              [
               [
                -73.5694653361432,
                45.5816630209033
               ],
               [
                -73.5683754804235,
                45.5814045757918
               ],
               [
                -73.5584435150771,
                45.578098690279
               ],
               [
                -73.5557298683366,
                45.5757065336466
               ],
               [
                -73.5489772535198,
                45.5734435433853
               ],
               [
                -73.5544730757919,
                45.5652953442798
               ],
               [
                -73.5546496932451,
                45.5649641797921
               ],
               [
                -73.5542787320438,
                45.5568764086233
               ],
               [
                -73.5545655421497,
                45.55467023726
               ],
               [
                -73.5588620237975,
                45.5560173236498
               ],
               [
                -73.573735635149,
                45.5607975285183
               ],
               [
                -73.5774327397367,
                45.5565544731088
               ],
               [
                -73.5910006798707,
                45.5607570868859
               ],
               [
                -73.5863094536503,
                45.5661499995185
               ],
               [
                -73.5871520545273,
                45.566412729231
               ],
               [
                -73.584731908233,
                45.5691066724291
               ],
               [
                -73.5772385119147,
                45.5776818920023
               ],
               [
                -73.578130955202,
                45.5780689341974
               ],
               [
                -73.5752604702031,
                45.5805388907561
               ],
               [
                -73.5739953109801,
                45.5819266091566
               ],
               [
                -73.5709328233077,
                45.5809046758787
               ],
               [
                -73.5705509760525,
                45.5814521659595
               ],
               [
                -73.5694653361432,
                45.5816630209033
               ]
              ]
             ],
             "type": "Polygon"
            },
            "id": "134-Marie-Victorin",
            "properties": {},
            "type": "Feature"
           },
           {
            "bbox": [
             -73.7741729540726,
             45.4606744381013,
             -73.6644157884018,
             45.5267447688191
            ],
            "geometry": {
             "coordinates": [
              [
               [
                -73.7091218538247,
                45.5230954877394
               ],
               [
                -73.6918870159802,
                45.5123542857052
               ],
               [
                -73.6881524418874,
                45.5100541386763
               ],
               [
                -73.6827840991507,
                45.5143258168654
               ],
               [
                -73.6744134053365,
                45.5090285090174
               ],
               [
                -73.6696337564668,
                45.5063911079337
               ],
               [
                -73.6673976326861,
                45.5049604588181
               ],
               [
                -73.6660099573454,
                45.5044347648104
               ],
               [
                -73.6644157884018,
                45.5050492992242
               ],
               [
                -73.6646042365099,
                45.504734675849
               ],
               [
                -73.6681641565442,
                45.501660999668
               ],
               [
                -73.67484741122,
                45.4963374151867
               ],
               [
                -73.680502634204,
                45.4920408059609
               ],
               [
                -73.6825483439594,
                45.4907732405381
               ],
               [
                -73.6860100016197,
                45.4896024241141
               ],
               [
                -73.677264286648,
                45.4836591822082
               ],
               [
                -73.6776271543493,
                45.4823345919293
               ],
               [
                -73.6827804258142,
                45.4635658825978
               ],
               [
                -73.6933043566279,
                45.4703396575946
               ],
               [
                -73.6947785817616,
                45.4645178045181
               ],
               [
                -73.69619836572,
                45.4654974169452
               ],
               [
                -73.7047665432935,
                45.4712980390786
               ],
               [
                -73.7080097103994,
                45.47334246671
               ],
               [
                -73.7221390583544,
                45.4826358450705
               ],
               [
                -73.7241021941398,
                45.4814064808358
               ],
               [
                -73.7315756591541,
                45.4757155112906
               ],
               [
                -73.7423991292426,
                45.4671531227456
               ],
               [
                -73.74247528623,
                45.4670360365519
               ],
               [
                -73.7505933570667,
                45.4606744381013
               ],
               [
                -73.7626492898165,
                45.4684579890562
               ],
               [
                -73.7623181805669,
                45.4687557278511
               ],
               [
                -73.7684606113614,
                45.4749503791392
               ],
               [
                -73.7661156464615,
                45.4767286467613
               ],
               [
                -73.7690019457786,
                45.4785035754768
               ],
               [
                -73.7741729540726,
                45.4818386741628
               ],
               [
                -73.7681746120908,
                45.4847594283289
               ],
               [
                -73.7678463791609,
                45.485678039566
               ],
               [
                -73.7664813956616,
                45.486482172257
               ],
               [
                -73.7666703097771,
                45.4885693048636
               ],
               [
                -73.7671205072924,
                45.4890902137182
               ],
               [
                -73.7645934137213,
                45.4903739088715
               ],
               [
                -73.7681822983003,
                45.4944507802049
               ],
               [
                -73.767927191601,
                45.4946223655038
               ],
               [
                -73.7708534417468,
                45.4965141396676
               ],
               [
                -73.7735738316828,
                45.4981363521851
               ],
               [
                -73.7716579558132,
                45.4991257181769
               ],
               [
                -73.7738796981111,
                45.5005112554049
               ],
               [
                -73.770851931212,
                45.5015263075263
               ],
               [
                -73.7725018897261,
                45.5025715611262
               ],
               [
                -73.7709616412032,
                45.5034073001873
               ],
               [
                -73.7692002551043,
                45.5040137486001
               ],
               [
                -73.7671979733428,
                45.5027497284985
               ],
               [
                -73.7653841918245,
                45.5034648112556
               ],
               [
                -73.764601206777,
                45.5029446682134
               ],
               [
                -73.7638615520544,
                45.5034953365559
               ],
               [
                -73.7609994664832,
                45.5016752336666
               ],
               [
                -73.7594306007504,
                45.5027766325504
               ],
               [
                -73.7582371682807,
                45.5020414841587
               ],
               [
                -73.756652358581,
                45.5024589334263
               ],
               [
                -73.7547114610262,
                45.5033812068779
               ],
               [
                -73.7530750881715,
                45.5037537247243
               ],
               [
                -73.7516832079437,
                45.5044227485347
               ],
               [
                -73.7550630650544,
                45.5065238038199
               ],
               [
                -73.7350991221023,
                45.5137867482303
               ],
               [
                -73.7285097856203,
                45.5160943522463
               ],
               [
                -73.7358987648866,
                45.5207291683311
               ],
               [
                -73.7317546325275,
                45.5236815365784
               ],
               [
                -73.7280602953464,
                45.5213554616816
               ],
               [
                -73.7217031155859,
                45.5267447688191
               ],
               [
                -73.7185119695016,
                45.5247508136954
               ],
               [
                -73.7172924358234,
                45.5256928911099
               ],
               [
                -73.7145584630039,
                45.5239315629596
               ],
               [
                -73.7131122096208,
                45.5251637887575
               ],
               [
                -73.7112612170074,
                45.5243023856458
               ],
               [
                -73.7091218538247,
                45.5230954877394
               ]
              ]
             ],
             "type": "Polygon"
            },
            "id": "141-Côte-de-Liesse",
            "properties": {},
            "type": "Feature"
           },
           {
            "bbox": [
             -73.7091218538247,
             45.5044347648104,
             -73.6510270564502,
             45.5323081056009
            ],
            "geometry": {
             "coordinates": [
              [
               [
                -73.6510270564502,
                45.5263874543882
               ],
               [
                -73.6529551695687,
                45.5229726150982
               ],
               [
                -73.6580588118226,
                45.5152954959574
               ],
               [
                -73.6620316014577,
                45.509044066038
               ],
               [
                -73.6644157884018,
                45.5050492992242
               ],
               [
                -73.6660099573454,
                45.5044347648104
               ],
               [
                -73.6673976326861,
                45.5049604588181
               ],
               [
                -73.6696337564668,
                45.5063911079337
               ],
               [
                -73.6744134053365,
                45.5090285090174
               ],
               [
                -73.6827840991507,
                45.5143258168654
               ],
               [
                -73.6881524418874,
                45.5100541386763
               ],
               [
                -73.6918870159802,
                45.5123542857052
               ],
               [
                -73.7091218538247,
                45.5230954877394
               ],
               [
                -73.6963296087078,
                45.5276805484038
               ],
               [
                -73.6939612003867,
                45.528347826243
               ],
               [
                -73.6897803429098,
                45.5288476157777
               ],
               [
                -73.6870922504792,
                45.5286619976995
               ],
               [
                -73.685195685208,
                45.5301022578388
               ],
               [
                -73.683124268159,
                45.5305991300384
               ],
               [
                -73.6764129283619,
                45.5321264506516
               ],
               [
                -73.6747555535799,
                45.5323081056009
               ],
               [
                -73.6726124365382,
                45.5322997327559
               ],
               [
                -73.6698852350516,
                45.5318835785726
               ],
               [
                -73.6555330494037,
                45.5277342274232
               ],
               [
                -73.6510270564502,
                45.5263874543882
               ]
              ]
             ],
             "type": "Polygon"
            },
            "id": "142-Norman-McLaren",
            "properties": {},
            "type": "Feature"
           },
           {
            "bbox": [
             -73.61467650443,
             45.5814045757918,
             -73.563949176176,
             45.6112216102358
            ],
            "geometry": {
             "coordinates": [
              [
               [
                -73.5696609688417,
                45.5965806032278
               ],
               [
                -73.5687432258054,
                45.5949521683749
               ],
               [
                -73.5690474086577,
                45.5937353194892
               ],
               [
                -73.5686767639537,
                45.5922969983003
               ],
               [
                -73.5663609324088,
                45.5883396268265
               ],
               [
                -73.5642246834943,
                45.5872483268508
               ],
               [
                -73.5642198577817,
                45.5854079588427
               ],
               [
                -73.563949176176,
                45.5849798671748
               ],
               [
                -73.566054883333,
                45.5843176844033
               ],
               [
                -73.5648413846768,
                45.5830623920281
               ],
               [
                -73.5683754804235,
                45.5814045757918
               ],
               [
                -73.5694653361432,
                45.5816630209033
               ],
               [
                -73.5732723109658,
                45.5829252463303
               ],
               [
                -73.5742252628096,
                45.5830975713343
               ],
               [
                -73.5790395581623,
                45.5832311484519
               ],
               [
                -73.5817361693186,
                45.5828435232896
               ],
               [
                -73.5850508708636,
                45.5817485572606
               ],
               [
                -73.5872765077617,
                45.5817600646972
               ],
               [
                -73.5896208961855,
                45.5825234015516
               ],
               [
                -73.5927968176961,
                45.5840511668496
               ],
               [
                -73.5944959844225,
                45.585037876555
               ],
               [
                -73.5961671053026,
                45.5863788582573
               ],
               [
                -73.5985181690096,
                45.5893118445279
               ],
               [
                -73.6020871279873,
                45.5931683856944
               ],
               [
                -73.6032485083726,
                45.5942192930034
               ],
               [
                -73.6086990780645,
                45.5965789895409
               ],
               [
                -73.6101417757025,
                45.5974474797099
               ],
               [
                -73.6116347298964,
                45.5986698542549
               ],
               [
                -73.6130354491493,
                45.6003781128039
               ],
               [
                -73.61467650443,
                45.601820884038
               ],
               [
                -73.6125635803426,
                45.604373796832
               ],
               [
                -73.6092890313816,
                45.6081470965116
               ],
               [
                -73.6079197060538,
                45.6094530924621
               ],
               [
                -73.6062298901187,
                45.610759685103
               ],
               [
                -73.6048043091085,
                45.6094292879636
               ],
               [
                -73.6035616092243,
                45.6101078733853
               ],
               [
                -73.6041139394664,
                45.6106174089674
               ],
               [
                -73.6028907661658,
                45.6112216102358
               ],
               [
                -73.6013378366857,
                45.6104025414741
               ],
               [
                -73.5971103983983,
                45.6085989887758
               ],
               [
                -73.5889961999073,
                45.6050220349527
               ],
               [
                -73.5771288919308,
                45.599852413767
               ],
               [
                -73.576232424293,
                45.5992577290381
               ],
               [
                -73.5745938220503,
                45.5986717630315
               ],
               [
                -73.5726733802096,
                45.5977479911912
               ],
               [
                -73.5696609688417,
                45.5965806032278
               ]
              ]
             ],
             "type": "Polygon"
            },
            "id": "151-Saint-Léonard-Est",
            "properties": {},
            "type": "Feature"
           },
           {
            "bbox": [
             -73.6296215435427,
             45.566412729231,
             -73.5694653361432,
             45.601820884038
            ],
            "geometry": {
             "coordinates": [
              [
               [
                -73.5694653361432,
                45.5816630209033
               ],
               [
                -73.5705509760525,
                45.5814521659595
               ],
               [
                -73.5709328233077,
                45.5809046758787
               ],
               [
                -73.5739953109801,
                45.5819266091566
               ],
               [
                -73.5752604702031,
                45.5805388907561
               ],
               [
                -73.578130955202,
                45.5780689341974
               ],
               [
                -73.5772385119147,
                45.5776818920023
               ],
               [
                -73.584731908233,
                45.5691066724291
               ],
               [
                -73.5871520545273,
                45.566412729231
               ],
               [
                -73.5874046777632,
                45.5664890958155
               ],
               [
                -73.5986381445569,
                45.5714628841478
               ],
               [
                -73.6016424297946,
                45.5727835347079
               ],
               [
                -73.6005459884454,
                45.5740149891614
               ],
               [
                -73.6023753660902,
                45.5742891313383
               ],
               [
                -73.6043589520305,
                45.5755705351656
               ],
               [
                -73.6113135304111,
                45.5785547523195
               ],
               [
                -73.6148320474836,
                45.580191303428
               ],
               [
                -73.6208358233192,
                45.5828408672289
               ],
               [
                -73.623269111324,
                45.5839925896586
               ],
               [
                -73.6242513055513,
                45.5846473290482
               ],
               [
                -73.6267569494518,
                45.5854624669655
               ],
               [
                -73.6280749026379,
                45.5838243220039
               ],
               [
                -73.6288186186035,
                45.5832571469721
               ],
               [
                -73.6296215435427,
                45.5838130726522
               ],
               [
                -73.6202427208594,
                45.5951205335532
               ],
               [
                -73.61467650443,
                45.601820884038
               ],
               [
                -73.6130354491493,
                45.6003781128039
               ],
               [
                -73.6116347298964,
                45.5986698542549
               ],
               [
                -73.6101417757025,
                45.5974474797099
               ],
               [
                -73.6086990780645,
                45.5965789895409
               ],
               [
                -73.6032485083726,
                45.5942192930034
               ],
               [
                -73.6020871279873,
                45.5931683856944
               ],
               [
                -73.5985181690096,
                45.5893118445279
               ],
               [
                -73.5961671053026,
                45.5863788582573
               ],
               [
                -73.5944959844225,
                45.585037876555
               ],
               [
                -73.5927968176961,
                45.5840511668496
               ],
               [
                -73.5896208961855,
                45.5825234015516
               ],
               [
                -73.5872765077617,
                45.5817600646972
               ],
               [
                -73.5850508708636,
                45.5817485572606
               ],
               [
                -73.5817361693186,
                45.5828435232896
               ],
               [
                -73.5790395581623,
                45.5832311484519
               ],
               [
                -73.5742252628096,
                45.5830975713343
               ],
               [
                -73.5732723109658,
                45.5829252463303
               ],
               [
                -73.5694653361432,
                45.5816630209033
               ]
              ]
             ],
             "type": "Polygon"
            },
            "id": "152-Saint-Léonard-Ouest",
            "properties": {},
            "type": "Feature"
           },
           {
            "bbox": [
             -73.6015380888098,
             45.4653094409894,
             -73.5371875080419,
             45.4979125426916
            ],
            "geometry": {
             "coordinates": [
              [
               [
                -73.5390758626817,
                45.4883382585102
               ],
               [
                -73.5377390087046,
                45.4867781311819
               ],
               [
                -73.5371875080419,
                45.4847716425103
               ],
               [
                -73.5390896331107,
                45.4789579782257
               ],
               [
                -73.5400605004001,
                45.4771849523131
               ],
               [
                -73.5409045352268,
                45.4770676622637
               ],
               [
                -73.544790989561,
                45.4746546504853
               ],
               [
                -73.547897885736,
                45.4732945786535
               ],
               [
                -73.5519632604747,
                45.4713851205092
               ],
               [
                -73.5535995299322,
                45.4704935184097
               ],
               [
                -73.5561183847095,
                45.4699434381887
               ],
               [
                -73.5571517699907,
                45.4699658746605
               ],
               [
                -73.5630845502664,
                45.4721519332886
               ],
               [
                -73.5629773154921,
                45.472291406797
               ],
               [
                -73.5680238353449,
                45.4742185784751
               ],
               [
                -73.5698754985218,
                45.474526598925
               ],
               [
                -73.5723445217071,
                45.4741023764959
               ],
               [
                -73.5731337395658,
                45.4754020852012
               ],
               [
                -73.5751431743146,
                45.4755655583636
               ],
               [
                -73.5776045371727,
                45.4761591293053
               ],
               [
                -73.5787522413781,
                45.4747754151352
               ],
               [
                -73.5814009760351,
                45.4720006793341
               ],
               [
                -73.5831499688592,
                45.4704494618721
               ],
               [
                -73.586192167734,
                45.4685776819367
               ],
               [
                -73.5902980753151,
                45.4669303074751
               ],
               [
                -73.593418397905,
                45.4661730419256
               ],
               [
                -73.5952982354664,
                45.4653094409894
               ],
               [
                -73.5969113989909,
                45.4662290782584
               ],
               [
                -73.6006750017194,
                45.4693265503939
               ],
               [
                -73.6015380888098,
                45.4698449656495
               ],
               [
                -73.5995923966142,
                45.4714885118876
               ],
               [
                -73.5966486659517,
                45.4732210790839
               ],
               [
                -73.5951347718664,
                45.4764466331536
               ],
               [
                -73.5861251156067,
                45.4827228896224
               ],
               [
                -73.5851119123332,
                45.4822361060294
               ],
               [
                -73.5842729287511,
                45.4830658950147
               ],
               [
                -73.5806528881796,
                45.4855782409323
               ],
               [
                -73.5812577295116,
                45.4863226865868
               ],
               [
                -73.5788051804801,
                45.4879299741214
               ],
               [
                -73.5726247033677,
                45.4927252183027
               ],
               [
                -73.5671882558807,
                45.4901263927885
               ],
               [
                -73.5653550896585,
                45.4921968620631
               ],
               [
                -73.5630011277184,
                45.4954107671203
               ],
               [
                -73.561988917097,
                45.497173589984
               ],
               [
                -73.5607477815647,
                45.4979125426916
               ],
               [
                -73.5594748545018,
                45.4973055470605
               ],
               [
                -73.5559728136711,
                45.4959454567625
               ],
               [
                -73.5545777017417,
                45.4947339282606
               ],
               [
                -73.5533130105218,
                45.4921853756885
               ],
               [
                -73.5524160214136,
                45.4912899988865
               ],
               [
                -73.5507109567109,
                45.4904150448375
               ],
               [
                -73.5496180493079,
                45.4900890295113
               ],
               [
                -73.5411879980439,
                45.4884799718781
               ],
               [
                -73.5398824970348,
                45.4880751564896
               ],
               [
                -73.5390758626817,
                45.4883382585102
               ]
              ]
             ],
             "type": "Polygon"
            },
            "id": "161-Saint-HenriPetite-BourgognePointe-Saint-Charles",
            "properties": {},
            "type": "Feature"
           },
           {
            "bbox": [
             -73.6351722497066,
             45.4375187309259,
             -73.5717046710668,
             45.4761591293053
            ],
            "geometry": {
             "coordinates": [
              [
               [
                -73.5803978450664,
                45.4607242060317
               ],
               [
                -73.580383848446,
                45.45869859258
               ],
               [
                -73.5808415940198,
                45.4566805659982
               ],
               [
                -73.5822612868352,
                45.4543201865436
               ],
               [
                -73.5841878662571,
                45.4525126975338
               ],
               [
                -73.5873026203887,
                45.4501968887305
               ],
               [
                -73.5895426922804,
                45.4479760865095
               ],
               [
                -73.590317536462,
                45.4476444830976
               ],
               [
                -73.5946364116012,
                45.4432356001591
               ],
               [
                -73.5993656298056,
                45.437522488597
               ],
               [
                -73.5996082895714,
                45.4375187309259
               ],
               [
                -73.6118008558715,
                45.4394499728596
               ],
               [
                -73.6104503124607,
                45.4429793199455
               ],
               [
                -73.6094089858961,
                45.4442773154325
               ],
               [
                -73.6052123848584,
                45.4479821667775
               ],
               [
                -73.6048092799479,
                45.4489130784869
               ],
               [
                -73.6068239912076,
                45.4545470690524
               ],
               [
                -73.6136079881888,
                45.4576954341346
               ],
               [
                -73.6201147014597,
                45.4548257159799
               ],
               [
                -73.622324477466,
                45.4535901866228
               ],
               [
                -73.6255515041789,
                45.4513172221793
               ],
               [
                -73.6269986444794,
                45.4501430927141
               ],
               [
                -73.6288149375869,
                45.4482900651074
               ],
               [
                -73.6290926270452,
                45.4483946176344
               ],
               [
                -73.6320301276656,
                45.4495010416609
               ],
               [
                -73.6351722497066,
                45.4507225431116
               ],
               [
                -73.6350181512615,
                45.4509158064615
               ],
               [
                -73.6314544395632,
                45.4527593013115
               ],
               [
                -73.6262003043123,
                45.4574918787775
               ],
               [
                -73.6243236842049,
                45.4586553508057
               ],
               [
                -73.6200562870233,
                45.4616683026575
               ],
               [
                -73.6182352042185,
                45.4622268121902
               ],
               [
                -73.6157015928197,
                45.4632907897894
               ],
               [
                -73.6121904900053,
                45.4648542087469
               ],
               [
                -73.6116004847967,
                45.4647691120724
               ],
               [
                -73.6058459619009,
                45.4672881102352
               ],
               [
                -73.6056266168094,
                45.4676031109374
               ],
               [
                -73.6031619796725,
                45.4691032161751
               ],
               [
                -73.6025897276388,
                45.4690525247808
               ],
               [
                -73.6015380888098,
                45.4698449656495
               ],
               [
                -73.6006750017194,
                45.4693265503939
               ],
               [
                -73.5969113989909,
                45.4662290782584
               ],
               [
                -73.5952982354664,
                45.4653094409894
               ],
               [
                -73.593418397905,
                45.4661730419256
               ],
               [
                -73.5902980753151,
                45.4669303074751
               ],
               [
                -73.586192167734,
                45.4685776819367
               ],
               [
                -73.5831499688592,
                45.4704494618721
               ],
               [
                -73.5814009760351,
                45.4720006793341
               ],
               [
                -73.5787522413781,
                45.4747754151352
               ],
               [
                -73.5776045371727,
                45.4761591293053
               ],
               [
                -73.5751431743146,
                45.4755655583636
               ],
               [
                -73.5731337395658,
                45.4754020852012
               ],
               [
                -73.5723445217071,
                45.4741023764959
               ],
               [
                -73.5717046710668,
                45.4728345777635
               ],
               [
                -73.5722263249864,
                45.4666080942859
               ],
               [
                -73.5725692397967,
                45.4663779997673
               ],
               [
                -73.5760636235492,
                45.4665267227639
               ],
               [
                -73.57595438059,
                45.467731089093
               ],
               [
                -73.5774466724098,
                45.4677934094142
               ],
               [
                -73.5787521792962,
                45.467573327191
               ],
               [
                -73.5788688512642,
                45.4664809032158
               ],
               [
                -73.5806776025411,
                45.4665598624633
               ],
               [
                -73.5810988106852,
                45.464472934997
               ],
               [
                -73.5809592544789,
                45.4629192039784
               ],
               [
                -73.5803978450664,
                45.4607242060317
               ]
              ]
             ],
             "type": "Polygon"
            },
            "id": "162-Saint-PaulÉmard",
            "properties": {},
            "type": "Feature"
           },
           {
            "bbox": [
             -73.5810988106852,
             45.4441434701074,
             -73.531939269639,
             45.4752874231563
            ],
            "geometry": {
             "coordinates": [
              [
               [
                [
                 -73.561675647957,
                 45.457026812229
                ],
                [
                 -73.5636503131163,
                 45.4570986393357
                ],
                [
                 -73.5631589565038,
                 45.4599505630657
                ],
                [
                 -73.5803978450664,
                 45.4607242060317
                ],
                [
                 -73.5809592544789,
                 45.4629192039784
                ],
                [
                 -73.5810988106852,
                 45.464472934997
                ],
                [
                 -73.5806776025411,
                 45.4665598624633
                ],
                [
                 -73.5788688512642,
                 45.4664809032158
                ],
                [
                 -73.5787521792962,
                 45.467573327191
                ],
                [
                 -73.5774466724098,
                 45.4677934094142
                ],
                [
                 -73.57595438059,
                 45.467731089093
                ],
                [
                 -73.5760636235492,
                 45.4665267227639
                ],
                [
                 -73.5725692397967,
                 45.4663779997673
                ],
                [
                 -73.5722263249864,
                 45.4666080942859
                ],
                [
                 -73.5717046710668,
                 45.4728345777635
                ],
                [
                 -73.5723445217071,
                 45.4741023764959
                ],
                [
                 -73.5698754985218,
                 45.474526598925
                ],
                [
                 -73.5680238353449,
                 45.4742185784751
                ],
                [
                 -73.5629773154921,
                 45.472291406797
                ],
                [
                 -73.5630845502664,
                 45.4721519332886
                ],
                [
                 -73.5571517699907,
                 45.4699658746605
                ],
                [
                 -73.5566742286267,
                 45.4697998242277
                ],
                [
                 -73.5564729236705,
                 45.4697250295537
                ],
                [
                 -73.5568919723525,
                 45.4692509155842
                ],
                [
                 -73.5584979993156,
                 45.4688652320405
                ],
                [
                 -73.5594741255912,
                 45.4680886833354
                ],
                [
                 -73.5600314607336,
                 45.4630762897765
                ],
                [
                 -73.5602070432843,
                 45.4599716856435
                ],
                [
                 -73.5604361685249,
                 45.458927727929
                ],
                [
                 -73.561675647957,
                 45.457026812229
                ]
               ]
              ],
              [
               [
                [
                 -73.531939269639,
                 45.4668762388698
                ],
                [
                 -73.533282030383,
                 45.4668218592047
                ],
                [
                 -73.5391619813113,
                 45.4629235420104
                ],
                [
                 -73.5399777236207,
                 45.4591888832885
                ],
                [
                 -73.5484320046815,
                 45.4470555292603
                ],
                [
                 -73.5539781715369,
                 45.4450013623675
                ],
                [
                 -73.5598960265295,
                 45.4441434701074
                ],
                [
                 -73.5620234184536,
                 45.4489835563647
                ],
                [
                 -73.5598289224776,
                 45.4530789952144
                ],
                [
                 -73.5597287567806,
                 45.4550947277761
                ],
                [
                 -73.5567932176119,
                 45.4601984189426
                ],
                [
                 -73.5563771935053,
                 45.4660746682549
                ],
                [
                 -73.5556877795518,
                 45.4672628311292
                ],
                [
                 -73.5517365614674,
                 45.4676966587134
                ],
                [
                 -73.5498323828317,
                 45.4691552202777
                ],
                [
                 -73.5458565074551,
                 45.4710106620399
                ],
                [
                 -73.544425597308,
                 45.472837915256
                ],
                [
                 -73.541638672543,
                 45.4745667491612
                ],
                [
                 -73.539337021061,
                 45.4752874231563
                ],
                [
                 -73.5374306118892,
                 45.4744062177182
                ],
                [
                 -73.5344866609104,
                 45.4708347638261
                ],
                [
                 -73.5344988591904,
                 45.4699079767891
                ],
                [
                 -73.5334499941273,
                 45.4695573443126
                ],
                [
                 -73.531939269639,
                 45.4668762388698
                ]
               ]
              ]
             ],
             "type": "MultiPolygon"
            },
            "id": "171-ChamplainL'Île-des-Soeurs",
            "properties": {},
            "type": "Feature"
           },
           {
            "bbox": [
             -73.5993656298056,
             45.4350036826887,
             -73.561675647957,
             45.4607242060317
            ],
            "geometry": {
             "coordinates": [
              [
               [
                -73.5837871545249,
                45.4350036826887
               ],
               [
                -73.5993656298056,
                45.437522488597
               ],
               [
                -73.5946364116012,
                45.4432356001591
               ],
               [
                -73.590317536462,
                45.4476444830976
               ],
               [
                -73.5895426922804,
                45.4479760865095
               ],
               [
                -73.5873026203887,
                45.4501968887305
               ],
               [
                -73.5841878662571,
                45.4525126975338
               ],
               [
                -73.5822612868352,
                45.4543201865436
               ],
               [
                -73.5808415940198,
                45.4566805659982
               ],
               [
                -73.580383848446,
                45.45869859258
               ],
               [
                -73.5803978450664,
                45.4607242060317
               ],
               [
                -73.5631589565038,
                45.4599505630657
               ],
               [
                -73.5636503131163,
                45.4570986393357
               ],
               [
                -73.561675647957,
                45.457026812229
               ],
               [
                -73.5644316339364,
                45.4531214887569
               ],
               [
                -73.5653629828168,
                45.4514382552214
               ],
               [
                -73.5666188947215,
                45.4498773089445
               ],
               [
                -73.5684785830554,
                45.4481879229679
               ],
               [
                -73.5692699550472,
                45.4471436069185
               ],
               [
                -73.5705853638418,
                45.446107961992
               ],
               [
                -73.5722579304274,
                45.444469116852
               ],
               [
                -73.5739182313887,
                45.4433612189646
               ],
               [
                -73.5756800507555,
                45.4416593600233
               ],
               [
                -73.5779148011138,
                45.4400830529182
               ],
               [
                -73.5837871545249,
                45.4350036826887
               ]
              ]
             ],
             "type": "Polygon"
            },
            "id": "172-Desmarchais-Crawford",
            "properties": {},
            "type": "Feature"
           },
           {
            "bbox": [
             -73.6068399722065,
             45.4863226865868,
             -73.5607477815647,
             45.5167596569974
            ],
            "geometry": {
             "coordinates": [
              [
               [
                -73.5734800018833,
                45.5049709717948
               ],
               [
                -73.5674300859224,
                45.5019457643141
               ],
               [
                -73.5651563545969,
                45.5009257536286
               ],
               [
                -73.5607477815647,
                45.4979125426916
               ],
               [
                -73.561988917097,
                45.497173589984
               ],
               [
                -73.5630011277184,
                45.4954107671203
               ],
               [
                -73.5653550896585,
                45.4921968620631
               ],
               [
                -73.5671882558807,
                45.4901263927885
               ],
               [
                -73.5726247033677,
                45.4927252183027
               ],
               [
                -73.5788051804801,
                45.4879299741214
               ],
               [
                -73.5812577295116,
                45.4863226865868
               ],
               [
                -73.583103429338,
                45.4880924257338
               ],
               [
                -73.5822957867321,
                45.4883263628527
               ],
               [
                -73.5956809652028,
                45.4926003378767
               ],
               [
                -73.5964675380297,
                45.491704867985
               ],
               [
                -73.6012074615523,
                45.4937019439569
               ],
               [
                -73.6009266859408,
                45.4942697485875
               ],
               [
                -73.6045082688859,
                45.4947060857692
               ],
               [
                -73.6068399722065,
                45.4952769144878
               ],
               [
                -73.6044775189475,
                45.4952226776326
               ],
               [
                -73.6033750499038,
                45.4967309718248
               ],
               [
                -73.6009279740317,
                45.4988800346583
               ],
               [
                -73.5997960499359,
                45.5001439911523
               ],
               [
                -73.5977240363362,
                45.5016310280474
               ],
               [
                -73.594737745289,
                45.5028667176493
               ],
               [
                -73.5941401789655,
                45.5033436344744
               ],
               [
                -73.5956108742759,
                45.504064067218
               ],
               [
                -73.591464574106,
                45.508070751295
               ],
               [
                -73.594191031848,
                45.5097864575692
               ],
               [
                -73.5935088435771,
                45.5105257693584
               ],
               [
                -73.5949672180747,
                45.5109069459258
               ],
               [
                -73.5969012890154,
                45.5117790625741
               ],
               [
                -73.5969405107098,
                45.5130415385056
               ],
               [
                -73.598896296438,
                45.5131127563816
               ],
               [
                -73.5978614314752,
                45.5141637733071
               ],
               [
                -73.5968586638591,
                45.5145623065118
               ],
               [
                -73.5918451342772,
                45.5144729450241
               ],
               [
                -73.5911992183544,
                45.5147110287094
               ],
               [
                -73.5902604532774,
                45.5157813641729
               ],
               [
                -73.5893088980696,
                45.5167596569974
               ],
               [
                -73.582430798457,
                45.5136019767056
               ],
               [
                -73.5786781018666,
                45.5117608495828
               ],
               [
                -73.5785542203746,
                45.5104511791594
               ],
               [
                -73.580113792401,
                45.5081921313855
               ],
               [
                -73.5734800018833,
                45.5049709717948
               ]
              ]
             ],
             "type": "Polygon"
            },
            "id": "181-Peter-McGill",
            "properties": {},
            "type": "Feature"
           },
           {
            "bbox": [
             -73.5734800018833,
             45.4880751564896,
             -73.5390758626817,
             45.5238165260966
            ],
            "geometry": {
             "coordinates": [
              [
               [
                -73.5448806808084,
                45.5191907535652
               ],
               [
                -73.5464379266303,
                45.5162854363298
               ],
               [
                -73.5468620115755,
                45.513857976795
               ],
               [
                -73.5492190367874,
                45.5102959685844
               ],
               [
                -73.5477210054261,
                45.5103219824598
               ],
               [
                -73.5469030036515,
                45.5117340389128
               ],
               [
                -73.54657799908,
                45.5129270270646
               ],
               [
                -73.5456969917881,
                45.512357998283
               ],
               [
                -73.5463640090514,
                45.5093239803744
               ],
               [
                -73.549695020088,
                45.5092129682665
               ],
               [
                -73.550625003396,
                45.5079019928894
               ],
               [
                -73.5467100456003,
                45.5077980094498
               ],
               [
                -73.5469790182482,
                45.5067930379886
               ],
               [
                -73.5514338758453,
                45.5065970940784
               ],
               [
                -73.5520469804644,
                45.5053720127641
               ],
               [
                -73.5473670408895,
                45.5056550070783
               ],
               [
                -73.5477130465639,
                45.5046509913685
               ],
               [
                -73.552496564402,
                45.5042657932143
               ],
               [
                -73.5528089694944,
                45.5031050102093
               ],
               [
                -73.5479779947401,
                45.5032960364571
               ],
               [
                -73.5483780292475,
                45.5021840045336
               ],
               [
                -73.5528640439438,
                45.5019529839854
               ],
               [
                -73.5523299208625,
                45.4996958153214
               ],
               [
                -73.5495469612169,
                45.4995170102135
               ],
               [
                -73.5501069846685,
                45.4916750357777
               ],
               [
                -73.5489559611269,
                45.4916509673111
               ],
               [
                -73.5478249505202,
                45.4998100412319
               ],
               [
                -73.5461249747178,
                45.4997069784511
               ],
               [
                -73.5466960251749,
                45.494926043877
               ],
               [
                -73.5457370062228,
                45.4948960144495
               ],
               [
                -73.5450679617308,
                45.4999819687279
               ],
               [
                -73.5437740015677,
                45.5074910365882
               ],
               [
                -73.5427789476457,
                45.5078289768043
               ],
               [
                -73.542713028629,
                45.5014819775582
               ],
               [
                -73.5425669725168,
                45.4977269821455
               ],
               [
                -73.5411679652957,
                45.4913989983256
               ],
               [
                -73.5390758626817,
                45.4883382585102
               ],
               [
                -73.5398824970348,
                45.4880751564896
               ],
               [
                -73.5411879980439,
                45.4884799718781
               ],
               [
                -73.5496180493079,
                45.4900890295113
               ],
               [
                -73.5507109567109,
                45.4904150448375
               ],
               [
                -73.5524160214136,
                45.4912899988865
               ],
               [
                -73.5533130105218,
                45.4921853756885
               ],
               [
                -73.5545777017417,
                45.4947339282606
               ],
               [
                -73.5559728136711,
                45.4959454567625
               ],
               [
                -73.5594748545018,
                45.4973055470605
               ],
               [
                -73.5607477815647,
                45.4979125426916
               ],
               [
                -73.5651563545969,
                45.5009257536286
               ],
               [
                -73.5674300859224,
                45.5019457643141
               ],
               [
                -73.5734800018833,
                45.5049709717948
               ],
               [
                -73.5729588302122,
                45.5055494196855
               ],
               [
                -73.571279665339,
                45.5083636436696
               ],
               [
                -73.5655904084691,
                45.5210639273018
               ],
               [
                -73.5655614721314,
                45.5213643879447
               ],
               [
                -73.5652383566418,
                45.5238165260966
               ],
               [
                -73.5568838251035,
                45.5199246700318
               ],
               [
                -73.5537687235941,
                45.5232551201153
               ],
               [
                -73.5497109051325,
                45.521356149553
               ],
               [
                -73.5448806808084,
                45.5191907535652
               ]
              ]
             ],
             "type": "Polygon"
            },
            "id": "182-Saint-Jacques",
            "properties": {},
            "type": "Feature"
           },
           {
            "bbox": [
             -73.5652383566418,
             45.4951826206437,
             -73.5190996853698,
             45.5399028690768
            ],
            "geometry": {
             "coordinates": [
              [
               [
                [
                 -73.5274147442424,
                 45.5235135910537
                ],
                [
                 -73.5251840405205,
                 45.5163154069544
                ],
                [
                 -73.5190996853698,
                 45.4964289566498
                ],
                [
                 -73.5196839019087,
                 45.4963133966792
                ],
                [
                 -73.5192316055091,
                 45.4951826206437
                ],
                [
                 -73.5235780132462,
                 45.4965380018334
                ],
                [
                 -73.5262219855313,
                 45.4982100373889
                ],
                [
                 -73.5284680362731,
                 45.4999489748907
                ],
                [
                 -73.5298469696156,
                 45.5015420394984
                ],
                [
                 -73.5305050225488,
                 45.5047999722322
                ],
                [
                 -73.5301920008631,
                 45.5074609662696
                ],
                [
                 -73.5284829714113,
                 45.5111469746062
                ],
                [
                 -73.5295139475797,
                 45.521700975721
                ],
                [
                 -73.5275250227419,
                 45.5218729979917
                ],
                [
                 -73.5274147442424,
                 45.5235135910537
                ]
               ]
              ],
              [
               [
                [
                 -73.5323979026789,
                 45.5309116588315
                ],
                [
                 -73.5322539821252,
                 45.5289053155386
                ],
                [
                 -73.532650406906,
                 45.5287379966455
                ],
                [
                 -73.535473289372,
                 45.5289601566106
                ],
                [
                 -73.5360719733226,
                 45.5280409644584
                ],
                [
                 -73.535776948517,
                 45.527560047342
                ],
                [
                 -73.5344149864457,
                 45.5272360422621
                ],
                [
                 -73.5339490789414,
                 45.5259734056912
                ],
                [
                 -73.5318552691702,
                 45.5248370417729
                ],
                [
                 -73.5314333871381,
                 45.5222881159041
                ],
                [
                 -73.5315020312839,
                 45.5206100031596
                ],
                [
                 -73.5304254498686,
                 45.5175627808954
                ],
                [
                 -73.5300105388493,
                 45.5149954869969
                ],
                [
                 -73.530089354595,
                 45.5141148861583
                ],
                [
                 -73.5320378226962,
                 45.5082952174682
                ],
                [
                 -73.5331764353799,
                 45.5063562405992
                ],
                [
                 -73.5349739836122,
                 45.5062349788193
                ],
                [
                 -73.5356400145159,
                 45.5066940066737
                ],
                [
                 -73.5374959977644,
                 45.5096790170141
                ],
                [
                 -73.5387299917373,
                 45.5139430070273
                ],
                [
                 -73.5384300301647,
                 45.5176120247025
                ],
                [
                 -73.5393770324368,
                 45.5206029708317
                ],
                [
                 -73.5399389592119,
                 45.523607991237
                ],
                [
                 -73.5390530375969,
                 45.5256939673896
                ],
                [
                 -73.5354039767675,
                 45.5305800445252
                ],
                [
                 -73.5342920245728,
                 45.5315010077074
                ],
                [
                 -73.5329380014176,
                 45.53135795749
                ],
                [
                 -73.5323979026789,
                 45.5309116588315
                ]
               ]
              ],
              [
               [
                [
                 -73.5448806808084,
                 45.5191907535652
                ],
                [
                 -73.5497109051325,
                 45.521356149553
                ],
                [
                 -73.5537687235941,
                 45.5232551201153
                ],
                [
                 -73.5568838251035,
                 45.5199246700318
                ],
                [
                 -73.5652383566418,
                 45.5238165260966
                ],
                [
                 -73.5641429566138,
                 45.5273492053093
                ],
                [
                 -73.5613401818778,
                 45.5359226324552
                ],
                [
                 -73.5592280432661,
                 45.5399028690768
                ],
                [
                 -73.550216365092,
                 45.5389758922042
                ],
                [
                 -73.5482541001656,
                 45.5383569002539
                ],
                [
                 -73.5473499781753,
                 45.5376709059424
                ],
                [
                 -73.5439636509721,
                 45.5334697006227
                ],
                [
                 -73.5428587889529,
                 45.5304546205586
                ],
                [
                 -73.5417879567955,
                 45.529933001055
                ],
                [
                 -73.542631029933,
                 45.5272240023092
                ],
                [
                 -73.5433079570219,
                 45.5259280339674
                ],
                [
                 -73.5450449609183,
                 45.5202409952069
                ],
                [
                 -73.5448806808084,
                 45.5191907535652
                ]
               ]
              ]
             ],
             "type": "MultiPolygon"
            },
            "id": "183-Sainte-Marie",
            "properties": {},
            "type": "Feature"
           },
           {
            "bbox": [
             -73.6453511352974,
             45.5519916303917,
             -73.5986381445569,
             45.5854624669655
            ],
            "geometry": {
             "coordinates": [
              [
               [
                -73.5986381445569,
                45.5714628841478
               ],
               [
                -73.6027105259893,
                45.5669595870386
               ],
               [
                -73.6076346034193,
                45.5613579100341
               ],
               [
                -73.6093881709895,
                45.5598575160123
               ],
               [
                -73.6142388370954,
                45.5543735967318
               ],
               [
                -73.6161654573353,
                45.5519916303917
               ],
               [
                -73.6217484540132,
                45.5544783077209
               ],
               [
                -73.6240413737876,
                45.5555253903511
               ],
               [
                -73.6453511352974,
                45.5647725775888
               ],
               [
                -73.6446417578686,
                45.5658132919643
               ],
               [
                -73.6362833815582,
                45.5758266113331
               ],
               [
                -73.6363215300962,
                45.5759177646435
               ],
               [
                -73.6327012962769,
                45.5799802985646
               ],
               [
                -73.631962332515,
                45.579640175342
               ],
               [
                -73.6288186186035,
                45.5832571469721
               ],
               [
                -73.6280749026379,
                45.5838243220039
               ],
               [
                -73.6267569494518,
                45.5854624669655
               ],
               [
                -73.6242513055513,
                45.5846473290482
               ],
               [
                -73.623269111324,
                45.5839925896586
               ],
               [
                -73.6208358233192,
                45.5828408672289
               ],
               [
                -73.6148320474836,
                45.580191303428
               ],
               [
                -73.6113135304111,
                45.5785547523195
               ],
               [
                -73.6043589520305,
                45.5755705351656
               ],
               [
                -73.6023753660902,
                45.5742891313383
               ],
               [
                -73.6005459884454,
                45.5740149891614
               ],
               [
                -73.6016424297946,
                45.5727835347079
               ],
               [
                -73.5986381445569,
                45.5714628841478
               ]
              ]
             ],
             "type": "Polygon"
            },
            "id": "191-Saint-Michel",
            "properties": {},
            "type": "Feature"
           },
           {
            "bbox": [
             -73.6235005117779,
             45.5461409843801,
             -73.5863094536503,
             45.5714628841478
            ],
            "geometry": {
             "coordinates": [
              [
               [
                -73.5871520545273,
                45.566412729231
               ],
               [
                -73.5863094536503,
                45.5661499995185
               ],
               [
                -73.5910006798707,
                45.5607570868859
               ],
               [
                -73.5975914187124,
                45.553207322408
               ],
               [
                -73.6019471163738,
                45.5481178990012
               ],
               [
                -73.6035398110948,
                45.5463469119155
               ],
               [
                -73.6070387029669,
                45.5479557550382
               ],
               [
                -73.6086846729618,
                45.5461409843801
               ],
               [
                -73.6205880272051,
                45.5514560807313
               ],
               [
                -73.6201064769685,
                45.5520190517324
               ],
               [
                -73.6235005117779,
                45.5536358848324
               ],
               [
                -73.6217484540132,
                45.5544783077209
               ],
               [
                -73.6161654573353,
                45.5519916303917
               ],
               [
                -73.6142388370954,
                45.5543735967318
               ],
               [
                -73.6093881709895,
                45.5598575160123
               ],
               [
                -73.6076346034193,
                45.5613579100341
               ],
               [
                -73.6027105259893,
                45.5669595870386
               ],
               [
                -73.5986381445569,
                45.5714628841478
               ],
               [
                -73.5874046777632,
                45.5664890958155
               ],
               [
                -73.5871520545273,
                45.566412729231
               ]
              ]
             ],
             "type": "Polygon"
            },
            "id": "192-François-Perrault",
            "properties": {},
            "type": "Feature"
           },
           {
            "bbox": [
             -73.6407295659042,
             45.5357046144078,
             -73.6086846729618,
             45.5536358848324
            ],
            "geometry": {
             "coordinates": [
              [
               [
                -73.6168611349556,
                45.5357046144078
               ],
               [
                -73.618922206967,
                45.5366652760056
               ],
               [
                -73.6407295659042,
                45.5429686686779
               ],
               [
                -73.6398673671325,
                45.5441488267699
               ],
               [
                -73.6363671046978,
                45.548169415833
               ],
               [
                -73.6342899238824,
                45.5494628161417
               ],
               [
                -73.6325600663803,
                45.5499795021129
               ],
               [
                -73.6301686544477,
                45.5503989164938
               ],
               [
                -73.6278096771011,
                45.5513024018691
               ],
               [
                -73.6235005117779,
                45.5536358848324
               ],
               [
                -73.6201064769685,
                45.5520190517324
               ],
               [
                -73.6205880272051,
                45.5514560807313
               ],
               [
                -73.6086846729618,
                45.5461409843801
               ],
               [
                -73.6123252903368,
                45.5421333051385
               ],
               [
                -73.6144250141163,
                45.5383032859687
               ],
               [
                -73.6168611349556,
                45.5357046144078
               ]
              ]
             ],
             "type": "Polygon"
            },
            "id": "193-Villeray",
            "properties": {},
            "type": "Feature"
           },
           {
            "bbox": [
             -73.6485543103777,
             45.5233405909978,
             -73.6168611349556,
             45.5429686686779
            ],
            "geometry": {
             "coordinates": [
              [
               [
                -73.6170925681517,
                45.5277209056734
               ],
               [
                -73.617235572865,
                45.5277835686717
               ],
               [
                -73.6208637881685,
                45.5236565043515
               ],
               [
                -73.6221372911404,
                45.5240220054992
               ],
               [
                -73.6227576775837,
                45.5233405909978
               ],
               [
                -73.6485543103777,
                45.5308320827376
               ],
               [
                -73.6407295659042,
                45.5429686686779
               ],
               [
                -73.618922206967,
                45.5366652760056
               ],
               [
                -73.6168611349556,
                45.5357046144078
               ],
               [
                -73.6182756954315,
                45.5346855542873
               ],
               [
                -73.6215351178101,
                45.5311083503899
               ],
               [
                -73.6190955864224,
                45.5306548374863
               ],
               [
                -73.6174856875378,
                45.5297416402976
               ],
               [
                -73.6170629786343,
                45.5290836882431
               ],
               [
                -73.6170925681517,
                45.5277209056734
               ]
              ]
             ],
             "type": "Polygon"
            },
            "id": "194-Parc-Extension",
            "properties": {},
            "type": "Feature"
           }
          ],
          "type": "FeatureCollection"
         },
         "hovertemplate": "district=%{location}<br>Joly=%{z}<extra></extra>",
         "locations": [
          "11-Sault-au-Récollet",
          "12-Saint-Sulpice",
          "13-Ahuntsic",
          "14-Bordeaux-Cartierville",
          "21-Ouest",
          "22-Est",
          "23-Centre",
          "31-Darlington",
          "32-Côte-des-Neiges",
          "33-Snowdon",
          "34-Notre-Dame-de-Grâce",
          "35-Loyola",
          "41-du Canal",
          "42-J.-Émery-Provost",
          "43-Fort-Rolland",
          "51-Sault-Saint-Louis",
          "52-Cecil-P.-Newman",
          "61-Pierre-Foretier",
          "62-Denis-Benjamin-Viger",
          "63-Jacques-Bizard",
          "64-Sainte-Geneviève",
          "71-Tétreaultville",
          "72-MaisonneuveLongue-Pointe",
          "73-Hochelaga",
          "74-Louis-Riel",
          "81-Marie-Clarac",
          "82-Ovide-Clermont",
          "91-Claude-Ryan",
          "92-Joseph-Beaubien",
          "93-Robert-Bourassa",
          "94-Jeanne-Sauvé",
          "101-Bois-de-Liesse",
          "102-Cap-Saint-Jacques",
          "111-Mile-End",
          "113-Jeanne-Mance",
          "121-La Pointe-aux-Prairies",
          "122-Pointe-aux-Trembles",
          "123-Rivière-des-Prairies",
          "131-Saint-Édouard",
          "132-Étienne-Desmarteau",
          "133-Vieux-Rosemont",
          "134-Marie-Victorin",
          "141-Côte-de-Liesse",
          "142-Norman-McLaren",
          "151-Saint-Léonard-Est",
          "152-Saint-Léonard-Ouest",
          "161-Saint-HenriPetite-BourgognePointe-Saint-Charles",
          "162-Saint-PaulÉmard",
          "171-ChamplainL'Île-des-Soeurs",
          "172-Desmarchais-Crawford",
          "181-Peter-McGill",
          "182-Saint-Jacques",
          "183-Sainte-Marie",
          "191-Saint-Michel",
          "192-François-Perrault",
          "193-Villeray",
          "194-Parc-Extension"
         ],
         "name": "",
         "type": "choropleth",
         "z": [
          2532,
          2543,
          2873,
          2081,
          1076,
          1172,
          1286,
          1232,
          1578,
          1636,
          3262,
          2648,
          1266,
          1157,
          1908,
          3717,
          2943,
          998,
          1068,
          690,
          326,
          3454,
          3139,
          2675,
          2338,
          1435,
          1051,
          423,
          592,
          419,
          489,
          3024,
          2675,
          2514,
          2316,
          3330,
          2852,
          1656,
          2815,
          2788,
          3234,
          2431,
          3959,
          2822,
          1641,
          1908,
          3578,
          2438,
          3291,
          2849,
          1894,
          2282,
          2271,
          1220,
          2039,
          2782,
          1402
         ]
        }
       ],
       "layout": {
        "autosize": true,
        "coloraxis": {
         "colorbar": {
          "title": {
           "text": "Joly"
          }
         },
         "colorscale": [
          [
           0,
           "#0d0887"
          ],
          [
           0.1111111111111111,
           "#46039f"
          ],
          [
           0.2222222222222222,
           "#7201a8"
          ],
          [
           0.3333333333333333,
           "#9c179e"
          ],
          [
           0.4444444444444444,
           "#bd3786"
          ],
          [
           0.5555555555555556,
           "#d8576b"
          ],
          [
           0.6666666666666666,
           "#ed7953"
          ],
          [
           0.7777777777777778,
           "#fb9f3a"
          ],
          [
           0.8888888888888888,
           "#fdca26"
          ],
          [
           1,
           "#f0f921"
          ]
         ]
        },
        "geo": {
         "center": {},
         "domain": {
          "x": [
           0,
           1
          ],
          "y": [
           0,
           1
          ]
         },
         "fitbounds": "locations",
         "projection": {
          "type": "mercator"
         },
         "visible": false
        },
        "legend": {
         "tracegroupgap": 0
        },
        "margin": {
         "t": 60
        },
        "template": {
         "data": {
          "bar": [
           {
            "error_x": {
             "color": "#2a3f5f"
            },
            "error_y": {
             "color": "#2a3f5f"
            },
            "marker": {
             "line": {
              "color": "#E5ECF6",
              "width": 0.5
             }
            },
            "type": "bar"
           }
          ],
          "barpolar": [
           {
            "marker": {
             "line": {
              "color": "#E5ECF6",
              "width": 0.5
             }
            },
            "type": "barpolar"
           }
          ],
          "carpet": [
           {
            "aaxis": {
             "endlinecolor": "#2a3f5f",
             "gridcolor": "white",
             "linecolor": "white",
             "minorgridcolor": "white",
             "startlinecolor": "#2a3f5f"
            },
            "baxis": {
             "endlinecolor": "#2a3f5f",
             "gridcolor": "white",
             "linecolor": "white",
             "minorgridcolor": "white",
             "startlinecolor": "#2a3f5f"
            },
            "type": "carpet"
           }
          ],
          "choropleth": [
           {
            "colorbar": {
             "outlinewidth": 0,
             "ticks": ""
            },
            "type": "choropleth"
           }
          ],
          "contour": [
           {
            "colorbar": {
             "outlinewidth": 0,
             "ticks": ""
            },
            "colorscale": [
             [
              0,
              "#0d0887"
             ],
             [
              0.1111111111111111,
              "#46039f"
             ],
             [
              0.2222222222222222,
              "#7201a8"
             ],
             [
              0.3333333333333333,
              "#9c179e"
             ],
             [
              0.4444444444444444,
              "#bd3786"
             ],
             [
              0.5555555555555556,
              "#d8576b"
             ],
             [
              0.6666666666666666,
              "#ed7953"
             ],
             [
              0.7777777777777778,
              "#fb9f3a"
             ],
             [
              0.8888888888888888,
              "#fdca26"
             ],
             [
              1,
              "#f0f921"
             ]
            ],
            "type": "contour"
           }
          ],
          "contourcarpet": [
           {
            "colorbar": {
             "outlinewidth": 0,
             "ticks": ""
            },
            "type": "contourcarpet"
           }
          ],
          "heatmap": [
           {
            "colorbar": {
             "outlinewidth": 0,
             "ticks": ""
            },
            "colorscale": [
             [
              0,
              "#0d0887"
             ],
             [
              0.1111111111111111,
              "#46039f"
             ],
             [
              0.2222222222222222,
              "#7201a8"
             ],
             [
              0.3333333333333333,
              "#9c179e"
             ],
             [
              0.4444444444444444,
              "#bd3786"
             ],
             [
              0.5555555555555556,
              "#d8576b"
             ],
             [
              0.6666666666666666,
              "#ed7953"
             ],
             [
              0.7777777777777778,
              "#fb9f3a"
             ],
             [
              0.8888888888888888,
              "#fdca26"
             ],
             [
              1,
              "#f0f921"
             ]
            ],
            "type": "heatmap"
           }
          ],
          "heatmapgl": [
           {
            "colorbar": {
             "outlinewidth": 0,
             "ticks": ""
            },
            "colorscale": [
             [
              0,
              "#0d0887"
             ],
             [
              0.1111111111111111,
              "#46039f"
             ],
             [
              0.2222222222222222,
              "#7201a8"
             ],
             [
              0.3333333333333333,
              "#9c179e"
             ],
             [
              0.4444444444444444,
              "#bd3786"
             ],
             [
              0.5555555555555556,
              "#d8576b"
             ],
             [
              0.6666666666666666,
              "#ed7953"
             ],
             [
              0.7777777777777778,
              "#fb9f3a"
             ],
             [
              0.8888888888888888,
              "#fdca26"
             ],
             [
              1,
              "#f0f921"
             ]
            ],
            "type": "heatmapgl"
           }
          ],
          "histogram": [
           {
            "marker": {
             "colorbar": {
              "outlinewidth": 0,
              "ticks": ""
             }
            },
            "type": "histogram"
           }
          ],
          "histogram2d": [
           {
            "colorbar": {
             "outlinewidth": 0,
             "ticks": ""
            },
            "colorscale": [
             [
              0,
              "#0d0887"
             ],
             [
              0.1111111111111111,
              "#46039f"
             ],
             [
              0.2222222222222222,
              "#7201a8"
             ],
             [
              0.3333333333333333,
              "#9c179e"
             ],
             [
              0.4444444444444444,
              "#bd3786"
             ],
             [
              0.5555555555555556,
              "#d8576b"
             ],
             [
              0.6666666666666666,
              "#ed7953"
             ],
             [
              0.7777777777777778,
              "#fb9f3a"
             ],
             [
              0.8888888888888888,
              "#fdca26"
             ],
             [
              1,
              "#f0f921"
             ]
            ],
            "type": "histogram2d"
           }
          ],
          "histogram2dcontour": [
           {
            "colorbar": {
             "outlinewidth": 0,
             "ticks": ""
            },
            "colorscale": [
             [
              0,
              "#0d0887"
             ],
             [
              0.1111111111111111,
              "#46039f"
             ],
             [
              0.2222222222222222,
              "#7201a8"
             ],
             [
              0.3333333333333333,
              "#9c179e"
             ],
             [
              0.4444444444444444,
              "#bd3786"
             ],
             [
              0.5555555555555556,
              "#d8576b"
             ],
             [
              0.6666666666666666,
              "#ed7953"
             ],
             [
              0.7777777777777778,
              "#fb9f3a"
             ],
             [
              0.8888888888888888,
              "#fdca26"
             ],
             [
              1,
              "#f0f921"
             ]
            ],
            "type": "histogram2dcontour"
           }
          ],
          "mesh3d": [
           {
            "colorbar": {
             "outlinewidth": 0,
             "ticks": ""
            },
            "type": "mesh3d"
           }
          ],
          "parcoords": [
           {
            "line": {
             "colorbar": {
              "outlinewidth": 0,
              "ticks": ""
             }
            },
            "type": "parcoords"
           }
          ],
          "pie": [
           {
            "automargin": true,
            "type": "pie"
           }
          ],
          "scatter": [
           {
            "marker": {
             "colorbar": {
              "outlinewidth": 0,
              "ticks": ""
             }
            },
            "type": "scatter"
           }
          ],
          "scatter3d": [
           {
            "line": {
             "colorbar": {
              "outlinewidth": 0,
              "ticks": ""
             }
            },
            "marker": {
             "colorbar": {
              "outlinewidth": 0,
              "ticks": ""
             }
            },
            "type": "scatter3d"
           }
          ],
          "scattercarpet": [
           {
            "marker": {
             "colorbar": {
              "outlinewidth": 0,
              "ticks": ""
             }
            },
            "type": "scattercarpet"
           }
          ],
          "scattergeo": [
           {
            "marker": {
             "colorbar": {
              "outlinewidth": 0,
              "ticks": ""
             }
            },
            "type": "scattergeo"
           }
          ],
          "scattergl": [
           {
            "marker": {
             "colorbar": {
              "outlinewidth": 0,
              "ticks": ""
             }
            },
            "type": "scattergl"
           }
          ],
          "scattermapbox": [
           {
            "marker": {
             "colorbar": {
              "outlinewidth": 0,
              "ticks": ""
             }
            },
            "type": "scattermapbox"
           }
          ],
          "scatterpolar": [
           {
            "marker": {
             "colorbar": {
              "outlinewidth": 0,
              "ticks": ""
             }
            },
            "type": "scatterpolar"
           }
          ],
          "scatterpolargl": [
           {
            "marker": {
             "colorbar": {
              "outlinewidth": 0,
              "ticks": ""
             }
            },
            "type": "scatterpolargl"
           }
          ],
          "scatterternary": [
           {
            "marker": {
             "colorbar": {
              "outlinewidth": 0,
              "ticks": ""
             }
            },
            "type": "scatterternary"
           }
          ],
          "surface": [
           {
            "colorbar": {
             "outlinewidth": 0,
             "ticks": ""
            },
            "colorscale": [
             [
              0,
              "#0d0887"
             ],
             [
              0.1111111111111111,
              "#46039f"
             ],
             [
              0.2222222222222222,
              "#7201a8"
             ],
             [
              0.3333333333333333,
              "#9c179e"
             ],
             [
              0.4444444444444444,
              "#bd3786"
             ],
             [
              0.5555555555555556,
              "#d8576b"
             ],
             [
              0.6666666666666666,
              "#ed7953"
             ],
             [
              0.7777777777777778,
              "#fb9f3a"
             ],
             [
              0.8888888888888888,
              "#fdca26"
             ],
             [
              1,
              "#f0f921"
             ]
            ],
            "type": "surface"
           }
          ],
          "table": [
           {
            "cells": {
             "fill": {
              "color": "#EBF0F8"
             },
             "line": {
              "color": "white"
             }
            },
            "header": {
             "fill": {
              "color": "#C8D4E3"
             },
             "line": {
              "color": "white"
             }
            },
            "type": "table"
           }
          ]
         },
         "layout": {
          "annotationdefaults": {
           "arrowcolor": "#2a3f5f",
           "arrowhead": 0,
           "arrowwidth": 1
          },
          "autotypenumbers": "strict",
          "coloraxis": {
           "colorbar": {
            "outlinewidth": 0,
            "ticks": ""
           }
          },
          "colorscale": {
           "diverging": [
            [
             0,
             "#8e0152"
            ],
            [
             0.1,
             "#c51b7d"
            ],
            [
             0.2,
             "#de77ae"
            ],
            [
             0.3,
             "#f1b6da"
            ],
            [
             0.4,
             "#fde0ef"
            ],
            [
             0.5,
             "#f7f7f7"
            ],
            [
             0.6,
             "#e6f5d0"
            ],
            [
             0.7,
             "#b8e186"
            ],
            [
             0.8,
             "#7fbc41"
            ],
            [
             0.9,
             "#4d9221"
            ],
            [
             1,
             "#276419"
            ]
           ],
           "sequential": [
            [
             0,
             "#0d0887"
            ],
            [
             0.1111111111111111,
             "#46039f"
            ],
            [
             0.2222222222222222,
             "#7201a8"
            ],
            [
             0.3333333333333333,
             "#9c179e"
            ],
            [
             0.4444444444444444,
             "#bd3786"
            ],
            [
             0.5555555555555556,
             "#d8576b"
            ],
            [
             0.6666666666666666,
             "#ed7953"
            ],
            [
             0.7777777777777778,
             "#fb9f3a"
            ],
            [
             0.8888888888888888,
             "#fdca26"
            ],
            [
             1,
             "#f0f921"
            ]
           ],
           "sequentialminus": [
            [
             0,
             "#0d0887"
            ],
            [
             0.1111111111111111,
             "#46039f"
            ],
            [
             0.2222222222222222,
             "#7201a8"
            ],
            [
             0.3333333333333333,
             "#9c179e"
            ],
            [
             0.4444444444444444,
             "#bd3786"
            ],
            [
             0.5555555555555556,
             "#d8576b"
            ],
            [
             0.6666666666666666,
             "#ed7953"
            ],
            [
             0.7777777777777778,
             "#fb9f3a"
            ],
            [
             0.8888888888888888,
             "#fdca26"
            ],
            [
             1,
             "#f0f921"
            ]
           ]
          },
          "colorway": [
           "#636efa",
           "#EF553B",
           "#00cc96",
           "#ab63fa",
           "#FFA15A",
           "#19d3f3",
           "#FF6692",
           "#B6E880",
           "#FF97FF",
           "#FECB52"
          ],
          "font": {
           "color": "#2a3f5f"
          },
          "geo": {
           "bgcolor": "white",
           "lakecolor": "white",
           "landcolor": "#E5ECF6",
           "showlakes": true,
           "showland": true,
           "subunitcolor": "white"
          },
          "hoverlabel": {
           "align": "left"
          },
          "hovermode": "closest",
          "mapbox": {
           "style": "light"
          },
          "paper_bgcolor": "white",
          "plot_bgcolor": "#E5ECF6",
          "polar": {
           "angularaxis": {
            "gridcolor": "white",
            "linecolor": "white",
            "ticks": ""
           },
           "bgcolor": "#E5ECF6",
           "radialaxis": {
            "gridcolor": "white",
            "linecolor": "white",
            "ticks": ""
           }
          },
          "scene": {
           "xaxis": {
            "backgroundcolor": "#E5ECF6",
            "gridcolor": "white",
            "gridwidth": 2,
            "linecolor": "white",
            "showbackground": true,
            "ticks": "",
            "zerolinecolor": "white"
           },
           "yaxis": {
            "backgroundcolor": "#E5ECF6",
            "gridcolor": "white",
            "gridwidth": 2,
            "linecolor": "white",
            "showbackground": true,
            "ticks": "",
            "zerolinecolor": "white"
           },
           "zaxis": {
            "backgroundcolor": "#E5ECF6",
            "gridcolor": "white",
            "gridwidth": 2,
            "linecolor": "white",
            "showbackground": true,
            "ticks": "",
            "zerolinecolor": "white"
           }
          },
          "shapedefaults": {
           "line": {
            "color": "#2a3f5f"
           }
          },
          "ternary": {
           "aaxis": {
            "gridcolor": "white",
            "linecolor": "white",
            "ticks": ""
           },
           "baxis": {
            "gridcolor": "white",
            "linecolor": "white",
            "ticks": ""
           },
           "bgcolor": "#E5ECF6",
           "caxis": {
            "gridcolor": "white",
            "linecolor": "white",
            "ticks": ""
           }
          },
          "title": {
           "x": 0.05
          },
          "xaxis": {
           "automargin": true,
           "gridcolor": "white",
           "linecolor": "white",
           "ticks": "",
           "title": {
            "standoff": 15
           },
           "zerolinecolor": "white",
           "zerolinewidth": 2
          },
          "yaxis": {
           "automargin": true,
           "gridcolor": "white",
           "linecolor": "white",
           "ticks": "",
           "title": {
            "standoff": 15
           },
           "zerolinecolor": "white",
           "zerolinewidth": 2
          }
         }
        }
       }
      },
      "image/png": "[encoded data removed]",
      "text/html": [
       "<div>                            <div id=\"725ef07a-46b4-4c1c-b20e-a211a40b68c3\" class=\"plotly-graph-div\" style=\"height:525px; width:100%;\"></div>            <script type=\"text/javascript\">                require([\"plotly\"], function(Plotly) {                    window.PLOTLYENV=window.PLOTLYENV || {};                                    if (document.getElementById(\"725ef07a-46b4-4c1c-b20e-a211a40b68c3\")) {                    Plotly.newPlot(                        \"725ef07a-46b4-4c1c-b20e-a211a40b68c3\",                        [{\"coloraxis\": \"coloraxis\", \"geo\": \"geo\", \"geojson\": {\"bbox\": [-73.9475358331527, 45.4145878316083, -73.4745824263264, 45.7054709950549], \"features\": [{\"bbox\": [-73.6706609041685, 45.5545659435652, -73.6362833815582, 45.585868003125], \"geometry\": {\"coordinates\": [[[[-73.6363215300962, 45.5759177646435], [-73.6362833815582, 45.5758266113331], [-73.6446417578686, 45.5658132919643], [-73.6453511352974, 45.5647725775888], [-73.648867564748, 45.5586898267402], [-73.6513170845065, 45.5545659435652], [-73.6515658357324, 45.5554439857955], [-73.6660837831645, 45.5596724837829], [-73.6706609041685, 45.5610978251999], [-73.6676019919116, 45.5632340862888], [-73.6645385824068, 45.5642716484367], [-73.663663123697, 45.5654269638586], [-73.663336397858, 45.5666288247853], [-73.6637764768649, 45.5678900619231], [-73.6625073244826, 45.5688479494114], [-73.6624620526633, 45.5708304456346], [-73.6620201425015, 45.5713925326191], [-73.6616100197742, 45.5737924780218], [-73.6612199500215, 45.5747171555678], [-73.6625087613399, 45.5748980132699], [-73.6639172423219, 45.5730041908097], [-73.6654358660443, 45.5729040009532], [-73.6661069174428, 45.5737928224235], [-73.6657870687343, 45.574385118162], [-73.6636711124334, 45.577018676761], [-73.6620928771361, 45.578161887933], [-73.6611738698168, 45.5798517041392], [-73.660404649744, 45.5806752214364], [-73.659760079306, 45.5804007503503], [-73.6604711314507, 45.5793767269523], [-73.660479658497, 45.5787710701802], [-73.6613549575147, 45.5780184952852], [-73.6617871566128, 45.5758213640561], [-73.6607445476436, 45.5764832852254], [-73.6608243059909, 45.5774702934068], [-73.6592236423267, 45.5793785624903], [-73.6570262958283, 45.5810509513563], [-73.6552694168748, 45.5819333817794], [-73.6543058972308, 45.5836262624158], [-73.652557313063, 45.5826892716542], [-73.6363215300962, 45.5759177646435]]], [[[-73.6561004885273, 45.5841347974261], [-73.656376117147, 45.5845383929424], [-73.6559939844354, 45.585868003125], [-73.6552168328229, 45.5855392416017], [-73.6561004885273, 45.5841347974261]]]], \"type\": \"MultiPolygon\"}, \"id\": \"11-Sault-au-R\\u00e9collet\", \"properties\": {}, \"type\": \"Feature\"}, {\"bbox\": [-73.683124268159, 45.5263874543882, -73.6217484540132, 45.5647725775888], \"geometry\": {\"coordinates\": [[[-73.6217484540132, 45.5544783077209], [-73.6235005117779, 45.5536358848324], [-73.6278096771011, 45.5513024018691], [-73.6301686544477, 45.5503989164938], [-73.6325600663803, 45.5499795021129], [-73.6342899238824, 45.5494628161417], [-73.6363671046978, 45.548169415833], [-73.6398673671325, 45.5441488267699], [-73.6407295659042, 45.5429686686779], [-73.6485543103777, 45.5308320827376], [-73.6510270564502, 45.5263874543882], [-73.6555330494037, 45.5277342274232], [-73.6698852350516, 45.5318835785726], [-73.6726124365382, 45.5322997327559], [-73.6747555535799, 45.5323081056009], [-73.6764129283619, 45.5321264506516], [-73.683124268159, 45.5305991300384], [-73.6807721370907, 45.534331320177], [-73.6785046215606, 45.5379069417581], [-73.6752852955733, 45.5369404343695], [-73.6740837310465, 45.5378868187786], [-73.6687347480061, 45.5363337408676], [-73.667891862525, 45.5387409623539], [-73.664945183105, 45.5382590909533], [-73.6646235398403, 45.5394847807605], [-73.662249203322, 45.543633408253], [-73.6616100449503, 45.5441416421638], [-73.6604302515405, 45.5460790656787], [-73.6568659704249, 45.5450525873044], [-73.6513170845065, 45.5545659435652], [-73.648867564748, 45.5586898267402], [-73.6453511352974, 45.5647725775888], [-73.6240413737876, 45.5555253903511], [-73.6217484540132, 45.5544783077209]]], \"type\": \"Polygon\"}, \"id\": \"12-Saint-Sulpice\", \"properties\": {}, \"type\": \"Feature\"}, {\"bbox\": [-73.7043014929187, 45.534331320177, -73.6513170845065, 45.5610978251999], \"geometry\": {\"coordinates\": [[[-73.6513170845065, 45.5545659435652], [-73.6568659704249, 45.5450525873044], [-73.6604302515405, 45.5460790656787], [-73.6616100449503, 45.5441416421638], [-73.662249203322, 45.543633408253], [-73.6646235398403, 45.5394847807605], [-73.664945183105, 45.5382590909533], [-73.667891862525, 45.5387409623539], [-73.6687347480061, 45.5363337408676], [-73.6740837310465, 45.5378868187786], [-73.6752852955733, 45.5369404343695], [-73.6785046215606, 45.5379069417581], [-73.6807721370907, 45.534331320177], [-73.6920199187781, 45.5394683031028], [-73.702520410412, 45.5431766227664], [-73.7042065154565, 45.5438906316964], [-73.7043014929187, 45.5441905861876], [-73.7027027602765, 45.5451406840713], [-73.7023335988111, 45.5457621950639], [-73.7012226911876, 45.5459702396396], [-73.7004635154173, 45.5466167282154], [-73.6996123824321, 45.5464852570484], [-73.6992033294858, 45.5475781625301], [-73.6968595536907, 45.5481581755357], [-73.6949311086011, 45.5474604427764], [-73.6924688517172, 45.5472280284581], [-73.6891281157722, 45.5477334249253], [-73.6879273316976, 45.5481318231022], [-73.6865595013798, 45.5491308196528], [-73.6852748086046, 45.5488162600605], [-73.6827845213391, 45.5489146412483], [-73.6801283681886, 45.549462773374], [-73.6791182211476, 45.5500801562043], [-73.6772981030339, 45.5516675115113], [-73.6765545558035, 45.552766523393], [-73.6744642269172, 45.5548591969672], [-73.6730096784532, 45.5582339830541], [-73.6706609041685, 45.5610978251999], [-73.6660837831645, 45.5596724837829], [-73.6515658357324, 45.5554439857955], [-73.6513170845065, 45.5545659435652]]], \"type\": \"Polygon\"}, \"id\": \"13-Ahuntsic\", \"properties\": {}, \"type\": \"Feature\"}, {\"bbox\": [-73.7638683329059, 45.5064862077527, -73.6807721370907, 45.5441905861876], \"geometry\": {\"coordinates\": [[[-73.7043014929187, 45.5441905861876], [-73.7042065154565, 45.5438906316964], [-73.702520410412, 45.5431766227664], [-73.6920199187781, 45.5394683031028], [-73.6807721370907, 45.534331320177], [-73.683124268159, 45.5305991300384], [-73.685195685208, 45.5301022578388], [-73.6870922504792, 45.5286619976995], [-73.6897803429098, 45.5288476157777], [-73.6939612003867, 45.528347826243], [-73.6963296087078, 45.5276805484038], [-73.7091218538247, 45.5230954877394], [-73.7112612170074, 45.5243023856458], [-73.7131122096208, 45.5251637887575], [-73.7145584630039, 45.5239315629596], [-73.7172924358234, 45.5256928911099], [-73.7185119695016, 45.5247508136954], [-73.7217031155859, 45.5267447688191], [-73.7280602953464, 45.5213554616816], [-73.7317546325275, 45.5236815365784], [-73.7358987648866, 45.5207291683311], [-73.7285097856203, 45.5160943522463], [-73.7350991221023, 45.5137867482303], [-73.7550630650544, 45.5065238038199], [-73.7551669017747, 45.5064862077527], [-73.7612752776246, 45.5104175090183], [-73.7638683329059, 45.5120860463668], [-73.762390301954, 45.5126791739444], [-73.7600609683013, 45.5141288858482], [-73.7568442082942, 45.5171884494623], [-73.7548593171474, 45.5180889539846], [-73.752606980088, 45.5185523798859], [-73.749151955166, 45.519018390863], [-73.7452110015187, 45.5215286261207], [-73.7437662661847, 45.5231373686573], [-73.7411211602605, 45.526837900694], [-73.7394306858002, 45.5285277381045], [-73.7360589393138, 45.5302671129156], [-73.7343347000828, 45.5309824138834], [-73.7311072638005, 45.5320095049916], [-73.7283844986554, 45.533203827821], [-73.7249729419404, 45.5359178137401], [-73.7231098233772, 45.5369689627545], [-73.7202103870331, 45.5381794076214], [-73.7181375140605, 45.5387109207903], [-73.7158043157039, 45.5388996570908], [-73.7135388429561, 45.5396848689224], [-73.7111454931799, 45.541340948266], [-73.7091038651233, 45.5430898357363], [-73.7078456046825, 45.5423008892929], [-73.7069875096913, 45.5436077713277], [-73.705614345008, 45.5441267025504], [-73.7043014929187, 45.5441905861876]]], \"type\": \"Polygon\"}, \"id\": \"14-Bordeaux-Cartierville\", \"properties\": {}, \"type\": \"Feature\"}, {\"bbox\": [-73.6028907661658, 45.5932166140624, -73.5481773494253, 45.6341956640577], \"geometry\": {\"coordinates\": [[[-73.5576871015794, 45.5932166140624], [-73.5694206600629, 45.5971486400825], [-73.5696609688417, 45.5965806032278], [-73.5726733802096, 45.5977479911912], [-73.5745938220503, 45.5986717630315], [-73.576232424293, 45.5992577290381], [-73.5771288919308, 45.599852413767], [-73.5889961999073, 45.6050220349527], [-73.5971103983983, 45.6085989887758], [-73.6013378366857, 45.6104025414741], [-73.6028907661658, 45.6112216102358], [-73.601559767966, 45.6118073578371], [-73.6023660828945, 45.6125718329314], [-73.5984976040034, 45.6140840514745], [-73.5954830428467, 45.6158123480652], [-73.5740068269183, 45.6304929149516], [-73.5683379250343, 45.6341956640577], [-73.5514095863784, 45.6269444197056], [-73.5481773494253, 45.6255197854529], [-73.5585223912755, 45.6137280036474], [-73.5640615699407, 45.6074316710882], [-73.564986439275, 45.60561620283], [-73.5662995431109, 45.6039974029119], [-73.5631517029922, 45.6031634368599], [-73.5614050931716, 45.6025489377902], [-73.5567925816714, 45.6005393547562], [-73.5589887922886, 45.5979945383903], [-73.5595164040348, 45.5961661000645], [-73.5564557704867, 45.5951543577536], [-73.5576871015794, 45.5932166140624]]], \"type\": \"Polygon\"}, \"id\": \"21-Ouest\", \"properties\": {}, \"type\": \"Feature\"}, {\"bbox\": [-73.5585223912755, 45.5959627917351, -73.5358870172169, 45.6255197854529], \"geometry\": {\"coordinates\": [[[-73.5452799498143, 45.5959627917351], [-73.5491007054645, 45.5975302159963], [-73.5479841638628, 45.5989434662401], [-73.5468145864499, 45.6013644519429], [-73.5461968110206, 45.6046211322422], [-73.549913736884, 45.605150517886], [-73.5533688744189, 45.605412630486], [-73.5524302953106, 45.6080081462088], [-73.5507759763854, 45.6103339985918], [-73.5585223912755, 45.6137280036474], [-73.5481773494253, 45.6255197854529], [-73.5358870172169, 45.620207093019], [-73.5374747721378, 45.6166252950092], [-73.5375256945614, 45.6160673327401], [-73.5381703589619, 45.6139517855176], [-73.5437218072693, 45.6149096422408], [-73.5452777806501, 45.6141657083913], [-73.5462767505068, 45.6127238289344], [-73.5444977198785, 45.6121760838565], [-73.5453373826653, 45.6107633861198], [-73.5441363974969, 45.6102716461918], [-73.5412098839782, 45.6095033241271], [-73.5416434070878, 45.6081797015109], [-73.540900931842, 45.6078533012629], [-73.5416213388458, 45.606939681157], [-73.5375401492111, 45.6052359766051], [-73.5365038947396, 45.6026457300995], [-73.5365958888719, 45.602162446611], [-73.5394321608651, 45.6030910243993], [-73.5421763850909, 45.6042454438226], [-73.5429289535666, 45.6032316351511], [-73.539729971205, 45.6018186221009], [-73.5407418924341, 45.6006998521118], [-73.5447576674512, 45.6019410417126], [-73.5451108447268, 45.6000061818095], [-73.5445859643042, 45.5999308464328], [-73.5442050076359, 45.5981948225546], [-73.5438572127564, 45.5980784963673], [-73.5452799498143, 45.5959627917351]]], \"type\": \"Polygon\"}, \"id\": \"22-Est\", \"properties\": {}, \"type\": \"Feature\"}, {\"bbox\": [-73.5662995431109, 45.5903029802044, -73.5452799498143, 45.6137280036474], \"geometry\": {\"coordinates\": [[[-73.5576871015794, 45.5932166140624], [-73.5564557704867, 45.5951543577536], [-73.5595164040348, 45.5961661000645], [-73.5589887922886, 45.5979945383903], [-73.5567925816714, 45.6005393547562], [-73.5614050931716, 45.6025489377902], [-73.5631517029922, 45.6031634368599], [-73.5662995431109, 45.6039974029119], [-73.564986439275, 45.60561620283], [-73.5640615699407, 45.6074316710882], [-73.5585223912755, 45.6137280036474], [-73.5507759763854, 45.6103339985918], [-73.5524302953106, 45.6080081462088], [-73.5533688744189, 45.605412630486], [-73.549913736884, 45.605150517886], [-73.5461968110206, 45.6046211322422], [-73.5468145864499, 45.6013644519429], [-73.5479841638628, 45.5989434662401], [-73.5491007054645, 45.5975302159963], [-73.5452799498143, 45.5959627917351], [-73.5455045323429, 45.5956272275911], [-73.545930102715, 45.5949937733284], [-73.5473484500099, 45.5955355370728], [-73.5481396292151, 45.5946360429193], [-73.5465394629102, 45.5940712033384], [-73.5489394765731, 45.5903029802044], [-73.5576871015794, 45.5932166140624]]], \"type\": \"Polygon\"}, \"id\": \"23-Centre\", \"properties\": {}, \"type\": \"Feature\"}, {\"bbox\": [-73.6480439724158, 45.49234917306, -73.6207592308166, 45.5165801475772], \"geometry\": {\"coordinates\": [[[-73.6207592308166, 45.5138993727882], [-73.6236560898078, 45.5106541632808], [-73.624384898555, 45.5091582170891], [-73.6260875230251, 45.507277208983], [-73.6279506225702, 45.5061120243158], [-73.628749836468, 45.5048079525531], [-73.6304494685866, 45.5028490467289], [-73.6256440443835, 45.500662130816], [-73.6331323407225, 45.49234917306], [-73.6480439724158, 45.4990451424615], [-73.6458072174417, 45.5016289991394], [-73.6422399591459, 45.5054987858353], [-73.6423036889254, 45.5062221151428], [-73.6415508188144, 45.5069829054595], [-73.6416660769228, 45.5076101030023], [-73.6385805807369, 45.5112159439382], [-73.6365911851412, 45.5146566965285], [-73.6357295158589, 45.5143963845137], [-73.6346269691423, 45.5156528191911], [-73.6289040380069, 45.5140823858644], [-73.6267223236567, 45.5165801475772], [-73.6207592308166, 45.5138993727882]]], \"type\": \"Polygon\"}, \"id\": \"31-Darlington\", \"properties\": {}, \"type\": \"Feature\"}, {\"bbox\": [-73.6331323407225, 45.4851011880198, -73.5941401789655, 45.5138993727882], \"geometry\": {\"coordinates\": [[[-73.5956108742759, 45.504064067218], [-73.5941401789655, 45.5033436344744], [-73.594737745289, 45.5028667176493], [-73.5977240363362, 45.5016310280474], [-73.5997960499359, 45.5001439911523], [-73.6009279740317, 45.4988800346583], [-73.6033750499038, 45.4967309718248], [-73.6044775189475, 45.4952226776326], [-73.6068399722065, 45.4952769144878], [-73.6083680626652, 45.493592693099], [-73.6093606035265, 45.4939788081012], [-73.6115925457235, 45.4916920833656], [-73.6147351668377, 45.4930299583055], [-73.6184160919695, 45.4889467204633], [-73.618423454854, 45.4881800607925], [-73.6153515138627, 45.4867956883177], [-73.6169038962737, 45.4851011880198], [-73.6331323407225, 45.49234917306], [-73.6256440443835, 45.500662130816], [-73.6304494685866, 45.5028490467289], [-73.628749836468, 45.5048079525531], [-73.6279506225702, 45.5061120243158], [-73.6260875230251, 45.507277208983], [-73.624384898555, 45.5091582170891], [-73.6236560898078, 45.5106541632808], [-73.6207592308166, 45.5138993727882], [-73.6176645335398, 45.5125000231349], [-73.617959519301, 45.5121686212918], [-73.61888001694, 45.5111346532789], [-73.6169256431203, 45.5102737338336], [-73.6178928803835, 45.5091750557282], [-73.6160933747766, 45.5082725969653], [-73.6189454361275, 45.5051234940594], [-73.6182356279483, 45.504722156916], [-73.6130513861854, 45.5104478685544], [-73.6063535452531, 45.5074911306599], [-73.6061344132343, 45.5068772235294], [-73.6035337540631, 45.5057001623398], [-73.6024762927983, 45.5068574351344], [-73.5993805679324, 45.5053898653966], [-73.5987846893921, 45.5056180649425], [-73.5956108742759, 45.504064067218]]], \"type\": \"Polygon\"}, \"id\": \"32-C\\u00f4te-des-Neiges\", \"properties\": {}, \"type\": \"Feature\"}, {\"bbox\": [-73.6776271543493, 45.478422071886, -73.6143642141962, 45.5047080114556], \"geometry\": {\"coordinates\": [[[-73.6458072174417, 45.5016289991394], [-73.6480439724158, 45.4990451424615], [-73.6331323407225, 45.49234917306], [-73.6169038962737, 45.4851011880198], [-73.6171481421592, 45.4848346166979], [-73.6143642141962, 45.4835868912093], [-73.6159143530659, 45.4828328944331], [-73.6178740199084, 45.4828487105026], [-73.6188871149392, 45.4826094451865], [-73.6212759199926, 45.4802684345737], [-73.6225662166532, 45.4809098124242], [-73.6236079242847, 45.479859834089], [-73.6247644644914, 45.4792722536745], [-73.6274376104247, 45.4787022686984], [-73.6296262215988, 45.478422071886], [-73.6309839979771, 45.4790336481084], [-73.6303804074798, 45.4796761714723], [-73.6511475576679, 45.4890232837666], [-73.6486185977978, 45.4918874029923], [-73.6505027283703, 45.4926843456098], [-73.6558244313911, 45.4867907549359], [-73.6554964724779, 45.4865593791057], [-73.6559518311015, 45.4851214751334], [-73.6560231568666, 45.4789400952457], [-73.6611067166692, 45.4811529055447], [-73.6618618884249, 45.4803203895973], [-73.6695855765435, 45.483802365291], [-73.6746342471328, 45.4819683440264], [-73.6763145414839, 45.4831298265322], [-73.6776271543493, 45.4823345919293], [-73.677264286648, 45.4836591822082], [-73.6751680903633, 45.4912833590877], [-73.6678730495106, 45.4869534898132], [-73.6660964808822, 45.4866186123515], [-73.665349200462, 45.4870183659149], [-73.6562276688947, 45.49432722353], [-73.6637510731136, 45.4992450684359], [-73.6617471598017, 45.4992191258018], [-73.6623623016746, 45.5022066512214], [-73.6605369493135, 45.5024306141327], [-73.6600841825714, 45.50331916613], [-73.659999506549, 45.5047080114556], [-73.6566453499119, 45.5037588241059], [-73.6516126661051, 45.504311872331], [-73.6458072174417, 45.5016289991394]]], \"type\": \"Polygon\"}, \"id\": \"33-Snowdon\", \"properties\": {}, \"type\": \"Feature\"}, {\"bbox\": [-73.6429334550997, 45.4632907897894, -73.5951347718664, 45.4835868912093], \"geometry\": {\"coordinates\": [[[-73.6143642141962, 45.4835868912093], [-73.6123997707291, 45.4826898974257], [-73.6143764334436, 45.4805885224868], [-73.6054346259738, 45.4765925587108], [-73.605024536716, 45.4770080719998], [-73.5985471562789, 45.4740708829885], [-73.5951347718664, 45.4764466331536], [-73.5966486659517, 45.4732210790839], [-73.5995923966142, 45.4714885118876], [-73.6015380888098, 45.4698449656495], [-73.6025897276388, 45.4690525247808], [-73.6031619796725, 45.4691032161751], [-73.6056266168094, 45.4676031109374], [-73.6058459619009, 45.4672881102352], [-73.6116004847967, 45.4647691120724], [-73.6121904900053, 45.4648542087469], [-73.6157015928197, 45.4632907897894], [-73.6167538282606, 45.4637150194085], [-73.6260868871444, 45.4678594502274], [-73.626514031426, 45.4682540051731], [-73.6317531402478, 45.4705324186308], [-73.6328791824832, 45.4692477650227], [-73.6375349663401, 45.4712784001916], [-73.636638362928, 45.4717833758261], [-73.6429334550997, 45.4745543212637], [-73.6397624769414, 45.4766952953752], [-73.6393702983563, 45.4768105158646], [-73.6354876412699, 45.4768957315274], [-73.6324931664858, 45.477871983287], [-73.6296262215988, 45.478422071886], [-73.6274376104247, 45.4787022686984], [-73.6247644644914, 45.4792722536745], [-73.6236079242847, 45.479859834089], [-73.6225662166532, 45.4809098124242], [-73.6212759199926, 45.4802684345737], [-73.6188871149392, 45.4826094451865], [-73.6178740199084, 45.4828487105026], [-73.6159143530659, 45.4828328944331], [-73.6143642141962, 45.4835868912093]]], \"type\": \"Polygon\"}, \"id\": \"34-Notre-Dame-de-Gr\\u00e2ce\", \"properties\": {}, \"type\": \"Feature\"}, {\"bbox\": [-73.6581848068946, 45.4507225431116, -73.6157015928197, 45.4745543212637], \"geometry\": {\"coordinates\": [[[-73.6157015928197, 45.4632907897894], [-73.6182352042185, 45.4622268121902], [-73.6200562870233, 45.4616683026575], [-73.6243236842049, 45.4586553508057], [-73.6262003043123, 45.4574918787775], [-73.6314544395632, 45.4527593013115], [-73.6350181512615, 45.4509158064615], [-73.6351722497066, 45.4507225431116], [-73.6579831562151, 45.4595353374805], [-73.6571683135528, 45.4601081011059], [-73.6581848068946, 45.4614565130998], [-73.6556103303451, 45.4629114310011], [-73.652126146378, 45.4676895103383], [-73.650271326417, 45.4688055451965], [-73.6491060800072, 45.4705082201931], [-73.6456903840605, 45.4732294857318], [-73.6429334550997, 45.4745543212637], [-73.636638362928, 45.4717833758261], [-73.6375349663401, 45.4712784001916], [-73.6328791824832, 45.4692477650227], [-73.6317531402478, 45.4705324186308], [-73.626514031426, 45.4682540051731], [-73.6260868871444, 45.4678594502274], [-73.6167538282606, 45.4637150194085], [-73.6157015928197, 45.4632907897894]]], \"type\": \"Polygon\"}, \"id\": \"35-Loyola\", \"properties\": {}, \"type\": \"Feature\"}, {\"bbox\": [-73.6970986158494, 45.4276813808521, -73.6290926270452, 45.4703396575946], \"geometry\": {\"coordinates\": [[[-73.6827804258142, 45.4635658825978], [-73.680902143784, 45.4623754221733], [-73.6819797751037, 45.4611465117243], [-73.6828103840958, 45.4609562889736], [-73.6837901612144, 45.4594789107516], [-73.6850645006026, 45.4581450364168], [-73.6872613190858, 45.45743059602], [-73.6874478222607, 45.4558195821286], [-73.6872205285223, 45.4552707229765], [-73.6763900162006, 45.4523637929963], [-73.67377108286, 45.4530336717393], [-73.6720573706002, 45.4528472783153], [-73.6708095323057, 45.454567942777], [-73.6685657847746, 45.4567309452231], [-73.6569820780073, 45.4523202088578], [-73.6448369147901, 45.4475941198865], [-73.6433550395347, 45.4477889354918], [-73.6432919538684, 45.4483609262331], [-73.6389029083366, 45.4466926413334], [-73.6367835977829, 45.447838031415], [-73.6320301276656, 45.4495010416609], [-73.6290926270452, 45.4483946176344], [-73.6320762130349, 45.4466558317026], [-73.6351699979365, 45.445393422083], [-73.6392793914912, 45.4438396460105], [-73.6470945537851, 45.4407073290916], [-73.648051977364, 45.4402561224796], [-73.6537698617598, 45.4370900482024], [-73.6593235959903, 45.4348597630844], [-73.6621186235209, 45.433443013701], [-73.6659361085031, 45.4320787105657], [-73.665989308902, 45.4284342302665], [-73.6689564175307, 45.4291767414944], [-73.6731193300976, 45.4280636694712], [-73.6759423999609, 45.4276813808521], [-73.6833563260685, 45.4282185950861], [-73.6865003978824, 45.4283124979178], [-73.6878687931234, 45.4286162358336], [-73.6882161207604, 45.4292815314123], [-73.6856210014114, 45.4290337944536], [-73.6824907873074, 45.4293268197374], [-73.6802412950549, 45.4292313975545], [-73.675637946869, 45.4284197115606], [-73.6730699666729, 45.4286396172162], [-73.6691630663163, 45.429896298712], [-73.6694459537283, 45.4304807516148], [-73.6730208497195, 45.4292965595349], [-73.6750647146261, 45.4289965544438], [-73.6767010508474, 45.4291739328909], [-73.6788386194388, 45.4302144484015], [-73.6788136864397, 45.4304304732339], [-73.6733659453582, 45.4293230346261], [-73.6691401095123, 45.4307511873639], [-73.6696391042462, 45.4309484342688], [-73.6714905342855, 45.4303967061942], [-73.6716716548405, 45.4310983881409], [-73.6737798875814, 45.4309332101671], [-73.6775256263951, 45.431305335836], [-73.6792911320404, 45.4318695414462], [-73.6820917599341, 45.4323959865103], [-73.6847244511365, 45.4323557615008], [-73.6843819981847, 45.4331481730083], [-73.6862880355843, 45.433675955614], [-73.6893786382238, 45.43297800821], [-73.6919766084407, 45.4328477403871], [-73.6920222789549, 45.4344181753399], [-73.6924064617963, 45.4372834135916], [-73.6919192684033, 45.4375875837079], [-73.6922359492324, 45.4397539275822], [-73.6790976648257, 45.4399597709378], [-73.6718763889968, 45.4401679518281], [-73.6702870397047, 45.440019142569], [-73.6635037895282, 45.4400929494508], [-73.6629212228917, 45.4401596573971], [-73.6629008949467, 45.4422188385912], [-73.6635315763833, 45.4422179374171], [-73.6636442247504, 45.4445171206371], [-73.6650313754737, 45.4449769741284], [-73.6688238611265, 45.4465533440431], [-73.6703899048248, 45.4470018886664], [-73.6723760891366, 45.4472832888363], [-73.6862003751106, 45.4475701793018], [-73.6929749468618, 45.4479566183894], [-73.6931235366321, 45.44814625489], [-73.6960704968967, 45.4482114291558], [-73.6970275555854, 45.4488217409105], [-73.6970986158494, 45.4534198522438], [-73.6970604739367, 45.4567907245283], [-73.6967667127171, 45.4587187165095], [-73.6956922188653, 45.4626538256577], [-73.6956163827684, 45.4640262681568], [-73.69619836572, 45.4654974169452], [-73.6947785817616, 45.4645178045181], [-73.6933043566279, 45.4703396575946], [-73.6827804258142, 45.4635658825978]]], \"type\": \"Polygon\"}, \"id\": \"41-du Canal\", \"properties\": {}, \"type\": \"Feature\"}, {\"bbox\": [-73.6930646838521, 45.4397539275822, -73.6629008949467, 45.4479566183894], \"geometry\": {\"coordinates\": [[[-73.6922359492324, 45.4397539275822], [-73.6930646838521, 45.4455152024534], [-73.6929749468618, 45.4479566183894], [-73.6862003751106, 45.4475701793018], [-73.6723760891366, 45.4472832888363], [-73.6703899048248, 45.4470018886664], [-73.6688238611265, 45.4465533440431], [-73.6650313754737, 45.4449769741284], [-73.6636442247504, 45.4445171206371], [-73.6635315763833, 45.4422179374171], [-73.6629008949467, 45.4422188385912], [-73.6629212228917, 45.4401596573971], [-73.6635037895282, 45.4400929494508], [-73.6702870397047, 45.440019142569], [-73.6718763889968, 45.4401679518281], [-73.6790976648257, 45.4399597709378], [-73.6922359492324, 45.4397539275822]]], \"type\": \"Polygon\"}, \"id\": \"42-J.-\\u00c9mery-Provost\", \"properties\": {}, \"type\": \"Feature\"}, {\"bbox\": [-73.7245717150603, 45.4324224970616, -73.6919192684033, 45.47334246671], \"geometry\": {\"coordinates\": [[[-73.6929749468618, 45.4479566183894], [-73.6930646838521, 45.4455152024534], [-73.6922359492324, 45.4397539275822], [-73.6919192684033, 45.4375875837079], [-73.6924064617963, 45.4372834135916], [-73.6920222789549, 45.4344181753399], [-73.6919766084407, 45.4328477403871], [-73.6932876958108, 45.4324224970616], [-73.694195347338, 45.4324839527568], [-73.6949136010573, 45.4332296803625], [-73.6988288457718, 45.4344466726102], [-73.7010791173413, 45.434694716853], [-73.7030235835285, 45.4351501569008], [-73.7052464981121, 45.4348762919984], [-73.7084847193563, 45.4361211648559], [-73.7108619082078, 45.4360808035114], [-73.7131770697603, 45.436535476583], [-73.7141004237697, 45.4373526055584], [-73.7197027055463, 45.4383497204873], [-73.7205977591364, 45.438420079974], [-73.7206259030039, 45.439094891288], [-73.7192721714824, 45.4393943883616], [-73.7222362640027, 45.4487922160595], [-73.7206936272739, 45.4487451257208], [-73.722831053433, 45.4557427179281], [-73.7245717150603, 45.4610335488204], [-73.7198081628308, 45.4644866016957], [-73.7170519619499, 45.4666015017259], [-73.7125173690129, 45.4699350201585], [-73.7080097103994, 45.47334246671], [-73.7047665432935, 45.4712980390786], [-73.69619836572, 45.4654974169452], [-73.6956163827684, 45.4640262681568], [-73.6956922188653, 45.4626538256577], [-73.6967667127171, 45.4587187165095], [-73.6970604739367, 45.4567907245283], [-73.6970986158494, 45.4534198522438], [-73.6970275555854, 45.4488217409105], [-73.6960704968967, 45.4482114291558], [-73.6931235366321, 45.44814625489], [-73.6929749468618, 45.4479566183894]]], \"type\": \"Polygon\"}, \"id\": \"43-Fort-Rolland\", \"properties\": {}, \"type\": \"Feature\"}, {\"bbox\": [-73.6378211847585, 45.4145878316083, -73.5704318906483, 45.4576954341346], \"geometry\": {\"coordinates\": [[[[-73.5878943026224, 45.4214667320274], [-73.5863736733671, 45.4214319841574], [-73.5869474028608, 45.4206395990966], [-73.5878943026224, 45.4214667320274]]], [[[-73.5725281473542, 45.4260939579768], [-73.5704318906483, 45.4257263831213], [-73.5705580062435, 45.4244124795508], [-73.5739539624556, 45.4219626672329], [-73.5766876209735, 45.4212859978906], [-73.5793575905544, 45.4208612013169], [-73.5824241611882, 45.4207510361274], [-73.5840593827098, 45.4204618626093], [-73.585056506724, 45.4207940136185], [-73.586554348269, 45.4226195923359], [-73.5860576024637, 45.4236638110559], [-73.584295514885, 45.4245289791408], [-73.5827488367791, 45.424251218775], [-73.5809343733788, 45.424360511388], [-73.5784175573386, 45.4248212373305], [-73.5770508918231, 45.425290048099], [-73.5731288926102, 45.4262015674713], [-73.5725281473542, 45.4260939579768]]], [[[-73.5765170514597, 45.4274230889043], [-73.5749707241727, 45.4273611190412], [-73.5723756663881, 45.4267869197677], [-73.5752500087582, 45.4259752044009], [-73.5797854469441, 45.4251621784139], [-73.5803981192377, 45.4246848695548], [-73.5816888803182, 45.4247468599426], [-73.5837470045383, 45.4252493371248], [-73.5811925680258, 45.4261690319939], [-73.5773858946539, 45.42731451108], [-73.5765170514597, 45.4274230889043]]], [[[-73.5993656298056, 45.437522488597], [-73.5837871545249, 45.4350036826887], [-73.5864937818087, 45.4330669729378], [-73.5889455796285, 45.4317602654679], [-73.5892899771004, 45.4312921174991], [-73.5917282376663, 45.4295893857394], [-73.5930673492969, 45.4278875931486], [-73.5941659028554, 45.4276167102135], [-73.5970103055467, 45.4244378040521], [-73.6024582557665, 45.4197537949939], [-73.6050240641787, 45.418374641288], [-73.6071441080738, 45.4178597046428], [-73.6089187571527, 45.4171291621745], [-73.6111012955212, 45.4159032271], [-73.6144997511617, 45.4158098763183], [-73.6157904203163, 45.4159075684946], [-73.6190093657475, 45.4154992857685], [-73.6211671693205, 45.4148130602082], [-73.6256397226365, 45.4151411168221], [-73.6290762426954, 45.4149482971955], [-73.6295864341622, 45.4145878316083], [-73.6326788478802, 45.4147641808428], [-73.6324382282295, 45.4157003113135], [-73.6338310649383, 45.4157616841636], [-73.6373466145775, 45.4154299316521], [-73.6378211847585, 45.4157853047214], [-73.6349821404871, 45.4216213986168], [-73.630914321986, 45.4207058504903], [-73.629580513036, 45.4205264796284], [-73.6269794842437, 45.4219064890514], [-73.6221765288238, 45.4233556809216], [-73.6235576102796, 45.4251452650735], [-73.625860660556, 45.4262630893683], [-73.6213932515199, 45.4290799524068], [-73.6189096270924, 45.431198716026], [-73.6153394945845, 45.4349173246406], [-73.6147722148194, 45.4363801178349], [-73.6185038157741, 45.4371719975162], [-73.6203669519898, 45.4381561591494], [-73.6292793360419, 45.4422437520764], [-73.6304212122284, 45.4412800353944], [-73.6319594346838, 45.4420660970196], [-73.6341339482992, 45.4434436213567], [-73.6334152486196, 45.4438343169323], [-73.6348120456809, 45.444546590121], [-73.6351699979365, 45.445393422083], [-73.6320762130349, 45.4466558317026], [-73.6290926270452, 45.4483946176344], [-73.6288149375869, 45.4482900651074], [-73.6269986444794, 45.4501430927141], [-73.6255515041789, 45.4513172221793], [-73.622324477466, 45.4535901866228], [-73.6201147014597, 45.4548257159799], [-73.6136079881888, 45.4576954341346], [-73.6068239912076, 45.4545470690524], [-73.6048092799479, 45.4489130784869], [-73.6052123848584, 45.4479821667775], [-73.6094089858961, 45.4442773154325], [-73.6104503124607, 45.4429793199455], [-73.6118008558715, 45.4394499728596], [-73.5996082895714, 45.4375187309259], [-73.5993656298056, 45.437522488597]]]], \"type\": \"MultiPolygon\"}, \"id\": \"51-Sault-Saint-Louis\", \"properties\": {}, \"type\": \"Feature\"}, {\"bbox\": [-73.665989308902, 45.4154299316521, -73.6147722148194, 45.445393422083], \"geometry\": {\"coordinates\": [[[-73.6373466145775, 45.4154299316521], [-73.6398482479311, 45.4154574940498], [-73.6413054445293, 45.4157165943723], [-73.6441055865314, 45.4165049565242], [-73.6469598857207, 45.418436018764], [-73.6496982979192, 45.4199531866296], [-73.6528057037257, 45.4208669233735], [-73.6563386875677, 45.4231117299686], [-73.6574132128538, 45.4235151379827], [-73.6590899773487, 45.4245026614551], [-73.6597563681528, 45.4251856881017], [-73.6622132461692, 45.4263249714976], [-73.6626617007921, 45.4267473070838], [-73.6639788872218, 45.4270423138518], [-73.665989308902, 45.4284342302665], [-73.6659361085031, 45.4320787105657], [-73.6621186235209, 45.433443013701], [-73.6593235959903, 45.4348597630844], [-73.6537698617598, 45.4370900482024], [-73.648051977364, 45.4402561224796], [-73.6470945537851, 45.4407073290916], [-73.6392793914912, 45.4438396460105], [-73.6351699979365, 45.445393422083], [-73.6348120456809, 45.444546590121], [-73.6334152486196, 45.4438343169323], [-73.6341339482992, 45.4434436213567], [-73.6319594346838, 45.4420660970196], [-73.6304212122284, 45.4412800353944], [-73.6292793360419, 45.4422437520764], [-73.6203669519898, 45.4381561591494], [-73.6185038157741, 45.4371719975162], [-73.6147722148194, 45.4363801178349], [-73.6153394945845, 45.4349173246406], [-73.6189096270924, 45.431198716026], [-73.6213932515199, 45.4290799524068], [-73.625860660556, 45.4262630893683], [-73.6235576102796, 45.4251452650735], [-73.6221765288238, 45.4233556809216], [-73.6269794842437, 45.4219064890514], [-73.629580513036, 45.4205264796284], [-73.630914321986, 45.4207058504903], [-73.6349821404871, 45.4216213986168], [-73.6378211847585, 45.4157853047214], [-73.6373466145775, 45.4154299316521]]], \"type\": \"Polygon\"}, \"id\": \"52-Cecil-P.-Newman\", \"properties\": {}, \"type\": \"Feature\"}, {\"bbox\": [-73.9021261241608, 45.4882449524107, -73.8550238065929, 45.5209418712909], \"geometry\": {\"coordinates\": [[[-73.8688974470136, 45.4882449524107], [-73.871602833053, 45.4905720481716], [-73.8694139090223, 45.4919469541754], [-73.870532930773, 45.4928625205596], [-73.8716913646707, 45.4933306815312], [-73.872233047857, 45.4949468141821], [-73.8714042058561, 45.4965567000138], [-73.872571305249, 45.4969659674767], [-73.871134091344, 45.4990564163597], [-73.8701130707197, 45.5000549627491], [-73.8690288298613, 45.5007201896345], [-73.8722903935919, 45.503568954282], [-73.8716174921312, 45.5042888396132], [-73.8756305607743, 45.5078228770541], [-73.8783878189261, 45.5059406633388], [-73.8803094438111, 45.5042458334118], [-73.8803341428118, 45.5033993667444], [-73.879759682167, 45.5029518530572], [-73.8770152857708, 45.501806378212], [-73.8789156358527, 45.5017299402712], [-73.879779371889, 45.5004798588748], [-73.8810568286333, 45.4999384356033], [-73.8830127770248, 45.4996741535333], [-73.884412047715, 45.4990183531015], [-73.8853262749786, 45.4998100023704], [-73.8840175555813, 45.5020031308338], [-73.8845885513537, 45.503100834689], [-73.8882584256138, 45.5047130635017], [-73.8902948397667, 45.5048242389134], [-73.8931298332185, 45.5045492632818], [-73.8938090092703, 45.5051466368411], [-73.8930883375795, 45.5061095241892], [-73.8912989165002, 45.5060276552235], [-73.8907763512179, 45.5069642008183], [-73.8894862335895, 45.5075924382318], [-73.8893630543063, 45.5086347066791], [-73.8880808924888, 45.5083547817147], [-73.8870687665439, 45.5091995603904], [-73.8852521620131, 45.5102059725257], [-73.8881290541888, 45.5127359235277], [-73.8890287067442, 45.5122302528857], [-73.8911436774502, 45.5127840458479], [-73.8937551506541, 45.5125006850816], [-73.8953141801776, 45.5130744053201], [-73.896331119406, 45.5139759395892], [-73.8972364759115, 45.5131483697101], [-73.8989649328704, 45.5146837440746], [-73.9002254469086, 45.5131179581327], [-73.9008379207362, 45.5136630574361], [-73.9005919569215, 45.5144536068957], [-73.9021261241608, 45.5155955053506], [-73.9009914493894, 45.5161347116661], [-73.9020712706953, 45.5167877731109], [-73.9020876361723, 45.5172918560237], [-73.8999623185899, 45.5172091442281], [-73.8983416967041, 45.5160989860003], [-73.8970501718221, 45.5162744685233], [-73.896506711813, 45.5172571885447], [-73.8931760247634, 45.5179232635692], [-73.8918830801879, 45.5186858504077], [-73.89060443538, 45.5188882146005], [-73.8899347125325, 45.5182876407975], [-73.8875283162043, 45.5182958298662], [-73.8871271342177, 45.5195300009394], [-73.8860195052025, 45.5203975900766], [-73.8849337116296, 45.5207252282394], [-73.8820294235971, 45.5209418712909], [-73.8801807487187, 45.5201561927542], [-73.8790398509879, 45.5199080044884], [-73.8757241818541, 45.5198469639429], [-73.8712540724591, 45.51942970446], [-73.8693729830596, 45.5195167954401], [-73.867959836772, 45.5187475084215], [-73.8660852612371, 45.518916733747], [-73.8650447273518, 45.5192607308197], [-73.8636752254303, 45.5192742783684], [-73.8642825006245, 45.5181743422849], [-73.8612862477059, 45.5160062120045], [-73.8573480782361, 45.5146328898613], [-73.8576368219668, 45.5137501468995], [-73.8563777974017, 45.5129982318504], [-73.8561039739004, 45.5121981492155], [-73.8550238065929, 45.5113916654122], [-73.8556577823538, 45.5104448573143], [-73.8585654378245, 45.508816075481], [-73.8591760216501, 45.5082382022867], [-73.8597941402612, 45.5068235473577], [-73.8595897032533, 45.5048715239796], [-73.8603509384135, 45.5038432949756], [-73.8628677193202, 45.5031873776418], [-73.8634772725348, 45.5024655856932], [-73.863229031203, 45.4996768609889], [-73.8624925888829, 45.4985813745818], [-73.8617450446894, 45.4983353640287], [-73.8610656712915, 45.4975420638734], [-73.8614902756333, 45.4959120252572], [-73.8631347750672, 45.4949799702698], [-73.8643010381037, 45.4932934742402], [-73.8637682240978, 45.4920174491202], [-73.8642488213344, 45.4911520725992], [-73.8664440380781, 45.4903261139859], [-73.8688974470136, 45.4882449524107]]], \"type\": \"Polygon\"}, \"id\": \"61-Pierre-Foretier\", \"properties\": {}, \"type\": \"Feature\"}, {\"bbox\": [-73.9131442528934, 45.4900124335721, -73.8690288298613, 45.5156160928628], \"geometry\": {\"coordinates\": [[[-73.871602833053, 45.4905720481716], [-73.8758099807102, 45.4943016403121], [-73.8832708288195, 45.4900124335721], [-73.893915982267, 45.4991295138785], [-73.8978204833524, 45.5021042916793], [-73.8993079427873, 45.5021890950386], [-73.901198690394, 45.5019296796061], [-73.9032166411352, 45.5013944047771], [-73.9072471667436, 45.4990521662397], [-73.9097687478128, 45.498420306124], [-73.910763113645, 45.4979785583287], [-73.9131442528934, 45.5001505549281], [-73.9117306033429, 45.5014828251295], [-73.9105682077776, 45.502919788446], [-73.9125029822642, 45.5046603019441], [-73.9125904080641, 45.5059790139203], [-73.9115367282405, 45.5071346344323], [-73.9098260610793, 45.5077167397986], [-73.9095376253027, 45.5082630419981], [-73.9075790301516, 45.5084626314966], [-73.9064637954127, 45.5082146250766], [-73.9052902228377, 45.5087497533613], [-73.9048304811418, 45.5093648655927], [-73.9028980165401, 45.5106748854948], [-73.9025706032313, 45.513213659007], [-73.9021033388663, 45.5139081604197], [-73.9026005080814, 45.5156160928628], [-73.9021261241608, 45.5155955053506], [-73.9005919569215, 45.5144536068957], [-73.9008379207362, 45.5136630574361], [-73.9002254469086, 45.5131179581327], [-73.8989649328704, 45.5146837440746], [-73.8972364759115, 45.5131483697101], [-73.896331119406, 45.5139759395892], [-73.8953141801776, 45.5130744053201], [-73.8937551506541, 45.5125006850816], [-73.8911436774502, 45.5127840458479], [-73.8890287067442, 45.5122302528857], [-73.8881290541888, 45.5127359235277], [-73.8852521620131, 45.5102059725257], [-73.8870687665439, 45.5091995603904], [-73.8880808924888, 45.5083547817147], [-73.8893630543063, 45.5086347066791], [-73.8894862335895, 45.5075924382318], [-73.8907763512179, 45.5069642008183], [-73.8912989165002, 45.5060276552235], [-73.8930883375795, 45.5061095241892], [-73.8938090092703, 45.5051466368411], [-73.8931298332185, 45.5045492632818], [-73.8902948397667, 45.5048242389134], [-73.8882584256138, 45.5047130635017], [-73.8845885513537, 45.503100834689], [-73.8840175555813, 45.5020031308338], [-73.8853262749786, 45.4998100023704], [-73.884412047715, 45.4990183531015], [-73.8830127770248, 45.4996741535333], [-73.8810568286333, 45.4999384356033], [-73.879779371889, 45.5004798588748], [-73.8789156358527, 45.5017299402712], [-73.8770152857708, 45.501806378212], [-73.879759682167, 45.5029518530572], [-73.8803341428118, 45.5033993667444], [-73.8803094438111, 45.5042458334118], [-73.8783878189261, 45.5059406633388], [-73.8756305607743, 45.5078228770541], [-73.8716174921312, 45.5042888396132], [-73.8722903935919, 45.503568954282], [-73.8690288298613, 45.5007201896345], [-73.8701130707197, 45.5000549627491], [-73.871134091344, 45.4990564163597], [-73.872571305249, 45.4969659674767], [-73.8714042058561, 45.4965567000138], [-73.872233047857, 45.4949468141821], [-73.8716913646707, 45.4933306815312], [-73.870532930773, 45.4928625205596], [-73.8694139090223, 45.4919469541754], [-73.871602833053, 45.4905720481716]]], \"type\": \"Polygon\"}, \"id\": \"62-Denis-Benjamin-Viger\", \"properties\": {}, \"type\": \"Feature\"}, {\"bbox\": [-73.9443213415212, 45.4677561646305, -73.8688974470136, 45.5046603019441], \"geometry\": {\"coordinates\": [[[[-73.876179389015, 45.484463443982], [-73.8748623836763, 45.4845487678604], [-73.8746531555376, 45.4838655945021], [-73.8752754756586, 45.4831976914281], [-73.875332125701, 45.4820996763162], [-73.8773551113916, 45.4823719006883], [-73.8773585206136, 45.4838386904758], [-73.8770492982827, 45.4844695752153], [-73.876179389015, 45.484463443982]]], [[[-73.871602833053, 45.4905720481716], [-73.8688974470136, 45.4882449524107], [-73.8709851008353, 45.487059190004], [-73.8725145833884, 45.4854652904542], [-73.8761955543809, 45.4864641220707], [-73.8773897323982, 45.4856292741431], [-73.8778041545601, 45.4844850797772], [-73.8785921129696, 45.4837086183771], [-73.8781898959115, 45.4828731025615], [-73.8784365392884, 45.4814954771698], [-73.8796440398513, 45.4803396456993], [-73.8808564171004, 45.4799307290984], [-73.8818738698332, 45.4790634862107], [-73.8828567898793, 45.4787722169973], [-73.8847419788084, 45.4776140567433], [-73.8874400837697, 45.4756252617452], [-73.8890406450115, 45.4740361165489], [-73.8896093964888, 45.473044339843], [-73.8920158379205, 45.4714793088166], [-73.8939883829402, 45.4719134901468], [-73.8962921181107, 45.4721394139777], [-73.8981449394396, 45.4719079872095], [-73.8992850543273, 45.4721559893786], [-73.9014271769693, 45.4712486357827], [-73.9038056762196, 45.4712042547101], [-73.9051695937615, 45.4705605613393], [-73.9045774306121, 45.4700226989345], [-73.9028488295322, 45.4697318295333], [-73.9012801121118, 45.4703403082789], [-73.8996924472568, 45.4700938928558], [-73.8993825392247, 45.469663097207], [-73.8999775060713, 45.4688151666323], [-73.9017348723624, 45.4677561646305], [-73.9023924422294, 45.468509706018], [-73.9043441969034, 45.4696096448133], [-73.9084347070547, 45.4693341104744], [-73.9120964530199, 45.4682153872984], [-73.9126431874804, 45.4694449753644], [-73.9136278859403, 45.4694413239075], [-73.9154106009438, 45.4701278046013], [-73.9159006769417, 45.4706838913767], [-73.9168728992832, 45.4707163448971], [-73.9159791650457, 45.4726632836215], [-73.9164275963913, 45.4727606419858], [-73.9171840487468, 45.4712821683374], [-73.9179119052825, 45.4711355184565], [-73.9186742261816, 45.4721675623649], [-73.9196472003342, 45.4740176773167], [-73.9200930017441, 45.4737730563005], [-73.921822149022, 45.4741086594329], [-73.9226284972793, 45.4752714551831], [-73.924738453321, 45.4775172443067], [-73.9253150364798, 45.4776590879844], [-73.9266000233535, 45.476745452941], [-73.9277434225804, 45.477398128666], [-73.9295423138299, 45.4767974221727], [-73.9302919142255, 45.4778114366407], [-73.9314189351491, 45.4779961715469], [-73.9326541103686, 45.4772716425334], [-73.9335030743869, 45.4762245897937], [-73.9350412733002, 45.4766507100519], [-73.9370692452005, 45.4762391230436], [-73.9406266477915, 45.4761163385087], [-73.942911201225, 45.475477638423], [-73.9443213415212, 45.4758861323891], [-73.9441879968396, 45.4768134931837], [-73.9428248046939, 45.478697804247], [-73.9416119001885, 45.4794240216934], [-73.9405851561781, 45.4789960185208], [-73.9387460246999, 45.4793540720446], [-73.9383403023619, 45.4798235952081], [-73.9385185477879, 45.4813526185292], [-73.9403810268872, 45.4823442895009], [-73.9410419166311, 45.4834215699972], [-73.942256795601, 45.483380875313], [-73.9426871284147, 45.4827943413787], [-73.9436978356457, 45.482808418644], [-73.9433844250482, 45.4836104864635], [-73.9412104480622, 45.4837088979371], [-73.941186300091, 45.4855356756957], [-73.9409258043702, 45.4865805138247], [-73.940155183621, 45.4878253029672], [-73.9400375236355, 45.4891394779763], [-73.939084522942, 45.4899799926108], [-73.9355316222878, 45.4921352533586], [-73.9349775409211, 45.4932801876613], [-73.9328555975538, 45.4935401391563], [-73.9323151123675, 45.4931193083499], [-73.9298370141484, 45.4936595300698], [-73.9291104700923, 45.4940132354185], [-73.9270348943367, 45.4936430419454], [-73.925473026234, 45.4952145713303], [-73.9244092344479, 45.4966763272855], [-73.9244257212294, 45.4971711381462], [-73.9233876507023, 45.4982360094313], [-73.9226520258841, 45.4995263547275], [-73.9218373692027, 45.5000962326717], [-73.9209670436555, 45.5000814447197], [-73.918541557808, 45.5008552086516], [-73.9174837992266, 45.5014440345453], [-73.9145252844175, 45.5010948373465], [-73.9134946418312, 45.5018904208046], [-73.9127623770829, 45.5032518742003], [-73.9125029822642, 45.5046603019441], [-73.9105682077776, 45.502919788446], [-73.9117306033429, 45.5014828251295], [-73.9131442528934, 45.5001505549281], [-73.910763113645, 45.4979785583287], [-73.9097687478128, 45.498420306124], [-73.9072471667436, 45.4990521662397], [-73.9032166411352, 45.5013944047771], [-73.901198690394, 45.5019296796061], [-73.8993079427873, 45.5021890950386], [-73.8978204833524, 45.5021042916793], [-73.893915982267, 45.4991295138785], [-73.8832708288195, 45.4900124335721], [-73.8758099807102, 45.4943016403121], [-73.871602833053, 45.4905720481716]]]], \"type\": \"MultiPolygon\"}, \"id\": \"63-Jacques-Bizard\", \"properties\": {}, \"type\": \"Feature\"}, {\"bbox\": [-73.8795251463835, 45.4705088548296, -73.8587614558506, 45.4911097682054], \"geometry\": {\"coordinates\": [[[[-73.8795251463835, 45.4721694456373], [-73.8770259047514, 45.4733055656905], [-73.8771362722445, 45.474146820144], [-73.8758315302677, 45.4744852213893], [-73.8761694823241, 45.475285050858], [-73.8753710533004, 45.4763945070991], [-73.8754013038998, 45.4771052655959], [-73.8745581040502, 45.4791867014648], [-73.873401680597, 45.4803243146019], [-73.8714778204625, 45.4814913213621], [-73.8706822810873, 45.4830686993857], [-73.8688129680033, 45.4847754445001], [-73.8690502967072, 45.4858455083571], [-73.8658510539776, 45.4876644845598], [-73.8647484711707, 45.4872900384824], [-73.8624368975074, 45.4879093508046], [-73.8598077012489, 45.4888850004049], [-73.8587614558506, 45.4873090890375], [-73.8613316931676, 45.4851413285652], [-73.8624629228902, 45.4840039194648], [-73.8650419471552, 45.4821657726431], [-73.8728715855598, 45.4756017517064], [-73.871209821762, 45.4733162451191], [-73.8733213850942, 45.4725990666647], [-73.8782862116718, 45.4705088548296], [-73.8795251463835, 45.4721694456373]]], [[[-73.8598857733827, 45.4911029074784], [-73.8591675296752, 45.4908171897388], [-73.8600571674373, 45.4898965476815], [-73.8612991016732, 45.4900456152652], [-73.8605639387492, 45.4911097682054], [-73.8598857733827, 45.4911029074784]]]], \"type\": \"MultiPolygon\"}, \"id\": \"64-Sainte-Genevi\\u00e8ve\", \"properties\": {}, \"type\": \"Feature\"}, {\"bbox\": [-73.5462767505068, 45.5915064148139, -73.505845657669, 45.6160673327401], \"geometry\": {\"coordinates\": [[[-73.505845657669, 45.5915064148139], [-73.5103359282538, 45.5921124591547], [-73.5206880075519, 45.5952083313336], [-73.5204207506441, 45.5957326455424], [-73.5227698757162, 45.5964405193219], [-73.5231408135446, 45.5957591991736], [-73.533521772969, 45.5988762603839], [-73.5369160899836, 45.5931626565659], [-73.5411715382662, 45.5939767034301], [-73.5423606148624, 45.5943108573749], [-73.5455045323429, 45.5956272275911], [-73.5452799498143, 45.5959627917351], [-73.5438572127564, 45.5980784963673], [-73.5442050076359, 45.5981948225546], [-73.5445859643042, 45.5999308464328], [-73.5451108447268, 45.6000061818095], [-73.5447576674512, 45.6019410417126], [-73.5407418924341, 45.6006998521118], [-73.539729971205, 45.6018186221009], [-73.5429289535666, 45.6032316351511], [-73.5421763850909, 45.6042454438226], [-73.5394321608651, 45.6030910243993], [-73.5365958888719, 45.602162446611], [-73.5365038947396, 45.6026457300995], [-73.5375401492111, 45.6052359766051], [-73.5416213388458, 45.606939681157], [-73.540900931842, 45.6078533012629], [-73.5416434070878, 45.6081797015109], [-73.5412098839782, 45.6095033241271], [-73.5441363974969, 45.6102716461918], [-73.5453373826653, 45.6107633861198], [-73.5444977198785, 45.6121760838565], [-73.5462767505068, 45.6127238289344], [-73.5452777806501, 45.6141657083913], [-73.5437218072693, 45.6149096422408], [-73.5381703589619, 45.6139517855176], [-73.5375256945614, 45.6160673327401], [-73.5252332402243, 45.6137951013372], [-73.5145702896503, 45.6119902043961], [-73.5073926872162, 45.6107104987953], [-73.507104042043, 45.6103305736701], [-73.5088445389914, 45.6059056683277], [-73.5094016237031, 45.6029289790696], [-73.5089844073373, 45.5984312397903], [-73.5085623510741, 45.5964354408978], [-73.5073994472774, 45.5937585441643], [-73.505845657669, 45.5915064148139]]], \"type\": \"Polygon\"}, \"id\": \"71-T\\u00e9treaultville\", \"properties\": {}, \"type\": \"Feature\"}, {\"bbox\": [-73.5486183023616, 45.549446926412, -73.5040074172822, 45.5988762603839], \"geometry\": {\"coordinates\": [[[-73.505845657669, 45.5915064148139], [-73.5052335547608, 45.5914035841385], [-73.5040074172822, 45.5877509637108], [-73.50548477383, 45.5842108995057], [-73.5046727489859, 45.5839523001102], [-73.5060139625714, 45.5806625893987], [-73.5058561540639, 45.5806068926751], [-73.5091666956111, 45.5757730349861], [-73.5141197194594, 45.5708695926608], [-73.5190039768335, 45.5682773867463], [-73.5197939453882, 45.5669670591355], [-73.5180270972663, 45.5661485153046], [-73.5253430489297, 45.5574887203531], [-73.5250635489053, 45.5568993328574], [-73.5236813870747, 45.5568097261785], [-73.521480081669, 45.5591100901826], [-73.5209547766993, 45.5588573091504], [-73.5218702090576, 45.5578763137034], [-73.5209413390244, 45.5570999459563], [-73.5191167026398, 45.5588496230043], [-73.518595216105, 45.5586040300451], [-73.522051635704, 45.5552304196808], [-73.5269225613603, 45.549446926412], [-73.5335765932332, 45.5515757481653], [-73.5389816134656, 45.5533773670715], [-73.5382239872366, 45.5549283797349], [-73.5486183023616, 45.5582491708623], [-73.5460296824187, 45.562265422129], [-73.5459659905086, 45.5625254142127], [-73.5456328946765, 45.5629337545645], [-73.5413632157982, 45.5709610549351], [-73.5386884000436, 45.5749269433291], [-73.5320531965098, 45.5852349268307], [-73.540035463506, 45.5878529169711], [-73.5369160899836, 45.5931626565659], [-73.533521772969, 45.5988762603839], [-73.5231408135446, 45.5957591991736], [-73.5227698757162, 45.5964405193219], [-73.5204207506441, 45.5957326455424], [-73.5206880075519, 45.5952083313336], [-73.5103359282538, 45.5921124591547], [-73.505845657669, 45.5915064148139]]], \"type\": \"Polygon\"}, \"id\": \"72-MaisonneuveLongue-Pointe\", \"properties\": {}, \"type\": \"Feature\"}, {\"bbox\": [-73.5592280432661, 45.529933001055, -73.5269225613603, 45.5652953442798], \"geometry\": {\"coordinates\": [[[-73.5269225613603, 45.549446926412], [-73.5289560474797, 45.5470320263359], [-73.5277739913219, 45.547187016061], [-73.5277290513663, 45.5464490003045], [-73.5313590128093, 45.5457750092113], [-73.5321039500724, 45.5447229718789], [-73.5291969726971, 45.5451540050291], [-73.5296700173696, 45.5442239930694], [-73.5329650126455, 45.5436089818848], [-73.5339429567644, 45.5424780308809], [-73.5315039994787, 45.5426720333775], [-73.5316359736222, 45.5420080334177], [-73.5344850464319, 45.5413149877237], [-73.5404589754615, 45.5356759920904], [-73.5417879567955, 45.529933001055], [-73.5428587889529, 45.5304546205586], [-73.5439636509721, 45.5334697006227], [-73.5473499781753, 45.5376709059424], [-73.5482541001656, 45.5383569002539], [-73.550216365092, 45.5389758922042], [-73.5592280432661, 45.5399028690768], [-73.5552605710227, 45.5474166761255], [-73.5545655421497, 45.55467023726], [-73.5542787320438, 45.5568764086233], [-73.5546496932451, 45.5649641797921], [-73.5544730757919, 45.5652953442798], [-73.5459659905086, 45.5625254142127], [-73.5460296824187, 45.562265422129], [-73.5486183023616, 45.5582491708623], [-73.5382239872366, 45.5549283797349], [-73.5389816134656, 45.5533773670715], [-73.5335765932332, 45.5515757481653], [-73.5269225613603, 45.549446926412]]], \"type\": \"Polygon\"}, \"id\": \"73-Hochelaga\", \"properties\": {}, \"type\": \"Feature\"}, {\"bbox\": [-73.5696609688417, 45.5625254142127, -73.5320531965098, 45.5971486400825], \"geometry\": {\"coordinates\": [[[-73.5455045323429, 45.5956272275911], [-73.5423606148624, 45.5943108573749], [-73.5411715382662, 45.5939767034301], [-73.5369160899836, 45.5931626565659], [-73.540035463506, 45.5878529169711], [-73.5320531965098, 45.5852349268307], [-73.5386884000436, 45.5749269433291], [-73.5413632157982, 45.5709610549351], [-73.5456328946765, 45.5629337545645], [-73.5459659905086, 45.5625254142127], [-73.5544730757919, 45.5652953442798], [-73.5489772535198, 45.5734435433853], [-73.5557298683366, 45.5757065336466], [-73.5584435150771, 45.578098690279], [-73.5683754804235, 45.5814045757918], [-73.5648413846768, 45.5830623920281], [-73.566054883333, 45.5843176844033], [-73.563949176176, 45.5849798671748], [-73.5642198577817, 45.5854079588427], [-73.5642246834943, 45.5872483268508], [-73.5663609324088, 45.5883396268265], [-73.5686767639537, 45.5922969983003], [-73.5690474086577, 45.5937353194892], [-73.5687432258054, 45.5949521683749], [-73.5696609688417, 45.5965806032278], [-73.5694206600629, 45.5971486400825], [-73.5576871015794, 45.5932166140624], [-73.5489394765731, 45.5903029802044], [-73.5465394629102, 45.5940712033384], [-73.5481396292151, 45.5946360429193], [-73.5473484500099, 45.5955355370728], [-73.545930102715, 45.5949937733284], [-73.5455045323429, 45.5956272275911]]], \"type\": \"Polygon\"}, \"id\": \"74-Louis-Riel\", \"properties\": {}, \"type\": \"Feature\"}, {\"bbox\": [-73.6543058972308, 45.5759177646435, -73.6202427208594, 45.6122509805631], \"geometry\": {\"coordinates\": [[[-73.6202427208594, 45.5951205335532], [-73.6296215435427, 45.5838130726522], [-73.6288186186035, 45.5832571469721], [-73.631962332515, 45.579640175342], [-73.6327012962769, 45.5799802985646], [-73.6363215300962, 45.5759177646435], [-73.652557313063, 45.5826892716542], [-73.6543058972308, 45.5836262624158], [-73.6531900096361, 45.5859698880497], [-73.6526947978849, 45.5876532157306], [-73.6523937374702, 45.5900742122073], [-73.6505401287885, 45.5918403260598], [-73.6490983475598, 45.5943078055034], [-73.646028354957, 45.5966872776611], [-73.6450204850692, 45.598497300652], [-73.6434244270991, 45.6009558130627], [-73.6432738605823, 45.6022427894953], [-73.6418446065649, 45.6048360555341], [-73.6415278334524, 45.606276219979], [-73.6400469319338, 45.6087976232294], [-73.6388534618155, 45.6101933725153], [-73.6374274156649, 45.6122509805631], [-73.6349651825723, 45.6101401159366], [-73.6284179810453, 45.603912893307], [-73.6227414555439, 45.5985713755102], [-73.6209924104659, 45.5968531497608], [-73.6216736698201, 45.5964861898013], [-73.6202427208594, 45.5951205335532]]], \"type\": \"Polygon\"}, \"id\": \"81-Marie-Clarac\", \"properties\": {}, \"type\": \"Feature\"}, {\"bbox\": [-73.6374274156649, 45.5951205335532, -73.601559767966, 45.6298453145986], \"geometry\": {\"coordinates\": [[[-73.6028907661658, 45.6112216102358], [-73.6041139394664, 45.6106174089674], [-73.6035616092243, 45.6101078733853], [-73.6048043091085, 45.6094292879636], [-73.6062298901187, 45.610759685103], [-73.6079197060538, 45.6094530924621], [-73.6092890313816, 45.6081470965116], [-73.6125635803426, 45.604373796832], [-73.61467650443, 45.601820884038], [-73.6202427208594, 45.5951205335532], [-73.6216736698201, 45.5964861898013], [-73.6209924104659, 45.5968531497608], [-73.6227414555439, 45.5985713755102], [-73.6284179810453, 45.603912893307], [-73.6349651825723, 45.6101401159366], [-73.6374274156649, 45.6122509805631], [-73.6357315212, 45.6162353900055], [-73.6334060135125, 45.6196665233391], [-73.6310514588113, 45.6217838603777], [-73.6289543944547, 45.6234221648674], [-73.6269636907653, 45.6247707822286], [-73.6250472436735, 45.6262897836938], [-73.6235959602566, 45.6271766849645], [-73.6206953088035, 45.6298453145986], [-73.6168081007299, 45.6262083345707], [-73.6071490341973, 45.6170493269392], [-73.6023660828945, 45.6125718329314], [-73.601559767966, 45.6118073578371], [-73.6028907661658, 45.6112216102358]]], \"type\": \"Polygon\"}, \"id\": \"82-Ovide-Clermont\", \"properties\": {}, \"type\": \"Feature\"}, {\"bbox\": [-73.613010925262, 45.5160358124743, -73.5966746401772, 45.5249602486287], \"geometry\": {\"coordinates\": [[[-73.5989854515795, 45.5160358124743], [-73.5986563507028, 45.5163499572059], [-73.601437737118, 45.5176238014654], [-73.6020308024605, 45.5177034122021], [-73.613010925262, 45.5225880512056], [-73.6108850612038, 45.5249602486287], [-73.5966746401772, 45.5186407402299], [-73.5982202946245, 45.5169177573452], [-73.5969109664106, 45.5161364855643], [-73.5989854515795, 45.5160358124743]]], \"type\": \"Polygon\"}, \"id\": \"91-Claude-Ryan\", \"properties\": {}, \"type\": \"Feature\"}, {\"bbox\": [-73.6253373412254, 45.5146703511952, -73.5986563507028, 45.5277835686717], \"geometry\": {\"coordinates\": [[[-73.5989854515795, 45.5160358124743], [-73.6044730454934, 45.5155769251068], [-73.6089843852315, 45.5146703511952], [-73.6091799069916, 45.5148927825], [-73.6186655613026, 45.5191467549529], [-73.6148105187034, 45.5234843904785], [-73.6155485100061, 45.52374152426], [-73.6253373412254, 45.518414467689], [-73.6244833769123, 45.5195443162251], [-73.6208637881685, 45.5236565043515], [-73.617235572865, 45.5277835686717], [-73.6170925681517, 45.5277209056734], [-73.6124143323658, 45.525647330045], [-73.6108850612038, 45.5249602486287], [-73.613010925262, 45.5225880512056], [-73.6020308024605, 45.5177034122021], [-73.601437737118, 45.5176238014654], [-73.5986563507028, 45.5163499572059], [-73.5989854515795, 45.5160358124743]]], \"type\": \"Polygon\"}, \"id\": \"92-Joseph-Beaubien\", \"properties\": {}, \"type\": \"Feature\"}, {\"bbox\": [-73.6189454361275, 45.504064067218, -73.5902604532774, 45.5186407402299], \"geometry\": {\"coordinates\": [[[-73.5956108742759, 45.504064067218], [-73.5987846893921, 45.5056180649425], [-73.5993805679324, 45.5053898653966], [-73.6024762927983, 45.5068574351344], [-73.6035337540631, 45.5057001623398], [-73.6061344132343, 45.5068772235294], [-73.6063535452531, 45.5074911306599], [-73.6130513861854, 45.5104478685544], [-73.6182356279483, 45.504722156916], [-73.6189454361275, 45.5051234940594], [-73.6160933747766, 45.5082725969653], [-73.6178928803835, 45.5091750557282], [-73.6169256431203, 45.5102737338336], [-73.61888001694, 45.5111346532789], [-73.617959519301, 45.5121686212918], [-73.6171142113946, 45.5117885655948], [-73.6163442345691, 45.5125462730753], [-73.615038686563, 45.511951761593], [-73.6111115129373, 45.5140796366228], [-73.6089843852315, 45.5146703511952], [-73.6044730454934, 45.5155769251068], [-73.5989854515795, 45.5160358124743], [-73.5969109664106, 45.5161364855643], [-73.5982202946245, 45.5169177573452], [-73.5966746401772, 45.5186407402299], [-73.5902604532774, 45.5157813641729], [-73.5911992183544, 45.5147110287094], [-73.5918451342772, 45.5144729450241], [-73.5968586638591, 45.5145623065118], [-73.5978614314752, 45.5141637733071], [-73.598896296438, 45.5131127563816], [-73.5969405107098, 45.5130415385056], [-73.5969012890154, 45.5117790625741], [-73.5949672180747, 45.5109069459258], [-73.5935088435771, 45.5105257693584], [-73.594191031848, 45.5097864575692], [-73.591464574106, 45.508070751295], [-73.5956108742759, 45.504064067218]]], \"type\": \"Polygon\"}, \"id\": \"93-Robert-Bourassa\", \"properties\": {}, \"type\": \"Feature\"}, {\"bbox\": [-73.6267223236567, 45.5117885655948, -73.6089843852315, 45.52374152426], \"geometry\": {\"coordinates\": [[[-73.617959519301, 45.5121686212918], [-73.6176645335398, 45.5125000231349], [-73.6207592308166, 45.5138993727882], [-73.6267223236567, 45.5165801475772], [-73.6253373412254, 45.518414467689], [-73.6155485100061, 45.52374152426], [-73.6148105187034, 45.5234843904785], [-73.6186655613026, 45.5191467549529], [-73.6091799069916, 45.5148927825], [-73.6089843852315, 45.5146703511952], [-73.6111115129373, 45.5140796366228], [-73.615038686563, 45.511951761593], [-73.6163442345691, 45.5125462730753], [-73.6171142113946, 45.5117885655948], [-73.617959519301, 45.5121686212918]]], \"type\": \"Polygon\"}, \"id\": \"94-Jeanne-Sauv\\u00e9\", \"properties\": {}, \"type\": \"Feature\"}, {\"bbox\": [-73.8558121436329, 45.488985999861, -73.7516832079437, 45.5171016749459], \"geometry\": {\"coordinates\": [[[[-73.8187679895316, 45.5140812084438], [-73.8182383369059, 45.5132188436317], [-73.8194262685108, 45.5128016511853], [-73.8210527525633, 45.5129859861948], [-73.8211602697308, 45.5138855228726], [-73.8187679895316, 45.5140812084438]]], [[[-73.7612752776246, 45.5104175090183], [-73.7551669017747, 45.5064862077527], [-73.7550630650544, 45.5065238038199], [-73.7516832079437, 45.5044227485347], [-73.7530750881715, 45.5037537247243], [-73.7547114610262, 45.5033812068779], [-73.756652358581, 45.5024589334263], [-73.7582371682807, 45.5020414841587], [-73.7594306007504, 45.5027766325504], [-73.7609994664832, 45.5016752336666], [-73.7638615520544, 45.5034953365559], [-73.764601206777, 45.5029446682134], [-73.7653841918245, 45.5034648112556], [-73.7671979733428, 45.5027497284985], [-73.7692002551043, 45.5040137486001], [-73.7709616412032, 45.5034073001873], [-73.7725018897261, 45.5025715611262], [-73.770851931212, 45.5015263075263], [-73.7738796981111, 45.5005112554049], [-73.7716579558132, 45.4991257181769], [-73.7735738316828, 45.4981363521851], [-73.7779880975343, 45.5009521734749], [-73.780555316633, 45.4997211145292], [-73.7811328878805, 45.5000886664279], [-73.7828691809435, 45.4992834417083], [-73.7866716942594, 45.5016560785918], [-73.7833876826593, 45.5031694957223], [-73.7921892811359, 45.505162983993], [-73.790378705595, 45.5039707845666], [-73.7971312330344, 45.5007319392105], [-73.800845778582, 45.4990215282087], [-73.8020719362353, 45.500313400533], [-73.8090622022287, 45.4969839281454], [-73.8103152495861, 45.4968275421823], [-73.8148195197041, 45.5014854076037], [-73.814130519647, 45.5018291882481], [-73.8151983502239, 45.5028700758232], [-73.8158749418108, 45.5025712297953], [-73.8192989400152, 45.5061341618076], [-73.8239273064692, 45.5039359215182], [-73.8260247686459, 45.5028472072531], [-73.8336495886976, 45.4992478732958], [-73.8354476552771, 45.4983089444422], [-73.835851882975, 45.4987134333303], [-73.8376510464643, 45.4977036685397], [-73.8352748755507, 45.4946201233283], [-73.8359064469498, 45.4941865754856], [-73.8445138674112, 45.4899447538175], [-73.8461670237813, 45.488985999861], [-73.8503699985263, 45.4936842455575], [-73.853113099403, 45.4984292547447], [-73.8558121436329, 45.5017030001578], [-73.8554973469563, 45.506068266442], [-73.8541507320505, 45.5071387755787], [-73.8547842282295, 45.5078848003326], [-73.8541503989792, 45.5088568468323], [-73.8514364847285, 45.5107998956924], [-73.8509728924279, 45.5113681864054], [-73.8497265304179, 45.5116149897809], [-73.8487575861648, 45.5122208147549], [-73.8486390859537, 45.5137509650076], [-73.8470767467479, 45.515690388096], [-73.8459043806884, 45.5165397868316], [-73.8447612809957, 45.5165252439303], [-73.8416070645454, 45.5171016749459], [-73.8379192636275, 45.5168516646645], [-73.8362532214568, 45.51650560879], [-73.8321180123678, 45.5163557197529], [-73.8313656471532, 45.5168348664122], [-73.8297408583824, 45.5169655584571], [-73.8282028168338, 45.5166190156169], [-73.8268661171387, 45.5156510162477], [-73.8250222653614, 45.5155213777536], [-73.8246734151281, 45.5149644141917], [-73.8233629812572, 45.5141042906802], [-73.8234733111558, 45.5132581353231], [-73.8218473252627, 45.5131637356642], [-73.8209366065744, 45.5128154164364], [-73.8192176588039, 45.5126139694502], [-73.8179057909873, 45.5132557668608], [-73.8178065811604, 45.5138229980126], [-73.8160507514445, 45.5154287971508], [-73.814770537422, 45.5156310808765], [-73.8131059190362, 45.5155096653326], [-73.810217503155, 45.5162914840575], [-73.8084551833961, 45.5162217432523], [-73.8064888710304, 45.5155636081875], [-73.8057027099487, 45.5147919349551], [-73.8040410010469, 45.5149672884696], [-73.801546777817, 45.5149829442516], [-73.8001619454196, 45.5148065602758], [-73.7995790764703, 45.5135123735559], [-73.7995988098213, 45.5123965010493], [-73.7992059489796, 45.5107148435346], [-73.7978204799485, 45.5101065121228], [-73.7969591683437, 45.5093799021214], [-73.7939384028061, 45.509297721884], [-73.79058311435, 45.5088654314285], [-73.7870155334484, 45.5094594051816], [-73.7852614432657, 45.5093198098856], [-73.7829719822765, 45.5095864846083], [-73.7806008657296, 45.5088903884048], [-73.7769513427547, 45.5084674192311], [-73.7745708564459, 45.5084461679299], [-73.7719486126198, 45.5087044209407], [-73.7697639799538, 45.5095104479827], [-73.7673058990371, 45.5093183322757], [-73.7625356657639, 45.5100672469129], [-73.7612752776246, 45.5104175090183]]]], \"type\": \"MultiPolygon\"}, \"id\": \"101-Bois-de-Liesse\", \"properties\": {}, \"type\": \"Feature\"}, {\"bbox\": [-73.9475358331527, 45.4404255381026, -73.8458397013725, 45.5079515359158], \"geometry\": {\"coordinates\": [[[[-73.8461670237813, 45.488985999861], [-73.850532069583, 45.486758681857], [-73.8458397013725, 45.4794951647217], [-73.8472019880053, 45.4788779608994], [-73.8518367097832, 45.4764514219245], [-73.8573573288562, 45.4736627559579], [-73.8545371967343, 45.4706120339916], [-73.8603908221258, 45.4659954945452], [-73.859889484827, 45.4655831049747], [-73.8669852747875, 45.4613941823855], [-73.8659406037748, 45.4600298096328], [-73.8814395340419, 45.4526362439631], [-73.8847216555087, 45.4524908762247], [-73.8890536732734, 45.4491166876217], [-73.8915462525593, 45.4480217199892], [-73.8938116724967, 45.4465652096353], [-73.8981246578432, 45.4475293470406], [-73.9003739737275, 45.4471542652552], [-73.9000666991504, 45.4467285005871], [-73.9015060886188, 45.446358434947], [-73.9023709077117, 45.4475251321732], [-73.9043599589048, 45.4467892477034], [-73.9055608807492, 45.4484676964261], [-73.9104202259452, 45.4468936252547], [-73.9231679445166, 45.4420154242323], [-73.9228839309917, 45.4416385017936], [-73.9245143656332, 45.4408765943703], [-73.924830550628, 45.4404255381026], [-73.9348115551979, 45.4490797759617], [-73.9369647858857, 45.4508355286695], [-73.9367305115467, 45.4519612579974], [-73.936084813848, 45.45278257894], [-73.9363214019941, 45.4536095287366], [-73.9384314066949, 45.45366444434], [-73.93849022267, 45.4546540611182], [-73.9401870518575, 45.4558173634308], [-73.9432583349177, 45.4561564624145], [-73.9444816415584, 45.4572495419421], [-73.9470042484352, 45.4577165755588], [-73.9475358331527, 45.4586413391725], [-73.9466703677291, 45.4591486916182], [-73.9457347700682, 45.4588823651705], [-73.9452919598077, 45.4594780510929], [-73.9438715446993, 45.4593485885153], [-73.9418275850641, 45.461228202182], [-73.9418734970443, 45.4621908676335], [-73.9433996704037, 45.4627518229434], [-73.9458662537823, 45.4625712338861], [-73.9452835656909, 45.4632754571652], [-73.9455865563861, 45.4644081059436], [-73.9444336707811, 45.464151615889], [-73.9428244875956, 45.4644188471942], [-73.9420560006039, 45.4659065384758], [-73.9397320642846, 45.4663563878557], [-73.9401770020335, 45.4676594913386], [-73.9394768022606, 45.4680671581924], [-73.9395814637767, 45.4700104369658], [-73.9382622094761, 45.4714102256228], [-73.9356853954855, 45.4722749319843], [-73.9346437792633, 45.4731967435679], [-73.9329374951772, 45.4725193630933], [-73.9323111235668, 45.4725667323419], [-73.9299152373346, 45.4737006039578], [-73.928842473854, 45.4739115313467], [-73.9275236887696, 45.4737184885069], [-73.9265293732015, 45.4741631743875], [-73.925796243829, 45.4736259485905], [-73.9248000500235, 45.4721089475954], [-73.9222818122356, 45.4705794857248], [-73.922965231979, 45.4696141155523], [-73.9226524205748, 45.4688324194201], [-73.9212201297683, 45.4688467094977], [-73.9216571330551, 45.4674143796986], [-73.921550552687, 45.4668568126713], [-73.9195312526606, 45.4635798400557], [-73.9178201887521, 45.4621912996059], [-73.9148789978459, 45.4619144443475], [-73.9126660861929, 45.4603383473932], [-73.91114607451, 45.4605598133876], [-73.9103819033438, 45.4609764429342], [-73.9100549453511, 45.4617335639878], [-73.9082146339227, 45.4617969415567], [-73.9075688375165, 45.4609865148744], [-73.9058658349117, 45.4609563776965], [-73.9051876779266, 45.4605991035458], [-73.9038323289561, 45.4606219020727], [-73.9020889859002, 45.4618068799119], [-73.9017130574761, 45.4628880358479], [-73.9003152261538, 45.4623259838994], [-73.899767819995, 45.462669876326], [-73.8976775036577, 45.4654577069673], [-73.8962483592814, 45.4658946426154], [-73.8957916608649, 45.4664270982997], [-73.8945384007686, 45.4664224345534], [-73.8936214304942, 45.4669655597388], [-73.8921732932478, 45.4665295724673], [-73.8916127412336, 45.4668464725107], [-73.8913265706041, 45.4679902821467], [-73.8900901349216, 45.4685793797869], [-73.8888217813327, 45.4686035027193], [-73.8860812311329, 45.4695648402732], [-73.8847899934361, 45.4696321930072], [-73.8828866868638, 45.4718612485547], [-73.8823610038276, 45.4716560245278], [-73.8811747849457, 45.4721459539451], [-73.8806356311152, 45.471850773116], [-73.8795251463835, 45.4721694456373], [-73.8782862116718, 45.4705088548296], [-73.8733213850942, 45.4725990666647], [-73.871209821762, 45.4733162451191], [-73.8728715855598, 45.4756017517064], [-73.8650419471552, 45.4821657726431], [-73.8624629228902, 45.4840039194648], [-73.8613316931676, 45.4851413285652], [-73.8587614558506, 45.4873090890375], [-73.8598077012489, 45.4888850004049], [-73.8592579904622, 45.4889452259737], [-73.8578565654384, 45.4898674655412], [-73.8569952719841, 45.4912379676731], [-73.8545791042202, 45.4935760467931], [-73.8531479621556, 45.4959201221199], [-73.8544902230577, 45.4977606434992], [-73.8548560501467, 45.4989743240793], [-73.8555516665994, 45.4997100150003], [-73.8578400891255, 45.4995048836594], [-73.8585024501129, 45.4997829560785], [-73.8591539006867, 45.5007425753891], [-73.8588895885858, 45.501436262307], [-73.8580145103082, 45.5020213087385], [-73.8578513100126, 45.5031672055572], [-73.85712842707, 45.5040318263201], [-73.8570843291783, 45.505329258001], [-73.8555961994083, 45.5077731597575], [-73.8547842282295, 45.5078848003326], [-73.8541507320505, 45.5071387755787], [-73.8554973469563, 45.506068266442], [-73.8558121436329, 45.5017030001578], [-73.853113099403, 45.4984292547447], [-73.8503699985263, 45.4936842455575], [-73.8461670237813, 45.488985999861]]], [[[-73.8565163230435, 45.5065638456799], [-73.8570490281172, 45.5058063309797], [-73.8583878278331, 45.5070438611748], [-73.8567674874305, 45.5078408713637], [-73.8559107285537, 45.5079515359158], [-73.8565163230435, 45.5065638456799]]]], \"type\": \"MultiPolygon\"}, \"id\": \"102-Cap-Saint-Jacques\", \"properties\": {}, \"type\": \"Feature\"}, {\"bbox\": [-73.6124143323658, 45.5157813641729, -73.5792047395127, 45.5382742004886], \"geometry\": {\"coordinates\": [[[-73.5792047395127, 45.5280064404383], [-73.581506814336, 45.5255527662198], [-73.5893088980696, 45.5167596569974], [-73.5902604532774, 45.5157813641729], [-73.5966746401772, 45.5186407402299], [-73.6108850612038, 45.5249602486287], [-73.6124143323658, 45.525647330045], [-73.6088433154766, 45.5276253868022], [-73.6061835826899, 45.5283650193777], [-73.6023604559616, 45.5284000664849], [-73.5992862274652, 45.5288774305058], [-73.5962116234987, 45.5301487739359], [-73.5947764680621, 45.5311589735711], [-73.5863837119054, 45.5382742004886], [-73.5871054297936, 45.5372069067238], [-73.5899093482658, 45.5348049045751], [-73.5847595146863, 45.5324079438366], [-73.5859421309178, 45.5310790335786], [-73.5792047395127, 45.5280064404383]]], \"type\": \"Polygon\"}, \"id\": \"111-Mile-End\", \"properties\": {}, \"type\": \"Feature\"}, {\"bbox\": [-73.5893088980696, 45.5049709717948, -73.5655614721314, 45.5280064404383], \"geometry\": {\"coordinates\": [[[-73.5734800018833, 45.5049709717948], [-73.580113792401, 45.5081921313855], [-73.5785542203746, 45.5104511791594], [-73.5786781018666, 45.5117608495828], [-73.582430798457, 45.5136019767056], [-73.5893088980696, 45.5167596569974], [-73.581506814336, 45.5255527662198], [-73.5792047395127, 45.5280064404383], [-73.5745923823609, 45.5259374612073], [-73.5740572626836, 45.5252747203744], [-73.5655614721314, 45.5213643879447], [-73.5655904084691, 45.5210639273018], [-73.571279665339, 45.5083636436696], [-73.5729588302122, 45.5055494196855], [-73.5734800018833, 45.5049709717948]]], \"type\": \"Polygon\"}, \"id\": \"113-Jeanne-Mance\", \"properties\": {}, \"type\": \"Feature\"}, {\"bbox\": [-73.5898582112291, 45.6362003202316, -73.4745824263264, 45.7054709950549], \"geometry\": {\"coordinates\": [[[-73.4868984819315, 45.6668163755988], [-73.4909285596849, 45.6670796662378], [-73.4943692754526, 45.6676107175883], [-73.5052117189194, 45.6694506091685], [-73.5066485322791, 45.66770609928], [-73.5086661140009, 45.6660376032574], [-73.514071369879, 45.663410883372], [-73.5226608995211, 45.6590189476592], [-73.5409160537594, 45.6501644528664], [-73.5441930168941, 45.6487914226698], [-73.544738106063, 45.6482242645147], [-73.5524611738286, 45.6444112188767], [-73.5555002141554, 45.6426177060947], [-73.5652962272313, 45.6362003202316], [-73.5713393674169, 45.6418436992789], [-73.5731131247475, 45.6438386857375], [-73.5764976851296, 45.641270099185], [-73.5866413495341, 45.6508496604014], [-73.5898582112291, 45.6537703909976], [-73.5838459058531, 45.6567113166436], [-73.5767899673498, 45.6602649640823], [-73.5719339731853, 45.6626357744781], [-73.539067309963, 45.678979317943], [-73.5369552091684, 45.6802676902485], [-73.5352474248791, 45.6816148433586], [-73.532629555028, 45.6840504841943], [-73.5308427113654, 45.6858730099174], [-73.5292925000853, 45.6880318303705], [-73.5284527492428, 45.6897324941851], [-73.5262321777264, 45.695068712866], [-73.5248704855113, 45.696745979989], [-73.5234829925507, 45.6977084455985], [-73.521300714461, 45.6988491350421], [-73.518072949079, 45.7000844428825], [-73.5135468623237, 45.7013546459954], [-73.5051625304534, 45.7033317792418], [-73.498947493721, 45.7045252458975], [-73.4954757567513, 45.7049490135942], [-73.4932103740932, 45.7047553331643], [-73.4921323200277, 45.7041126467728], [-73.4909405407531, 45.7027073672294], [-73.4900498047694, 45.7021797732479], [-73.4887664394737, 45.7021177409386], [-73.4856763927507, 45.7030727269477], [-73.4829186491029, 45.7036523330194], [-73.4803835661343, 45.7046724098692], [-73.4783219605948, 45.7052709191606], [-73.4766385432002, 45.7054709950549], [-73.4751651064534, 45.7048699119281], [-73.4745824263264, 45.7033866618514], [-73.4749382311583, 45.7024425674455], [-73.4763824131897, 45.7006700752533], [-73.4784777403736, 45.697652858064], [-73.4790042639298, 45.6961901697848], [-73.4792384579055, 45.6941308824961], [-73.4796140010016, 45.6929943766718], [-73.4803640884928, 45.6919258774639], [-73.483643872129, 45.6885943328445], [-73.4851764024197, 45.6867120396751], [-73.4857156558079, 45.6857399456762], [-73.4866448398145, 45.682296765324], [-73.486914072058, 45.6801843677801], [-73.4872497030629, 45.6755976940944], [-73.4873520249609, 45.6730343323445], [-73.4868984819315, 45.6668163755988]]], \"type\": \"Polygon\"}, \"id\": \"121-La Pointe-aux-Prairies\", \"properties\": {}, \"type\": \"Feature\"}, {\"bbox\": [-73.544738106063, 45.6328678840833, -73.4774799728854, 45.6694506091685], \"geometry\": {\"coordinates\": [[[-73.544738106063, 45.6482242645147], [-73.5441930168941, 45.6487914226698], [-73.5409160537594, 45.6501644528664], [-73.5226608995211, 45.6590189476592], [-73.514071369879, 45.663410883372], [-73.5086661140009, 45.6660376032574], [-73.5066485322791, 45.66770609928], [-73.5052117189194, 45.6694506091685], [-73.4943692754526, 45.6676107175883], [-73.4909285596849, 45.6670796662378], [-73.4868984819315, 45.6668163755988], [-73.4865306288933, 45.6640279113745], [-73.486175917176, 45.6627454155844], [-73.4851106606772, 45.6602901608252], [-73.4846809037125, 45.6588306383762], [-73.4832382097687, 45.6554954757732], [-73.4821383232798, 45.6536179248291], [-73.4787636354681, 45.6491486823782], [-73.4780610185114, 45.6476510142289], [-73.4774799728854, 45.6454905837529], [-73.4872757738587, 45.6469779321365], [-73.4879707187836, 45.6443924831145], [-73.4878427542795, 45.6430795950772], [-73.4879726577335, 45.6412664739826], [-73.4872874543207, 45.6393119798027], [-73.489854112659, 45.6368295683212], [-73.4903943370184, 45.6355618234685], [-73.4916720124889, 45.6345001210246], [-73.4910397713222, 45.6338422392127], [-73.491927215926, 45.6328678840833], [-73.5098459767589, 45.6358225966319], [-73.5202077969535, 45.6374981237725], [-73.5214492864595, 45.6377899174742], [-73.5431729267196, 45.6475814296488], [-73.544738106063, 45.6482242645147]]], \"type\": \"Polygon\"}, \"id\": \"122-Pointe-aux-Trembles\", \"properties\": {}, \"type\": \"Feature\"}, {\"bbox\": [-73.6241232556812, 45.6125718329314, -73.5652962272313, 45.6537703909976], \"geometry\": {\"coordinates\": [[[-73.5652962272313, 45.6362003202316], [-73.5683379250343, 45.6341956640577], [-73.5740068269183, 45.6304929149516], [-73.5954830428467, 45.6158123480652], [-73.5984976040034, 45.6140840514745], [-73.6023660828945, 45.6125718329314], [-73.6071490341973, 45.6170493269392], [-73.6168081007299, 45.6262083345707], [-73.6206953088035, 45.6298453145986], [-73.6241232556812, 45.6330522649771], [-73.5943845703787, 45.6513674636385], [-73.5898582112291, 45.6537703909976], [-73.5866413495341, 45.6508496604014], [-73.5764976851296, 45.641270099185], [-73.5731131247475, 45.6438386857375], [-73.5713393674169, 45.6418436992789], [-73.5652962272313, 45.6362003202316]]], \"type\": \"Polygon\"}, \"id\": \"123-Rivi\\u00e8re-des-Prairies\", \"properties\": {}, \"type\": \"Feature\"}, {\"bbox\": [-73.6215351178101, 45.525647330045, -73.5862704189394, 45.5479557550382], \"geometry\": {\"coordinates\": [[[-73.5864681894816, 45.538468592349], [-73.5862704189394, 45.5383757481773], [-73.5863837119054, 45.5382742004886], [-73.5947764680621, 45.5311589735711], [-73.5962116234987, 45.5301487739359], [-73.5992862274652, 45.5288774305058], [-73.6023604559616, 45.5284000664849], [-73.6061835826899, 45.5283650193777], [-73.6088433154766, 45.5276253868022], [-73.6124143323658, 45.525647330045], [-73.6170925681517, 45.5277209056734], [-73.6170629786343, 45.5290836882431], [-73.6174856875378, 45.5297416402976], [-73.6190955864224, 45.5306548374863], [-73.6215351178101, 45.5311083503899], [-73.6182756954315, 45.5346855542873], [-73.6168611349556, 45.5357046144078], [-73.6144250141163, 45.5383032859687], [-73.6123252903368, 45.5421333051385], [-73.6086846729618, 45.5461409843801], [-73.6070387029669, 45.5479557550382], [-73.6035398110948, 45.5463469119155], [-73.5864681894816, 45.538468592349]]], \"type\": \"Polygon\"}, \"id\": \"131-Saint-\\u00c9douard\", \"properties\": {}, \"type\": \"Feature\"}, {\"bbox\": [-73.6035398110948, 45.538468592349, -73.5755593123915, 45.5607570868859], \"geometry\": {\"coordinates\": [[[-73.5864681894816, 45.538468592349], [-73.6035398110948, 45.5463469119155], [-73.6019471163738, 45.5481178990012], [-73.5975914187124, 45.553207322408], [-73.5910006798707, 45.5607570868859], [-73.5774327397367, 45.5565544731088], [-73.5794549693978, 45.5542318437368], [-73.5755593123915, 45.5530615312237], [-73.5800875168702, 45.5456157629748], [-73.5813297515111, 45.5438139922411], [-73.5837910525824, 45.541331668411], [-73.5864681894816, 45.538468592349]]], \"type\": \"Polygon\"}, \"id\": \"132-\\u00c9tienne-Desmarteau\", \"properties\": {}, \"type\": \"Feature\"}, {\"bbox\": [-73.5864681894816, 45.5383757481773, -73.5545655421497, 45.5607975285183], \"geometry\": {\"coordinates\": [[[-73.5592280432661, 45.5399028690768], [-73.5735822926994, 45.5413565189643], [-73.5764926058406, 45.5415739191208], [-73.5786195284797, 45.5415422864787], [-73.5810607519196, 45.5411249464667], [-73.5838512015266, 45.5400861300747], [-73.5862704189394, 45.5383757481773], [-73.5864681894816, 45.538468592349], [-73.5837910525824, 45.541331668411], [-73.5813297515111, 45.5438139922411], [-73.5800875168702, 45.5456157629748], [-73.5755593123915, 45.5530615312237], [-73.5794549693978, 45.5542318437368], [-73.5774327397367, 45.5565544731088], [-73.573735635149, 45.5607975285183], [-73.5588620237975, 45.5560173236498], [-73.5545655421497, 45.55467023726], [-73.5552605710227, 45.5474166761255], [-73.5592280432661, 45.5399028690768]]], \"type\": \"Polygon\"}, \"id\": \"133-Vieux-Rosemont\", \"properties\": {}, \"type\": \"Feature\"}, {\"bbox\": [-73.5910006798707, 45.55467023726, -73.5489772535198, 45.5819266091566], \"geometry\": {\"coordinates\": [[[-73.5694653361432, 45.5816630209033], [-73.5683754804235, 45.5814045757918], [-73.5584435150771, 45.578098690279], [-73.5557298683366, 45.5757065336466], [-73.5489772535198, 45.5734435433853], [-73.5544730757919, 45.5652953442798], [-73.5546496932451, 45.5649641797921], [-73.5542787320438, 45.5568764086233], [-73.5545655421497, 45.55467023726], [-73.5588620237975, 45.5560173236498], [-73.573735635149, 45.5607975285183], [-73.5774327397367, 45.5565544731088], [-73.5910006798707, 45.5607570868859], [-73.5863094536503, 45.5661499995185], [-73.5871520545273, 45.566412729231], [-73.584731908233, 45.5691066724291], [-73.5772385119147, 45.5776818920023], [-73.578130955202, 45.5780689341974], [-73.5752604702031, 45.5805388907561], [-73.5739953109801, 45.5819266091566], [-73.5709328233077, 45.5809046758787], [-73.5705509760525, 45.5814521659595], [-73.5694653361432, 45.5816630209033]]], \"type\": \"Polygon\"}, \"id\": \"134-Marie-Victorin\", \"properties\": {}, \"type\": \"Feature\"}, {\"bbox\": [-73.7741729540726, 45.4606744381013, -73.6644157884018, 45.5267447688191], \"geometry\": {\"coordinates\": [[[-73.7091218538247, 45.5230954877394], [-73.6918870159802, 45.5123542857052], [-73.6881524418874, 45.5100541386763], [-73.6827840991507, 45.5143258168654], [-73.6744134053365, 45.5090285090174], [-73.6696337564668, 45.5063911079337], [-73.6673976326861, 45.5049604588181], [-73.6660099573454, 45.5044347648104], [-73.6644157884018, 45.5050492992242], [-73.6646042365099, 45.504734675849], [-73.6681641565442, 45.501660999668], [-73.67484741122, 45.4963374151867], [-73.680502634204, 45.4920408059609], [-73.6825483439594, 45.4907732405381], [-73.6860100016197, 45.4896024241141], [-73.677264286648, 45.4836591822082], [-73.6776271543493, 45.4823345919293], [-73.6827804258142, 45.4635658825978], [-73.6933043566279, 45.4703396575946], [-73.6947785817616, 45.4645178045181], [-73.69619836572, 45.4654974169452], [-73.7047665432935, 45.4712980390786], [-73.7080097103994, 45.47334246671], [-73.7221390583544, 45.4826358450705], [-73.7241021941398, 45.4814064808358], [-73.7315756591541, 45.4757155112906], [-73.7423991292426, 45.4671531227456], [-73.74247528623, 45.4670360365519], [-73.7505933570667, 45.4606744381013], [-73.7626492898165, 45.4684579890562], [-73.7623181805669, 45.4687557278511], [-73.7684606113614, 45.4749503791392], [-73.7661156464615, 45.4767286467613], [-73.7690019457786, 45.4785035754768], [-73.7741729540726, 45.4818386741628], [-73.7681746120908, 45.4847594283289], [-73.7678463791609, 45.485678039566], [-73.7664813956616, 45.486482172257], [-73.7666703097771, 45.4885693048636], [-73.7671205072924, 45.4890902137182], [-73.7645934137213, 45.4903739088715], [-73.7681822983003, 45.4944507802049], [-73.767927191601, 45.4946223655038], [-73.7708534417468, 45.4965141396676], [-73.7735738316828, 45.4981363521851], [-73.7716579558132, 45.4991257181769], [-73.7738796981111, 45.5005112554049], [-73.770851931212, 45.5015263075263], [-73.7725018897261, 45.5025715611262], [-73.7709616412032, 45.5034073001873], [-73.7692002551043, 45.5040137486001], [-73.7671979733428, 45.5027497284985], [-73.7653841918245, 45.5034648112556], [-73.764601206777, 45.5029446682134], [-73.7638615520544, 45.5034953365559], [-73.7609994664832, 45.5016752336666], [-73.7594306007504, 45.5027766325504], [-73.7582371682807, 45.5020414841587], [-73.756652358581, 45.5024589334263], [-73.7547114610262, 45.5033812068779], [-73.7530750881715, 45.5037537247243], [-73.7516832079437, 45.5044227485347], [-73.7550630650544, 45.5065238038199], [-73.7350991221023, 45.5137867482303], [-73.7285097856203, 45.5160943522463], [-73.7358987648866, 45.5207291683311], [-73.7317546325275, 45.5236815365784], [-73.7280602953464, 45.5213554616816], [-73.7217031155859, 45.5267447688191], [-73.7185119695016, 45.5247508136954], [-73.7172924358234, 45.5256928911099], [-73.7145584630039, 45.5239315629596], [-73.7131122096208, 45.5251637887575], [-73.7112612170074, 45.5243023856458], [-73.7091218538247, 45.5230954877394]]], \"type\": \"Polygon\"}, \"id\": \"141-C\\u00f4te-de-Liesse\", \"properties\": {}, \"type\": \"Feature\"}, {\"bbox\": [-73.7091218538247, 45.5044347648104, -73.6510270564502, 45.5323081056009], \"geometry\": {\"coordinates\": [[[-73.6510270564502, 45.5263874543882], [-73.6529551695687, 45.5229726150982], [-73.6580588118226, 45.5152954959574], [-73.6620316014577, 45.509044066038], [-73.6644157884018, 45.5050492992242], [-73.6660099573454, 45.5044347648104], [-73.6673976326861, 45.5049604588181], [-73.6696337564668, 45.5063911079337], [-73.6744134053365, 45.5090285090174], [-73.6827840991507, 45.5143258168654], [-73.6881524418874, 45.5100541386763], [-73.6918870159802, 45.5123542857052], [-73.7091218538247, 45.5230954877394], [-73.6963296087078, 45.5276805484038], [-73.6939612003867, 45.528347826243], [-73.6897803429098, 45.5288476157777], [-73.6870922504792, 45.5286619976995], [-73.685195685208, 45.5301022578388], [-73.683124268159, 45.5305991300384], [-73.6764129283619, 45.5321264506516], [-73.6747555535799, 45.5323081056009], [-73.6726124365382, 45.5322997327559], [-73.6698852350516, 45.5318835785726], [-73.6555330494037, 45.5277342274232], [-73.6510270564502, 45.5263874543882]]], \"type\": \"Polygon\"}, \"id\": \"142-Norman-McLaren\", \"properties\": {}, \"type\": \"Feature\"}, {\"bbox\": [-73.61467650443, 45.5814045757918, -73.563949176176, 45.6112216102358], \"geometry\": {\"coordinates\": [[[-73.5696609688417, 45.5965806032278], [-73.5687432258054, 45.5949521683749], [-73.5690474086577, 45.5937353194892], [-73.5686767639537, 45.5922969983003], [-73.5663609324088, 45.5883396268265], [-73.5642246834943, 45.5872483268508], [-73.5642198577817, 45.5854079588427], [-73.563949176176, 45.5849798671748], [-73.566054883333, 45.5843176844033], [-73.5648413846768, 45.5830623920281], [-73.5683754804235, 45.5814045757918], [-73.5694653361432, 45.5816630209033], [-73.5732723109658, 45.5829252463303], [-73.5742252628096, 45.5830975713343], [-73.5790395581623, 45.5832311484519], [-73.5817361693186, 45.5828435232896], [-73.5850508708636, 45.5817485572606], [-73.5872765077617, 45.5817600646972], [-73.5896208961855, 45.5825234015516], [-73.5927968176961, 45.5840511668496], [-73.5944959844225, 45.585037876555], [-73.5961671053026, 45.5863788582573], [-73.5985181690096, 45.5893118445279], [-73.6020871279873, 45.5931683856944], [-73.6032485083726, 45.5942192930034], [-73.6086990780645, 45.5965789895409], [-73.6101417757025, 45.5974474797099], [-73.6116347298964, 45.5986698542549], [-73.6130354491493, 45.6003781128039], [-73.61467650443, 45.601820884038], [-73.6125635803426, 45.604373796832], [-73.6092890313816, 45.6081470965116], [-73.6079197060538, 45.6094530924621], [-73.6062298901187, 45.610759685103], [-73.6048043091085, 45.6094292879636], [-73.6035616092243, 45.6101078733853], [-73.6041139394664, 45.6106174089674], [-73.6028907661658, 45.6112216102358], [-73.6013378366857, 45.6104025414741], [-73.5971103983983, 45.6085989887758], [-73.5889961999073, 45.6050220349527], [-73.5771288919308, 45.599852413767], [-73.576232424293, 45.5992577290381], [-73.5745938220503, 45.5986717630315], [-73.5726733802096, 45.5977479911912], [-73.5696609688417, 45.5965806032278]]], \"type\": \"Polygon\"}, \"id\": \"151-Saint-L\\u00e9onard-Est\", \"properties\": {}, \"type\": \"Feature\"}, {\"bbox\": [-73.6296215435427, 45.566412729231, -73.5694653361432, 45.601820884038], \"geometry\": {\"coordinates\": [[[-73.5694653361432, 45.5816630209033], [-73.5705509760525, 45.5814521659595], [-73.5709328233077, 45.5809046758787], [-73.5739953109801, 45.5819266091566], [-73.5752604702031, 45.5805388907561], [-73.578130955202, 45.5780689341974], [-73.5772385119147, 45.5776818920023], [-73.584731908233, 45.5691066724291], [-73.5871520545273, 45.566412729231], [-73.5874046777632, 45.5664890958155], [-73.5986381445569, 45.5714628841478], [-73.6016424297946, 45.5727835347079], [-73.6005459884454, 45.5740149891614], [-73.6023753660902, 45.5742891313383], [-73.6043589520305, 45.5755705351656], [-73.6113135304111, 45.5785547523195], [-73.6148320474836, 45.580191303428], [-73.6208358233192, 45.5828408672289], [-73.623269111324, 45.5839925896586], [-73.6242513055513, 45.5846473290482], [-73.6267569494518, 45.5854624669655], [-73.6280749026379, 45.5838243220039], [-73.6288186186035, 45.5832571469721], [-73.6296215435427, 45.5838130726522], [-73.6202427208594, 45.5951205335532], [-73.61467650443, 45.601820884038], [-73.6130354491493, 45.6003781128039], [-73.6116347298964, 45.5986698542549], [-73.6101417757025, 45.5974474797099], [-73.6086990780645, 45.5965789895409], [-73.6032485083726, 45.5942192930034], [-73.6020871279873, 45.5931683856944], [-73.5985181690096, 45.5893118445279], [-73.5961671053026, 45.5863788582573], [-73.5944959844225, 45.585037876555], [-73.5927968176961, 45.5840511668496], [-73.5896208961855, 45.5825234015516], [-73.5872765077617, 45.5817600646972], [-73.5850508708636, 45.5817485572606], [-73.5817361693186, 45.5828435232896], [-73.5790395581623, 45.5832311484519], [-73.5742252628096, 45.5830975713343], [-73.5732723109658, 45.5829252463303], [-73.5694653361432, 45.5816630209033]]], \"type\": \"Polygon\"}, \"id\": \"152-Saint-L\\u00e9onard-Ouest\", \"properties\": {}, \"type\": \"Feature\"}, {\"bbox\": [-73.6015380888098, 45.4653094409894, -73.5371875080419, 45.4979125426916], \"geometry\": {\"coordinates\": [[[-73.5390758626817, 45.4883382585102], [-73.5377390087046, 45.4867781311819], [-73.5371875080419, 45.4847716425103], [-73.5390896331107, 45.4789579782257], [-73.5400605004001, 45.4771849523131], [-73.5409045352268, 45.4770676622637], [-73.544790989561, 45.4746546504853], [-73.547897885736, 45.4732945786535], [-73.5519632604747, 45.4713851205092], [-73.5535995299322, 45.4704935184097], [-73.5561183847095, 45.4699434381887], [-73.5571517699907, 45.4699658746605], [-73.5630845502664, 45.4721519332886], [-73.5629773154921, 45.472291406797], [-73.5680238353449, 45.4742185784751], [-73.5698754985218, 45.474526598925], [-73.5723445217071, 45.4741023764959], [-73.5731337395658, 45.4754020852012], [-73.5751431743146, 45.4755655583636], [-73.5776045371727, 45.4761591293053], [-73.5787522413781, 45.4747754151352], [-73.5814009760351, 45.4720006793341], [-73.5831499688592, 45.4704494618721], [-73.586192167734, 45.4685776819367], [-73.5902980753151, 45.4669303074751], [-73.593418397905, 45.4661730419256], [-73.5952982354664, 45.4653094409894], [-73.5969113989909, 45.4662290782584], [-73.6006750017194, 45.4693265503939], [-73.6015380888098, 45.4698449656495], [-73.5995923966142, 45.4714885118876], [-73.5966486659517, 45.4732210790839], [-73.5951347718664, 45.4764466331536], [-73.5861251156067, 45.4827228896224], [-73.5851119123332, 45.4822361060294], [-73.5842729287511, 45.4830658950147], [-73.5806528881796, 45.4855782409323], [-73.5812577295116, 45.4863226865868], [-73.5788051804801, 45.4879299741214], [-73.5726247033677, 45.4927252183027], [-73.5671882558807, 45.4901263927885], [-73.5653550896585, 45.4921968620631], [-73.5630011277184, 45.4954107671203], [-73.561988917097, 45.497173589984], [-73.5607477815647, 45.4979125426916], [-73.5594748545018, 45.4973055470605], [-73.5559728136711, 45.4959454567625], [-73.5545777017417, 45.4947339282606], [-73.5533130105218, 45.4921853756885], [-73.5524160214136, 45.4912899988865], [-73.5507109567109, 45.4904150448375], [-73.5496180493079, 45.4900890295113], [-73.5411879980439, 45.4884799718781], [-73.5398824970348, 45.4880751564896], [-73.5390758626817, 45.4883382585102]]], \"type\": \"Polygon\"}, \"id\": \"161-Saint-HenriPetite-BourgognePointe-Saint-Charles\", \"properties\": {}, \"type\": \"Feature\"}, {\"bbox\": [-73.6351722497066, 45.4375187309259, -73.5717046710668, 45.4761591293053], \"geometry\": {\"coordinates\": [[[-73.5803978450664, 45.4607242060317], [-73.580383848446, 45.45869859258], [-73.5808415940198, 45.4566805659982], [-73.5822612868352, 45.4543201865436], [-73.5841878662571, 45.4525126975338], [-73.5873026203887, 45.4501968887305], [-73.5895426922804, 45.4479760865095], [-73.590317536462, 45.4476444830976], [-73.5946364116012, 45.4432356001591], [-73.5993656298056, 45.437522488597], [-73.5996082895714, 45.4375187309259], [-73.6118008558715, 45.4394499728596], [-73.6104503124607, 45.4429793199455], [-73.6094089858961, 45.4442773154325], [-73.6052123848584, 45.4479821667775], [-73.6048092799479, 45.4489130784869], [-73.6068239912076, 45.4545470690524], [-73.6136079881888, 45.4576954341346], [-73.6201147014597, 45.4548257159799], [-73.622324477466, 45.4535901866228], [-73.6255515041789, 45.4513172221793], [-73.6269986444794, 45.4501430927141], [-73.6288149375869, 45.4482900651074], [-73.6290926270452, 45.4483946176344], [-73.6320301276656, 45.4495010416609], [-73.6351722497066, 45.4507225431116], [-73.6350181512615, 45.4509158064615], [-73.6314544395632, 45.4527593013115], [-73.6262003043123, 45.4574918787775], [-73.6243236842049, 45.4586553508057], [-73.6200562870233, 45.4616683026575], [-73.6182352042185, 45.4622268121902], [-73.6157015928197, 45.4632907897894], [-73.6121904900053, 45.4648542087469], [-73.6116004847967, 45.4647691120724], [-73.6058459619009, 45.4672881102352], [-73.6056266168094, 45.4676031109374], [-73.6031619796725, 45.4691032161751], [-73.6025897276388, 45.4690525247808], [-73.6015380888098, 45.4698449656495], [-73.6006750017194, 45.4693265503939], [-73.5969113989909, 45.4662290782584], [-73.5952982354664, 45.4653094409894], [-73.593418397905, 45.4661730419256], [-73.5902980753151, 45.4669303074751], [-73.586192167734, 45.4685776819367], [-73.5831499688592, 45.4704494618721], [-73.5814009760351, 45.4720006793341], [-73.5787522413781, 45.4747754151352], [-73.5776045371727, 45.4761591293053], [-73.5751431743146, 45.4755655583636], [-73.5731337395658, 45.4754020852012], [-73.5723445217071, 45.4741023764959], [-73.5717046710668, 45.4728345777635], [-73.5722263249864, 45.4666080942859], [-73.5725692397967, 45.4663779997673], [-73.5760636235492, 45.4665267227639], [-73.57595438059, 45.467731089093], [-73.5774466724098, 45.4677934094142], [-73.5787521792962, 45.467573327191], [-73.5788688512642, 45.4664809032158], [-73.5806776025411, 45.4665598624633], [-73.5810988106852, 45.464472934997], [-73.5809592544789, 45.4629192039784], [-73.5803978450664, 45.4607242060317]]], \"type\": \"Polygon\"}, \"id\": \"162-Saint-Paul\\u00c9mard\", \"properties\": {}, \"type\": \"Feature\"}, {\"bbox\": [-73.5810988106852, 45.4441434701074, -73.531939269639, 45.4752874231563], \"geometry\": {\"coordinates\": [[[[-73.561675647957, 45.457026812229], [-73.5636503131163, 45.4570986393357], [-73.5631589565038, 45.4599505630657], [-73.5803978450664, 45.4607242060317], [-73.5809592544789, 45.4629192039784], [-73.5810988106852, 45.464472934997], [-73.5806776025411, 45.4665598624633], [-73.5788688512642, 45.4664809032158], [-73.5787521792962, 45.467573327191], [-73.5774466724098, 45.4677934094142], [-73.57595438059, 45.467731089093], [-73.5760636235492, 45.4665267227639], [-73.5725692397967, 45.4663779997673], [-73.5722263249864, 45.4666080942859], [-73.5717046710668, 45.4728345777635], [-73.5723445217071, 45.4741023764959], [-73.5698754985218, 45.474526598925], [-73.5680238353449, 45.4742185784751], [-73.5629773154921, 45.472291406797], [-73.5630845502664, 45.4721519332886], [-73.5571517699907, 45.4699658746605], [-73.5566742286267, 45.4697998242277], [-73.5564729236705, 45.4697250295537], [-73.5568919723525, 45.4692509155842], [-73.5584979993156, 45.4688652320405], [-73.5594741255912, 45.4680886833354], [-73.5600314607336, 45.4630762897765], [-73.5602070432843, 45.4599716856435], [-73.5604361685249, 45.458927727929], [-73.561675647957, 45.457026812229]]], [[[-73.531939269639, 45.4668762388698], [-73.533282030383, 45.4668218592047], [-73.5391619813113, 45.4629235420104], [-73.5399777236207, 45.4591888832885], [-73.5484320046815, 45.4470555292603], [-73.5539781715369, 45.4450013623675], [-73.5598960265295, 45.4441434701074], [-73.5620234184536, 45.4489835563647], [-73.5598289224776, 45.4530789952144], [-73.5597287567806, 45.4550947277761], [-73.5567932176119, 45.4601984189426], [-73.5563771935053, 45.4660746682549], [-73.5556877795518, 45.4672628311292], [-73.5517365614674, 45.4676966587134], [-73.5498323828317, 45.4691552202777], [-73.5458565074551, 45.4710106620399], [-73.544425597308, 45.472837915256], [-73.541638672543, 45.4745667491612], [-73.539337021061, 45.4752874231563], [-73.5374306118892, 45.4744062177182], [-73.5344866609104, 45.4708347638261], [-73.5344988591904, 45.4699079767891], [-73.5334499941273, 45.4695573443126], [-73.531939269639, 45.4668762388698]]]], \"type\": \"MultiPolygon\"}, \"id\": \"171-ChamplainL'\\u00cele-des-Soeurs\", \"properties\": {}, \"type\": \"Feature\"}, {\"bbox\": [-73.5993656298056, 45.4350036826887, -73.561675647957, 45.4607242060317], \"geometry\": {\"coordinates\": [[[-73.5837871545249, 45.4350036826887], [-73.5993656298056, 45.437522488597], [-73.5946364116012, 45.4432356001591], [-73.590317536462, 45.4476444830976], [-73.5895426922804, 45.4479760865095], [-73.5873026203887, 45.4501968887305], [-73.5841878662571, 45.4525126975338], [-73.5822612868352, 45.4543201865436], [-73.5808415940198, 45.4566805659982], [-73.580383848446, 45.45869859258], [-73.5803978450664, 45.4607242060317], [-73.5631589565038, 45.4599505630657], [-73.5636503131163, 45.4570986393357], [-73.561675647957, 45.457026812229], [-73.5644316339364, 45.4531214887569], [-73.5653629828168, 45.4514382552214], [-73.5666188947215, 45.4498773089445], [-73.5684785830554, 45.4481879229679], [-73.5692699550472, 45.4471436069185], [-73.5705853638418, 45.446107961992], [-73.5722579304274, 45.444469116852], [-73.5739182313887, 45.4433612189646], [-73.5756800507555, 45.4416593600233], [-73.5779148011138, 45.4400830529182], [-73.5837871545249, 45.4350036826887]]], \"type\": \"Polygon\"}, \"id\": \"172-Desmarchais-Crawford\", \"properties\": {}, \"type\": \"Feature\"}, {\"bbox\": [-73.6068399722065, 45.4863226865868, -73.5607477815647, 45.5167596569974], \"geometry\": {\"coordinates\": [[[-73.5734800018833, 45.5049709717948], [-73.5674300859224, 45.5019457643141], [-73.5651563545969, 45.5009257536286], [-73.5607477815647, 45.4979125426916], [-73.561988917097, 45.497173589984], [-73.5630011277184, 45.4954107671203], [-73.5653550896585, 45.4921968620631], [-73.5671882558807, 45.4901263927885], [-73.5726247033677, 45.4927252183027], [-73.5788051804801, 45.4879299741214], [-73.5812577295116, 45.4863226865868], [-73.583103429338, 45.4880924257338], [-73.5822957867321, 45.4883263628527], [-73.5956809652028, 45.4926003378767], [-73.5964675380297, 45.491704867985], [-73.6012074615523, 45.4937019439569], [-73.6009266859408, 45.4942697485875], [-73.6045082688859, 45.4947060857692], [-73.6068399722065, 45.4952769144878], [-73.6044775189475, 45.4952226776326], [-73.6033750499038, 45.4967309718248], [-73.6009279740317, 45.4988800346583], [-73.5997960499359, 45.5001439911523], [-73.5977240363362, 45.5016310280474], [-73.594737745289, 45.5028667176493], [-73.5941401789655, 45.5033436344744], [-73.5956108742759, 45.504064067218], [-73.591464574106, 45.508070751295], [-73.594191031848, 45.5097864575692], [-73.5935088435771, 45.5105257693584], [-73.5949672180747, 45.5109069459258], [-73.5969012890154, 45.5117790625741], [-73.5969405107098, 45.5130415385056], [-73.598896296438, 45.5131127563816], [-73.5978614314752, 45.5141637733071], [-73.5968586638591, 45.5145623065118], [-73.5918451342772, 45.5144729450241], [-73.5911992183544, 45.5147110287094], [-73.5902604532774, 45.5157813641729], [-73.5893088980696, 45.5167596569974], [-73.582430798457, 45.5136019767056], [-73.5786781018666, 45.5117608495828], [-73.5785542203746, 45.5104511791594], [-73.580113792401, 45.5081921313855], [-73.5734800018833, 45.5049709717948]]], \"type\": \"Polygon\"}, \"id\": \"181-Peter-McGill\", \"properties\": {}, \"type\": \"Feature\"}, {\"bbox\": [-73.5734800018833, 45.4880751564896, -73.5390758626817, 45.5238165260966], \"geometry\": {\"coordinates\": [[[-73.5448806808084, 45.5191907535652], [-73.5464379266303, 45.5162854363298], [-73.5468620115755, 45.513857976795], [-73.5492190367874, 45.5102959685844], [-73.5477210054261, 45.5103219824598], [-73.5469030036515, 45.5117340389128], [-73.54657799908, 45.5129270270646], [-73.5456969917881, 45.512357998283], [-73.5463640090514, 45.5093239803744], [-73.549695020088, 45.5092129682665], [-73.550625003396, 45.5079019928894], [-73.5467100456003, 45.5077980094498], [-73.5469790182482, 45.5067930379886], [-73.5514338758453, 45.5065970940784], [-73.5520469804644, 45.5053720127641], [-73.5473670408895, 45.5056550070783], [-73.5477130465639, 45.5046509913685], [-73.552496564402, 45.5042657932143], [-73.5528089694944, 45.5031050102093], [-73.5479779947401, 45.5032960364571], [-73.5483780292475, 45.5021840045336], [-73.5528640439438, 45.5019529839854], [-73.5523299208625, 45.4996958153214], [-73.5495469612169, 45.4995170102135], [-73.5501069846685, 45.4916750357777], [-73.5489559611269, 45.4916509673111], [-73.5478249505202, 45.4998100412319], [-73.5461249747178, 45.4997069784511], [-73.5466960251749, 45.494926043877], [-73.5457370062228, 45.4948960144495], [-73.5450679617308, 45.4999819687279], [-73.5437740015677, 45.5074910365882], [-73.5427789476457, 45.5078289768043], [-73.542713028629, 45.5014819775582], [-73.5425669725168, 45.4977269821455], [-73.5411679652957, 45.4913989983256], [-73.5390758626817, 45.4883382585102], [-73.5398824970348, 45.4880751564896], [-73.5411879980439, 45.4884799718781], [-73.5496180493079, 45.4900890295113], [-73.5507109567109, 45.4904150448375], [-73.5524160214136, 45.4912899988865], [-73.5533130105218, 45.4921853756885], [-73.5545777017417, 45.4947339282606], [-73.5559728136711, 45.4959454567625], [-73.5594748545018, 45.4973055470605], [-73.5607477815647, 45.4979125426916], [-73.5651563545969, 45.5009257536286], [-73.5674300859224, 45.5019457643141], [-73.5734800018833, 45.5049709717948], [-73.5729588302122, 45.5055494196855], [-73.571279665339, 45.5083636436696], [-73.5655904084691, 45.5210639273018], [-73.5655614721314, 45.5213643879447], [-73.5652383566418, 45.5238165260966], [-73.5568838251035, 45.5199246700318], [-73.5537687235941, 45.5232551201153], [-73.5497109051325, 45.521356149553], [-73.5448806808084, 45.5191907535652]]], \"type\": \"Polygon\"}, \"id\": \"182-Saint-Jacques\", \"properties\": {}, \"type\": \"Feature\"}, {\"bbox\": [-73.5652383566418, 45.4951826206437, -73.5190996853698, 45.5399028690768], \"geometry\": {\"coordinates\": [[[[-73.5274147442424, 45.5235135910537], [-73.5251840405205, 45.5163154069544], [-73.5190996853698, 45.4964289566498], [-73.5196839019087, 45.4963133966792], [-73.5192316055091, 45.4951826206437], [-73.5235780132462, 45.4965380018334], [-73.5262219855313, 45.4982100373889], [-73.5284680362731, 45.4999489748907], [-73.5298469696156, 45.5015420394984], [-73.5305050225488, 45.5047999722322], [-73.5301920008631, 45.5074609662696], [-73.5284829714113, 45.5111469746062], [-73.5295139475797, 45.521700975721], [-73.5275250227419, 45.5218729979917], [-73.5274147442424, 45.5235135910537]]], [[[-73.5323979026789, 45.5309116588315], [-73.5322539821252, 45.5289053155386], [-73.532650406906, 45.5287379966455], [-73.535473289372, 45.5289601566106], [-73.5360719733226, 45.5280409644584], [-73.535776948517, 45.527560047342], [-73.5344149864457, 45.5272360422621], [-73.5339490789414, 45.5259734056912], [-73.5318552691702, 45.5248370417729], [-73.5314333871381, 45.5222881159041], [-73.5315020312839, 45.5206100031596], [-73.5304254498686, 45.5175627808954], [-73.5300105388493, 45.5149954869969], [-73.530089354595, 45.5141148861583], [-73.5320378226962, 45.5082952174682], [-73.5331764353799, 45.5063562405992], [-73.5349739836122, 45.5062349788193], [-73.5356400145159, 45.5066940066737], [-73.5374959977644, 45.5096790170141], [-73.5387299917373, 45.5139430070273], [-73.5384300301647, 45.5176120247025], [-73.5393770324368, 45.5206029708317], [-73.5399389592119, 45.523607991237], [-73.5390530375969, 45.5256939673896], [-73.5354039767675, 45.5305800445252], [-73.5342920245728, 45.5315010077074], [-73.5329380014176, 45.53135795749], [-73.5323979026789, 45.5309116588315]]], [[[-73.5448806808084, 45.5191907535652], [-73.5497109051325, 45.521356149553], [-73.5537687235941, 45.5232551201153], [-73.5568838251035, 45.5199246700318], [-73.5652383566418, 45.5238165260966], [-73.5641429566138, 45.5273492053093], [-73.5613401818778, 45.5359226324552], [-73.5592280432661, 45.5399028690768], [-73.550216365092, 45.5389758922042], [-73.5482541001656, 45.5383569002539], [-73.5473499781753, 45.5376709059424], [-73.5439636509721, 45.5334697006227], [-73.5428587889529, 45.5304546205586], [-73.5417879567955, 45.529933001055], [-73.542631029933, 45.5272240023092], [-73.5433079570219, 45.5259280339674], [-73.5450449609183, 45.5202409952069], [-73.5448806808084, 45.5191907535652]]]], \"type\": \"MultiPolygon\"}, \"id\": \"183-Sainte-Marie\", \"properties\": {}, \"type\": \"Feature\"}, {\"bbox\": [-73.6453511352974, 45.5519916303917, -73.5986381445569, 45.5854624669655], \"geometry\": {\"coordinates\": [[[-73.5986381445569, 45.5714628841478], [-73.6027105259893, 45.5669595870386], [-73.6076346034193, 45.5613579100341], [-73.6093881709895, 45.5598575160123], [-73.6142388370954, 45.5543735967318], [-73.6161654573353, 45.5519916303917], [-73.6217484540132, 45.5544783077209], [-73.6240413737876, 45.5555253903511], [-73.6453511352974, 45.5647725775888], [-73.6446417578686, 45.5658132919643], [-73.6362833815582, 45.5758266113331], [-73.6363215300962, 45.5759177646435], [-73.6327012962769, 45.5799802985646], [-73.631962332515, 45.579640175342], [-73.6288186186035, 45.5832571469721], [-73.6280749026379, 45.5838243220039], [-73.6267569494518, 45.5854624669655], [-73.6242513055513, 45.5846473290482], [-73.623269111324, 45.5839925896586], [-73.6208358233192, 45.5828408672289], [-73.6148320474836, 45.580191303428], [-73.6113135304111, 45.5785547523195], [-73.6043589520305, 45.5755705351656], [-73.6023753660902, 45.5742891313383], [-73.6005459884454, 45.5740149891614], [-73.6016424297946, 45.5727835347079], [-73.5986381445569, 45.5714628841478]]], \"type\": \"Polygon\"}, \"id\": \"191-Saint-Michel\", \"properties\": {}, \"type\": \"Feature\"}, {\"bbox\": [-73.6235005117779, 45.5461409843801, -73.5863094536503, 45.5714628841478], \"geometry\": {\"coordinates\": [[[-73.5871520545273, 45.566412729231], [-73.5863094536503, 45.5661499995185], [-73.5910006798707, 45.5607570868859], [-73.5975914187124, 45.553207322408], [-73.6019471163738, 45.5481178990012], [-73.6035398110948, 45.5463469119155], [-73.6070387029669, 45.5479557550382], [-73.6086846729618, 45.5461409843801], [-73.6205880272051, 45.5514560807313], [-73.6201064769685, 45.5520190517324], [-73.6235005117779, 45.5536358848324], [-73.6217484540132, 45.5544783077209], [-73.6161654573353, 45.5519916303917], [-73.6142388370954, 45.5543735967318], [-73.6093881709895, 45.5598575160123], [-73.6076346034193, 45.5613579100341], [-73.6027105259893, 45.5669595870386], [-73.5986381445569, 45.5714628841478], [-73.5874046777632, 45.5664890958155], [-73.5871520545273, 45.566412729231]]], \"type\": \"Polygon\"}, \"id\": \"192-Fran\\u00e7ois-Perrault\", \"properties\": {}, \"type\": \"Feature\"}, {\"bbox\": [-73.6407295659042, 45.5357046144078, -73.6086846729618, 45.5536358848324], \"geometry\": {\"coordinates\": [[[-73.6168611349556, 45.5357046144078], [-73.618922206967, 45.5366652760056], [-73.6407295659042, 45.5429686686779], [-73.6398673671325, 45.5441488267699], [-73.6363671046978, 45.548169415833], [-73.6342899238824, 45.5494628161417], [-73.6325600663803, 45.5499795021129], [-73.6301686544477, 45.5503989164938], [-73.6278096771011, 45.5513024018691], [-73.6235005117779, 45.5536358848324], [-73.6201064769685, 45.5520190517324], [-73.6205880272051, 45.5514560807313], [-73.6086846729618, 45.5461409843801], [-73.6123252903368, 45.5421333051385], [-73.6144250141163, 45.5383032859687], [-73.6168611349556, 45.5357046144078]]], \"type\": \"Polygon\"}, \"id\": \"193-Villeray\", \"properties\": {}, \"type\": \"Feature\"}, {\"bbox\": [-73.6485543103777, 45.5233405909978, -73.6168611349556, 45.5429686686779], \"geometry\": {\"coordinates\": [[[-73.6170925681517, 45.5277209056734], [-73.617235572865, 45.5277835686717], [-73.6208637881685, 45.5236565043515], [-73.6221372911404, 45.5240220054992], [-73.6227576775837, 45.5233405909978], [-73.6485543103777, 45.5308320827376], [-73.6407295659042, 45.5429686686779], [-73.618922206967, 45.5366652760056], [-73.6168611349556, 45.5357046144078], [-73.6182756954315, 45.5346855542873], [-73.6215351178101, 45.5311083503899], [-73.6190955864224, 45.5306548374863], [-73.6174856875378, 45.5297416402976], [-73.6170629786343, 45.5290836882431], [-73.6170925681517, 45.5277209056734]]], \"type\": \"Polygon\"}, \"id\": \"194-Parc-Extension\", \"properties\": {}, \"type\": \"Feature\"}], \"type\": \"FeatureCollection\"}, \"hovertemplate\": \"district=%{location}<br>Joly=%{z}<extra></extra>\", \"locations\": [\"11-Sault-au-R\\u00e9collet\", \"12-Saint-Sulpice\", \"13-Ahuntsic\", \"14-Bordeaux-Cartierville\", \"21-Ouest\", \"22-Est\", \"23-Centre\", \"31-Darlington\", \"32-C\\u00f4te-des-Neiges\", \"33-Snowdon\", \"34-Notre-Dame-de-Gr\\u00e2ce\", \"35-Loyola\", \"41-du Canal\", \"42-J.-\\u00c9mery-Provost\", \"43-Fort-Rolland\", \"51-Sault-Saint-Louis\", \"52-Cecil-P.-Newman\", \"61-Pierre-Foretier\", \"62-Denis-Benjamin-Viger\", \"63-Jacques-Bizard\", \"64-Sainte-Genevi\\u00e8ve\", \"71-T\\u00e9treaultville\", \"72-MaisonneuveLongue-Pointe\", \"73-Hochelaga\", \"74-Louis-Riel\", \"81-Marie-Clarac\", \"82-Ovide-Clermont\", \"91-Claude-Ryan\", \"92-Joseph-Beaubien\", \"93-Robert-Bourassa\", \"94-Jeanne-Sauv\\u00e9\", \"101-Bois-de-Liesse\", \"102-Cap-Saint-Jacques\", \"111-Mile-End\", \"113-Jeanne-Mance\", \"121-La Pointe-aux-Prairies\", \"122-Pointe-aux-Trembles\", \"123-Rivi\\u00e8re-des-Prairies\", \"131-Saint-\\u00c9douard\", \"132-\\u00c9tienne-Desmarteau\", \"133-Vieux-Rosemont\", \"134-Marie-Victorin\", \"141-C\\u00f4te-de-Liesse\", \"142-Norman-McLaren\", \"151-Saint-L\\u00e9onard-Est\", \"152-Saint-L\\u00e9onard-Ouest\", \"161-Saint-HenriPetite-BourgognePointe-Saint-Charles\", \"162-Saint-Paul\\u00c9mard\", \"171-ChamplainL'\\u00cele-des-Soeurs\", \"172-Desmarchais-Crawford\", \"181-Peter-McGill\", \"182-Saint-Jacques\", \"183-Sainte-Marie\", \"191-Saint-Michel\", \"192-Fran\\u00e7ois-Perrault\", \"193-Villeray\", \"194-Parc-Extension\"], \"name\": \"\", \"type\": \"choropleth\", \"z\": [2532, 2543, 2873, 2081, 1076, 1172, 1286, 1232, 1578, 1636, 3262, 2648, 1266, 1157, 1908, 3717, 2943, 998, 1068, 690, 326, 3454, 3139, 2675, 2338, 1435, 1051, 423, 592, 419, 489, 3024, 2675, 2514, 2316, 3330, 2852, 1656, 2815, 2788, 3234, 2431, 3959, 2822, 1641, 1908, 3578, 2438, 3291, 2849, 1894, 2282, 2271, 1220, 2039, 2782, 1402]}],                        {\"coloraxis\": {\"colorbar\": {\"title\": {\"text\": \"Joly\"}}, \"colorscale\": [[0.0, \"#0d0887\"], [0.1111111111111111, \"#46039f\"], [0.2222222222222222, \"#7201a8\"], [0.3333333333333333, \"#9c179e\"], [0.4444444444444444, \"#bd3786\"], [0.5555555555555556, \"#d8576b\"], [0.6666666666666666, \"#ed7953\"], [0.7777777777777778, \"#fb9f3a\"], [0.8888888888888888, \"#fdca26\"], [1.0, \"#f0f921\"]]}, \"geo\": {\"center\": {}, \"domain\": {\"x\": [0.0, 1.0], \"y\": [0.0, 1.0]}, \"fitbounds\": \"locations\", \"projection\": {\"type\": \"mercator\"}, \"visible\": false}, \"legend\": {\"tracegroupgap\": 0}, \"margin\": {\"t\": 60}, \"template\": {\"data\": {\"bar\": [{\"error_x\": {\"color\": \"#2a3f5f\"}, \"error_y\": {\"color\": \"#2a3f5f\"}, \"marker\": {\"line\": {\"color\": \"#E5ECF6\", \"width\": 0.5}}, \"type\": \"bar\"}], \"barpolar\": [{\"marker\": {\"line\": {\"color\": \"#E5ECF6\", \"width\": 0.5}}, \"type\": \"barpolar\"}], \"carpet\": [{\"aaxis\": {\"endlinecolor\": \"#2a3f5f\", \"gridcolor\": \"white\", \"linecolor\": \"white\", \"minorgridcolor\": \"white\", \"startlinecolor\": \"#2a3f5f\"}, \"baxis\": {\"endlinecolor\": \"#2a3f5f\", \"gridcolor\": \"white\", \"linecolor\": \"white\", \"minorgridcolor\": \"white\", \"startlinecolor\": \"#2a3f5f\"}, \"type\": \"carpet\"}], \"choropleth\": [{\"colorbar\": {\"outlinewidth\": 0, \"ticks\": \"\"}, \"type\": \"choropleth\"}], \"contour\": [{\"colorbar\": {\"outlinewidth\": 0, \"ticks\": \"\"}, \"colorscale\": [[0.0, \"#0d0887\"], [0.1111111111111111, \"#46039f\"], [0.2222222222222222, \"#7201a8\"], [0.3333333333333333, \"#9c179e\"], [0.4444444444444444, \"#bd3786\"], [0.5555555555555556, \"#d8576b\"], [0.6666666666666666, \"#ed7953\"], [0.7777777777777778, \"#fb9f3a\"], [0.8888888888888888, \"#fdca26\"], [1.0, \"#f0f921\"]], \"type\": \"contour\"}], \"contourcarpet\": [{\"colorbar\": {\"outlinewidth\": 0, \"ticks\": \"\"}, \"type\": \"contourcarpet\"}], \"heatmap\": [{\"colorbar\": {\"outlinewidth\": 0, \"ticks\": \"\"}, \"colorscale\": [[0.0, \"#0d0887\"], [0.1111111111111111, \"#46039f\"], [0.2222222222222222, \"#7201a8\"], [0.3333333333333333, \"#9c179e\"], [0.4444444444444444, \"#bd3786\"], [0.5555555555555556, \"#d8576b\"], [0.6666666666666666, \"#ed7953\"], [0.7777777777777778, \"#fb9f3a\"], [0.8888888888888888, \"#fdca26\"], [1.0, \"#f0f921\"]], \"type\": \"heatmap\"}], \"heatmapgl\": [{\"colorbar\": {\"outlinewidth\": 0, \"ticks\": \"\"}, \"colorscale\": [[0.0, \"#0d0887\"], [0.1111111111111111, \"#46039f\"], [0.2222222222222222, \"#7201a8\"], [0.3333333333333333, \"#9c179e\"], [0.4444444444444444, \"#bd3786\"], [0.5555555555555556, \"#d8576b\"], [0.6666666666666666, \"#ed7953\"], [0.7777777777777778, \"#fb9f3a\"], [0.8888888888888888, \"#fdca26\"], [1.0, \"#f0f921\"]], \"type\": \"heatmapgl\"}], \"histogram\": [{\"marker\": {\"colorbar\": {\"outlinewidth\": 0, \"ticks\": \"\"}}, \"type\": \"histogram\"}], \"histogram2d\": [{\"colorbar\": {\"outlinewidth\": 0, \"ticks\": \"\"}, \"colorscale\": [[0.0, \"#0d0887\"], [0.1111111111111111, \"#46039f\"], [0.2222222222222222, \"#7201a8\"], [0.3333333333333333, \"#9c179e\"], [0.4444444444444444, \"#bd3786\"], [0.5555555555555556, \"#d8576b\"], [0.6666666666666666, \"#ed7953\"], [0.7777777777777778, \"#fb9f3a\"], [0.8888888888888888, \"#fdca26\"], [1.0, \"#f0f921\"]], \"type\": \"histogram2d\"}], \"histogram2dcontour\": [{\"colorbar\": {\"outlinewidth\": 0, \"ticks\": \"\"}, \"colorscale\": [[0.0, \"#0d0887\"], [0.1111111111111111, \"#46039f\"], [0.2222222222222222, \"#7201a8\"], [0.3333333333333333, \"#9c179e\"], [0.4444444444444444, \"#bd3786\"], [0.5555555555555556, \"#d8576b\"], [0.6666666666666666, \"#ed7953\"], [0.7777777777777778, \"#fb9f3a\"], [0.8888888888888888, \"#fdca26\"], [1.0, \"#f0f921\"]], \"type\": \"histogram2dcontour\"}], \"mesh3d\": [{\"colorbar\": {\"outlinewidth\": 0, \"ticks\": \"\"}, \"type\": \"mesh3d\"}], \"parcoords\": [{\"line\": {\"colorbar\": {\"outlinewidth\": 0, \"ticks\": \"\"}}, \"type\": \"parcoords\"}], \"pie\": [{\"automargin\": true, \"type\": \"pie\"}], \"scatter\": [{\"marker\": {\"colorbar\": {\"outlinewidth\": 0, \"ticks\": \"\"}}, \"type\": \"scatter\"}], \"scatter3d\": [{\"line\": {\"colorbar\": {\"outlinewidth\": 0, \"ticks\": \"\"}}, \"marker\": {\"colorbar\": {\"outlinewidth\": 0, \"ticks\": \"\"}}, \"type\": \"scatter3d\"}], \"scattercarpet\": [{\"marker\": {\"colorbar\": {\"outlinewidth\": 0, \"ticks\": \"\"}}, \"type\": \"scattercarpet\"}], \"scattergeo\": [{\"marker\": {\"colorbar\": {\"outlinewidth\": 0, \"ticks\": \"\"}}, \"type\": \"scattergeo\"}], \"scattergl\": [{\"marker\": {\"colorbar\": {\"outlinewidth\": 0, \"ticks\": \"\"}}, \"type\": \"scattergl\"}], \"scattermapbox\": [{\"marker\": {\"colorbar\": {\"outlinewidth\": 0, \"ticks\": \"\"}}, \"type\": \"scattermapbox\"}], \"scatterpolar\": [{\"marker\": {\"colorbar\": {\"outlinewidth\": 0, \"ticks\": \"\"}}, \"type\": \"scatterpolar\"}], \"scatterpolargl\": [{\"marker\": {\"colorbar\": {\"outlinewidth\": 0, \"ticks\": \"\"}}, \"type\": \"scatterpolargl\"}], \"scatterternary\": [{\"marker\": {\"colorbar\": {\"outlinewidth\": 0, \"ticks\": \"\"}}, \"type\": \"scatterternary\"}], \"surface\": [{\"colorbar\": {\"outlinewidth\": 0, \"ticks\": \"\"}, \"colorscale\": [[0.0, \"#0d0887\"], [0.1111111111111111, \"#46039f\"], [0.2222222222222222, \"#7201a8\"], [0.3333333333333333, \"#9c179e\"], [0.4444444444444444, \"#bd3786\"], [0.5555555555555556, \"#d8576b\"], [0.6666666666666666, \"#ed7953\"], [0.7777777777777778, \"#fb9f3a\"], [0.8888888888888888, \"#fdca26\"], [1.0, \"#f0f921\"]], \"type\": \"surface\"}], \"table\": [{\"cells\": {\"fill\": {\"color\": \"#EBF0F8\"}, \"line\": {\"color\": \"white\"}}, \"header\": {\"fill\": {\"color\": \"#C8D4E3\"}, \"line\": {\"color\": \"white\"}}, \"type\": \"table\"}]}, \"layout\": {\"annotationdefaults\": {\"arrowcolor\": \"#2a3f5f\", \"arrowhead\": 0, \"arrowwidth\": 1}, \"autotypenumbers\": \"strict\", \"coloraxis\": {\"colorbar\": {\"outlinewidth\": 0, \"ticks\": \"\"}}, \"colorscale\": {\"diverging\": [[0, \"#8e0152\"], [0.1, \"#c51b7d\"], [0.2, \"#de77ae\"], [0.3, \"#f1b6da\"], [0.4, \"#fde0ef\"], [0.5, \"#f7f7f7\"], [0.6, \"#e6f5d0\"], [0.7, \"#b8e186\"], [0.8, \"#7fbc41\"], [0.9, \"#4d9221\"], [1, \"#276419\"]], \"sequential\": [[0.0, \"#0d0887\"], [0.1111111111111111, \"#46039f\"], [0.2222222222222222, \"#7201a8\"], [0.3333333333333333, \"#9c179e\"], [0.4444444444444444, \"#bd3786\"], [0.5555555555555556, \"#d8576b\"], [0.6666666666666666, \"#ed7953\"], [0.7777777777777778, \"#fb9f3a\"], [0.8888888888888888, \"#fdca26\"], [1.0, \"#f0f921\"]], \"sequentialminus\": [[0.0, \"#0d0887\"], [0.1111111111111111, \"#46039f\"], [0.2222222222222222, \"#7201a8\"], [0.3333333333333333, \"#9c179e\"], [0.4444444444444444, \"#bd3786\"], [0.5555555555555556, \"#d8576b\"], [0.6666666666666666, \"#ed7953\"], [0.7777777777777778, \"#fb9f3a\"], [0.8888888888888888, \"#fdca26\"], [1.0, \"#f0f921\"]]}, \"colorway\": [\"#636efa\", \"#EF553B\", \"#00cc96\", \"#ab63fa\", \"#FFA15A\", \"#19d3f3\", \"#FF6692\", \"#B6E880\", \"#FF97FF\", \"#FECB52\"], \"font\": {\"color\": \"#2a3f5f\"}, \"geo\": {\"bgcolor\": \"white\", \"lakecolor\": \"white\", \"landcolor\": \"#E5ECF6\", \"showlakes\": true, \"showland\": true, \"subunitcolor\": \"white\"}, \"hoverlabel\": {\"align\": \"left\"}, \"hovermode\": \"closest\", \"mapbox\": {\"style\": \"light\"}, \"paper_bgcolor\": \"white\", \"plot_bgcolor\": \"#E5ECF6\", \"polar\": {\"angularaxis\": {\"gridcolor\": \"white\", \"linecolor\": \"white\", \"ticks\": \"\"}, \"bgcolor\": \"#E5ECF6\", \"radialaxis\": {\"gridcolor\": \"white\", \"linecolor\": \"white\", \"ticks\": \"\"}}, \"scene\": {\"xaxis\": {\"backgroundcolor\": \"#E5ECF6\", \"gridcolor\": \"white\", \"gridwidth\": 2, \"linecolor\": \"white\", \"showbackground\": true, \"ticks\": \"\", \"zerolinecolor\": \"white\"}, \"yaxis\": {\"backgroundcolor\": \"#E5ECF6\", \"gridcolor\": \"white\", \"gridwidth\": 2, \"linecolor\": \"white\", \"showbackground\": true, \"ticks\": \"\", \"zerolinecolor\": \"white\"}, \"zaxis\": {\"backgroundcolor\": \"#E5ECF6\", \"gridcolor\": \"white\", \"gridwidth\": 2, \"linecolor\": \"white\", \"showbackground\": true, \"ticks\": \"\", \"zerolinecolor\": \"white\"}}, \"shapedefaults\": {\"line\": {\"color\": \"#2a3f5f\"}}, \"ternary\": {\"aaxis\": {\"gridcolor\": \"white\", \"linecolor\": \"white\", \"ticks\": \"\"}, \"baxis\": {\"gridcolor\": \"white\", \"linecolor\": \"white\", \"ticks\": \"\"}, \"bgcolor\": \"#E5ECF6\", \"caxis\": {\"gridcolor\": \"white\", \"linecolor\": \"white\", \"ticks\": \"\"}}, \"title\": {\"x\": 0.05}, \"xaxis\": {\"automargin\": true, \"gridcolor\": \"white\", \"linecolor\": \"white\", \"ticks\": \"\", \"title\": {\"standoff\": 15}, \"zerolinecolor\": \"white\", \"zerolinewidth\": 2}, \"yaxis\": {\"automargin\": true, \"gridcolor\": \"white\", \"linecolor\": \"white\", \"ticks\": \"\", \"title\": {\"standoff\": 15}, \"zerolinecolor\": \"white\", \"zerolinewidth\": 2}}}},                        {\"responsive\": true}                    ).then(function(){\n",
       "                            \n",
       "var gd = document.getElementById('725ef07a-46b4-4c1c-b20e-a211a40b68c3');\n",
       "var x = new MutationObserver(function (mutations, observer) {{\n",
       "        var display = window.getComputedStyle(gd).display;\n",
       "        if (!display || display === 'none') {{\n",
       "            console.log([gd, 'removed!']);\n",
       "            Plotly.purge(gd);\n",
       "            observer.disconnect();\n",
       "        }}\n",
       "}});\n",
       "\n",
       "// Listen for the removal of the full notebook cells\n",
       "var notebookContainer = gd.closest('#notebook-container');\n",
       "if (notebookContainer) {{\n",
       "    x.observe(notebookContainer, {childList: true});\n",
       "}}\n",
       "\n",
       "// Listen for the clearing of the current output cell\n",
       "var outputEl = gd.closest('.output');\n",
       "if (outputEl) {{\n",
       "    x.observe(outputEl, {childList: true});\n",
       "}}\n",
       "\n",
       "                        })                };                });            </script>        </div>"
      ]
     },
     "metadata": {},
     "output_type": "display_data"
    }
   ],
   "source": [
    "import geopandas as gpd\n",
    "import plotly.express as px\n",
    "\n",
    "\n",
    "df = px.data.election()\n",
    "geo_df = gpd.GeoDataFrame.from_features(\n",
    "    px.data.election_geojson()[\"features\"]\n",
    ").merge(df, on=\"district\").set_index(\"district\")\n",
    "\n",
    "fig = px.choropleth(geo_df,\n",
    "                   geojson=geo_df.geometry,\n",
    "                   locations=geo_df.index,\n",
    "                   color=\"Joly\",\n",
    "                   projection=\"mercator\")\n",
    "fig.update_geos(fitbounds=\"locations\", visible=False)\n",
    "fig.show()"
   ]
  },
  {
   "cell_type": "code",
   "execution_count": null,
   "metadata": {},
   "outputs": [],
   "source": []
  }
 ],
 "metadata": {
  "kernelspec": {
   "display_name": "Python 3",
   "language": "python",
   "name": "python3"
  },
  "language_info": {
   "codemirror_mode": {
    "name": "ipython",
    "version": 3
   },
   "file_extension": ".py",
   "mimetype": "text/x-python",
   "name": "python",
   "nbconvert_exporter": "python",
   "pygments_lexer": "ipython3",
   "version": "3.8.5"
  },
  "toc": {
   "base_numbering": 1,
   "nav_menu": {},
   "number_sections": true,
   "sideBar": true,
   "skip_h1_title": false,
   "title_cell": "Table of Contents",
   "title_sidebar": "Contents",
   "toc_cell": false,
   "toc_position": {},
   "toc_section_display": true,
   "toc_window_display": false
  },
  "varInspector": {
   "cols": {
    "lenName": 16,
    "lenType": 16,
    "lenVar": 40
   },
   "kernels_config": {
    "python": {
     "delete_cmd_postfix": "",
     "delete_cmd_prefix": "del ",
     "library": "var_list.py",
     "varRefreshCmd": "print(var_dic_list())"
    },
    "r": {
     "delete_cmd_postfix": ") ",
     "delete_cmd_prefix": "rm(",
     "library": "var_list.r",
     "varRefreshCmd": "cat(var_dic_list()) "
    }
   },
   "types_to_exclude": [
    "module",
    "function",
    "builtin_function_or_method",
    "instance",
    "_Feature"
   ],
   "window_display": false
  }
 },
 "nbformat": 4,
 "nbformat_minor": 4
}
