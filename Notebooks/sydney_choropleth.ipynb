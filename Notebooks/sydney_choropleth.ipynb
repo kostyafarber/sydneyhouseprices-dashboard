{
 "cells": [
  {
   "cell_type": "markdown",
   "metadata": {},
   "source": [
    "# Sydney House Prices Geospatial Analysis.\n",
    "***"
   ]
  },
  {
   "cell_type": "markdown",
   "metadata": {},
   "source": [
    "This is a change"
   ]
  },
  {
   "cell_type": "markdown",
   "metadata": {},
   "source": [
    "![hello](../images/Sydney.jpg)"
   ]
  },
  {
   "cell_type": "markdown",
   "metadata": {},
   "source": [
    "# Motivation\n",
    "\n",
    "House prices in Sydney have been the subject of great attention in Australia and globally. Specifically, for their extraordinarily high prices. Being a resident of Sydney, I was interested in seeing the relative prices across the suburbs I live around. I wanted a way I could visualise these geospatial relationships myself. \n",
    "\n",
    "> A choropleth map (from Greek χῶρος choros 'area/region' and πλῆθος plethos 'multitude') is a type of thematic map in which a set of pre-defined areas is colored or patterned in proportion to a statistical variable that represents an aggregate summary of a geographic characteristic within each area, such as population density or per-capita income.\n",
    "\n"
   ]
  },
  {
   "cell_type": "code",
   "execution_count": 1,
   "metadata": {},
   "outputs": [],
   "source": [
    "%reload_ext autoreload\n",
    "\n",
    "# general modules\n",
    "import numpy as np\n",
    "import pandas as pd\n",
    "import matplotlib.pyplot as plt\n",
    "import seaborn as sns\n",
    "import geopandas as gpd\n",
    "import plotly.express as px\n",
    "import os\n",
    "import requests\n",
    "import json\n",
    "import geojson\n",
    "import yaml\n",
    "\n",
    "from box import Box\n",
    "from urllib.request import urlopen\n",
    "\n",
    "# utility module\n",
    "from sydneyhouseprices.data import remoteGeoJSONToGDF\n",
    "\n",
    "# display options\n",
    "pd.options.display.float_format = '{:,.2f}'.format"
   ]
  },
  {
   "cell_type": "markdown",
   "metadata": {},
   "source": [
    "## Gathering Data\n",
    "The data I used can be found [here](https://www.kaggle.com/mihirhalai/sydney-house-prices#__sid=js0)."
   ]
  },
  {
   "cell_type": "code",
   "execution_count": 2,
   "metadata": {},
   "outputs": [],
   "source": [
    "# import config files\n",
    "with open(\"config.yml\", \"r\") as ymlfile:\n",
    "  cfg = Box(yaml.safe_load(ymlfile))\n",
    "\n",
    "# import data\n",
    "house_prices_syd = pd.read_csv(os.path.join(cfg.files.data,\"SydneyHousePrices.csv\"),index_col=0,parse_dates=True)"
   ]
  },
  {
   "cell_type": "markdown",
   "metadata": {},
   "source": [
    "## Inspect and cleaning the data.\n",
    "\n",
    "Having a quick glance at our data."
   ]
  },
  {
   "cell_type": "code",
   "execution_count": 5,
   "metadata": {},
   "outputs": [
    {
     "data": {
      "text/html": [
       "<div>\n",
       "<style scoped>\n",
       "    .dataframe tbody tr th:only-of-type {\n",
       "        vertical-align: middle;\n",
       "    }\n",
       "\n",
       "    .dataframe tbody tr th {\n",
       "        vertical-align: top;\n",
       "    }\n",
       "\n",
       "    .dataframe thead th {\n",
       "        text-align: right;\n",
       "    }\n",
       "</style>\n",
       "<table border=\"1\" class=\"dataframe\">\n",
       "  <thead>\n",
       "    <tr style=\"text-align: right;\">\n",
       "      <th></th>\n",
       "      <th>Id</th>\n",
       "      <th>suburb</th>\n",
       "      <th>postalCode</th>\n",
       "      <th>sellPrice</th>\n",
       "      <th>bed</th>\n",
       "      <th>bath</th>\n",
       "      <th>car</th>\n",
       "      <th>propType</th>\n",
       "    </tr>\n",
       "    <tr>\n",
       "      <th>Date</th>\n",
       "      <th></th>\n",
       "      <th></th>\n",
       "      <th></th>\n",
       "      <th></th>\n",
       "      <th></th>\n",
       "      <th></th>\n",
       "      <th></th>\n",
       "      <th></th>\n",
       "    </tr>\n",
       "  </thead>\n",
       "  <tbody>\n",
       "    <tr>\n",
       "      <th>2019-06-19</th>\n",
       "      <td>1</td>\n",
       "      <td>Avalon Beach</td>\n",
       "      <td>2107</td>\n",
       "      <td>1210000</td>\n",
       "      <td>4.00</td>\n",
       "      <td>2</td>\n",
       "      <td>2.00</td>\n",
       "      <td>house</td>\n",
       "    </tr>\n",
       "    <tr>\n",
       "      <th>2019-06-13</th>\n",
       "      <td>2</td>\n",
       "      <td>Avalon Beach</td>\n",
       "      <td>2107</td>\n",
       "      <td>2250000</td>\n",
       "      <td>4.00</td>\n",
       "      <td>3</td>\n",
       "      <td>4.00</td>\n",
       "      <td>house</td>\n",
       "    </tr>\n",
       "    <tr>\n",
       "      <th>2019-06-07</th>\n",
       "      <td>3</td>\n",
       "      <td>Whale Beach</td>\n",
       "      <td>2107</td>\n",
       "      <td>2920000</td>\n",
       "      <td>3.00</td>\n",
       "      <td>3</td>\n",
       "      <td>2.00</td>\n",
       "      <td>house</td>\n",
       "    </tr>\n",
       "    <tr>\n",
       "      <th>2019-05-28</th>\n",
       "      <td>4</td>\n",
       "      <td>Avalon Beach</td>\n",
       "      <td>2107</td>\n",
       "      <td>1530000</td>\n",
       "      <td>3.00</td>\n",
       "      <td>1</td>\n",
       "      <td>2.00</td>\n",
       "      <td>house</td>\n",
       "    </tr>\n",
       "    <tr>\n",
       "      <th>2019-05-22</th>\n",
       "      <td>5</td>\n",
       "      <td>Whale Beach</td>\n",
       "      <td>2107</td>\n",
       "      <td>8000000</td>\n",
       "      <td>5.00</td>\n",
       "      <td>4</td>\n",
       "      <td>4.00</td>\n",
       "      <td>house</td>\n",
       "    </tr>\n",
       "  </tbody>\n",
       "</table>\n",
       "</div>"
      ],
      "text/plain": [
       "            Id        suburb  postalCode  sellPrice  bed  bath  car propType\n",
       "Date                                                                        \n",
       "2019-06-19   1  Avalon Beach        2107    1210000 4.00     2 2.00    house\n",
       "2019-06-13   2  Avalon Beach        2107    2250000 4.00     3 4.00    house\n",
       "2019-06-07   3   Whale Beach        2107    2920000 3.00     3 2.00    house\n",
       "2019-05-28   4  Avalon Beach        2107    1530000 3.00     1 2.00    house\n",
       "2019-05-22   5   Whale Beach        2107    8000000 5.00     4 4.00    house"
      ]
     },
     "execution_count": 5,
     "metadata": {},
     "output_type": "execute_result"
    }
   ],
   "source": [
    "# Inspect Data\n",
    "house_prices_syd.head()"
   ]
  },
  {
   "cell_type": "code",
   "execution_count": 3,
   "metadata": {},
   "outputs": [
    {
     "name": "stdout",
     "output_type": "stream",
     "text": [
      "<class 'pandas.core.frame.DataFrame'>\n",
      "DatetimeIndex: 199504 entries, 2019-06-19 to 2011-04-16\n",
      "Data columns (total 8 columns):\n",
      " #   Column      Non-Null Count   Dtype  \n",
      "---  ------      --------------   -----  \n",
      " 0   Id          199504 non-null  int64  \n",
      " 1   suburb      199504 non-null  object \n",
      " 2   postalCode  199504 non-null  int64  \n",
      " 3   sellPrice   199504 non-null  int64  \n",
      " 4   bed         199350 non-null  float64\n",
      " 5   bath        199504 non-null  int64  \n",
      " 6   car         181353 non-null  float64\n",
      " 7   propType    199504 non-null  object \n",
      "dtypes: float64(2), int64(4), object(2)\n",
      "memory usage: 13.7+ MB\n"
     ]
    }
   ],
   "source": [
    "house_prices_syd.info()"
   ]
  },
  {
   "cell_type": "markdown",
   "metadata": {},
   "source": [
    "## Data Cleaning"
   ]
  },
  {
   "cell_type": "markdown",
   "metadata": {},
   "source": [
    "There are a few columns that are reduntant for our analyses. We can remove the `id` and `postalCode` columns."
   ]
  },
  {
   "cell_type": "code",
   "execution_count": null,
   "metadata": {},
   "outputs": [],
   "source": [
    "clean_house_prices_syd = house_prices_syd.drop(axis=1,labels=[\"Id\",\"postalCode\"])\n",
    "clean_house_prices_syd.head()"
   ]
  },
  {
   "cell_type": "markdown",
   "metadata": {},
   "source": [
    "To get a general idea of the data we calculate some summary statistics for each of our features."
   ]
  },
  {
   "cell_type": "code",
   "execution_count": 7,
   "metadata": {},
   "outputs": [
    {
     "data": {
      "text/html": [
       "<div>\n",
       "<style scoped>\n",
       "    .dataframe tbody tr th:only-of-type {\n",
       "        vertical-align: middle;\n",
       "    }\n",
       "\n",
       "    .dataframe tbody tr th {\n",
       "        vertical-align: top;\n",
       "    }\n",
       "\n",
       "    .dataframe thead th {\n",
       "        text-align: right;\n",
       "    }\n",
       "</style>\n",
       "<table border=\"1\" class=\"dataframe\">\n",
       "  <thead>\n",
       "    <tr style=\"text-align: right;\">\n",
       "      <th></th>\n",
       "      <th>count</th>\n",
       "      <th>mean</th>\n",
       "      <th>std</th>\n",
       "      <th>min</th>\n",
       "      <th>25%</th>\n",
       "      <th>50%</th>\n",
       "      <th>75%</th>\n",
       "      <th>max</th>\n",
       "    </tr>\n",
       "  </thead>\n",
       "  <tbody>\n",
       "    <tr>\n",
       "      <th>sellPrice</th>\n",
       "      <td>199,504.00</td>\n",
       "      <td>1,269,776.30</td>\n",
       "      <td>6,948,239.27</td>\n",
       "      <td>1.00</td>\n",
       "      <td>720,000.00</td>\n",
       "      <td>985,000.00</td>\n",
       "      <td>1,475,000.00</td>\n",
       "      <td>2,147,483,647.00</td>\n",
       "    </tr>\n",
       "    <tr>\n",
       "      <th>bed</th>\n",
       "      <td>199,350.00</td>\n",
       "      <td>3.52</td>\n",
       "      <td>1.07</td>\n",
       "      <td>1.00</td>\n",
       "      <td>3.00</td>\n",
       "      <td>3.00</td>\n",
       "      <td>4.00</td>\n",
       "      <td>99.00</td>\n",
       "    </tr>\n",
       "    <tr>\n",
       "      <th>bath</th>\n",
       "      <td>199,504.00</td>\n",
       "      <td>1.89</td>\n",
       "      <td>0.93</td>\n",
       "      <td>1.00</td>\n",
       "      <td>1.00</td>\n",
       "      <td>2.00</td>\n",
       "      <td>2.00</td>\n",
       "      <td>99.00</td>\n",
       "    </tr>\n",
       "    <tr>\n",
       "      <th>car</th>\n",
       "      <td>181,353.00</td>\n",
       "      <td>1.94</td>\n",
       "      <td>1.06</td>\n",
       "      <td>1.00</td>\n",
       "      <td>1.00</td>\n",
       "      <td>2.00</td>\n",
       "      <td>2.00</td>\n",
       "      <td>41.00</td>\n",
       "    </tr>\n",
       "  </tbody>\n",
       "</table>\n",
       "</div>"
      ],
      "text/plain": [
       "               count         mean          std  min        25%        50%  \\\n",
       "sellPrice 199,504.00 1,269,776.30 6,948,239.27 1.00 720,000.00 985,000.00   \n",
       "bed       199,350.00         3.52         1.07 1.00       3.00       3.00   \n",
       "bath      199,504.00         1.89         0.93 1.00       1.00       2.00   \n",
       "car       181,353.00         1.94         1.06 1.00       1.00       2.00   \n",
       "\n",
       "                   75%              max  \n",
       "sellPrice 1,475,000.00 2,147,483,647.00  \n",
       "bed               4.00            99.00  \n",
       "bath              2.00            99.00  \n",
       "car               2.00            41.00  "
      ]
     },
     "execution_count": 7,
     "metadata": {},
     "output_type": "execute_result"
    }
   ],
   "source": [
    "# summary stats\n",
    "clean_house_prices_syd.describe().T"
   ]
  },
  {
   "cell_type": "markdown",
   "metadata": {},
   "source": [
    "For our choropleth map, we want to map each suburb to its median price."
   ]
  },
  {
   "cell_type": "code",
   "execution_count": 8,
   "metadata": {},
   "outputs": [
    {
     "data": {
      "text/html": [
       "<div>\n",
       "<style scoped>\n",
       "    .dataframe tbody tr th:only-of-type {\n",
       "        vertical-align: middle;\n",
       "    }\n",
       "\n",
       "    .dataframe tbody tr th {\n",
       "        vertical-align: top;\n",
       "    }\n",
       "\n",
       "    .dataframe thead th {\n",
       "        text-align: right;\n",
       "    }\n",
       "</style>\n",
       "<table border=\"1\" class=\"dataframe\">\n",
       "  <thead>\n",
       "    <tr style=\"text-align: right;\">\n",
       "      <th></th>\n",
       "      <th>sellPrice</th>\n",
       "      <th>bed</th>\n",
       "      <th>bath</th>\n",
       "      <th>car</th>\n",
       "    </tr>\n",
       "    <tr>\n",
       "      <th>suburb</th>\n",
       "      <th></th>\n",
       "      <th></th>\n",
       "      <th></th>\n",
       "      <th></th>\n",
       "    </tr>\n",
       "  </thead>\n",
       "  <tbody>\n",
       "    <tr>\n",
       "      <th>Abbotsbury</th>\n",
       "      <td>975,000.00</td>\n",
       "      <td>4.00</td>\n",
       "      <td>3.00</td>\n",
       "      <td>2.00</td>\n",
       "    </tr>\n",
       "    <tr>\n",
       "      <th>Abbotsford</th>\n",
       "      <td>1,287,500.00</td>\n",
       "      <td>3.00</td>\n",
       "      <td>2.00</td>\n",
       "      <td>2.00</td>\n",
       "    </tr>\n",
       "    <tr>\n",
       "      <th>Agnes Banks</th>\n",
       "      <td>715,000.00</td>\n",
       "      <td>4.00</td>\n",
       "      <td>2.00</td>\n",
       "      <td>2.00</td>\n",
       "    </tr>\n",
       "    <tr>\n",
       "      <th>Airds</th>\n",
       "      <td>505,000.00</td>\n",
       "      <td>4.00</td>\n",
       "      <td>1.00</td>\n",
       "      <td>2.00</td>\n",
       "    </tr>\n",
       "    <tr>\n",
       "      <th>Alexandria</th>\n",
       "      <td>1,027,500.00</td>\n",
       "      <td>3.00</td>\n",
       "      <td>1.00</td>\n",
       "      <td>1.00</td>\n",
       "    </tr>\n",
       "  </tbody>\n",
       "</table>\n",
       "</div>"
      ],
      "text/plain": [
       "               sellPrice  bed  bath  car\n",
       "suburb                                  \n",
       "Abbotsbury    975,000.00 4.00  3.00 2.00\n",
       "Abbotsford  1,287,500.00 3.00  2.00 2.00\n",
       "Agnes Banks   715,000.00 4.00  2.00 2.00\n",
       "Airds         505,000.00 4.00  1.00 2.00\n",
       "Alexandria  1,027,500.00 3.00  1.00 1.00"
      ]
     },
     "execution_count": 8,
     "metadata": {},
     "output_type": "execute_result"
    }
   ],
   "source": [
    "# calculate median stats for each suburb\n",
    "\n",
    "median_statistics = clean_house_prices_syd.groupby(\"suburb\").median()\n",
    "median_statistics.head()"
   ]
  },
  {
   "cell_type": "code",
   "execution_count": 9,
   "metadata": {},
   "outputs": [
    {
     "data": {
      "text/html": [
       "<div>\n",
       "<style scoped>\n",
       "    .dataframe tbody tr th:only-of-type {\n",
       "        vertical-align: middle;\n",
       "    }\n",
       "\n",
       "    .dataframe tbody tr th {\n",
       "        vertical-align: top;\n",
       "    }\n",
       "\n",
       "    .dataframe thead th {\n",
       "        text-align: right;\n",
       "    }\n",
       "</style>\n",
       "<table border=\"1\" class=\"dataframe\">\n",
       "  <thead>\n",
       "    <tr style=\"text-align: right;\">\n",
       "      <th></th>\n",
       "      <th>geometry</th>\n",
       "      <th>suburb</th>\n",
       "    </tr>\n",
       "  </thead>\n",
       "  <tbody>\n",
       "    <tr>\n",
       "      <th>0</th>\n",
       "      <td>MULTIPOLYGON (((151.10074 -33.84457, 151.10082...</td>\n",
       "      <td>Concord</td>\n",
       "    </tr>\n",
       "    <tr>\n",
       "      <th>1</th>\n",
       "      <td>MULTIPOLYGON (((151.19808 -33.82566, 151.19816...</td>\n",
       "      <td>Wollstonecraft</td>\n",
       "    </tr>\n",
       "    <tr>\n",
       "      <th>2</th>\n",
       "      <td>MULTIPOLYGON (((151.10398 -33.81987, 151.10406...</td>\n",
       "      <td>Putney</td>\n",
       "    </tr>\n",
       "    <tr>\n",
       "      <th>3</th>\n",
       "      <td>MULTIPOLYGON (((151.08348 -33.30938, 151.09335...</td>\n",
       "      <td>Ten Mile Hollow</td>\n",
       "    </tr>\n",
       "    <tr>\n",
       "      <th>4</th>\n",
       "      <td>MULTIPOLYGON (((151.16649 -33.75486, 151.16677...</td>\n",
       "      <td>Killara</td>\n",
       "    </tr>\n",
       "  </tbody>\n",
       "</table>\n",
       "</div>"
      ],
      "text/plain": [
       "                                            geometry           suburb\n",
       "0  MULTIPOLYGON (((151.10074 -33.84457, 151.10082...          Concord\n",
       "1  MULTIPOLYGON (((151.19808 -33.82566, 151.19816...   Wollstonecraft\n",
       "2  MULTIPOLYGON (((151.10398 -33.81987, 151.10406...           Putney\n",
       "3  MULTIPOLYGON (((151.08348 -33.30938, 151.09335...  Ten Mile Hollow\n",
       "4  MULTIPOLYGON (((151.16649 -33.75486, 151.16677...          Killara"
      ]
     },
     "execution_count": 9,
     "metadata": {},
     "output_type": "execute_result"
    }
   ],
   "source": [
    "# clean sydney dataframe\n",
    "sydney = remoteGeoJSONToGDF(cfg.files.sydneyurl)\n",
    "\n",
    "\n",
    "sydney = sydney[[\"geometry\",\"nsw_loca_2\"]]\n",
    "sydney.rename(columns={\"nsw_loca_2\":\"suburb\"},inplace=True)\n",
    "sydney.suburb = sydney.suburb.str.title()\n",
    "sydney.head()"
   ]
  },
  {
   "cell_type": "code",
   "execution_count": 10,
   "metadata": {
    "scrolled": true
   },
   "outputs": [],
   "source": [
    "geo_house_prices = pd.merge(sydney,mean_statistics,left_on=\"suburb\",right_on=mean_statistics.index,how=\"inner\")\n",
    "geo_house_prices.set_index(\"suburb\",inplace=True)"
   ]
  },
  {
   "cell_type": "markdown",
   "metadata": {},
   "source": [
    "Configuring parameters and testing whether map rendering improves when providing geojson from a url instead of locally."
   ]
  },
  {
   "cell_type": "code",
   "execution_count": 5,
   "metadata": {},
   "outputs": [
    {
     "ename": "NameError",
     "evalue": "name 'geo_house_prices' is not defined",
     "output_type": "error",
     "traceback": [
      "\u001b[0;31m---------------------------------------------------------------------------\u001b[0m",
      "\u001b[0;31mNameError\u001b[0m                                 Traceback (most recent call last)",
      "\u001b[0;32m<ipython-input-5-8a26095488eb>\u001b[0m in \u001b[0;36m<module>\u001b[0;34m\u001b[0m\n\u001b[0;32m----> 1\u001b[0;31m fig = px.choropleth_mapbox(geo_house_prices, geojson=geo_house_prices.geometry, locations=geo_house_prices.index, color='sellPrice',\n\u001b[0m\u001b[1;32m      2\u001b[0m                            \u001b[0mcolor_continuous_scale\u001b[0m\u001b[0;34m=\u001b[0m\u001b[0;34m\"Viridis\"\u001b[0m\u001b[0;34m,\u001b[0m\u001b[0;34m\u001b[0m\u001b[0;34m\u001b[0m\u001b[0m\n\u001b[1;32m      3\u001b[0m                            \u001b[0mcenter\u001b[0m \u001b[0;34m=\u001b[0m \u001b[0;34m{\u001b[0m\u001b[0;34m\"lat\"\u001b[0m\u001b[0;34m:\u001b[0m \u001b[0mcfg\u001b[0m\u001b[0;34m.\u001b[0m\u001b[0mmap\u001b[0m\u001b[0;34m.\u001b[0m\u001b[0mlat\u001b[0m\u001b[0;34m,\u001b[0m \u001b[0;34m\"lon\"\u001b[0m\u001b[0;34m:\u001b[0m \u001b[0mcfg\u001b[0m\u001b[0;34m.\u001b[0m\u001b[0mmap\u001b[0m\u001b[0;34m.\u001b[0m\u001b[0mlon\u001b[0m\u001b[0;34m}\u001b[0m\u001b[0;34m,\u001b[0m\u001b[0;34m\u001b[0m\u001b[0;34m\u001b[0m\u001b[0m\n\u001b[1;32m      4\u001b[0m                            \u001b[0mmapbox_style\u001b[0m\u001b[0;34m=\u001b[0m\u001b[0mcfg\u001b[0m\u001b[0;34m.\u001b[0m\u001b[0mmap\u001b[0m\u001b[0;34m.\u001b[0m\u001b[0mstyle\u001b[0m\u001b[0;34m,\u001b[0m\u001b[0;34m\u001b[0m\u001b[0;34m\u001b[0m\u001b[0m\n\u001b[1;32m      5\u001b[0m                            \u001b[0mrange_color\u001b[0m\u001b[0;34m=\u001b[0m\u001b[0;34m(\u001b[0m\u001b[0;36m0\u001b[0m\u001b[0;34m,\u001b[0m \u001b[0;36m4000000\u001b[0m\u001b[0;34m)\u001b[0m\u001b[0;34m,\u001b[0m\u001b[0;34m\u001b[0m\u001b[0;34m\u001b[0m\u001b[0m\n",
      "\u001b[0;31mNameError\u001b[0m: name 'geo_house_prices' is not defined"
     ]
    }
   ],
   "source": [
    "fig = px.choropleth_mapbox(geo_house_prices, geojson=geo_house_prices.geometry, locations=geo_house_prices.index, color='sellPrice',\n",
    "                           color_continuous_scale=\"Viridis\",\n",
    "                           center = {\"lat\": cfg.map.lat, \"lon\": cfg.map.lon},\n",
    "                           mapbox_style=cfg.map.style,\n",
    "                           range_color=(0, 4000000), \n",
    "                           opacity=0.5,\n",
    "                           title=\"Median Selling Prices of Properties in Sydney Suburbs\"\n",
    "                        \n",
    "                          )\n",
    "fig.update_layout(margin={\"r\":0,\"t\":0,\"l\":0,\"b\":0})\n",
    "fig.show()"
   ]
  },
  {
   "cell_type": "code",
   "execution_count": null,
   "metadata": {},
   "outputs": [],
   "source": []
  }
 ],
 "metadata": {
  "kernelspec": {
   "display_name": "Python 3",
   "language": "python",
   "name": "python3"
  },
  "language_info": {
   "codemirror_mode": {
    "name": "ipython",
    "version": 3
   },
   "file_extension": ".py",
   "mimetype": "text/x-python",
   "name": "python",
   "nbconvert_exporter": "python",
   "pygments_lexer": "ipython3",
   "version": "3.8.5"
  },
  "toc": {
   "base_numbering": 1,
   "nav_menu": {},
   "number_sections": true,
   "sideBar": true,
   "skip_h1_title": false,
   "title_cell": "Table of Contents",
   "title_sidebar": "Contents",
   "toc_cell": false,
   "toc_position": {},
   "toc_section_display": true,
   "toc_window_display": false
  },
  "varInspector": {
   "cols": {
    "lenName": 16,
    "lenType": 16,
    "lenVar": 40
   },
   "kernels_config": {
    "python": {
     "delete_cmd_postfix": "",
     "delete_cmd_prefix": "del ",
     "library": "var_list.py",
     "varRefreshCmd": "print(var_dic_list())"
    },
    "r": {
     "delete_cmd_postfix": ") ",
     "delete_cmd_prefix": "rm(",
     "library": "var_list.r",
     "varRefreshCmd": "cat(var_dic_list()) "
    }
   },
   "types_to_exclude": [
    "module",
    "function",
    "builtin_function_or_method",
    "instance",
    "_Feature"
   ],
   "window_display": false
  }
 },
 "nbformat": 4,
 "nbformat_minor": 4
}
